{
 "cells": [
  {
   "cell_type": "markdown",
   "metadata": {},
   "source": [
    "<center> <h1>Trabajo final para la asignatura APBD</h1> </center>\n",
    "<center> <h3>Máster en Data Science y Big Data. CFP-Universidad de Sevilla</h3> </center>\n",
    "<p style=\"text-align: center;\">Autor: Inmaculada Perea Fernández</p>\n",
    "<p style=\"text-align: center;\">(Julio 2017)</p>"
   ]
  },
  {
   "cell_type": "markdown",
   "metadata": {},
   "source": [
    "\n",
    "# Tabla de contenidos\n",
    "\n",
    "1. [Descripción del problema](#descripcion)\n",
    "\n",
    "2. [Inicio sesión Spark](#inicio)\n",
    "\n",
    "3. [Lectura de datos y exploración](#exploracion)\n",
    "\n",
    "4. [Preprocesado](#preprocesado)\n",
    "\n",
    "    4.1. [Valores perdidos (missings)](#missings)\n",
    "    \n",
    "    4.2. [Conversión a tipo numérico](#numerico)\n",
    "    \n",
    "    4.3. [Escalado](#escalado)\n",
    "    \n",
    "    4.4. [Convertir features en vector](#features)\n",
    "    \n",
    "5. [Selección de variables](#seleccion)\n",
    "\n",
    "6. [Modelos](#modelos)\n",
    "\n",
    "    6.1. [Ajuste de parámetros](#ajuste)\n",
    "    \n",
    "    6.2. [Evaluación](#evaluacion)\n",
    "       \n",
    "7. [Cierre sesión spark](#cierre)\n"
   ]
  },
  {
   "cell_type": "markdown",
   "metadata": {},
   "source": [
    "<a id='descripcion'></a>\n",
    "\n",
    "# Descripción del problema"
   ]
  },
  {
   "cell_type": "markdown",
   "metadata": {},
   "source": [
    "El problema elegido para el trabajo es uno de los datasets de aprendizaje de kaggle, en el que el objetivo es predecir el precio de venta de viviendas a partir de sus características\n",
    "\n",
    "Para más información sobre el problema ir a https://www.kaggle.com/c/house-prices-advanced-regression-techniques\n",
    "\n",
    "El objetivo de este trabajo es practicar con las diferentes herramientas que *Spark* nos proporciona para el procesamiento distribuido de grandes cantidades de datos, y para la aplicación de técnicas de machine learning. La obtención de predicciones óptimas es un objetivo secundario aunque se valorará positivamente.\n",
    "\n",
    "Las APIs de Spark más importantes para este proyecto serán la API de DataFrames y la API de ML para DataFrames. También tenemos a nuestra disposición la API RDDs para procesamiento a bajo nivel, y la API MLlib para RDDs."
   ]
  },
  {
   "cell_type": "markdown",
   "metadata": {},
   "source": [
    "<a id=\"inicio\"></a>\n",
    "\n",
    "# Inicio sesión spark\n",
    "\n",
    "Creamos la sesión spark como punto de entrada para poder trabajar con la API de DataFrame"
   ]
  },
  {
   "cell_type": "code",
   "execution_count": 1,
   "metadata": {
    "collapsed": false
   },
   "outputs": [
    {
     "data": {
      "text/plain": [
       "<pyspark.sql.session.SparkSession at 0x1160de5d30>"
      ]
     },
     "execution_count": 1,
     "metadata": {},
     "output_type": "execute_result"
    }
   ],
   "source": [
    "import sys\n",
    "\n",
    "# Ruta de la carpeta local Spark.\n",
    "spark_path = 'C:/Users/inpf/spark-2.1.0-bin-hadoop2.7'\n",
    "\n",
    "sys.path.append(spark_path + '/python')\n",
    "sys.path.append(spark_path + '/python/lib/py4j-0.10.4-src.zip')\n",
    "\n",
    "from pyspark.sql import SparkSession\n",
    "\n",
    "spark = SparkSession.builder.master(\"local[*]\").appName(\"evaluacion_APBD_InmaPerea\").getOrCreate()\n",
    "\n",
    "spark"
   ]
  },
  {
   "cell_type": "markdown",
   "metadata": {},
   "source": [
    "Comprobamos el número de cores asignados"
   ]
  },
  {
   "cell_type": "code",
   "execution_count": 2,
   "metadata": {
    "collapsed": false
   },
   "outputs": [
    {
     "data": {
      "text/plain": [
       "4"
      ]
     },
     "execution_count": 2,
     "metadata": {},
     "output_type": "execute_result"
    }
   ],
   "source": [
    "spark.sparkContext.defaultParallelism"
   ]
  },
  {
   "cell_type": "markdown",
   "metadata": {},
   "source": [
    "# Carga de librerías"
   ]
  },
  {
   "cell_type": "code",
   "execution_count": 3,
   "metadata": {
    "collapsed": false
   },
   "outputs": [],
   "source": [
    "from pyspark.sql import SQLContext\n",
    "from pyspark.sql import Row\n",
    "\n",
    "from pyspark.sql.types import StructType, StructField, StringType, IntegerType\n",
    "\n",
    "# Se importa sum como agg_sum para evitar colisión de nombres\n",
    "from pyspark.sql.functions import lit, col, count, sum as agg_sum\n",
    "from pyspark.sql.functions import expr, udf, regexp_extract\n",
    "from pyspark.sql.functions import desc, avg, round as col_round\n",
    "from pyspark.sql.functions import log1p\n",
    "\n",
    "from pyspark.ml import Pipeline\n",
    "from pyspark.ml.evaluation import Evaluator\n",
    "from pyspark.ml.feature import StringIndexer, IndexToString, VectorAssembler\n",
    "from pyspark.ml.feature import StandardScaler\n",
    "from pyspark.ml.tuning import CrossValidator, ParamGridBuilder\n",
    "\n",
    "import matplotlib.pyplot as plt\n",
    "\n",
    "import pandas as pd\n",
    "\n",
    "from math import sqrt\n",
    "from operator import add\n"
   ]
  },
  {
   "cell_type": "code",
   "execution_count": 4,
   "metadata": {
    "collapsed": true
   },
   "outputs": [],
   "source": [
    "def count_nulls(c):\n",
    "    return agg_sum(col(c).isNull().cast(IntegerType())).alias(c)\n",
    "\n",
    "\n",
    "def plot_freqs(categories, values, max_y):\n",
    "    %matplotlib inline\n",
    "    plt.bar(range(len(categories)), values, align='center')\n",
    "    plt.xticks(range(len(categories)), categories)\n",
    "    plt.ylim([0, max_y])"
   ]
  },
  {
   "cell_type": "code",
   "execution_count": 5,
   "metadata": {
    "collapsed": false
   },
   "outputs": [],
   "source": [
    "'''\n",
    "Código original tomado de:\n",
    "https://gist.github.com/pvalienteverde\n",
    "\n",
    "- Se ha añadido la fórmula rmsle para que trabaje con la API DataFrames.\n",
    "'''\n",
    "\n",
    "from pyspark.ml.evaluation import Evaluator\n",
    "from math import sqrt\n",
    "from operator import add\n",
    "from pyspark.sql.functions import avg\n",
    "from pyspark.sql.functions import log1p\n",
    "\n",
    "class MyEvaluator(Evaluator):\n",
    "    '''\n",
    "    When a userID is predicted when it is not already trained (all userID  data is used on validation \n",
    "    group and none of them to train), prediction is nan,  so RegressionEvaluator returns Nan.\n",
    "    To solve this we must change RegressionEvaluator by MiValidacion\n",
    "    '''\n",
    "    def __init__(self,predictionCol='prediction', targetCol='rating'):        \n",
    "        super(MyEvaluator, self).__init__()\n",
    "        self.predictionCol=predictionCol\n",
    "        self.targetCol=targetCol\n",
    "        \n",
    "    def _evaluate(self, dataset):       \n",
    "        error=self.rmse(dataset,self.predictionCol,self.targetCol)\n",
    "        print (\"Error: {}\".format(error))\n",
    "        return error\n",
    "    \n",
    "    def isLargerBetter(self):\n",
    "        return False\n",
    "    \n",
    "    @staticmethod\n",
    "    def rmse(dataset, predictionCol, targetCol):\n",
    "        return sqrt(dataset.select(avg((dataset[targetCol] - dataset[predictionCol]) ** 2)).first()[0])\n",
    "    \n",
    "    @staticmethod\n",
    "    def rmsle(dataset, predictionCol, targetCol):\n",
    "        return sqrt(dataset.select(avg((log1p(dataset[targetCol]) - log1p(dataset[predictionCol])) ** 2)).first()[0])             "
   ]
  },
  {
   "cell_type": "markdown",
   "metadata": {},
   "source": [
    "# Establecimiento Semilla"
   ]
  },
  {
   "cell_type": "markdown",
   "metadata": {},
   "source": [
    "Establecemos la semilla que usaremos para toda la práctica"
   ]
  },
  {
   "cell_type": "code",
   "execution_count": 4,
   "metadata": {
    "collapsed": true
   },
   "outputs": [],
   "source": [
    "global_seed = 123456789"
   ]
  },
  {
   "cell_type": "markdown",
   "metadata": {},
   "source": [
    "<a id=\"exploracion\"></a>\n",
    "\n",
    "# 3. Lectura de datos"
   ]
  },
  {
   "cell_type": "markdown",
   "metadata": {},
   "source": [
    "Para explorar uniremos ambos datasets train y test. Por tanto cargaremos ambos datasets para su unión y posterior exploración."
   ]
  },
  {
   "cell_type": "code",
   "execution_count": 5,
   "metadata": {
    "collapsed": false
   },
   "outputs": [],
   "source": [
    "path = './data/'\n",
    "\n",
    "train = spark.read.csv(path +'train.csv', header=True, inferSchema=True, nullValue=\"NA\").cache()\n",
    "test  = spark.read.csv(path +'test.csv', header=True, inferSchema=True, nullValue=\"NA\").cache()"
   ]
  },
  {
   "cell_type": "markdown",
   "metadata": {},
   "source": [
    "Comprobaremos si ambos datasets tienen las mismas dimensiones y esquema antes de unirlos"
   ]
  },
  {
   "cell_type": "code",
   "execution_count": 6,
   "metadata": {
    "collapsed": false
   },
   "outputs": [
    {
     "name": "stdout",
     "output_type": "stream",
     "text": [
      "Numero columnas para cada conjunto de datos \n",
      "- train = 81\n",
      "- test  = 80\n"
     ]
    }
   ],
   "source": [
    "print('Numero columnas para cada conjunto de datos ')\n",
    "print('- train = {}'.format(len(train.schema.fields)))\n",
    "print('- test  = {}'.format(len(test.schema.fields)))"
   ]
  },
  {
   "cell_type": "markdown",
   "metadata": {},
   "source": [
    "Observamos que tienen dimensiones distintas, esto es debido a que en el conjunto *test* no existe la columna correspondiente a la variable respuesta *SalePrice*. Vamos a añadir dicha columna al conjunto *test*.\n",
    "\n",
    "Consultamos el tipo de dato de la columna *SalePrice* para replicarlo en el conjunto test."
   ]
  },
  {
   "cell_type": "code",
   "execution_count": 7,
   "metadata": {
    "collapsed": false
   },
   "outputs": [
    {
     "data": {
      "text/plain": [
       "StructField(SalePrice,IntegerType,true)"
      ]
     },
     "execution_count": 7,
     "metadata": {},
     "output_type": "execute_result"
    }
   ],
   "source": [
    "train.schema['SalePrice']"
   ]
  },
  {
   "cell_type": "markdown",
   "metadata": {},
   "source": [
    "Creamos la columna en el conjunto *test* con el mismo tipo que en el conjunto *train*"
   ]
  },
  {
   "cell_type": "code",
   "execution_count": 8,
   "metadata": {
    "collapsed": false
   },
   "outputs": [],
   "source": [
    "test = test.withColumn('SalePrice', lit(None).cast(IntegerType()))"
   ]
  },
  {
   "cell_type": "markdown",
   "metadata": {},
   "source": [
    "Ahora comprobaremos los esquemas de ambos dataframes, el orden de las columnas y su tipo"
   ]
  },
  {
   "cell_type": "code",
   "execution_count": 9,
   "metadata": {
    "collapsed": false
   },
   "outputs": [
    {
     "name": "stdout",
     "output_type": "stream",
     "text": [
      "¿Ambos dataframes tienen el mismo esquema de datos? True\n"
     ]
    }
   ],
   "source": [
    "compare = [False if (train_field != test_field) else True for test_field, train_field in zip (test.schema.fields, train.schema.fields)]\n",
    "print('¿Ambos dataframes tienen el mismo esquema de datos? {}'.format(False not in compare))"
   ]
  },
  {
   "cell_type": "code",
   "execution_count": 10,
   "metadata": {
    "collapsed": false
   },
   "outputs": [
    {
     "name": "stdout",
     "output_type": "stream",
     "text": [
      "Número de filas de cada dataframe:\n",
      "- train = 1460\n",
      "- test  = 1459\n",
      "- full  = 2919\n"
     ]
    }
   ],
   "source": [
    "full = train.union(test)\n",
    "\n",
    "print(\"Número de filas de cada dataframe:\")\n",
    "print(\"- train = {}\".format(train.count()))\n",
    "print(\"- test  = {}\".format(test.count()))\n",
    "print(\"- full  = {}\".format(full.count()))"
   ]
  },
  {
   "cell_type": "markdown",
   "metadata": {},
   "source": [
    "# 4. Exploración de los datos"
   ]
  },
  {
   "cell_type": "markdown",
   "metadata": {},
   "source": [
    "El esquema del dataframe union de train + test"
   ]
  },
  {
   "cell_type": "code",
   "execution_count": 11,
   "metadata": {
    "collapsed": false
   },
   "outputs": [
    {
     "name": "stdout",
     "output_type": "stream",
     "text": [
      "root\n",
      " |-- Id: integer (nullable = true)\n",
      " |-- MSSubClass: integer (nullable = true)\n",
      " |-- MSZoning: string (nullable = true)\n",
      " |-- LotFrontage: integer (nullable = true)\n",
      " |-- LotArea: integer (nullable = true)\n",
      " |-- Street: string (nullable = true)\n",
      " |-- Alley: string (nullable = true)\n",
      " |-- LotShape: string (nullable = true)\n",
      " |-- LandContour: string (nullable = true)\n",
      " |-- Utilities: string (nullable = true)\n",
      " |-- LotConfig: string (nullable = true)\n",
      " |-- LandSlope: string (nullable = true)\n",
      " |-- Neighborhood: string (nullable = true)\n",
      " |-- Condition1: string (nullable = true)\n",
      " |-- Condition2: string (nullable = true)\n",
      " |-- BldgType: string (nullable = true)\n",
      " |-- HouseStyle: string (nullable = true)\n",
      " |-- OverallQual: integer (nullable = true)\n",
      " |-- OverallCond: integer (nullable = true)\n",
      " |-- YearBuilt: integer (nullable = true)\n",
      " |-- YearRemodAdd: integer (nullable = true)\n",
      " |-- RoofStyle: string (nullable = true)\n",
      " |-- RoofMatl: string (nullable = true)\n",
      " |-- Exterior1st: string (nullable = true)\n",
      " |-- Exterior2nd: string (nullable = true)\n",
      " |-- MasVnrType: string (nullable = true)\n",
      " |-- MasVnrArea: integer (nullable = true)\n",
      " |-- ExterQual: string (nullable = true)\n",
      " |-- ExterCond: string (nullable = true)\n",
      " |-- Foundation: string (nullable = true)\n",
      " |-- BsmtQual: string (nullable = true)\n",
      " |-- BsmtCond: string (nullable = true)\n",
      " |-- BsmtExposure: string (nullable = true)\n",
      " |-- BsmtFinType1: string (nullable = true)\n",
      " |-- BsmtFinSF1: integer (nullable = true)\n",
      " |-- BsmtFinType2: string (nullable = true)\n",
      " |-- BsmtFinSF2: integer (nullable = true)\n",
      " |-- BsmtUnfSF: integer (nullable = true)\n",
      " |-- TotalBsmtSF: integer (nullable = true)\n",
      " |-- Heating: string (nullable = true)\n",
      " |-- HeatingQC: string (nullable = true)\n",
      " |-- CentralAir: string (nullable = true)\n",
      " |-- Electrical: string (nullable = true)\n",
      " |-- 1stFlrSF: integer (nullable = true)\n",
      " |-- 2ndFlrSF: integer (nullable = true)\n",
      " |-- LowQualFinSF: integer (nullable = true)\n",
      " |-- GrLivArea: integer (nullable = true)\n",
      " |-- BsmtFullBath: integer (nullable = true)\n",
      " |-- BsmtHalfBath: integer (nullable = true)\n",
      " |-- FullBath: integer (nullable = true)\n",
      " |-- HalfBath: integer (nullable = true)\n",
      " |-- BedroomAbvGr: integer (nullable = true)\n",
      " |-- KitchenAbvGr: integer (nullable = true)\n",
      " |-- KitchenQual: string (nullable = true)\n",
      " |-- TotRmsAbvGrd: integer (nullable = true)\n",
      " |-- Functional: string (nullable = true)\n",
      " |-- Fireplaces: integer (nullable = true)\n",
      " |-- FireplaceQu: string (nullable = true)\n",
      " |-- GarageType: string (nullable = true)\n",
      " |-- GarageYrBlt: integer (nullable = true)\n",
      " |-- GarageFinish: string (nullable = true)\n",
      " |-- GarageCars: integer (nullable = true)\n",
      " |-- GarageArea: integer (nullable = true)\n",
      " |-- GarageQual: string (nullable = true)\n",
      " |-- GarageCond: string (nullable = true)\n",
      " |-- PavedDrive: string (nullable = true)\n",
      " |-- WoodDeckSF: integer (nullable = true)\n",
      " |-- OpenPorchSF: integer (nullable = true)\n",
      " |-- EnclosedPorch: integer (nullable = true)\n",
      " |-- 3SsnPorch: integer (nullable = true)\n",
      " |-- ScreenPorch: integer (nullable = true)\n",
      " |-- PoolArea: integer (nullable = true)\n",
      " |-- PoolQC: string (nullable = true)\n",
      " |-- Fence: string (nullable = true)\n",
      " |-- MiscFeature: string (nullable = true)\n",
      " |-- MiscVal: integer (nullable = true)\n",
      " |-- MoSold: integer (nullable = true)\n",
      " |-- YrSold: integer (nullable = true)\n",
      " |-- SaleType: string (nullable = true)\n",
      " |-- SaleCondition: string (nullable = true)\n",
      " |-- SalePrice: integer (nullable = true)\n",
      "\n"
     ]
    }
   ],
   "source": [
    "full.printSchema()"
   ]
  },
  {
   "cell_type": "code",
   "execution_count": 12,
   "metadata": {
    "collapsed": false
   },
   "outputs": [
    {
     "name": "stdout",
     "output_type": "stream",
     "text": [
      "Número de variables= 81\n"
     ]
    }
   ],
   "source": [
    "cols = full.columns\n",
    "num_columns=len(cols)\n",
    "print(\"Número de variables= {}\".format(num_columns))"
   ]
  },
  {
   "cell_type": "code",
   "execution_count": 13,
   "metadata": {
    "collapsed": false
   },
   "outputs": [
    {
     "name": "stdout",
     "output_type": "stream",
     "text": [
      "+---+----------+--------+-----------+-------+------+-----+\n",
      "| Id|MSSubClass|MSZoning|LotFrontage|LotArea|Street|Alley|\n",
      "+---+----------+--------+-----------+-------+------+-----+\n",
      "|  1|        60|      RL|         65|   8450|  Pave| null|\n",
      "|  2|        20|      RL|         80|   9600|  Pave| null|\n",
      "|  3|        60|      RL|         68|  11250|  Pave| null|\n",
      "|  4|        70|      RL|         60|   9550|  Pave| null|\n",
      "|  5|        60|      RL|         84|  14260|  Pave| null|\n",
      "+---+----------+--------+-----------+-------+------+-----+\n",
      "only showing top 5 rows\n",
      "\n",
      "+--------+-----------+---------+---------+---------+------------+----------+\n",
      "|LotShape|LandContour|Utilities|LotConfig|LandSlope|Neighborhood|Condition1|\n",
      "+--------+-----------+---------+---------+---------+------------+----------+\n",
      "|     Reg|        Lvl|   AllPub|   Inside|      Gtl|     CollgCr|      Norm|\n",
      "|     Reg|        Lvl|   AllPub|      FR2|      Gtl|     Veenker|     Feedr|\n",
      "|     IR1|        Lvl|   AllPub|   Inside|      Gtl|     CollgCr|      Norm|\n",
      "|     IR1|        Lvl|   AllPub|   Corner|      Gtl|     Crawfor|      Norm|\n",
      "|     IR1|        Lvl|   AllPub|      FR2|      Gtl|     NoRidge|      Norm|\n",
      "+--------+-----------+---------+---------+---------+------------+----------+\n",
      "only showing top 5 rows\n",
      "\n",
      "+----------+--------+----------+-----------+-----------+---------+------------+\n",
      "|Condition2|BldgType|HouseStyle|OverallQual|OverallCond|YearBuilt|YearRemodAdd|\n",
      "+----------+--------+----------+-----------+-----------+---------+------------+\n",
      "|      Norm|    1Fam|    2Story|          7|          5|     2003|        2003|\n",
      "|      Norm|    1Fam|    1Story|          6|          8|     1976|        1976|\n",
      "|      Norm|    1Fam|    2Story|          7|          5|     2001|        2002|\n",
      "|      Norm|    1Fam|    2Story|          7|          5|     1915|        1970|\n",
      "|      Norm|    1Fam|    2Story|          8|          5|     2000|        2000|\n",
      "+----------+--------+----------+-----------+-----------+---------+------------+\n",
      "only showing top 5 rows\n",
      "\n",
      "+---------+--------+-----------+-----------+----------+----------+---------+\n",
      "|RoofStyle|RoofMatl|Exterior1st|Exterior2nd|MasVnrType|MasVnrArea|ExterQual|\n",
      "+---------+--------+-----------+-----------+----------+----------+---------+\n",
      "|    Gable| CompShg|    VinylSd|    VinylSd|   BrkFace|       196|       Gd|\n",
      "|    Gable| CompShg|    MetalSd|    MetalSd|      None|         0|       TA|\n",
      "|    Gable| CompShg|    VinylSd|    VinylSd|   BrkFace|       162|       Gd|\n",
      "|    Gable| CompShg|    Wd Sdng|    Wd Shng|      None|         0|       TA|\n",
      "|    Gable| CompShg|    VinylSd|    VinylSd|   BrkFace|       350|       Gd|\n",
      "+---------+--------+-----------+-----------+----------+----------+---------+\n",
      "only showing top 5 rows\n",
      "\n",
      "+---------+----------+--------+--------+------------+------------+----------+\n",
      "|ExterCond|Foundation|BsmtQual|BsmtCond|BsmtExposure|BsmtFinType1|BsmtFinSF1|\n",
      "+---------+----------+--------+--------+------------+------------+----------+\n",
      "|       TA|     PConc|      Gd|      TA|          No|         GLQ|       706|\n",
      "|       TA|    CBlock|      Gd|      TA|          Gd|         ALQ|       978|\n",
      "|       TA|     PConc|      Gd|      TA|          Mn|         GLQ|       486|\n",
      "|       TA|    BrkTil|      TA|      Gd|          No|         ALQ|       216|\n",
      "|       TA|     PConc|      Gd|      TA|          Av|         GLQ|       655|\n",
      "+---------+----------+--------+--------+------------+------------+----------+\n",
      "only showing top 5 rows\n",
      "\n",
      "+------------+----------+---------+-----------+-------+---------+----------+\n",
      "|BsmtFinType2|BsmtFinSF2|BsmtUnfSF|TotalBsmtSF|Heating|HeatingQC|CentralAir|\n",
      "+------------+----------+---------+-----------+-------+---------+----------+\n",
      "|         Unf|         0|      150|        856|   GasA|       Ex|         Y|\n",
      "|         Unf|         0|      284|       1262|   GasA|       Ex|         Y|\n",
      "|         Unf|         0|      434|        920|   GasA|       Ex|         Y|\n",
      "|         Unf|         0|      540|        756|   GasA|       Gd|         Y|\n",
      "|         Unf|         0|      490|       1145|   GasA|       Ex|         Y|\n",
      "+------------+----------+---------+-----------+-------+---------+----------+\n",
      "only showing top 5 rows\n",
      "\n",
      "+----------+--------+--------+------------+---------+------------+------------+\n",
      "|Electrical|1stFlrSF|2ndFlrSF|LowQualFinSF|GrLivArea|BsmtFullBath|BsmtHalfBath|\n",
      "+----------+--------+--------+------------+---------+------------+------------+\n",
      "|     SBrkr|     856|     854|           0|     1710|           1|           0|\n",
      "|     SBrkr|    1262|       0|           0|     1262|           0|           1|\n",
      "|     SBrkr|     920|     866|           0|     1786|           1|           0|\n",
      "|     SBrkr|     961|     756|           0|     1717|           1|           0|\n",
      "|     SBrkr|    1145|    1053|           0|     2198|           1|           0|\n",
      "+----------+--------+--------+------------+---------+------------+------------+\n",
      "only showing top 5 rows\n",
      "\n",
      "+--------+--------+------------+------------+-----------+------------+----------+\n",
      "|FullBath|HalfBath|BedroomAbvGr|KitchenAbvGr|KitchenQual|TotRmsAbvGrd|Functional|\n",
      "+--------+--------+------------+------------+-----------+------------+----------+\n",
      "|       2|       1|           3|           1|         Gd|           8|       Typ|\n",
      "|       2|       0|           3|           1|         TA|           6|       Typ|\n",
      "|       2|       1|           3|           1|         Gd|           6|       Typ|\n",
      "|       1|       0|           3|           1|         Gd|           7|       Typ|\n",
      "|       2|       1|           4|           1|         Gd|           9|       Typ|\n",
      "+--------+--------+------------+------------+-----------+------------+----------+\n",
      "only showing top 5 rows\n",
      "\n",
      "+----------+-----------+----------+-----------+------------+----------+----------+\n",
      "|Fireplaces|FireplaceQu|GarageType|GarageYrBlt|GarageFinish|GarageCars|GarageArea|\n",
      "+----------+-----------+----------+-----------+------------+----------+----------+\n",
      "|         0|       null|    Attchd|       2003|         RFn|         2|       548|\n",
      "|         1|         TA|    Attchd|       1976|         RFn|         2|       460|\n",
      "|         1|         TA|    Attchd|       2001|         RFn|         2|       608|\n",
      "|         1|         Gd|    Detchd|       1998|         Unf|         3|       642|\n",
      "|         1|         TA|    Attchd|       2000|         RFn|         3|       836|\n",
      "+----------+-----------+----------+-----------+------------+----------+----------+\n",
      "only showing top 5 rows\n",
      "\n",
      "+----------+----------+----------+----------+-----------+-------------+---------+\n",
      "|GarageQual|GarageCond|PavedDrive|WoodDeckSF|OpenPorchSF|EnclosedPorch|3SsnPorch|\n",
      "+----------+----------+----------+----------+-----------+-------------+---------+\n",
      "|        TA|        TA|         Y|         0|         61|            0|        0|\n",
      "|        TA|        TA|         Y|       298|          0|            0|        0|\n",
      "|        TA|        TA|         Y|         0|         42|            0|        0|\n",
      "|        TA|        TA|         Y|         0|         35|          272|        0|\n",
      "|        TA|        TA|         Y|       192|         84|            0|        0|\n",
      "+----------+----------+----------+----------+-----------+-------------+---------+\n",
      "only showing top 5 rows\n",
      "\n",
      "+-----------+--------+------+-----+-----------+-------+------+\n",
      "|ScreenPorch|PoolArea|PoolQC|Fence|MiscFeature|MiscVal|MoSold|\n",
      "+-----------+--------+------+-----+-----------+-------+------+\n",
      "|          0|       0|  null| null|       null|      0|     2|\n",
      "|          0|       0|  null| null|       null|      0|     5|\n",
      "|          0|       0|  null| null|       null|      0|     9|\n",
      "|          0|       0|  null| null|       null|      0|     2|\n",
      "|          0|       0|  null| null|       null|      0|    12|\n",
      "+-----------+--------+------+-----+-----------+-------+------+\n",
      "only showing top 5 rows\n",
      "\n",
      "+------+--------+-------------+---------+\n",
      "|YrSold|SaleType|SaleCondition|SalePrice|\n",
      "+------+--------+-------------+---------+\n",
      "|  2008|      WD|       Normal|   208500|\n",
      "|  2007|      WD|       Normal|   181500|\n",
      "|  2008|      WD|       Normal|   223500|\n",
      "|  2006|      WD|      Abnorml|   140000|\n",
      "|  2008|      WD|       Normal|   250000|\n",
      "+------+--------+-------------+---------+\n",
      "only showing top 5 rows\n",
      "\n"
     ]
    }
   ],
   "source": [
    "step=7\n",
    "for index in range(0, num_columns, step):\n",
    "    full.select(cols[index:index+step]).show(5) "
   ]
  },
  {
   "cell_type": "code",
   "execution_count": 14,
   "metadata": {
    "collapsed": false
   },
   "outputs": [
    {
     "name": "stdout",
     "output_type": "stream",
     "text": [
      "+-------+-----------------+------------------+--------+------------------+-----------------+\n",
      "|summary|               Id|        MSSubClass|MSZoning|       LotFrontage|          LotArea|\n",
      "+-------+-----------------+------------------+--------+------------------+-----------------+\n",
      "|  count|             2919|              2919|    2915|              2433|             2919|\n",
      "|   mean|           1460.0|  57.1377183967112|    null| 69.30579531442663|10168.11408016444|\n",
      "| stddev|842.7870430897713|42.517627829150314|    null|23.344904706927394|7886.996359105535|\n",
      "|    min|                1|                20| C (all)|                21|             1300|\n",
      "|    max|             2919|               190|      RM|               313|           215245|\n",
      "+-------+-----------------+------------------+--------+------------------+-----------------+\n",
      "\n",
      "+-------+------+-----+--------+-----------+---------+\n",
      "|summary|Street|Alley|LotShape|LandContour|Utilities|\n",
      "+-------+------+-----+--------+-----------+---------+\n",
      "|  count|  2919|  198|    2919|       2919|     2917|\n",
      "|   mean|  null| null|    null|       null|     null|\n",
      "| stddev|  null| null|    null|       null|     null|\n",
      "|    min|  Grvl| Grvl|     IR1|        Bnk|   AllPub|\n",
      "|    max|  Pave| Pave|     Reg|        Lvl|   NoSeWa|\n",
      "+-------+------+-----+--------+-----------+---------+\n",
      "\n",
      "+-------+---------+---------+------------+----------+----------+\n",
      "|summary|LotConfig|LandSlope|Neighborhood|Condition1|Condition2|\n",
      "+-------+---------+---------+------------+----------+----------+\n",
      "|  count|     2919|     2919|        2919|      2919|      2919|\n",
      "|   mean|     null|     null|        null|      null|      null|\n",
      "| stddev|     null|     null|        null|      null|      null|\n",
      "|    min|   Corner|      Gtl|     Blmngtn|    Artery|    Artery|\n",
      "|    max|   Inside|      Sev|     Veenker|      RRNn|      RRNn|\n",
      "+-------+---------+---------+------------+----------+----------+\n",
      "\n",
      "+-------+--------+----------+-----------------+------------------+------------------+\n",
      "|summary|BldgType|HouseStyle|      OverallQual|       OverallCond|         YearBuilt|\n",
      "+-------+--------+----------+-----------------+------------------+------------------+\n",
      "|  count|    2919|      2919|             2919|              2919|              2919|\n",
      "|   mean|    null|      null|6.089071599862967| 5.564576909900651|1971.3127783487496|\n",
      "| stddev|    null|      null|1.409947206614697|1.1131307466377236|30.291441534121137|\n",
      "|    min|    1Fam|    1.5Fin|                1|                 1|              1872|\n",
      "|    max|  TwnhsE|      SLvl|               10|                 9|              2010|\n",
      "+-------+--------+----------+-----------------+------------------+------------------+\n",
      "\n",
      "+-------+------------------+---------+--------+-----------+-----------+\n",
      "|summary|      YearRemodAdd|RoofStyle|RoofMatl|Exterior1st|Exterior2nd|\n",
      "+-------+------------------+---------+--------+-----------+-----------+\n",
      "|  count|              2919|     2919|    2919|       2918|       2918|\n",
      "|   mean|1984.2644741349777|     null|    null|       null|       null|\n",
      "| stddev| 20.89434423384076|     null|    null|       null|       null|\n",
      "|    min|              1950|     Flat| ClyTile|    AsbShng|    AsbShng|\n",
      "|    max|              2010|     Shed| WdShngl|    WdShing|    Wd Shng|\n",
      "+-------+------------------+---------+--------+-----------+-----------+\n",
      "\n",
      "+-------+----------+------------------+---------+---------+----------+\n",
      "|summary|MasVnrType|        MasVnrArea|ExterQual|ExterCond|Foundation|\n",
      "+-------+----------+------------------+---------+---------+----------+\n",
      "|  count|      2895|              2896|     2919|     2919|      2919|\n",
      "|   mean|      null|102.20131215469613|     null|     null|      null|\n",
      "| stddev|      null|179.33425303776386|     null|     null|      null|\n",
      "|    min|    BrkCmn|                 0|       Ex|       Ex|    BrkTil|\n",
      "|    max|     Stone|              1600|       TA|       TA|      Wood|\n",
      "+-------+----------+------------------+---------+---------+----------+\n",
      "\n",
      "+-------+--------+--------+------------+------------+------------------+\n",
      "|summary|BsmtQual|BsmtCond|BsmtExposure|BsmtFinType1|        BsmtFinSF1|\n",
      "+-------+--------+--------+------------+------------+------------------+\n",
      "|  count|    2838|    2837|        2837|        2840|              2918|\n",
      "|   mean|    null|    null|        null|        null| 441.4232350925291|\n",
      "| stddev|    null|    null|        null|        null|455.61082587029176|\n",
      "|    min|      Ex|      Fa|          Av|         ALQ|                 0|\n",
      "|    max|      TA|      TA|          No|         Unf|              5644|\n",
      "+-------+--------+--------+------------+------------+------------------+\n",
      "\n",
      "+-------+------------+-----------------+-----------------+------------------+-------+\n",
      "|summary|BsmtFinType2|       BsmtFinSF2|        BsmtUnfSF|       TotalBsmtSF|Heating|\n",
      "+-------+------------+-----------------+-----------------+------------------+-------+\n",
      "|  count|        2839|             2918|             2918|              2918|   2919|\n",
      "|   mean|        null|49.58224811514736|560.7721041809458|1051.7775873886224|   null|\n",
      "| stddev|        null|169.2056110999798|439.5436594234397| 440.7662581159385|   null|\n",
      "|    min|         ALQ|                0|                0|                 0|  Floor|\n",
      "|    max|         Unf|             1526|             2336|              6110|   Wall|\n",
      "+-------+------------+-----------------+-----------------+------------------+-------+\n",
      "\n",
      "+-------+---------+----------+----------+------------------+-----------------+\n",
      "|summary|HeatingQC|CentralAir|Electrical|          1stFlrSF|         2ndFlrSF|\n",
      "+-------+---------+----------+----------+------------------+-----------------+\n",
      "|  count|     2919|      2919|      2918|              2919|             2919|\n",
      "|   mean|     null|      null|      null|1159.5817060637205|336.4837273038712|\n",
      "| stddev|     null|      null|      null|392.36207866658907|428.7014555181114|\n",
      "|    min|       Ex|         N|     FuseA|               334|                0|\n",
      "|    max|       TA|         Y|     SBrkr|              5095|             2065|\n",
      "+-------+---------+----------+----------+------------------+-----------------+\n",
      "\n",
      "+-------+-----------------+------------------+------------------+-------------------+------------------+\n",
      "|summary|     LowQualFinSF|         GrLivArea|      BsmtFullBath|       BsmtHalfBath|          FullBath|\n",
      "+-------+-----------------+------------------+------------------+-------------------+------------------+\n",
      "|  count|             2919|              2919|              2917|               2917|              2919|\n",
      "|   mean|4.694415895854744|1500.7598492634463| 0.429893726431265|0.06136441549537196| 1.568002740664611|\n",
      "| stddev|46.39682451650754|506.05104511834026|0.5247356336982463| 0.2456869164493275|0.5529692595874468|\n",
      "|    min|                0|               334|                 0|                  0|                 0|\n",
      "|    max|             1064|              5642|                 3|                  2|                 4|\n",
      "+-------+-----------------+------------------+------------------+-------------------+------------------+\n",
      "\n",
      "+-------+------------------+------------------+-------------------+-----------+------------------+\n",
      "|summary|          HalfBath|      BedroomAbvGr|       KitchenAbvGr|KitchenQual|      TotRmsAbvGrd|\n",
      "+-------+------------------+------------------+-------------------+-----------+------------------+\n",
      "|  count|              2919|              2919|               2919|       2918|              2919|\n",
      "|   mean|0.3802672147995889| 2.860226104830421| 1.0445357999314835|       null| 6.451524494689962|\n",
      "| stddev|0.5028716002357517|0.8226931006716114|0.21446200122348585|       null|1.5693791436437483|\n",
      "|    min|                 0|                 0|                  0|         Ex|                 2|\n",
      "|    max|                 2|                 8|                  3|         TA|                15|\n",
      "+-------+------------------+------------------+-------------------+-----------+------------------+\n",
      "\n",
      "+-------+----------+------------------+-----------+----------+------------------+\n",
      "|summary|Functional|        Fireplaces|FireplaceQu|GarageType|       GarageYrBlt|\n",
      "+-------+----------+------------------+-----------+----------+------------------+\n",
      "|  count|      2917|              2919|       1499|      2762|              2760|\n",
      "|   mean|      null|0.5971223021582733|       null|      null|1978.1134057971014|\n",
      "| stddev|      null|0.6461293589562274|       null|      null|25.574284723905112|\n",
      "|    min|      Maj1|                 0|         Ex|    2Types|              1895|\n",
      "|    max|       Typ|                 4|         TA|    Detchd|              2207|\n",
      "+-------+----------+------------------+-----------+----------+------------------+\n",
      "\n",
      "+-------+------------+------------------+------------------+----------+----------+\n",
      "|summary|GarageFinish|        GarageCars|        GarageArea|GarageQual|GarageCond|\n",
      "+-------+------------+------------------+------------------+----------+----------+\n",
      "|  count|        2760|              2918|              2918|      2760|      2760|\n",
      "|   mean|        null|1.7666209732693625| 472.8745716244003|      null|      null|\n",
      "| stddev|        null|0.7616243225993496|215.39481499352166|      null|      null|\n",
      "|    min|         Fin|                 0|                 0|        Ex|        Ex|\n",
      "|    max|         Unf|                 5|              1488|        TA|        TA|\n",
      "+-------+------------+------------------+------------------+----------+----------+\n",
      "\n",
      "+-------+----------+------------------+------------------+------------------+------------------+\n",
      "|summary|PavedDrive|        WoodDeckSF|       OpenPorchSF|     EnclosedPorch|         3SsnPorch|\n",
      "+-------+----------+------------------+------------------+------------------+------------------+\n",
      "|  count|      2919|              2919|              2919|              2919|              2919|\n",
      "|   mean|      null| 93.70983213429257|47.486810551558754|23.098321342925658| 2.602261048304214|\n",
      "| stddev|      null|126.52658931047685| 67.57549339168973| 64.24424559263244|25.188169331162975|\n",
      "|    min|         N|                 0|                 0|                 0|                 0|\n",
      "|    max|         Y|              1424|               742|              1012|               508|\n",
      "+-------+----------+------------------+------------------+------------------+------------------+\n",
      "\n",
      "+-------+------------------+------------------+------+-----+-----------+\n",
      "|summary|       ScreenPorch|          PoolArea|PoolQC|Fence|MiscFeature|\n",
      "+-------+------------------+------------------+------+-----+-----------+\n",
      "|  count|              2919|              2919|    10|  571|        105|\n",
      "|   mean|16.062350119904078|2.2517985611510793|  null| null|       null|\n",
      "| stddev| 56.18436511069397| 35.66394596548709|  null| null|       null|\n",
      "|    min|                 0|                 0|    Ex|GdPrv|       Gar2|\n",
      "|    max|               576|               800|    Gd| MnWw|       TenC|\n",
      "+-------+------------------+------------------+------+-----+-----------+\n",
      "\n",
      "+-------+-----------------+-----------------+------------------+--------+-------------+\n",
      "|summary|          MiscVal|           MoSold|            YrSold|SaleType|SaleCondition|\n",
      "+-------+-----------------+-----------------+------------------+--------+-------------+\n",
      "|  count|             2919|             2919|              2919|    2918|         2919|\n",
      "|   mean|50.82596779719082|6.213086673518328|2007.7927372387803|    null|         null|\n",
      "| stddev|567.4022105501805|2.714761774157895|1.3149644889049965|    null|         null|\n",
      "|    min|                0|                1|              2006|     COD|      Abnorml|\n",
      "|    max|            17000|               12|              2010|      WD|      Partial|\n",
      "+-------+-----------------+-----------------+------------------+--------+-------------+\n",
      "\n",
      "+-------+------------------+\n",
      "|summary|         SalePrice|\n",
      "+-------+------------------+\n",
      "|  count|              1460|\n",
      "|   mean|180921.19589041095|\n",
      "| stddev| 79442.50288288663|\n",
      "|    min|             34900|\n",
      "|    max|            755000|\n",
      "+-------+------------------+\n",
      "\n"
     ]
    }
   ],
   "source": [
    "step=5\n",
    "for index in range(0, num_columns, step):\n",
    "    full.describe(cols[index:index+step]).show()"
   ]
  },
  {
   "cell_type": "markdown",
   "metadata": {},
   "source": [
    "<a id=\"missings\"></a>\n",
    "\n",
    "## 4.1 Valores perdidos (missings)\n",
    "\n",
    "En la lectura de los ficheros csv de datos especificamos \"NA\" como nullValue.\n",
    "\n",
    "A continuación vamos a evaluar los valores perdidos del conjunto resultante de la unión de los datasets de test y entrenamiento."
   ]
  },
  {
   "cell_type": "code",
   "execution_count": 15,
   "metadata": {
    "collapsed": false
   },
   "outputs": [
    {
     "data": {
      "text/plain": [
       "[(2909, 'PoolQC'),\n",
       " (2814, 'MiscFeature'),\n",
       " (2721, 'Alley'),\n",
       " (2348, 'Fence'),\n",
       " (1459, 'SalePrice'),\n",
       " (1420, 'FireplaceQu'),\n",
       " (486, 'LotFrontage'),\n",
       " (159, 'GarageYrBlt'),\n",
       " (159, 'GarageQual'),\n",
       " (159, 'GarageFinish'),\n",
       " (159, 'GarageCond'),\n",
       " (157, 'GarageType'),\n",
       " (82, 'BsmtExposure'),\n",
       " (82, 'BsmtCond'),\n",
       " (81, 'BsmtQual'),\n",
       " (80, 'BsmtFinType2'),\n",
       " (79, 'BsmtFinType1'),\n",
       " (24, 'MasVnrType'),\n",
       " (23, 'MasVnrArea'),\n",
       " (4, 'MSZoning'),\n",
       " (2, 'Utilities'),\n",
       " (2, 'Functional'),\n",
       " (2, 'BsmtHalfBath'),\n",
       " (2, 'BsmtFullBath'),\n",
       " (1, 'TotalBsmtSF'),\n",
       " (1, 'SaleType'),\n",
       " (1, 'KitchenQual'),\n",
       " (1, 'GarageCars'),\n",
       " (1, 'GarageArea'),\n",
       " (1, 'Exterior2nd'),\n",
       " (1, 'Exterior1st'),\n",
       " (1, 'Electrical'),\n",
       " (1, 'BsmtUnfSF'),\n",
       " (1, 'BsmtFinSF2'),\n",
       " (1, 'BsmtFinSF1')]"
      ]
     },
     "execution_count": 15,
     "metadata": {},
     "output_type": "execute_result"
    }
   ],
   "source": [
    "exprs = [count_nulls(c) for c in full.columns]\n",
    "\n",
    "count_NA = full.agg(*exprs).first().asDict()\n",
    "\n",
    "total_NA=sorted([(v, k) for k, v in count_NA.items() if v > 0], reverse=True)\n",
    "total_NA"
   ]
  },
  {
   "cell_type": "code",
   "execution_count": 16,
   "metadata": {
    "collapsed": false
   },
   "outputs": [
    {
     "name": "stdout",
     "output_type": "stream",
     "text": [
      "Número total de variables que presentan valores NA = 35\n"
     ]
    }
   ],
   "source": [
    "print(\"Número total de variables que presentan valores NA = {}\".format(len(total_NA)))"
   ]
  },
  {
   "cell_type": "markdown",
   "metadata": {},
   "source": [
    "### 4.1.1 Variables con categoría *NA* válida"
   ]
  },
  {
   "cell_type": "markdown",
   "metadata": {},
   "source": [
    "Obtenemos un total de 35 variables que presentan valores *NA*, sin embargo, al leer el fichero *data_description.txt*, que contiene una breve descripción de las variables, podemos extraer que muchas de las variables faltantes no son verdaderos missings, sino que corresponden a categorías permitidas, o representan la ausencia de una determinada característica, como por ejemplo piscina, garaje, valla, chimenea, sótano, etc.\n",
    "\n",
    "A continuación definiremos una lista con los nombres de las variables para las que la categoría \"NA\" es válida, y por tanto las observaciones con este valor no serán tratadas como variables missing. "
   ]
  },
  {
   "cell_type": "code",
   "execution_count": 17,
   "metadata": {
    "collapsed": false
   },
   "outputs": [
    {
     "name": "stdout",
     "output_type": "stream",
     "text": [
      "Número de variables con categoría NA permitida = 14\n"
     ]
    }
   ],
   "source": [
    "allowed_NA=['Alley',\n",
    "            'BsmtQual',\n",
    "            'BsmtCond',\n",
    "            'BsmtExposure',\n",
    "            'BsmtFinType1',\n",
    "            'BsmtFinType2',\n",
    "            'FireplaceQu',\n",
    "            'GarageType',\n",
    "            'GarageFinish',\n",
    "            'GarageQual',\n",
    "            'GarageCond',\n",
    "            'PoolQC',\n",
    "            'Fence',\n",
    "            'MiscFeature']\n",
    "\n",
    "print('Número de variables con categoría NA permitida = {}'.format(len(allowed_NA)))"
   ]
  },
  {
   "cell_type": "markdown",
   "metadata": {},
   "source": [
    "Comprobamos el tipo de variable"
   ]
  },
  {
   "cell_type": "code",
   "execution_count": 18,
   "metadata": {
    "collapsed": false
   },
   "outputs": [
    {
     "name": "stdout",
     "output_type": "stream",
     "text": [
      "StringType\n",
      "StringType\n",
      "StringType\n",
      "StringType\n",
      "StringType\n",
      "StringType\n",
      "StringType\n",
      "StringType\n",
      "StringType\n",
      "StringType\n",
      "StringType\n",
      "StringType\n",
      "StringType\n",
      "StringType\n"
     ]
    }
   ],
   "source": [
    "for var in allowed_NA:\n",
    "    print(full.schema[var].dataType)"
   ]
  },
  {
   "cell_type": "markdown",
   "metadata": {},
   "source": [
    "confirmamos que todas son variables categóricas, como cabía esperar.\n",
    "\n",
    "Para que quede más claro vamos a cambiar la categoría *NA* de las variables anteriores a las categorías que se presentan a continuación, y que son más descriptivas."
   ]
  },
  {
   "cell_type": "code",
   "execution_count": 19,
   "metadata": {
    "collapsed": true
   },
   "outputs": [],
   "source": [
    "new_NA_categories={'Alley':'noAccess',\n",
    "                   'BsmtQual':'NoBasement',\n",
    "                   'BsmtCond':'NoBasement',\n",
    "                   'BsmtExposure':'NoBasement',\n",
    "                   'BsmtFinType1':'NoBasement',\n",
    "                   'BsmtFinType2':'NoBasement',\n",
    "                   'FireplaceQu':'NoFireplace',\n",
    "                   'GarageType': 'NoGarage',\n",
    "                   'GarageFinish':'NoGarage',\n",
    "                   'GarageQual':'NoGarage',\n",
    "                   'GarageCond':'NoGarage',\n",
    "                   'PoolQC':'NoPool',\n",
    "                   'Fence':'NoFence',\n",
    "                   'MiscFeature':'None'}"
   ]
  },
  {
   "cell_type": "code",
   "execution_count": 20,
   "metadata": {
    "collapsed": true
   },
   "outputs": [],
   "source": [
    "full=full.fillna(new_NA_categories)"
   ]
  },
  {
   "cell_type": "code",
   "execution_count": 21,
   "metadata": {
    "collapsed": false
   },
   "outputs": [
    {
     "name": "stdout",
     "output_type": "stream",
     "text": [
      "Número de variables con valores perdidos = 21\n"
     ]
    },
    {
     "data": {
      "text/plain": [
       "[(1459, 'SalePrice'),\n",
       " (486, 'LotFrontage'),\n",
       " (159, 'GarageYrBlt'),\n",
       " (24, 'MasVnrType'),\n",
       " (23, 'MasVnrArea'),\n",
       " (4, 'MSZoning'),\n",
       " (2, 'Utilities'),\n",
       " (2, 'Functional'),\n",
       " (2, 'BsmtHalfBath'),\n",
       " (2, 'BsmtFullBath'),\n",
       " (1, 'TotalBsmtSF'),\n",
       " (1, 'SaleType'),\n",
       " (1, 'KitchenQual'),\n",
       " (1, 'GarageCars'),\n",
       " (1, 'GarageArea'),\n",
       " (1, 'Exterior2nd'),\n",
       " (1, 'Exterior1st'),\n",
       " (1, 'Electrical'),\n",
       " (1, 'BsmtUnfSF'),\n",
       " (1, 'BsmtFinSF2'),\n",
       " (1, 'BsmtFinSF1')]"
      ]
     },
     "execution_count": 21,
     "metadata": {},
     "output_type": "execute_result"
    }
   ],
   "source": [
    "missings=sorted([(v, k) for k, v in full.agg(*[count_nulls(c) for c in full.columns]).first().asDict().items() if v > 0], reverse=True)\n",
    "print('Número de variables con valores perdidos = {}'.format(len(missings)))\n",
    "missings"
   ]
  },
  {
   "cell_type": "markdown",
   "metadata": {},
   "source": [
    "### 4.1.2 Variable missing *SalePrice*"
   ]
  },
  {
   "cell_type": "markdown",
   "metadata": {},
   "source": [
    "Los valores 1459 valores perdidos que obtenemos para la variable objetivo *SalePrice* pertenecen al conjunto test.\n",
    "\n",
    "Vamos a asegurarnos de que es así realizando las siguientes comprobaciones:"
   ]
  },
  {
   "cell_type": "code",
   "execution_count": 22,
   "metadata": {
    "collapsed": false
   },
   "outputs": [
    {
     "name": "stdout",
     "output_type": "stream",
     "text": [
      "Número de observaciones conjunto test = 1459\n"
     ]
    }
   ],
   "source": [
    "print('Número de observaciones conjunto test = {}'.format(test.count()))"
   ]
  },
  {
   "cell_type": "code",
   "execution_count": 23,
   "metadata": {
    "collapsed": false
   },
   "outputs": [
    {
     "name": "stdout",
     "output_type": "stream",
     "text": [
      "Número de valores perdidos para la variable SalePrice en el conjunto train = 0\n"
     ]
    }
   ],
   "source": [
    "print('Número de valores perdidos para la variable SalePrice en el conjunto train = {}'.format\\\n",
    "      (train.agg(agg_sum(col('SalePrice').isNull().cast(IntegerType())).alias('SalePrice')).first().SalePrice))"
   ]
  },
  {
   "cell_type": "markdown",
   "metadata": {},
   "source": [
    "Por tanto, podemos eliminar la variable *SalePrice* de la lista de missings"
   ]
  },
  {
   "cell_type": "code",
   "execution_count": 24,
   "metadata": {
    "collapsed": false
   },
   "outputs": [
    {
     "name": "stdout",
     "output_type": "stream",
     "text": [
      "Número de variables con valores perdidos = 20 \n"
     ]
    },
    {
     "data": {
      "text/plain": [
       "[(486, 'LotFrontage'),\n",
       " (159, 'GarageYrBlt'),\n",
       " (24, 'MasVnrType'),\n",
       " (23, 'MasVnrArea'),\n",
       " (4, 'MSZoning'),\n",
       " (2, 'Utilities'),\n",
       " (2, 'Functional'),\n",
       " (2, 'BsmtHalfBath'),\n",
       " (2, 'BsmtFullBath'),\n",
       " (1, 'TotalBsmtSF'),\n",
       " (1, 'SaleType'),\n",
       " (1, 'KitchenQual'),\n",
       " (1, 'GarageCars'),\n",
       " (1, 'GarageArea'),\n",
       " (1, 'Exterior2nd'),\n",
       " (1, 'Exterior1st'),\n",
       " (1, 'Electrical'),\n",
       " (1, 'BsmtUnfSF'),\n",
       " (1, 'BsmtFinSF2'),\n",
       " (1, 'BsmtFinSF1')]"
      ]
     },
     "execution_count": 24,
     "metadata": {},
     "output_type": "execute_result"
    }
   ],
   "source": [
    "if (1459, 'SalePrice') in missings:\n",
    "    missings.remove((1459, 'SalePrice'))\n",
    "   \n",
    "print('Número de variables con valores perdidos = {} '.format(len(missings)))\n",
    "missings"
   ]
  },
  {
   "cell_type": "markdown",
   "metadata": {},
   "source": [
    "A continuación vamos a incorporar información adicional a nuestra lista de variables missings. Se va a añadir el tipo de variable y el porcentaje de missings sobre el total de observaciones."
   ]
  },
  {
   "cell_type": "code",
   "execution_count": 130,
   "metadata": {
    "collapsed": false
   },
   "outputs": [
    {
     "name": "stdout",
     "output_type": "stream",
     "text": [
      "Rows    Variable    Datatype    Percent\n",
      "\n"
     ]
    },
    {
     "data": {
      "text/plain": [
       "[(486, 'LotFrontage', IntegerType, 16.65),\n",
       " (159, 'GarageYrBlt', IntegerType, 5.45),\n",
       " (24, 'MasVnrType', StringType, 0.82),\n",
       " (23, 'MasVnrArea', IntegerType, 0.79),\n",
       " (4, 'MSZoning', StringType, 0.14),\n",
       " (2, 'Utilities', StringType, 0.07),\n",
       " (2, 'Functional', StringType, 0.07),\n",
       " (2, 'BsmtHalfBath', IntegerType, 0.07),\n",
       " (2, 'BsmtFullBath', IntegerType, 0.07),\n",
       " (1, 'TotalBsmtSF', IntegerType, 0.03),\n",
       " (1, 'SaleType', StringType, 0.03),\n",
       " (1, 'KitchenQual', StringType, 0.03),\n",
       " (1, 'GarageCars', IntegerType, 0.03),\n",
       " (1, 'GarageArea', IntegerType, 0.03),\n",
       " (1, 'Exterior2nd', StringType, 0.03),\n",
       " (1, 'Exterior1st', StringType, 0.03),\n",
       " (1, 'Electrical', StringType, 0.03),\n",
       " (1, 'BsmtUnfSF', IntegerType, 0.03),\n",
       " (1, 'BsmtFinSF2', IntegerType, 0.03),\n",
       " (1, 'BsmtFinSF1', IntegerType, 0.03)]"
      ]
     },
     "execution_count": 130,
     "metadata": {},
     "output_type": "execute_result"
    }
   ],
   "source": [
    "full_size=full.count()\n",
    "\n",
    "print('Rows    Variable    Datatype    Percent\\n')\n",
    "for i in range(len(missings)):\n",
    "    missings[i]=(missings[i][0], missings[i][1], full.schema[missings[i][1]].dataType, round((missings[i][0]/full_size)*100, 2))\n",
    "\n",
    "missings"
   ]
  },
  {
   "cell_type": "markdown",
   "metadata": {},
   "source": [
    "### 4.1.3 Variables missing *Bsmt*"
   ]
  },
  {
   "cell_type": "markdown",
   "metadata": {},
   "source": [
    "* **BsmtUnfSF**: superficie sin finalizar en el sótano (ft2)\n",
    "* **BsmtFinSF2**: superficie finalizada tipo 2 (ft2)\n",
    "* **BsmtFinSF1**: superficie finalizada tipo 1 (ft2)\n",
    "* **BsmtFullBath**: baños completos en el sótano\n",
    "* **BsmtHalfBath**: baños en el sótano\n",
    "* **TotalBsmtSF**: superficie total del sótano (ft2)"
   ]
  },
  {
   "cell_type": "code",
   "execution_count": 26,
   "metadata": {
    "collapsed": false
   },
   "outputs": [
    {
     "name": "stdout",
     "output_type": "stream",
     "text": [
      "(2, 'BsmtHalfBath', IntegerType, 0.07)\n",
      "(2, 'BsmtFullBath', IntegerType, 0.07)\n",
      "(1, 'TotalBsmtSF', IntegerType, 0.03)\n",
      "(1, 'BsmtUnfSF', IntegerType, 0.03)\n",
      "(1, 'BsmtFinSF2', IntegerType, 0.03)\n",
      "(1, 'BsmtFinSF1', IntegerType, 0.03)\n"
     ]
    }
   ],
   "source": [
    "for i in range(len(missings)):\n",
    "    if 'Bsmt' in missings[i][1]:\n",
    "        print(missings[i])"
   ]
  },
  {
   "cell_type": "markdown",
   "metadata": {},
   "source": [
    "Comprobamos que todas ellas son variables **numéricas**:"
   ]
  },
  {
   "cell_type": "code",
   "execution_count": 27,
   "metadata": {
    "collapsed": false
   },
   "outputs": [],
   "source": [
    "miss_bsmt = full.filter( full.BsmtUnfSF.isNull()    | full.BsmtFinSF2.isNull()   | full.BsmtFinSF1.isNull() |\n",
    "                         full.BsmtFullBath.isNull() | full.BsmtHalfBath.isNull() | full.TotalBsmtSF.isNull() )\n",
    "\n",
    "no_miss_bsmt = full.filter( full.BsmtUnfSF.isNotNull()     & full.BsmtFinSF2.isNotNull()   & full.BsmtFinSF1.isNotNull() |\n",
    "                            full.BsmtFullBath.isNotNull()  & full.BsmtHalfBath.isNotNull() & full.TotalBsmtSF.isNotNull() )"
   ]
  },
  {
   "cell_type": "code",
   "execution_count": 28,
   "metadata": {
    "collapsed": false
   },
   "outputs": [
    {
     "name": "stdout",
     "output_type": "stream",
     "text": [
      "+----------+----------+------------+------------+------------+\n",
      "|  BsmtQual|  BsmtCond|BsmtExposure|BsmtFinType1|BsmtFinType2|\n",
      "+----------+----------+------------+------------+------------+\n",
      "|NoBasement|NoBasement|  NoBasement|  NoBasement|  NoBasement|\n",
      "|NoBasement|NoBasement|  NoBasement|  NoBasement|  NoBasement|\n",
      "+----------+----------+------------+------------+------------+\n",
      "\n",
      "+----------+----------+---------+-----------+------------+------------+\n",
      "|BsmtFinSF1|BsmtFinSF2|BsmtUnfSF|TotalBsmtSF|BsmtFullBath|BsmtHalfBath|\n",
      "+----------+----------+---------+-----------+------------+------------+\n",
      "|      null|      null|     null|       null|        null|        null|\n",
      "|         0|         0|        0|          0|        null|        null|\n",
      "+----------+----------+---------+-----------+------------+------------+\n",
      "\n"
     ]
    }
   ],
   "source": [
    "miss_bsmt.select(['BsmtQual',\n",
    "                  'BsmtCond',\n",
    "                  'BsmtExposure',\n",
    "                  'BsmtFinType1',\n",
    "                  'BsmtFinType2']).show()\n",
    "                  \n",
    "miss_bsmt.select(['BsmtFinSF1',\n",
    "                  'BsmtFinSF2',\n",
    "                  'BsmtUnfSF',\n",
    "                  'TotalBsmtSF',\n",
    "                  'BsmtFullBath',\n",
    "                  'BsmtHalfBath']).show()\n"
   ]
  },
  {
   "cell_type": "markdown",
   "metadata": {},
   "source": [
    "Comprobamos que las observaciones de las variables missing *Bsmt* (sótano) corresponden a las 2 únicas observaciones anteriores. Las variables informadas nos dan como característica común la ausencia de sótano, por tanto para las variables missing bajo estudio el único valor que tiene sentido imputar es 0, puesto que denota la ausencia de sotano y por tanto de baños en el sótano, superficie total, superficie construida o por contruir en el sótano"
   ]
  },
  {
   "cell_type": "markdown",
   "metadata": {},
   "source": [
    "Creamos una diccionario *imputation_dict* donde iremos añadiendo el valor a imputar en cada una de las variables missing que estamos analizando para al final del análisis imputar los valores."
   ]
  },
  {
   "cell_type": "code",
   "execution_count": 29,
   "metadata": {
    "collapsed": false
   },
   "outputs": [],
   "source": [
    "imputation_dict={}\n",
    "\n",
    "imputation_dict['BsmtFinSF1']=0\n",
    "imputation_dict['BsmtFinSF2']=0\n",
    "imputation_dict['BsmtUnfSF']=0\n",
    "imputation_dict['TotalBsmtSF']=0\n",
    "imputation_dict['BsmtFullBath']=0\n",
    "imputation_dict['BsmtHalfBath']=0"
   ]
  },
  {
   "cell_type": "markdown",
   "metadata": {},
   "source": [
    "### 4.1.4 Variable missing *Electrical*"
   ]
  },
  {
   "cell_type": "markdown",
   "metadata": {},
   "source": [
    "* **Electrical**: sistema eléctrico (SBrkr, FuseA, FuseF, FuseP, Mix)"
   ]
  },
  {
   "cell_type": "code",
   "execution_count": 129,
   "metadata": {
    "collapsed": false
   },
   "outputs": [
    {
     "name": "stdout",
     "output_type": "stream",
     "text": [
      "Rows    Variable    Datatype    Percent\n",
      "\n",
      "(1, 'Electrical', StringType, 0.03)\n"
     ]
    }
   ],
   "source": [
    "print('Rows    Variable    Datatype    Percent\\n')\n",
    "for i in range(len(missings)):\n",
    "    if 'Electrical' in missings[i][1]:\n",
    "        print(missings[i])"
   ]
  },
  {
   "cell_type": "code",
   "execution_count": 31,
   "metadata": {
    "collapsed": true
   },
   "outputs": [],
   "source": [
    "miss_electrical = full.filter(full.Electrical.isNull())\n",
    "\n",
    "no_miss_electrical = full.filter(full.Electrical.isNotNull())"
   ]
  },
  {
   "cell_type": "markdown",
   "metadata": {},
   "source": [
    "En primer lugar confirmaremos que el valor perdido en la variable *Electrical* no se debe a la ausencia de instalación eléctrica. Como podemos observar a continuación, la variable *Utilities* para la observación en la que Electrical es null toma el valor *AllPub*, lo cual quiere decir que la vivienda dispone de todos los suministros (luz, agua, gas, etc)"
   ]
  },
  {
   "cell_type": "code",
   "execution_count": 41,
   "metadata": {
    "collapsed": false
   },
   "outputs": [
    {
     "name": "stdout",
     "output_type": "stream",
     "text": [
      "+---------+----------+\n",
      "|Utilities|Electrical|\n",
      "+---------+----------+\n",
      "|   AllPub|      null|\n",
      "+---------+----------+\n",
      "\n"
     ]
    }
   ],
   "source": [
    "miss_electrical.select(['Utilities', 'Electrical']).show(1)"
   ]
  },
  {
   "cell_type": "markdown",
   "metadata": {},
   "source": [
    "Vamos a inspeccionar los datos para encontrar el mejor valor para imputar el valor perdido.\n",
    "\n",
    "En primer lugar veamos cómo están distribuidas las categorías de la variable *Electrical* en el dataframe en la que no hay valores null de *Electrical*"
   ]
  },
  {
   "cell_type": "code",
   "execution_count": 2,
   "metadata": {
    "collapsed": true
   },
   "outputs": [],
   "source": [
    "#import matplotlib.pyplot as plt\n",
    "\n",
    "#def plot_freqs(categories, values, max_y):\n",
    "   #   %matplotlib inline\n",
    "   #  plt.bar(range(len(categories)), values, align='center')\n",
    "   # plt.xticks(range(len(categories)), categories)\n",
    "   # plt.ylim([0, max_y])"
   ]
  },
  {
   "cell_type": "code",
   "execution_count": 33,
   "metadata": {
    "collapsed": false
   },
   "outputs": [
    {
     "data": {
      "text/plain": [
       "[Row(Electrical='Mix', count=1),\n",
       " Row(Electrical='FuseF', count=50),\n",
       " Row(Electrical='SBrkr', count=2671),\n",
       " Row(Electrical='FuseP', count=8),\n",
       " Row(Electrical='FuseA', count=188)]"
      ]
     },
     "execution_count": 33,
     "metadata": {},
     "output_type": "execute_result"
    }
   ],
   "source": [
    "freq_table_electrical = no_miss_electrical.groupby('Electrical').count().collect()\n",
    "freq_table_electrical"
   ]
  },
  {
   "cell_type": "markdown",
   "metadata": {},
   "source": [
    "Convertimos a diccionario para facilitar la llamada a la función plot_freqs que se ha definido"
   ]
  },
  {
   "cell_type": "code",
   "execution_count": 34,
   "metadata": {
    "collapsed": false
   },
   "outputs": [],
   "source": [
    "freq_electrical={row.Electrical : row['count'] for row in freq_table_electrical}"
   ]
  },
  {
   "cell_type": "code",
   "execution_count": 35,
   "metadata": {
    "collapsed": false
   },
   "outputs": [
    {
     "data": {
      "image/png": "[encoded data removed]",
      "text/plain": [
       "<matplotlib.figure.Figure at 0xb66006bd30>"
      ]
     },
     "metadata": {},
     "output_type": "display_data"
    }
   ],
   "source": [
    "plot_freqs(freq_electrical.keys(), freq_electrical.values(), sum(freq_electrical.values()))"
   ]
  },
  {
   "cell_type": "markdown",
   "metadata": {},
   "source": [
    "Observamos que la variable *Electrical* está muy desbalanceada, en su mayor parte las observaciones corresponden a la categoría *SBrkr*.\n",
    "\n",
    "La categoría mayoritaria es *SBrkr*, podríamos imputar este valor, pero vamos a seguir inspeccionando los datos para asegurarnos de que elegimos el valor mas apropiado para imputar el missing detectado en esta variable.\n",
    "\n",
    "Veamos qué valores toman algunas de las variables que intuitivamente sospechamos puedan tener relación con *Electrical*"
   ]
  },
  {
   "cell_type": "code",
   "execution_count": 56,
   "metadata": {
    "collapsed": false
   },
   "outputs": [
    {
     "name": "stdout",
     "output_type": "stream",
     "text": [
      "+--------+----------+-----------+-----------+---------+------------+\n",
      "|BldgType|HouseStyle|OverallQual|OverallCond|YearBuilt|YearRemodAdd|\n",
      "+--------+----------+-----------+-----------+---------+------------+\n",
      "|    1Fam|      SLvl|          5|          5|     2006|        2007|\n",
      "+--------+----------+-----------+-----------+---------+------------+\n",
      "\n",
      "+--------+-------+----------+-----------+----------+\n",
      "|MSZoning|Heating|CentralAir|MiscFeature|Electrical|\n",
      "+--------+-------+----------+-----------+----------+\n",
      "|      RL|   GasA|         Y|       None|      null|\n",
      "+--------+-------+----------+-----------+----------+\n",
      "\n"
     ]
    }
   ],
   "source": [
    "miss_electrical.select(['BldgType', 'HouseStyle', 'OverallQual', 'OverallCond', 'YearBuilt', \n",
    "                       'YearRemodAdd']).show(1)\n",
    "                        \n",
    "miss_electrical.select(['MSZoning', 'Heating', 'CentralAir', 'MiscFeature', 'Electrical']).show(1)"
   ]
  },
  {
   "cell_type": "markdown",
   "metadata": {},
   "source": [
    "La variable *MiscFeature* la hemos incluido para comprobar si la vivienda tenía alguna instalación con necesidades eléctricas especiales, pero comprobamos que no es así. \n",
    "\n",
    "La variable *MSZoning* la añadimos para comprobar que la vivienda no estaba situada en una zona agrícola o industrial con características especiales que pudieran influir en la instalación electrica, pero comprobamos que no es asi.\n",
    "\n",
    "*Heating* toma el valor *GasA*, por lo que no se utiliza la instalación eléctrica para la calefacción de la vivienda, sin embargo *CentralAir* toma el valor *Y*, por lo que podría necesitar unas características especiales en cuanto a sistema eléctrico.\n",
    "\n",
    "Después de inspeccionar los valores anteriores vamos a comprobar cómo se distribuyen las categorias de Electrical cuando la vivienda fue construida (*YearBuilt*) o remodelada (*YearRemodAdd*) a partir del año 2006. También filtraremos por las variables *OverallQual* y *OverallCond*, que nos dan idea de las calidades de la vivienda. También filtraremos por *Heating* y *CentralAir*. \n",
    "\n",
    "El resto de variables consultadas no las tendremos en cuenta en el filtro porque parecen bastantes genéricas y no aportan demasiada información."
   ]
  },
  {
   "cell_type": "code",
   "execution_count": 73,
   "metadata": {
    "collapsed": false
   },
   "outputs": [
    {
     "name": "stdout",
     "output_type": "stream",
     "text": [
      "+----------+-----+\n",
      "|Electrical|count|\n",
      "+----------+-----+\n",
      "|     FuseF|    1|\n",
      "|     SBrkr|  360|\n",
      "+----------+-----+\n",
      "\n"
     ]
    }
   ],
   "source": [
    "no_miss_electrical.filter(\n",
    "    ((no_miss_electrical.YearBuilt >= 2006) | (no_miss_electrical.YearRemodAdd >= 2006))&\n",
    "    ((no_miss_electrical.OverallQual== 5) | (no_miss_electrical.OverallCond==5)) &\n",
    "    ((no_miss_electrical.BldgType=='1Fam') | (no_miss_electrical.HouseStyle=='SLvl')) &\n",
    "    (no_miss_electrical.Heating=='GasA') & (no_miss_electrical.CentralAir=='Y')).groupBy('Electrical').count().show()"
   ]
  },
  {
   "cell_type": "markdown",
   "metadata": {},
   "source": [
    "Observamos que la clase *SBrkr* es mayoritaria para las características filtradas, por tanto, tomaremos *SBrkr* como valor de imputación para la observación faltante de la variable *Electrical*"
   ]
  },
  {
   "cell_type": "code",
   "execution_count": 74,
   "metadata": {
    "collapsed": true
   },
   "outputs": [],
   "source": [
    "imputation_dict['Electrical']='SBrkr'"
   ]
  },
  {
   "cell_type": "markdown",
   "metadata": {},
   "source": [
    "### Variables missing *Exterior*"
   ]
  },
  {
   "cell_type": "markdown",
   "metadata": {},
   "source": [
    "* **Exterior2nd**: cubierta exterior de la vivienda (si existe más de un material)\n",
    "* **Exterior1st**: cubierta exterior de la vivienda"
   ]
  },
  {
   "cell_type": "code",
   "execution_count": 128,
   "metadata": {
    "collapsed": false
   },
   "outputs": [
    {
     "name": "stdout",
     "output_type": "stream",
     "text": [
      "Rows    Variable    Datatype    Percent\n",
      "\n",
      "(1, 'Exterior2nd', StringType, 0.03)\n",
      "(1, 'Exterior1st', StringType, 0.03)\n"
     ]
    }
   ],
   "source": [
    "print('Rows    Variable    Datatype    Percent\\n')\n",
    "for i in range(len(missings)):\n",
    "    if 'Exterior' in missings[i][1]:\n",
    "        print(missings[i])"
   ]
  },
  {
   "cell_type": "code",
   "execution_count": 77,
   "metadata": {
    "collapsed": true
   },
   "outputs": [],
   "source": [
    "miss_exterior = full.filter(full.Exterior2nd.isNull() | full.Exterior1st.isNull())\n",
    "no_miss_exterior = full.filter(full.Exterior2nd.isNotNull() & full.Exterior1st.isNotNull())"
   ]
  },
  {
   "cell_type": "markdown",
   "metadata": {},
   "source": [
    "Calculamos la categoría mayoritaria en la variable *Exterior1st*"
   ]
  },
  {
   "cell_type": "code",
   "execution_count": 193,
   "metadata": {
    "collapsed": false
   },
   "outputs": [
    {
     "data": {
      "text/plain": [
       "[(1025, 'VinylSd'),\n",
       " (450, 'MetalSd'),\n",
       " (442, 'HdBoard'),\n",
       " (411, 'Wd Sdng'),\n",
       " (221, 'Plywood'),\n",
       " (126, 'CemntBd'),\n",
       " (87, 'BrkFace'),\n",
       " (56, 'WdShing'),\n",
       " (44, 'AsbShng'),\n",
       " (43, 'Stucco'),\n",
       " (6, 'BrkComm'),\n",
       " (2, 'Stone'),\n",
       " (2, 'CBlock'),\n",
       " (2, 'AsphShn'),\n",
       " (1, 'ImStucc')]"
      ]
     },
     "execution_count": 193,
     "metadata": {},
     "output_type": "execute_result"
    }
   ],
   "source": [
    "exterior1_cat_dict={row.Exterior1st : row['count'] for row in no_miss_exterior.groupby('Exterior1st').count().collect()}\n",
    "exterior1_cat_dict=sorted([(v,k) for (k,v) in exterior1_cat_dict.items()], reverse=True)\n",
    "exterior1_cat_dict"
   ]
  },
  {
   "cell_type": "markdown",
   "metadata": {},
   "source": [
    "Calculamos la categoría mayoritaria en la variable *Exterior2nd*"
   ]
  },
  {
   "cell_type": "code",
   "execution_count": 194,
   "metadata": {
    "collapsed": false
   },
   "outputs": [
    {
     "data": {
      "text/plain": [
       "[(1014, 'VinylSd'),\n",
       " (447, 'MetalSd'),\n",
       " (406, 'HdBoard'),\n",
       " (391, 'Wd Sdng'),\n",
       " (270, 'Plywood'),\n",
       " (126, 'CmentBd'),\n",
       " (81, 'Wd Shng'),\n",
       " (47, 'Stucco'),\n",
       " (47, 'BrkFace'),\n",
       " (38, 'AsbShng'),\n",
       " (22, 'Brk Cmn'),\n",
       " (15, 'ImStucc'),\n",
       " (6, 'Stone'),\n",
       " (4, 'AsphShn'),\n",
       " (3, 'CBlock'),\n",
       " (1, 'Other')]"
      ]
     },
     "execution_count": 194,
     "metadata": {},
     "output_type": "execute_result"
    }
   ],
   "source": [
    "exterior2_cat_dict={row.Exterior2nd : row['count'] for row in no_miss_exterior.groupby('Exterior2nd').count().collect()}\n",
    "exterior2_cat_dict=sorted([(v,k) for (k,v) in exterior2_cat_dict.items()], reverse=True)\n",
    "exterior2_cat_dict"
   ]
  },
  {
   "cell_type": "markdown",
   "metadata": {},
   "source": [
    "Exploraremos los valores de las variables que intuimos pueden estar relacionadas con *Exterior2nd* y *Exterior1st* para el registro con valor perdido."
   ]
  },
  {
   "cell_type": "code",
   "execution_count": 195,
   "metadata": {
    "collapsed": false
   },
   "outputs": [
    {
     "name": "stdout",
     "output_type": "stream",
     "text": [
      "+--------+----------+-----------+-----------+---------+------------+-----------+\n",
      "|BldgType|HouseStyle|OverallQual|OverallCond|YearBuilt|YearRemodAdd|MiscFeature|\n",
      "+--------+----------+-----------+-----------+---------+------------+-----------+\n",
      "|    1Fam|    1Story|          5|          7|     1940|        2007|       None|\n",
      "+--------+----------+-----------+-----------+---------+------------+-----------+\n",
      "\n",
      "+---------+--------+----------+----------+---------+---------+--------+\n",
      "|RoofStyle|RoofMatl|MasVnrType|MasVnrArea|ExterQual|ExterCond|MSZoning|\n",
      "+---------+--------+----------+----------+---------+---------+--------+\n",
      "|     Flat| Tar&Grv|      None|         0|       TA|       TA|      RL|\n",
      "+---------+--------+----------+----------+---------+---------+--------+\n",
      "\n"
     ]
    }
   ],
   "source": [
    "miss_exterior.select(['BldgType', 'HouseStyle', 'OverallQual', 'OverallCond', 'YearBuilt', 'YearRemodAdd', 'MiscFeature']).show(5)\n",
    "miss_exterior.select(['RoofStyle', 'RoofMatl', 'MasVnrType', 'MasVnrArea', 'ExterQual', 'ExterCond', 'MSZoning']).show(5)"
   ]
  },
  {
   "cell_type": "markdown",
   "metadata": {},
   "source": [
    "Vamos a filtrar los valores no perdidos para encontrar un registro similar al perdido, para no hacer una búsqueda tan restrictiva, agrupamos el resto de variables que estamos inspeccionando por temática, e imponemos que las variables que representan información similar se cumpla una u otra (no ambas a la vez, uso de OR en la condición)."
   ]
  },
  {
   "cell_type": "code",
   "execution_count": 196,
   "metadata": {
    "collapsed": false
   },
   "outputs": [
    {
     "name": "stdout",
     "output_type": "stream",
     "text": [
      "+-----------+-----+\n",
      "|Exterior1st|count|\n",
      "+-----------+-----+\n",
      "|    WdShing|    1|\n",
      "|    Plywood|    2|\n",
      "|    Wd Sdng|    2|\n",
      "|    BrkFace|    1|\n",
      "+-----------+-----+\n",
      "\n"
     ]
    }
   ],
   "source": [
    "no_miss_exterior.filter( ((no_miss_exterior.BldgType == '1Fam') | (no_miss_exterior.HouseStyle == '1Story')) &\n",
    "                         ((no_miss_exterior.OverallQual == 5) | (no_miss_exterior.OverallCond== 7)) &\n",
    "                         ((no_miss_exterior.YearBuilt>=1940) | (no_miss_exterior.YearRemodAdd>=2007)) &\n",
    "                         ((no_miss_exterior.RoofStyle == 'Flat') | (no_miss_exterior.RoofMatl == 'Tar&Grv')) &\n",
    "                         ((no_miss_exterior.MasVnrType == 'None') | (no_miss_exterior.MasVnrArea == 0)) &\n",
    "                         ((no_miss_exterior.ExterQual == 'TA')  | (no_miss_exterior.ExterCond == 'TA')) &\n",
    "                         (no_miss_exterior.MSZoning == 'RL') ).groupBy('Exterior1st').count().show()"
   ]
  },
  {
   "cell_type": "markdown",
   "metadata": {},
   "source": [
    "Las dos categorías más probables para el valor perdido de *Exterior1st* son: *Plywood* y *Wd Sdng*, para desempatar entre ambas nos quedamos con la categoría más frecuente entre ambas, es decir, nos quedamos con ***Wd Sdng***.\n",
    "\n",
    "Repetimos el mismo proceso para la variable *Exterior2nd*:"
   ]
  },
  {
   "cell_type": "code",
   "execution_count": 197,
   "metadata": {
    "collapsed": false
   },
   "outputs": [
    {
     "name": "stdout",
     "output_type": "stream",
     "text": [
      "+-----------+-----+\n",
      "|Exterior2nd|count|\n",
      "+-----------+-----+\n",
      "|    Plywood|    3|\n",
      "|    Wd Shng|    1|\n",
      "|    Wd Sdng|    2|\n",
      "+-----------+-----+\n",
      "\n"
     ]
    }
   ],
   "source": [
    "no_miss_exterior.filter( ((no_miss_exterior.BldgType == '1Fam') | (no_miss_exterior.HouseStyle == '1Story')) &\n",
    "                         ((no_miss_exterior.OverallQual == 5) | (no_miss_exterior.OverallCond== 7)) &\n",
    "                         ((no_miss_exterior.YearBuilt>=1940) | (no_miss_exterior.YearRemodAdd>=2007)) &\n",
    "                         ((no_miss_exterior.RoofStyle == 'Flat') | (no_miss_exterior.RoofMatl == 'Tar&Grv')) &\n",
    "                         ((no_miss_exterior.MasVnrType == 'None') | (no_miss_exterior.MasVnrArea == 0)) &\n",
    "                         ((no_miss_exterior.ExterQual == 'TA')  | (no_miss_exterior.ExterCond == 'TA')) &\n",
    "                         (no_miss_exterior.MSZoning == 'RL') ).groupBy('Exterior2nd').count().show()"
   ]
  },
  {
   "cell_type": "markdown",
   "metadata": {},
   "source": [
    "En este caso la categoría más frecuente es ***Plywood***.\n",
    "\n",
    "Guardamos los valores a imputar en el diccionario *imputation_dict*"
   ]
  },
  {
   "cell_type": "code",
   "execution_count": 198,
   "metadata": {
    "collapsed": true
   },
   "outputs": [],
   "source": [
    "imputation_dict['Exterior1st'] = 'Wd Sdng'\n",
    "imputation_dict['Exterior2nd'] = 'Plywood'"
   ]
  },
  {
   "cell_type": "markdown",
   "metadata": {},
   "source": [
    "### Variables missing *Garage*"
   ]
  },
  {
   "cell_type": "markdown",
   "metadata": {},
   "source": [
    "* **GarageYrBlt**: año en el que fue construido el garage\n",
    "* **GarageCars**: tamaño del garage según capacidad de coches\n",
    "* **GarageArea**: tamaño del garage (ft2)"
   ]
  },
  {
   "cell_type": "code",
   "execution_count": 127,
   "metadata": {
    "collapsed": false
   },
   "outputs": [
    {
     "name": "stdout",
     "output_type": "stream",
     "text": [
      "Rows    Variable    Datatype    Percent\n",
      "\n",
      "(159, 'GarageYrBlt', IntegerType, 5.45)\n",
      "(1, 'GarageCars', IntegerType, 0.03)\n",
      "(1, 'GarageArea', IntegerType, 0.03)\n"
     ]
    }
   ],
   "source": [
    "print('Rows    Variable    Datatype    Percent\\n')\n",
    "for i in range(len(missings)):\n",
    "    if 'Garage' in missings[i][1]:\n",
    "        print(missings[i])"
   ]
  },
  {
   "cell_type": "markdown",
   "metadata": {},
   "source": [
    "Vamos a estudiar en primer lugar los missings de las variables *GarageCars* y *GarageArea* que sólo presentan una observación y a continuación analizaremos los 159 registros con valores perdidos de la variable *GarageYrBlt*"
   ]
  },
  {
   "cell_type": "code",
   "execution_count": 113,
   "metadata": {
    "collapsed": true
   },
   "outputs": [],
   "source": [
    "miss_garage = full.filter(full.GarageCars.isNull() | full.GarageArea.isNull())\n",
    "no_miss_garage = full.filter(full.GarageCars.isNotNull() & full.GarageArea.isNotNull())"
   ]
  },
  {
   "cell_type": "code",
   "execution_count": 114,
   "metadata": {
    "collapsed": false
   },
   "outputs": [
    {
     "name": "stdout",
     "output_type": "stream",
     "text": [
      "+----------+----------+----------+------------+----------+----------+-----------+\n",
      "|GarageQual|GarageCond|GarageType|GarageFinish|GarageCars|GarageArea|GarageYrBlt|\n",
      "+----------+----------+----------+------------+----------+----------+-----------+\n",
      "|  NoGarage|  NoGarage|    Detchd|    NoGarage|      null|      null|       null|\n",
      "+----------+----------+----------+------------+----------+----------+-----------+\n",
      "\n"
     ]
    }
   ],
   "source": [
    "miss_garage.select(['GarageQual',\n",
    "                    'GarageCond',\n",
    "                    'GarageType',\n",
    "                    'GarageFinish',\n",
    "                    'GarageCars',\n",
    "                    'GarageArea',\n",
    "                    'GarageYrBlt']).show(5)"
   ]
  },
  {
   "cell_type": "markdown",
   "metadata": {},
   "source": [
    "Observamos que los valores perdidos de las variables *GarageCars* y *GarageArea* pertenecen a la misma observación. En dicha observación el resto de variables relativas al garage nos informan de la no existencia de garage. En ese caso el tamaño del garage, que es lo que representan las variables que estamos estudiando, será igual a 0. \n",
    "\n",
    "Por tanto, decidimos imputar el valor 0 a los valores perdidos de las variables *GarageCars* y *GarageArea*, lo añadimos al diccionario *imputation_dict*.\n",
    "\n",
    "En la inspección anterior vemos que la variable *GarageType* toma el valor *Detchd* (garage independiente a la vivienda), mientras que el resto de variables relativas al garage (*GarageQual*, *GarageCond*, etc.) toman el valor *NoGarage*, este registro no parece consistente, el valor de *GarageType* debería ser también *NoGarage*"
   ]
  },
  {
   "cell_type": "code",
   "execution_count": 144,
   "metadata": {
    "collapsed": false
   },
   "outputs": [
    {
     "name": "stdout",
     "output_type": "stream",
     "text": [
      "+----------+----------+----------+------------+----------+----------+-----------+---------+\n",
      "|GarageQual|GarageCond|GarageType|GarageFinish|GarageCars|GarageArea|GarageYrBlt|SalePrice|\n",
      "+----------+----------+----------+------------+----------+----------+-----------+---------+\n",
      "|  NoGarage|  NoGarage|    Detchd|    NoGarage|      null|      null|       null|     null|\n",
      "+----------+----------+----------+------------+----------+----------+-----------+---------+\n",
      "\n"
     ]
    }
   ],
   "source": [
    "miss_garage.select(['GarageQual',\n",
    "                    'GarageCond',\n",
    "                    'GarageType',\n",
    "                    'GarageFinish',\n",
    "                    'GarageCars',\n",
    "                    'GarageArea',\n",
    "                    'GarageYrBlt', \n",
    "                    'SalePrice']).show(5)"
   ]
  },
  {
   "cell_type": "markdown",
   "metadata": {},
   "source": [
    "El valor de *SalePrice* en este registro es null, lo que quiere decir que el resgistro pertenece al conjunto test, y por tanto, no vamos a modificar a modificar el dataset, pero sí habrá que tenerlo en cuenta a la hora de realizar las predicciones con el modelo que construyamos."
   ]
  },
  {
   "cell_type": "code",
   "execution_count": 145,
   "metadata": {
    "collapsed": true
   },
   "outputs": [],
   "source": [
    "imputation_dict['GarageCars']=0\n",
    "imputation_dict['GarageArea']=0"
   ]
  },
  {
   "cell_type": "markdown",
   "metadata": {},
   "source": [
    "A continuación analizaremos los valores perdidos de la variable *GarageYrBlt*"
   ]
  },
  {
   "cell_type": "code",
   "execution_count": 146,
   "metadata": {
    "collapsed": true
   },
   "outputs": [],
   "source": [
    "miss_garageYearBlt = full.filter(full.GarageYrBlt.isNull())\n",
    "no_miss_garageYearBlt = full.filter(full.GarageYrBlt.isNotNull())"
   ]
  },
  {
   "cell_type": "code",
   "execution_count": 147,
   "metadata": {
    "collapsed": false
   },
   "outputs": [
    {
     "name": "stdout",
     "output_type": "stream",
     "text": [
      "+----------+----------+----------+------------+----------+----------+-----------+\n",
      "|GarageQual|GarageCond|GarageType|GarageFinish|GarageCars|GarageArea|GarageYrBlt|\n",
      "+----------+----------+----------+------------+----------+----------+-----------+\n",
      "|  NoGarage|  NoGarage|  NoGarage|    NoGarage|         0|         0|       null|\n",
      "|  NoGarage|  NoGarage|  NoGarage|    NoGarage|         0|         0|       null|\n",
      "|  NoGarage|  NoGarage|  NoGarage|    NoGarage|         0|         0|       null|\n",
      "|  NoGarage|  NoGarage|  NoGarage|    NoGarage|         0|         0|       null|\n",
      "|  NoGarage|  NoGarage|  NoGarage|    NoGarage|         0|         0|       null|\n",
      "|  NoGarage|  NoGarage|  NoGarage|    NoGarage|         0|         0|       null|\n",
      "|  NoGarage|  NoGarage|  NoGarage|    NoGarage|         0|         0|       null|\n",
      "|  NoGarage|  NoGarage|  NoGarage|    NoGarage|         0|         0|       null|\n",
      "|  NoGarage|  NoGarage|  NoGarage|    NoGarage|         0|         0|       null|\n",
      "|  NoGarage|  NoGarage|  NoGarage|    NoGarage|         0|         0|       null|\n",
      "+----------+----------+----------+------------+----------+----------+-----------+\n",
      "only showing top 10 rows\n",
      "\n"
     ]
    }
   ],
   "source": [
    "miss_garageYearBlt.select(['GarageQual',\n",
    "                           'GarageCond',\n",
    "                           'GarageType',\n",
    "                           'GarageFinish',\n",
    "                           'GarageCars',\n",
    "                           'GarageArea',\n",
    "                           'GarageYrBlt']).show(10)"
   ]
  },
  {
   "cell_type": "markdown",
   "metadata": {},
   "source": [
    "Observamos que la variable *GarageYrBlt* no toma ningún valor si la vivienda no tiene garage, evidentemente, si no tiene garage, la variable que representa el año en el que se construyo el garage carece de sentido.\n",
    "\n",
    "Vamos a explorar los registros qu sí tienen valor para *GarageYrBlt* en busca de un año por defecto que haya sido introducido cuando la vivienda no tiene garage"
   ]
  },
  {
   "cell_type": "code",
   "execution_count": 148,
   "metadata": {
    "collapsed": false
   },
   "outputs": [
    {
     "name": "stdout",
     "output_type": "stream",
     "text": [
      "+----------+----------+----------+------------+----------+----------+-----------+\n",
      "|GarageQual|GarageCond|GarageType|GarageFinish|GarageCars|GarageArea|GarageYrBlt|\n",
      "+----------+----------+----------+------------+----------+----------+-----------+\n",
      "+----------+----------+----------+------------+----------+----------+-----------+\n",
      "\n"
     ]
    }
   ],
   "source": [
    "no_miss_garageYearBlt.select('GarageQual','GarageCond', 'GarageType', 'GarageFinish', \\\n",
    "                             'GarageCars', 'GarageArea', 'GarageYrBlt')\\\n",
    "                     .filter((no_miss_garageYearBlt.GarageQual=='NoGarage')  | \n",
    "                             (no_miss_garageYearBlt.GarageCond=='NoGarage')  |\n",
    "                             (no_miss_garageYearBlt.GarageType =='NoGarage') |\n",
    "                             (no_miss_garageYearBlt.GarageFinish =='NoGarage') |\n",
    "                             (no_miss_garageYearBlt.GarageCars == 0) |\n",
    "                             (no_miss_garageYearBlt.GarageArea == 0)).show()"
   ]
  },
  {
   "cell_type": "markdown",
   "metadata": {},
   "source": [
    "Vemos que no hay un valor por defecto para el año de construcción del garage cuando la vivienda no tiene garage.\n",
    "\n",
    "A continuación vamos a obtener la descripción de esta variable en la parte del dataset que no tiene valores perdidos."
   ]
  },
  {
   "cell_type": "code",
   "execution_count": 149,
   "metadata": {
    "collapsed": false
   },
   "outputs": [
    {
     "name": "stdout",
     "output_type": "stream",
     "text": [
      "+-------+------------------+\n",
      "|summary|       GarageYrBlt|\n",
      "+-------+------------------+\n",
      "|  count|              2760|\n",
      "|   mean|1978.1134057971014|\n",
      "| stddev|25.574284723905112|\n",
      "|    min|              1895|\n",
      "|    max|              2207|\n",
      "+-------+------------------+\n",
      "\n"
     ]
    }
   ],
   "source": [
    "no_miss_garageYearBlt.describe('GarageYrBlt').show()"
   ]
  },
  {
   "cell_type": "markdown",
   "metadata": {},
   "source": [
    "Obtenemos un valor medio aproximado de año de construcción igual a *1978*. Un valor mínimo igual 1895 y un casualmente encontramos un valor máximo que representa un año en el futuro, parece que existe un outlier en la variable *GarageYrBlt*"
   ]
  },
  {
   "cell_type": "code",
   "execution_count": 150,
   "metadata": {
    "collapsed": false
   },
   "outputs": [
    {
     "name": "stdout",
     "output_type": "stream",
     "text": [
      "+----------+----------+----------+------------+----------+----------+-----------+---------+------------+\n",
      "|GarageQual|GarageCond|GarageType|GarageFinish|GarageCars|GarageArea|GarageYrBlt|YearBuilt|YearRemodAdd|\n",
      "+----------+----------+----------+------------+----------+----------+-----------+---------+------------+\n",
      "+----------+----------+----------+------------+----------+----------+-----------+---------+------------+\n",
      "\n"
     ]
    }
   ],
   "source": [
    "train.select('GarageQual','GarageCond', 'GarageType', 'GarageFinish', \n",
    "            'GarageCars', 'GarageArea', 'GarageYrBlt', 'YearBuilt', 'YearRemodAdd').filter(train.GarageYrBlt>2017).show()"
   ]
  },
  {
   "cell_type": "code",
   "execution_count": 151,
   "metadata": {
    "collapsed": false
   },
   "outputs": [
    {
     "name": "stdout",
     "output_type": "stream",
     "text": [
      "+----------+----------+----------+------------+----------+----------+-----------+---------+------------+\n",
      "|GarageQual|GarageCond|GarageType|GarageFinish|GarageCars|GarageArea|GarageYrBlt|YearBuilt|YearRemodAdd|\n",
      "+----------+----------+----------+------------+----------+----------+-----------+---------+------------+\n",
      "|        TA|        TA|    Attchd|         RFn|         2|       502|       2207|     2006|        2007|\n",
      "+----------+----------+----------+------------+----------+----------+-----------+---------+------------+\n",
      "\n"
     ]
    }
   ],
   "source": [
    "test.select('GarageQual','GarageCond', 'GarageType', 'GarageFinish', \n",
    "            'GarageCars', 'GarageArea', 'GarageYrBlt', 'YearBuilt', 'YearRemodAdd').filter(test.GarageYrBlt>2017).show()"
   ]
  },
  {
   "cell_type": "markdown",
   "metadata": {},
   "source": [
    "El outlier está en el conjunto test, por lo que habrá que tenerlo en cuenta a la hora de calcular las predicciones sobre este conjunto de datos una vez haymos construido y ajustado nuestro modelo. Una buena opción para corregir este registro es dar el valor *2007*, ya que a la vista de los datos, la vivienda fue construida en 2006 y remodelada en el 2007 y en ese momento se construyó el garage, parece que hay una errata en un número en lugar de 2207 debería ser 2007.\n",
    "\n",
    "\n",
    "Tenemos varias alternativas a la hora de solucionar los 159 registros missing de la variable *GarageYrBlt*. \n",
    "* Imputar la media de los años = 1978\n",
    "* Imputar un 0 para indicar que si la vivienda no tiene garage, el año es un valor atípico\n",
    "* Eliminar la variable *GarageYrBlt*\n",
    "* Predecir el año usuando árboles de decisión\n",
    "\n",
    "Ninguna de las soluciones es buena, podríamos eliminar la variable que es lo más sencillo, pero probaremos a dar el valor 0, ya que el porcentage de registros faltantes en esta variable es bajo (5,45%) y podría proporcionar información en la construcción del modelo. Tomar la media de los años también puede introducir error. Por tanto, tomaremos 0 como valor para imputar, y en función de los resultados que obtengamos con el modelo realizaremos pruebas de imputación con otros valores diferentes."
   ]
  },
  {
   "cell_type": "code",
   "execution_count": 152,
   "metadata": {
    "collapsed": true
   },
   "outputs": [],
   "source": [
    "imputation_dict['GarageYrBlt'] = 0"
   ]
  },
  {
   "cell_type": "markdown",
   "metadata": {},
   "source": [
    "### Variable missing *KitchenQual*"
   ]
  },
  {
   "cell_type": "markdown",
   "metadata": {},
   "source": [
    "* **KitchenQual**: Calidad de la cocina (Ex, Gd, TA, Fa, Po)"
   ]
  },
  {
   "cell_type": "code",
   "execution_count": 199,
   "metadata": {
    "collapsed": false
   },
   "outputs": [
    {
     "name": "stdout",
     "output_type": "stream",
     "text": [
      "Rows    Variable    Datatype    Percent\n",
      "\n",
      "(1, 'KitchenQual', StringType, 0.03)\n"
     ]
    }
   ],
   "source": [
    "print('Rows    Variable    Datatype    Percent\\n')\n",
    "for i in range(len(missings)):\n",
    "    if 'KitchenQual' in missings[i][1]:\n",
    "        print(missings[i])"
   ]
  },
  {
   "cell_type": "code",
   "execution_count": 201,
   "metadata": {
    "collapsed": true
   },
   "outputs": [],
   "source": [
    "miss_kitchen = full.filter(full.KitchenQual.isNull())\n",
    "no_miss_kitchen = full.filter(full.KitchenQual.isNotNull())"
   ]
  },
  {
   "cell_type": "markdown",
   "metadata": {},
   "source": [
    "Comprobemos cual es la clase mayoritaria para *KitchenQual* para las observaciones donde no existen valores perdidos:"
   ]
  },
  {
   "cell_type": "code",
   "execution_count": 209,
   "metadata": {
    "collapsed": false
   },
   "outputs": [
    {
     "data": {
      "text/plain": [
       "[(1492, 'TA'), (1151, 'Gd'), (205, 'Ex'), (70, 'Fa')]"
      ]
     },
     "execution_count": 209,
     "metadata": {},
     "output_type": "execute_result"
    }
   ],
   "source": [
    "kitchen_cat_dict={row.KitchenQual : row['count'] for row in no_miss_kitchen.groupby('KitchenQual').count().collect()}\n",
    "kitchen_cat_dict=sorted([(v,k) for (k,v) in kitchen_cat_dict.items()], reverse=True)\n",
    "kitchen_cat_dict"
   ]
  },
  {
   "cell_type": "markdown",
   "metadata": {},
   "source": [
    "La clase mayoritaria es *TA*, vamos a seguir inspeccionando para confirmar si este es un buen valor para imputar o no.\n",
    "\n",
    "Las variables que intuitivamente podrían estar relacionadas con la calidad de la cocina son:"
   ]
  },
  {
   "cell_type": "code",
   "execution_count": 203,
   "metadata": {
    "collapsed": false
   },
   "outputs": [
    {
     "name": "stdout",
     "output_type": "stream",
     "text": [
      "+---------+-----------+-----------+----------+----------+----------+------------+---------+------------+-----------+\n",
      "|Utilities|OverallQual|OverallCond|MasVnrType|MasVnrArea|Electrical|KitchenAbvGr|YearBuilt|YearRemodAdd|KitchenQual|\n",
      "+---------+-----------+-----------+----------+----------+----------+------------+---------+------------+-----------+\n",
      "|   AllPub|          5|          3|      None|         0|     SBrkr|           1|     1917|        1950|       null|\n",
      "+---------+-----------+-----------+----------+----------+----------+------------+---------+------------+-----------+\n",
      "\n"
     ]
    }
   ],
   "source": [
    "miss_kitchen.select(['Utilities',\n",
    "                     'OverallQual',\n",
    "                     'OverallCond',\n",
    "                     'MasVnrType',\n",
    "                     'MasVnrArea',\n",
    "                     'Electrical',\n",
    "                     'KitchenAbvGr',\n",
    "                     'YearBuilt',\n",
    "                     'YearRemodAdd',\n",
    "                     'KitchenQual']).show(10)"
   ]
  },
  {
   "cell_type": "markdown",
   "metadata": {},
   "source": [
    "Veamos si encontramos un registro similar entre las observaciones del conjunto donde no hay valores perdidos para *KitchenQual*"
   ]
  },
  {
   "cell_type": "code",
   "execution_count": 208,
   "metadata": {
    "collapsed": false
   },
   "outputs": [
    {
     "name": "stdout",
     "output_type": "stream",
     "text": [
      "+---------+-----------+-----------+----------+----------+----------+------------+---------+------------+-----------+\n",
      "|Utilities|OverallQual|OverallCond|MasVnrType|MasVnrArea|Electrical|KitchenAbvGr|YearBuilt|YearRemodAdd|KitchenQual|\n",
      "+---------+-----------+-----------+----------+----------+----------+------------+---------+------------+-----------+\n",
      "|   AllPub|          5|          3|      None|         0|     SBrkr|           1|     1936|        1950|         TA|\n",
      "+---------+-----------+-----------+----------+----------+----------+------------+---------+------------+-----------+\n",
      "\n"
     ]
    }
   ],
   "source": [
    "no_miss_kitchen.select(['Utilities', 'OverallQual', 'OverallCond', 'MasVnrType','MasVnrArea',\n",
    "                        'Electrical', 'KitchenAbvGr', 'YearBuilt', 'YearRemodAdd', 'KitchenQual'])\\\n",
    "               .filter((no_miss_kitchen.Utilities=='AllPub')  & \n",
    "                       (no_miss_kitchen.OverallQual==5)  &\n",
    "                       (no_miss_kitchen.OverallCond ==3) &\n",
    "                       (no_miss_kitchen.MasVnrType =='None') &\n",
    "                       (no_miss_kitchen.MasVnrArea == 0) &\n",
    "                       (no_miss_kitchen.Electrical == 'SBrkr') &\n",
    "                       (no_miss_kitchen.KitchenAbvGr == 1) &\n",
    "                       (no_miss_kitchen.YearBuilt >= 1917) &\n",
    "                       (no_miss_kitchen.YearRemodAdd == 1950)).show()"
   ]
  },
  {
   "cell_type": "markdown",
   "metadata": {},
   "source": [
    "Hemos obtenido un registro muy similar para el que la variable *KitchenQual* toma el valor *TA*, que además coincide con la categoría mayoritaria, por lo que imputaremos este valor.\n",
    "\n",
    "Lo almacenamos en nuestro diccionario:"
   ]
  },
  {
   "cell_type": "code",
   "execution_count": 210,
   "metadata": {
    "collapsed": true
   },
   "outputs": [],
   "source": [
    "imputation_dict['KitchenQual']= 'TA'"
   ]
  },
  {
   "cell_type": "markdown",
   "metadata": {},
   "source": [
    "### Variable missing *SaleType*"
   ]
  },
  {
   "cell_type": "markdown",
   "metadata": {},
   "source": [
    "* **SaleType**: Tipo de venta (tipo de contrato, intereses, garantías, etc.)"
   ]
  },
  {
   "cell_type": "code",
   "execution_count": 211,
   "metadata": {
    "collapsed": false
   },
   "outputs": [
    {
     "name": "stdout",
     "output_type": "stream",
     "text": [
      "Rows    Variable    Datatype    Percent\n",
      "\n",
      "(1, 'SaleType', StringType, 0.03)\n"
     ]
    }
   ],
   "source": [
    "print('Rows    Variable    Datatype    Percent\\n')\n",
    "for i in range(len(missings)):\n",
    "    if 'SaleType' in missings[i][1]:\n",
    "        print(missings[i])"
   ]
  },
  {
   "cell_type": "code",
   "execution_count": 213,
   "metadata": {
    "collapsed": true
   },
   "outputs": [],
   "source": [
    "miss_saletype = full.filter(full.SaleType.isNull())\n",
    "no_miss_saletype = full.filter(full.SaleType.isNotNull())"
   ]
  },
  {
   "cell_type": "code",
   "execution_count": 214,
   "metadata": {
    "collapsed": false
   },
   "outputs": [
    {
     "data": {
      "text/plain": [
       "[(2525, 'WD'),\n",
       " (239, 'New'),\n",
       " (87, 'COD'),\n",
       " (26, 'ConLD'),\n",
       " (12, 'CWD'),\n",
       " (9, 'ConLI'),\n",
       " (8, 'ConLw'),\n",
       " (7, 'Oth'),\n",
       " (5, 'Con')]"
      ]
     },
     "execution_count": 214,
     "metadata": {},
     "output_type": "execute_result"
    }
   ],
   "source": [
    "saletype_cat_dict={row.SaleType : row['count'] for row in no_miss_saletype.groupby('SaleType').count().collect()}\n",
    "saletype_cat_dict=sorted([(v,k) for (k,v) in saletype_cat_dict.items()], reverse=True)\n",
    "saletype_cat_dict"
   ]
  },
  {
   "cell_type": "markdown",
   "metadata": {},
   "source": [
    "La categoría mayoritaria con bastante diferencia es *WD*. \n",
    "\n",
    "Las variables con las que podría estar relacionada esta variable son:"
   ]
  },
  {
   "cell_type": "code",
   "execution_count": 216,
   "metadata": {
    "collapsed": false
   },
   "outputs": [
    {
     "name": "stdout",
     "output_type": "stream",
     "text": [
      "+------+------+-------------+----------+------------+--------+--------+\n",
      "|MoSold|YrSold|SaleCondition|MSSubClass|Neighborhood|MSZoning|SaleType|\n",
      "+------+------+-------------+----------+------------+--------+--------+\n",
      "|    10|  2007|       Normal|        20|      Sawyer|      RL|    null|\n",
      "+------+------+-------------+----------+------------+--------+--------+\n",
      "\n"
     ]
    }
   ],
   "source": [
    "miss_saletype.select(['MoSold',\n",
    "                      'YrSold',\n",
    "                      'SaleCondition',\n",
    "                      'MSSubClass',\n",
    "                      'Neighborhood',\n",
    "                      'MSZoning',\n",
    "                      'SaleType']).show(10)"
   ]
  },
  {
   "cell_type": "code",
   "execution_count": 218,
   "metadata": {
    "collapsed": false
   },
   "outputs": [
    {
     "name": "stdout",
     "output_type": "stream",
     "text": [
      "+------+------+-------------+----------+------------+--------+--------+\n",
      "|MoSold|YrSold|SaleCondition|MSSubClass|Neighborhood|MSZoning|SaleType|\n",
      "+------+------+-------------+----------+------------+--------+--------+\n",
      "|    10|  2007|       Normal|        20|      Sawyer|      RL|      WD|\n",
      "|    10|  2007|       Normal|        20|      Sawyer|      RL|      WD|\n",
      "+------+------+-------------+----------+------------+--------+--------+\n",
      "\n"
     ]
    }
   ],
   "source": [
    "no_miss_saletype.select(['MoSold', 'YrSold', 'SaleCondition', 'MSSubClass', 'Neighborhood', 'MSZoning', 'SaleType'])\\\n",
    "                .filter((no_miss_saletype.MoSold== 10)  & \n",
    "                        (no_miss_saletype.YrSold== 2007)  &\n",
    "                        (no_miss_saletype.SaleCondition == 'Normal') &\n",
    "                        (no_miss_saletype.MSSubClass == 20) &\n",
    "                        (no_miss_saletype.Neighborhood == 'Sawyer') &\n",
    "                        (no_miss_saletype.MSZoning == 'RL') ).show()"
   ]
  },
  {
   "cell_type": "markdown",
   "metadata": {},
   "source": [
    "Hemos encontrado dos registros con características muy similares al del valor perdido y para los cuales la variable *SaleType* toma el valor *WD*. Por tanto, elegiremos dicha categoría para imputar, que como vimos además es la mayoritaria."
   ]
  },
  {
   "cell_type": "code",
   "execution_count": 219,
   "metadata": {
    "collapsed": true
   },
   "outputs": [],
   "source": [
    "imputation_dict['SaleType']='WD'"
   ]
  },
  {
   "cell_type": "markdown",
   "metadata": {},
   "source": [
    "### Variable missing *Functional*"
   ]
  },
  {
   "cell_type": "markdown",
   "metadata": {},
   "source": [
    "* **Functional**: Mide el grado de funcionalidad de la vivienda (asume siempre la categoría típica a menos que se justifique que carece de alguna característica)"
   ]
  },
  {
   "cell_type": "code",
   "execution_count": 133,
   "metadata": {
    "collapsed": false
   },
   "outputs": [
    {
     "name": "stdout",
     "output_type": "stream",
     "text": [
      "Rows    Variable    Datatype    Percent\n",
      "\n",
      "(2, 'Functional', StringType, 0.07)\n"
     ]
    }
   ],
   "source": [
    "print('Rows    Variable    Datatype    Percent\\n')\n",
    "for i in range(len(missings)):\n",
    "    if 'Functional' in missings[i][1]:\n",
    "        print(missings[i])"
   ]
  },
  {
   "cell_type": "code",
   "execution_count": 220,
   "metadata": {
    "collapsed": true
   },
   "outputs": [],
   "source": [
    "miss_functional = full.filter(full.Functional.isNull())\n",
    "no_miss_functional = full.filter(full.Functional.isNotNull())"
   ]
  },
  {
   "cell_type": "markdown",
   "metadata": {},
   "source": [
    "Calculemos la clase mayoritaria:"
   ]
  },
  {
   "cell_type": "code",
   "execution_count": 221,
   "metadata": {
    "collapsed": false
   },
   "outputs": [
    {
     "data": {
      "text/plain": [
       "[(2717, 'Typ'),\n",
       " (70, 'Min2'),\n",
       " (65, 'Min1'),\n",
       " (35, 'Mod'),\n",
       " (19, 'Maj1'),\n",
       " (9, 'Maj2'),\n",
       " (2, 'Sev')]"
      ]
     },
     "execution_count": 221,
     "metadata": {},
     "output_type": "execute_result"
    }
   ],
   "source": [
    "functional_cat_dict={row.Functional : row['count'] for row in no_miss_functional.groupby('Functional').count().collect()}\n",
    "functional_cat_dict=sorted([(v,k) for (k,v) in functional_cat_dict.items()], reverse=True)\n",
    "functional_cat_dict"
   ]
  },
  {
   "cell_type": "markdown",
   "metadata": {},
   "source": [
    "La clase mayoritaria es *Typ*.\n",
    "Esta variable puede estar relacionada con muchas otras, porque es bastante genérica, dado que son solo 2 valores perdidos vamos a inspeccionar todas las variables y veamos si la vivienda en cuestión carece de alguna de funcionalidad, y si no es así le asignaremos la clase mayoritaria *Typ*"
   ]
  },
  {
   "cell_type": "code",
   "execution_count": 224,
   "metadata": {
    "collapsed": false
   },
   "outputs": [
    {
     "name": "stdout",
     "output_type": "stream",
     "text": [
      "+----+----------+--------+-----------+-------+------+--------+\n",
      "|  Id|MSSubClass|MSZoning|LotFrontage|LotArea|Street|   Alley|\n",
      "+----+----------+--------+-----------+-------+------+--------+\n",
      "|2217|        20|    null|         80|  14584|  Pave|noAccess|\n",
      "|2474|        50|      RM|         60|  10320|  Pave|    Grvl|\n",
      "+----+----------+--------+-----------+-------+------+--------+\n",
      "\n",
      "+--------+-----------+---------+---------+---------+------------+----------+\n",
      "|LotShape|LandContour|Utilities|LotConfig|LandSlope|Neighborhood|Condition1|\n",
      "+--------+-----------+---------+---------+---------+------------+----------+\n",
      "|     Reg|        Low|   AllPub|   Inside|      Mod|      IDOTRR|      Norm|\n",
      "|     Reg|        Lvl|   AllPub|   Corner|      Gtl|      IDOTRR|    Artery|\n",
      "+--------+-----------+---------+---------+---------+------------+----------+\n",
      "\n",
      "+----------+--------+----------+-----------+-----------+---------+------------+\n",
      "|Condition2|BldgType|HouseStyle|OverallQual|OverallCond|YearBuilt|YearRemodAdd|\n",
      "+----------+--------+----------+-----------+-----------+---------+------------+\n",
      "|      Norm|    1Fam|    1Story|          1|          5|     1952|        1952|\n",
      "|      Norm|    1Fam|    1.5Fin|          4|          1|     1910|        1950|\n",
      "+----------+--------+----------+-----------+-----------+---------+------------+\n",
      "\n",
      "+---------+--------+-----------+-----------+----------+----------+---------+\n",
      "|RoofStyle|RoofMatl|Exterior1st|Exterior2nd|MasVnrType|MasVnrArea|ExterQual|\n",
      "+---------+--------+-----------+-----------+----------+----------+---------+\n",
      "|    Gable| CompShg|    AsbShng|    VinylSd|      None|         0|       Fa|\n",
      "|    Gable| CompShg|    Wd Sdng|    Wd Sdng|      None|         0|       Fa|\n",
      "+---------+--------+-----------+-----------+----------+----------+---------+\n",
      "\n",
      "+---------+----------+----------+----------+------------+------------+----------+\n",
      "|ExterCond|Foundation|  BsmtQual|  BsmtCond|BsmtExposure|BsmtFinType1|BsmtFinSF1|\n",
      "+---------+----------+----------+----------+------------+------------+----------+\n",
      "|       Po|      Slab|NoBasement|NoBasement|  NoBasement|  NoBasement|         0|\n",
      "|       Fa|    CBlock|        TA|        Fa|          No|         Unf|         0|\n",
      "+---------+----------+----------+----------+------------+------------+----------+\n",
      "\n",
      "+------------+----------+---------+-----------+-------+---------+----------+\n",
      "|BsmtFinType2|BsmtFinSF2|BsmtUnfSF|TotalBsmtSF|Heating|HeatingQC|CentralAir|\n",
      "+------------+----------+---------+-----------+-------+---------+----------+\n",
      "|  NoBasement|         0|        0|          0|   Wall|       Po|         N|\n",
      "|         Unf|         0|      771|        771|   GasA|       Fa|         Y|\n",
      "+------------+----------+---------+-----------+-------+---------+----------+\n",
      "\n",
      "+----------+--------+--------+------------+---------+------------+------------+\n",
      "|Electrical|1stFlrSF|2ndFlrSF|LowQualFinSF|GrLivArea|BsmtFullBath|BsmtHalfBath|\n",
      "+----------+--------+--------+------------+---------+------------+------------+\n",
      "|     FuseA|     733|       0|           0|      733|           0|           0|\n",
      "|     SBrkr|     866|     504|         114|     1484|           0|           0|\n",
      "+----------+--------+--------+------------+---------+------------+------------+\n",
      "\n",
      "+--------+--------+------------+------------+-----------+------------+----------+\n",
      "|FullBath|HalfBath|BedroomAbvGr|KitchenAbvGr|KitchenQual|TotRmsAbvGrd|Functional|\n",
      "+--------+--------+------------+------------+-----------+------------+----------+\n",
      "|       1|       0|           2|           1|         Fa|           4|      null|\n",
      "|       2|       0|           3|           1|         TA|           6|      null|\n",
      "+--------+--------+------------+------------+-----------+------------+----------+\n",
      "\n",
      "+----------+-----------+----------+-----------+------------+----------+----------+\n",
      "|Fireplaces|FireplaceQu|GarageType|GarageYrBlt|GarageFinish|GarageCars|GarageArea|\n",
      "+----------+-----------+----------+-----------+------------+----------+----------+\n",
      "|         0|NoFireplace|    Attchd|       1952|         Unf|         2|       487|\n",
      "|         0|NoFireplace|    Detchd|       1910|         Unf|         1|       264|\n",
      "+----------+-----------+----------+-----------+------------+----------+----------+\n",
      "\n",
      "+----------+----------+----------+----------+-----------+-------------+---------+\n",
      "|GarageQual|GarageCond|PavedDrive|WoodDeckSF|OpenPorchSF|EnclosedPorch|3SsnPorch|\n",
      "+----------+----------+----------+----------+-----------+-------------+---------+\n",
      "|        Fa|        Po|         N|         0|          0|            0|        0|\n",
      "|        TA|        Fa|         N|        14|        211|            0|        0|\n",
      "+----------+----------+----------+----------+-----------+-------------+---------+\n",
      "\n",
      "+-----------+--------+------+-------+-----------+-------+------+\n",
      "|ScreenPorch|PoolArea|PoolQC|  Fence|MiscFeature|MiscVal|MoSold|\n",
      "+-----------+--------+------+-------+-----------+-------+------+\n",
      "|          0|       0|NoPool|NoFence|       None|      0|     2|\n",
      "|         84|       0|NoPool|NoFence|       None|      0|     9|\n",
      "+-----------+--------+------+-------+-----------+-------+------+\n",
      "\n",
      "+------+--------+-------------+---------+\n",
      "|YrSold|SaleType|SaleCondition|SalePrice|\n",
      "+------+--------+-------------+---------+\n",
      "|  2008|      WD|      Abnorml|     null|\n",
      "|  2007|     COD|      Abnorml|     null|\n",
      "+------+--------+-------------+---------+\n",
      "\n"
     ]
    }
   ],
   "source": [
    "step=7\n",
    "for index in range(0, num_columns, step):\n",
    "    miss_functional.select(cols[index:index+step]).show(5) "
   ]
  },
  {
   "cell_type": "markdown",
   "metadata": {},
   "source": [
    "Las viviendas disponen de las características mínimas, tienen dormitorios, cocina, todos los suministros, instalación electrica, baños, etc. No dispone de características extra como piscina, sótano, garage, valla, etc.\n",
    "\n",
    "Por tanto, asignaremos la clase mayoritaria *Typ*"
   ]
  },
  {
   "cell_type": "code",
   "execution_count": 225,
   "metadata": {
    "collapsed": true
   },
   "outputs": [],
   "source": [
    "imputation_dict['Functional']='Typ'"
   ]
  },
  {
   "cell_type": "markdown",
   "metadata": {},
   "source": [
    "### Variable missing *Utilities*"
   ]
  },
  {
   "cell_type": "markdown",
   "metadata": {},
   "source": [
    "* **Utilities**: Tipo de suministros disponibles (agua, luz, gas, etc.)"
   ]
  },
  {
   "cell_type": "code",
   "execution_count": 226,
   "metadata": {
    "collapsed": false
   },
   "outputs": [
    {
     "name": "stdout",
     "output_type": "stream",
     "text": [
      "Rows    Variable    Datatype    Percent\n",
      "\n",
      "(2, 'Utilities', StringType, 0.07)\n"
     ]
    }
   ],
   "source": [
    "print('Rows    Variable    Datatype    Percent\\n')\n",
    "for i in range(len(missings)):\n",
    "    if 'Utilities' in missings[i][1]:\n",
    "        print(missings[i])"
   ]
  },
  {
   "cell_type": "code",
   "execution_count": 227,
   "metadata": {
    "collapsed": true
   },
   "outputs": [],
   "source": [
    "miss_utilities = full.filter(full.Utilities.isNull())\n",
    "no_miss_utilities = full.filter(full.Utilities.isNotNull())"
   ]
  },
  {
   "cell_type": "markdown",
   "metadata": {},
   "source": [
    "Calculamos la clase mayoritaria para *Utilities*"
   ]
  },
  {
   "cell_type": "code",
   "execution_count": 228,
   "metadata": {
    "collapsed": false
   },
   "outputs": [
    {
     "data": {
      "text/plain": [
       "[(2916, 'AllPub'), (1, 'NoSeWa')]"
      ]
     },
     "execution_count": 228,
     "metadata": {},
     "output_type": "execute_result"
    }
   ],
   "source": [
    "utilities_cat_dict={row.Utilities : row['count'] for row in no_miss_utilities.groupby('Utilities').count().collect()}\n",
    "utilities_cat_dict=sorted([(v,k) for (k,v) in utilities_cat_dict.items()], reverse=True)\n",
    "utilities_cat_dict"
   ]
  },
  {
   "cell_type": "markdown",
   "metadata": {},
   "source": [
    "En este caso vamos a asignar la clase mayoritaria para imputar, ya que claramente es la única clase existente en los datos."
   ]
  },
  {
   "cell_type": "code",
   "execution_count": 229,
   "metadata": {
    "collapsed": true
   },
   "outputs": [],
   "source": [
    "imputation_dict['Utilities']='AllPub'"
   ]
  },
  {
   "cell_type": "markdown",
   "metadata": {},
   "source": [
    "### Variable missing *MSZoning*"
   ]
  },
  {
   "cell_type": "markdown",
   "metadata": {},
   "source": [
    "* **MSZoning**: Identifica la clasificación de la vivienda según la zona en la que está ubicada (agrícola, comercial, residencial, industrial, etc.)"
   ]
  },
  {
   "cell_type": "code",
   "execution_count": 230,
   "metadata": {
    "collapsed": false
   },
   "outputs": [
    {
     "name": "stdout",
     "output_type": "stream",
     "text": [
      "Rows    Variable    Datatype    Percent\n",
      "\n",
      "(4, 'MSZoning', StringType, 0.14)\n"
     ]
    }
   ],
   "source": [
    "print('Rows    Variable    Datatype    Percent\\n')\n",
    "for i in range(len(missings)):\n",
    "    if 'MSZoning' in missings[i][1]:\n",
    "        print(missings[i])"
   ]
  },
  {
   "cell_type": "code",
   "execution_count": 231,
   "metadata": {
    "collapsed": true
   },
   "outputs": [],
   "source": [
    "miss_zoning = full.filter(full.MSZoning.isNull())\n",
    "no_miss_zoning = full.filter(full.MSZoning.isNotNull())"
   ]
  },
  {
   "cell_type": "code",
   "execution_count": 232,
   "metadata": {
    "collapsed": false
   },
   "outputs": [
    {
     "data": {
      "text/plain": [
       "[(2265, 'RL'), (460, 'RM'), (139, 'FV'), (26, 'RH'), (25, 'C (all)')]"
      ]
     },
     "execution_count": 232,
     "metadata": {},
     "output_type": "execute_result"
    }
   ],
   "source": [
    "zoning_cat_dict={row.MSZoning : row['count'] for row in no_miss_zoning.groupby('MSZoning').count().collect()}\n",
    "zoning_cat_dict=sorted([(v,k) for (k,v) in zoning_cat_dict.items()], reverse=True)\n",
    "zoning_cat_dict"
   ]
  },
  {
   "cell_type": "markdown",
   "metadata": {},
   "source": [
    "La clase mayoritaria es *RL*, es decir, zona residencial de baja densidad.\n",
    "\n",
    "Las variable que más informacíon nos podría dar para encontrar el mejor valor para los valores perdidos de la variable *MSZoning* es *Neighborhood*, por tanto veamos el vecindario al que pertenecen las viviendas que presentan valores perdidos."
   ]
  },
  {
   "cell_type": "code",
   "execution_count": 234,
   "metadata": {
    "collapsed": false
   },
   "outputs": [
    {
     "name": "stdout",
     "output_type": "stream",
     "text": [
      "+------------+\n",
      "|Neighborhood|\n",
      "+------------+\n",
      "|      IDOTRR|\n",
      "|      IDOTRR|\n",
      "|      IDOTRR|\n",
      "|     Mitchel|\n",
      "+------------+\n",
      "\n"
     ]
    }
   ],
   "source": [
    "miss_zoning.select(['Neighborhood']).show(10)"
   ]
  },
  {
   "cell_type": "markdown",
   "metadata": {},
   "source": [
    "Vemos que las viviendas están ubicadas en el barrio *IDOTRR* o *Mitchel*, a continuación calculemos cuál es la calificación del suelo para estos barrios y le asignaremos esa categoría a los valores perdidos."
   ]
  },
  {
   "cell_type": "code",
   "execution_count": 239,
   "metadata": {
    "collapsed": false
   },
   "outputs": [
    {
     "name": "stdout",
     "output_type": "stream",
     "text": [
      "+--------+-----+\n",
      "|MSZoning|count|\n",
      "+--------+-----+\n",
      "| C (all)|   22|\n",
      "|      RL|  104|\n",
      "|      RM|   77|\n",
      "+--------+-----+\n",
      "\n"
     ]
    }
   ],
   "source": [
    "no_miss_zoning.filter((no_miss_zoning.Neighborhood=='IDOTRR') | \n",
    "                      (no_miss_zoning.Neighborhood=='Mitchel')).groupBy('MSZoning').count().show()"
   ]
  },
  {
   "cell_type": "markdown",
   "metadata": {},
   "source": [
    "Imputaremos el valor *RL*"
   ]
  },
  {
   "cell_type": "code",
   "execution_count": 240,
   "metadata": {
    "collapsed": true
   },
   "outputs": [],
   "source": [
    "imputation_dict['MSZoning']='RL'"
   ]
  },
  {
   "cell_type": "markdown",
   "metadata": {},
   "source": [
    "### Variables missing *MasVnr*"
   ]
  },
  {
   "cell_type": "markdown",
   "metadata": {},
   "source": [
    "* **MasVnrType**: Tipo de revestimiento (ladrillo, ladrillo visto, piedra, etc.)\n",
    "* **MasVnrArea**: superficie de revestimiento (ft2)"
   ]
  },
  {
   "cell_type": "code",
   "execution_count": 138,
   "metadata": {
    "collapsed": false
   },
   "outputs": [
    {
     "name": "stdout",
     "output_type": "stream",
     "text": [
      "Rows    Variable    Datatype    Percent\n",
      "\n",
      "(24, 'MasVnrType', StringType, 0.82)\n",
      "(23, 'MasVnrArea', IntegerType, 0.79)\n"
     ]
    }
   ],
   "source": [
    "print('Rows    Variable    Datatype    Percent\\n')\n",
    "for i in range(len(missings)):\n",
    "    if 'MasVnr' in missings[i][1]:\n",
    "        print(missings[i])"
   ]
  },
  {
   "cell_type": "code",
   "execution_count": 241,
   "metadata": {
    "collapsed": true
   },
   "outputs": [],
   "source": [
    "miss_masvnr = full.filter(full.MasVnrType.isNull() | full.MasVnrArea.isNull() )\n",
    "no_miss_masvnr = full.filter(full.MasVnrType.isNotNull() & full.MasVnrArea.isNotNull())"
   ]
  },
  {
   "cell_type": "markdown",
   "metadata": {},
   "source": [
    "Calculamos la clase mayoritaria para la variable *MasVnrType*"
   ]
  },
  {
   "cell_type": "code",
   "execution_count": 242,
   "metadata": {
    "collapsed": false
   },
   "outputs": [
    {
     "data": {
      "text/plain": [
       "[(1742, 'None'), (879, 'BrkFace'), (249, 'Stone'), (25, 'BrkCmn')]"
      ]
     },
     "execution_count": 242,
     "metadata": {},
     "output_type": "execute_result"
    }
   ],
   "source": [
    "masvnr_cat_dict={row.MasVnrType : row['count'] for row in no_miss_masvnr.groupby('MasVnrType').count().collect()}\n",
    "masvnr_cat_dict=sorted([(v,k) for (k,v) in masvnr_cat_dict.items()], reverse=True)\n",
    "masvnr_cat_dict"
   ]
  },
  {
   "cell_type": "markdown",
   "metadata": {},
   "source": [
    "La clase mayoritaria es *None*.\n",
    "\n",
    "Veamos los valores que toman las variables que podrían estar relacionadas con *MasVnrArea* y *MasVnrType* para las observaciones missing:"
   ]
  },
  {
   "cell_type": "code",
   "execution_count": 245,
   "metadata": {
    "collapsed": false
   },
   "outputs": [
    {
     "name": "stdout",
     "output_type": "stream",
     "text": [
      "+----------+------------+-----------+-----------+---------+-----------+-----------+---------+---------+----------+----------+\n",
      "|MSSubClass|Neighborhood|OverallQual|OverallCond|YearBuilt|Exterior1st|Exterior2nd|ExterQual|ExterCond|MasVnrType|MasVnrArea|\n",
      "+----------+------------+-----------+-----------+---------+-----------+-----------+---------+---------+----------+----------+\n",
      "|        60|     Gilbert|          6|          5|     2002|    VinylSd|    VinylSd|       Gd|       TA|      null|      null|\n",
      "|        20|     Crawfor|          6|          3|     1957|    Wd Sdng|      Stone|       Gd|       TA|      null|      null|\n",
      "|        60|     Somerst|          7|          6|     2007|    CemntBd|    CmentBd|       Gd|       TA|      null|      null|\n",
      "|        20|     SawyerW|          7|          5|     2003|    VinylSd|    VinylSd|       Gd|       TA|      null|      null|\n",
      "|        20|     Somerst|          7|          5|     2007|    CemntBd|    CmentBd|       Gd|       TA|      null|      null|\n",
      "|       120|     Somerst|          7|          5|     2006|    VinylSd|    VinylSd|       Gd|       TA|      null|      null|\n",
      "|        20|     NridgHt|         10|          5|     2006|    VinylSd|    VinylSd|       Ex|       TA|      null|      null|\n",
      "|        60|     CollgCr|          8|          5|     2002|    VinylSd|    VinylSd|       Gd|       TA|      null|      null|\n",
      "|        60|     Gilbert|          8|          5|     2002|    VinylSd|    VinylSd|       Gd|       TA|      null|      null|\n",
      "|        20|     Somerst|          7|          5|     2008|    VinylSd|    VinylSd|       Gd|       TA|      null|      null|\n",
      "|        60|     CollgCr|          7|          5|     2002|    VinylSd|    VinylSd|       Gd|       TA|      null|      null|\n",
      "|        60|     Gilbert|          7|          5|     2002|    VinylSd|    VinylSd|       Gd|       TA|      null|      null|\n",
      "|        20|     Somerst|          8|          5|     2006|    VinylSd|    VinylSd|       Gd|       TA|      null|      null|\n",
      "|        60|     Somerst|          7|          5|     2002|    VinylSd|    VinylSd|       Gd|       TA|      null|      null|\n",
      "|        60|     Gilbert|          6|          5|     2007|    VinylSd|    VinylSd|       Gd|       TA|      null|      null|\n",
      "|        80|     Gilbert|          7|          5|     2003|    VinylSd|    VinylSd|       Gd|       TA|      null|      null|\n",
      "|        20|     Somerst|          7|          5|     2007|    VinylSd|    VinylSd|       Gd|       TA|      null|      null|\n",
      "|        60|     Somerst|          8|          5|     2007|    WdShing|    Wd Shng|       Gd|       TA|      null|      null|\n",
      "|       120|     Somerst|          8|          5|     2006|    VinylSd|    VinylSd|       Gd|       TA|      null|      null|\n",
      "|        20|      Timber|          8|          5|     2006|    VinylSd|    VinylSd|       Gd|       TA|      null|      null|\n",
      "|        20|     Mitchel|          4|          3|     1961|    Plywood|    Plywood|       TA|       TA|      null|       198|\n",
      "|        60|     NridgHt|          8|          5|     2005|    CemntBd|    CmentBd|       Gd|       TA|      null|      null|\n",
      "|        20|     Somerst|          8|          5|     2006|    VinylSd|    VinylSd|       Gd|       TA|      null|      null|\n",
      "|        20|     Edwards|          6|          5|     2002|    VinylSd|    VinylSd|       TA|       TA|      null|      null|\n",
      "+----------+------------+-----------+-----------+---------+-----------+-----------+---------+---------+----------+----------+\n",
      "\n"
     ]
    }
   ],
   "source": [
    "miss_masvnr.select(['MSSubClass',\n",
    "                    'Neighborhood',\n",
    "                    'OverallQual',\n",
    "                    'OverallCond',\n",
    "                    'YearBuilt',\n",
    "                    'Exterior1st',\n",
    "                    'Exterior2nd',\n",
    "                    'ExterQual',\n",
    "                    'ExterCond',\n",
    "                    'MasVnrType',\n",
    "                    'MasVnrArea']).show(25)"
   ]
  },
  {
   "cell_type": "markdown",
   "metadata": {},
   "source": [
    "Vamos a buscar los registros similares en el dataframe sin valores perdidos"
   ]
  },
  {
   "cell_type": "code",
   "execution_count": 253,
   "metadata": {
    "collapsed": false
   },
   "outputs": [
    {
     "name": "stdout",
     "output_type": "stream",
     "text": [
      "+----------+-----+\n",
      "|MasVnrType|count|\n",
      "+----------+-----+\n",
      "|      None|  151|\n",
      "|     Stone|   49|\n",
      "|   BrkFace|  125|\n",
      "+----------+-----+\n",
      "\n"
     ]
    }
   ],
   "source": [
    "no_miss_masvnr.select(['MSSubClass', 'Neighborhood', 'OverallQual', 'OverallCond', 'YearBuilt',\n",
    "                       'Exterior1st', 'Exterior2nd', 'ExterQual', 'ExterCond', 'MasVnrType', 'MasVnrArea'])\\\n",
    "                .filter((no_miss_masvnr.ExterCond=='TA') &\n",
    "                        (no_miss_masvnr.ExterQual=='Gd') &\n",
    "                        (no_miss_masvnr.Exterior2nd=='VinylSd') &\n",
    "                        (no_miss_masvnr.Exterior1st=='VinylSd') &\n",
    "                        ((no_miss_masvnr.YearBuilt>=1957) & (no_miss_masvnr.YearBuilt<=2007)) &\n",
    "                        (no_miss_masvnr.OverallCond==5) &\n",
    "                        (no_miss_masvnr.OverallQual>=6) & \n",
    "                        (no_miss_masvnr.OverallQual<=8) &\n",
    "                        ((no_miss_masvnr.Neighborhood=='Gilbert') | (no_miss_masvnr.Neighborhood=='Crawfor') | \n",
    "                         (no_miss_masvnr.Neighborhood=='Somerst') | (no_miss_masvnr.Neighborhood=='NridgHt') | \n",
    "                         (no_miss_masvnr.Neighborhood=='CollgCr')) &\n",
    "                        ((no_miss_masvnr.MSSubClass==60) | (no_miss_masvnr.MSSubClass==20))).groupBy('MasVnrType').count().show()"
   ]
  },
  {
   "cell_type": "markdown",
   "metadata": {},
   "source": [
    "La mayoria de las observaciones similares tiene como categoría mayoritaria *None*, por tanto utilizaremos este valor para imputar *MasVnrType*. Veamos qué valor damos a *MasVnrArea*."
   ]
  },
  {
   "cell_type": "code",
   "execution_count": 255,
   "metadata": {
    "collapsed": false
   },
   "outputs": [
    {
     "name": "stdout",
     "output_type": "stream",
     "text": [
      "+----------+----------+\n",
      "|MasVnrType|MasVnrArea|\n",
      "+----------+----------+\n",
      "|      None|         0|\n",
      "|      None|         0|\n",
      "|      None|         0|\n",
      "|      None|         0|\n",
      "|      None|         0|\n",
      "+----------+----------+\n",
      "only showing top 5 rows\n",
      "\n"
     ]
    }
   ],
   "source": [
    "no_miss_masvnr.select(['MasVnrType', 'MasVnrArea']).filter(no_miss_masvnr.MasVnrType=='None').show(5)"
   ]
  },
  {
   "cell_type": "code",
   "execution_count": 257,
   "metadata": {
    "collapsed": false
   },
   "outputs": [
    {
     "name": "stdout",
     "output_type": "stream",
     "text": [
      "+----------+-----+\n",
      "|MasVnrType|count|\n",
      "+----------+-----+\n",
      "|      None| 1742|\n",
      "+----------+-----+\n",
      "\n"
     ]
    }
   ],
   "source": [
    "no_miss_masvnr.select(['MasVnrType', 'MasVnrArea']).filter(no_miss_masvnr.MasVnrType=='None').groupBy('MasVnrType').count().show(5)"
   ]
  },
  {
   "cell_type": "markdown",
   "metadata": {},
   "source": [
    "Todas las observaciones con valor *MasVnrType* igual a *None*, les corresponde un valor de *MasVnrArea* igual a 0, por tanto imputaremos los siguientes valores:"
   ]
  },
  {
   "cell_type": "code",
   "execution_count": 262,
   "metadata": {
    "collapsed": true
   },
   "outputs": [],
   "source": [
    "imputation_dict['MasVnrType']='None'\n",
    "imputation_dict['MasVnrArea']=0"
   ]
  },
  {
   "cell_type": "markdown",
   "metadata": {},
   "source": [
    "### Variable missing *LotFrontage*"
   ]
  },
  {
   "cell_type": "markdown",
   "metadata": {},
   "source": [
    "* **LotFrontage**: longitud de la calle en la que se encuentra la propiedad"
   ]
  },
  {
   "cell_type": "code",
   "execution_count": 263,
   "metadata": {
    "collapsed": false
   },
   "outputs": [
    {
     "name": "stdout",
     "output_type": "stream",
     "text": [
      "Rows    Variable    Datatype    Percent\n",
      "\n",
      "(486, 'LotFrontage', IntegerType, 16.65)\n"
     ]
    }
   ],
   "source": [
    "print('Rows    Variable    Datatype    Percent\\n')\n",
    "for i in range(len(missings)):\n",
    "    if 'LotFrontage' in missings[i][1]:\n",
    "        print(missings[i])"
   ]
  },
  {
   "cell_type": "markdown",
   "metadata": {},
   "source": [
    "Esta variable presenta un alto porcentaje de valores perdidos (16,65%), por tanto, vamos a eliminarla del estudio, porque imputar tantos valores podría introducir error o sesgar los resultados."
   ]
  },
  {
   "cell_type": "markdown",
   "metadata": {},
   "source": [
    "### Imputación de valores perdidos"
   ]
  },
  {
   "cell_type": "markdown",
   "metadata": {},
   "source": [
    "Añadimos al diccionario imputation_dict los valores de las categorías NA válidas pero que hemos renombrado para más claridad"
   ]
  },
  {
   "cell_type": "code",
   "execution_count": 264,
   "metadata": {
    "collapsed": true
   },
   "outputs": [],
   "source": [
    "imputation_dict.update(new_NA_categories)"
   ]
  },
  {
   "cell_type": "markdown",
   "metadata": {},
   "source": [
    "Los valores por los que imputamos cada una de las variables missing a continuación"
   ]
  },
  {
   "cell_type": "code",
   "execution_count": 265,
   "metadata": {
    "collapsed": false
   },
   "outputs": [
    {
     "data": {
      "text/plain": [
       "{'Alley': 'noAccess',\n",
       " 'BsmtCond': 'NoBasement',\n",
       " 'BsmtExposure': 'NoBasement',\n",
       " 'BsmtFinSF1': 0,\n",
       " 'BsmtFinSF2': 0,\n",
       " 'BsmtFinType1': 'NoBasement',\n",
       " 'BsmtFinType2': 'NoBasement',\n",
       " 'BsmtFullBath': 0,\n",
       " 'BsmtHalfBath': 0,\n",
       " 'BsmtQual': 'NoBasement',\n",
       " 'BsmtUnfSF': 0,\n",
       " 'Electrical': 'SBrkr',\n",
       " 'Exterior1st': 'Wd Sdng',\n",
       " 'Exterior2nd': 'Plywood',\n",
       " 'Fence': 'NoFence',\n",
       " 'FireplaceQu': 'NoFireplace',\n",
       " 'Functional': 'Typ',\n",
       " 'GarageArea': 0,\n",
       " 'GarageCars': 0,\n",
       " 'GarageCond': 'NoGarage',\n",
       " 'GarageFinish': 'NoGarage',\n",
       " 'GarageQual': 'NoGarage',\n",
       " 'GarageType': 'NoGarage',\n",
       " 'GarageYrBlt': 0,\n",
       " 'KitchenQual': 'TA',\n",
       " 'MSZoning': 'RL',\n",
       " 'MasVnrArea': 0,\n",
       " 'MasVnrType': 'None',\n",
       " 'MiscFeature': 'None',\n",
       " 'PoolQC': 'NoPool',\n",
       " 'SaleType': 'WD',\n",
       " 'TotalBsmtSF': 0,\n",
       " 'Utilities': 'AllPub'}"
      ]
     },
     "execution_count": 265,
     "metadata": {},
     "output_type": "execute_result"
    }
   ],
   "source": [
    "imputation_dict"
   ]
  },
  {
   "cell_type": "markdown",
   "metadata": {},
   "source": [
    "En este punto nos olvidaremos del conjunto test, sólo lo retomaremos para calcular las predicciones que subiremos a Kaggle. Imputaremos los valores perdidos en el conjunto train, utilizando la función *fillna* y el diccionario que hemos construido en los apartados anteriores."
   ]
  },
  {
   "cell_type": "code",
   "execution_count": 266,
   "metadata": {
    "collapsed": true
   },
   "outputs": [],
   "source": [
    "imputed_df=train.fillna(imputation_dict)"
   ]
  },
  {
   "cell_type": "markdown",
   "metadata": {},
   "source": [
    "A continuación borraremos la variable *LotFrontage* del dataframe de entrenamiento, tal y como vimos el porcentaje de valores perdidos es muy elevado, y hemos tomado la decisión de prescindir de dicha variable para nuestro estudio."
   ]
  },
  {
   "cell_type": "code",
   "execution_count": 270,
   "metadata": {
    "collapsed": true
   },
   "outputs": [],
   "source": [
    "imputed_df2 = imputed_df.drop('LotFrontage')"
   ]
  },
  {
   "cell_type": "markdown",
   "metadata": {},
   "source": [
    "Por último comprobamos que en el conjunto train ya no existen valores perdidos"
   ]
  },
  {
   "cell_type": "code",
   "execution_count": 272,
   "metadata": {
    "collapsed": false
   },
   "outputs": [
    {
     "data": {
      "text/plain": [
       "[]"
      ]
     },
     "execution_count": 272,
     "metadata": {},
     "output_type": "execute_result"
    }
   ],
   "source": [
    "sorted([(v, k) for k, v in imputed_df2.agg(*[count_nulls(c) for c in imputed_df2.columns]).first().asDict().items() if v > 0], reverse=True)"
   ]
  },
  {
   "cell_type": "markdown",
   "metadata": {},
   "source": [
    "Vamos a guardar nuestro dataset train ya limpio de valores perdidos en un fichero csv para poder usarlo en cualquier momento"
   ]
  },
  {
   "cell_type": "code",
   "execution_count": 275,
   "metadata": {
    "collapsed": true
   },
   "outputs": [],
   "source": [
    "path = 'data/output/imputed_df_csv'\n",
    "imputed_df2.write.csv(path, header=True, mode='overwrite')"
   ]
  },
  {
   "cell_type": "markdown",
   "metadata": {},
   "source": [
    "<a id=\"preprocesado\"></a>\n",
    "\n",
    "# 5. Preprocesado"
   ]
  },
  {
   "cell_type": "markdown",
   "metadata": {},
   "source": [
    "En primer lugar recuperamos el conjunto de datos ya limpio de missings"
   ]
  },
  {
   "cell_type": "code",
   "execution_count": 71,
   "metadata": {
    "collapsed": false
   },
   "outputs": [],
   "source": [
    "path = 'data/output/imputed_df_csv'\n",
    "imputed_train_data = spark.read.csv(path, header=True, inferSchema=True).cache()"
   ]
  },
  {
   "cell_type": "markdown",
   "metadata": {},
   "source": [
    "<a id=\"numerico\"></a>\n",
    "\n",
    "## 5.2 Conversión a tipo numérico"
   ]
  },
  {
   "cell_type": "markdown",
   "metadata": {},
   "source": [
    "Para construir modelos es necesario convertir a numéricas las variables.\n",
    "\n",
    "Vamos a usar *StringIndexer* para automatizar el proceso"
   ]
  },
  {
   "cell_type": "code",
   "execution_count": 72,
   "metadata": {
    "collapsed": false
   },
   "outputs": [
    {
     "name": "stdout",
     "output_type": "stream",
     "text": [
      "root\n",
      " |-- Id: integer (nullable = true)\n",
      " |-- MSSubClass: integer (nullable = true)\n",
      " |-- MSZoning: string (nullable = true)\n",
      " |-- LotArea: integer (nullable = true)\n",
      " |-- Street: string (nullable = true)\n",
      " |-- Alley: string (nullable = true)\n",
      " |-- LotShape: string (nullable = true)\n",
      " |-- LandContour: string (nullable = true)\n",
      " |-- Utilities: string (nullable = true)\n",
      " |-- LotConfig: string (nullable = true)\n",
      " |-- LandSlope: string (nullable = true)\n",
      " |-- Neighborhood: string (nullable = true)\n",
      " |-- Condition1: string (nullable = true)\n",
      " |-- Condition2: string (nullable = true)\n",
      " |-- BldgType: string (nullable = true)\n",
      " |-- HouseStyle: string (nullable = true)\n",
      " |-- OverallQual: integer (nullable = true)\n",
      " |-- OverallCond: integer (nullable = true)\n",
      " |-- YearBuilt: integer (nullable = true)\n",
      " |-- YearRemodAdd: integer (nullable = true)\n",
      " |-- RoofStyle: string (nullable = true)\n",
      " |-- RoofMatl: string (nullable = true)\n",
      " |-- Exterior1st: string (nullable = true)\n",
      " |-- Exterior2nd: string (nullable = true)\n",
      " |-- MasVnrType: string (nullable = true)\n",
      " |-- MasVnrArea: integer (nullable = true)\n",
      " |-- ExterQual: string (nullable = true)\n",
      " |-- ExterCond: string (nullable = true)\n",
      " |-- Foundation: string (nullable = true)\n",
      " |-- BsmtQual: string (nullable = true)\n",
      " |-- BsmtCond: string (nullable = true)\n",
      " |-- BsmtExposure: string (nullable = true)\n",
      " |-- BsmtFinType1: string (nullable = true)\n",
      " |-- BsmtFinSF1: integer (nullable = true)\n",
      " |-- BsmtFinType2: string (nullable = true)\n",
      " |-- BsmtFinSF2: integer (nullable = true)\n",
      " |-- BsmtUnfSF: integer (nullable = true)\n",
      " |-- TotalBsmtSF: integer (nullable = true)\n",
      " |-- Heating: string (nullable = true)\n",
      " |-- HeatingQC: string (nullable = true)\n",
      " |-- CentralAir: string (nullable = true)\n",
      " |-- Electrical: string (nullable = true)\n",
      " |-- 1stFlrSF: integer (nullable = true)\n",
      " |-- 2ndFlrSF: integer (nullable = true)\n",
      " |-- LowQualFinSF: integer (nullable = true)\n",
      " |-- GrLivArea: integer (nullable = true)\n",
      " |-- BsmtFullBath: integer (nullable = true)\n",
      " |-- BsmtHalfBath: integer (nullable = true)\n",
      " |-- FullBath: integer (nullable = true)\n",
      " |-- HalfBath: integer (nullable = true)\n",
      " |-- BedroomAbvGr: integer (nullable = true)\n",
      " |-- KitchenAbvGr: integer (nullable = true)\n",
      " |-- KitchenQual: string (nullable = true)\n",
      " |-- TotRmsAbvGrd: integer (nullable = true)\n",
      " |-- Functional: string (nullable = true)\n",
      " |-- Fireplaces: integer (nullable = true)\n",
      " |-- FireplaceQu: string (nullable = true)\n",
      " |-- GarageType: string (nullable = true)\n",
      " |-- GarageYrBlt: integer (nullable = true)\n",
      " |-- GarageFinish: string (nullable = true)\n",
      " |-- GarageCars: integer (nullable = true)\n",
      " |-- GarageArea: integer (nullable = true)\n",
      " |-- GarageQual: string (nullable = true)\n",
      " |-- GarageCond: string (nullable = true)\n",
      " |-- PavedDrive: string (nullable = true)\n",
      " |-- WoodDeckSF: integer (nullable = true)\n",
      " |-- OpenPorchSF: integer (nullable = true)\n",
      " |-- EnclosedPorch: integer (nullable = true)\n",
      " |-- 3SsnPorch: integer (nullable = true)\n",
      " |-- ScreenPorch: integer (nullable = true)\n",
      " |-- PoolArea: integer (nullable = true)\n",
      " |-- PoolQC: string (nullable = true)\n",
      " |-- Fence: string (nullable = true)\n",
      " |-- MiscFeature: string (nullable = true)\n",
      " |-- MiscVal: integer (nullable = true)\n",
      " |-- MoSold: integer (nullable = true)\n",
      " |-- YrSold: integer (nullable = true)\n",
      " |-- SaleType: string (nullable = true)\n",
      " |-- SaleCondition: string (nullable = true)\n",
      " |-- SalePrice: integer (nullable = true)\n",
      "\n"
     ]
    }
   ],
   "source": [
    "imputed_train_data.printSchema()"
   ]
  },
  {
   "cell_type": "code",
   "execution_count": 73,
   "metadata": {
    "collapsed": false
   },
   "outputs": [
    {
     "name": "stdout",
     "output_type": "stream",
     "text": [
      "Número de variables numéricas = 37\n",
      "Número de variables categóricas = 43 \n"
     ]
    }
   ],
   "source": [
    "all_features=imputed_train_data.columns\n",
    "\n",
    "# Vector con las variables numéricas\n",
    "num_var=[var for var in all_features if type(imputed_train_data.schema[var].dataType)==IntegerType]\n",
    "\n",
    "# Vector con las variables categóricas\n",
    "categ_var=[var for var in all_features if type(imputed_train_data.schema[var].dataType)==StringType]\n",
    "\n",
    "print('Número de variables numéricas = {}'.format(len(num_var)))\n",
    "print('Número de variables categóricas = {} '.format(len(categ_var)))\n"
   ]
  },
  {
   "cell_type": "code",
   "execution_count": 74,
   "metadata": {
    "collapsed": false
   },
   "outputs": [
    {
     "data": {
      "text/plain": [
       "['Id',\n",
       " 'MSSubClass',\n",
       " 'LotArea',\n",
       " 'OverallQual',\n",
       " 'OverallCond',\n",
       " 'YearBuilt',\n",
       " 'YearRemodAdd',\n",
       " 'MasVnrArea',\n",
       " 'BsmtFinSF1',\n",
       " 'BsmtFinSF2',\n",
       " 'BsmtUnfSF',\n",
       " 'TotalBsmtSF',\n",
       " '1stFlrSF',\n",
       " '2ndFlrSF',\n",
       " 'LowQualFinSF',\n",
       " 'GrLivArea',\n",
       " 'BsmtFullBath',\n",
       " 'BsmtHalfBath',\n",
       " 'FullBath',\n",
       " 'HalfBath',\n",
       " 'BedroomAbvGr',\n",
       " 'KitchenAbvGr',\n",
       " 'TotRmsAbvGrd',\n",
       " 'Fireplaces',\n",
       " 'GarageYrBlt',\n",
       " 'GarageCars',\n",
       " 'GarageArea',\n",
       " 'WoodDeckSF',\n",
       " 'OpenPorchSF',\n",
       " 'EnclosedPorch',\n",
       " '3SsnPorch',\n",
       " 'ScreenPorch',\n",
       " 'PoolArea',\n",
       " 'MiscVal',\n",
       " 'MoSold',\n",
       " 'YrSold',\n",
       " 'SalePrice']"
      ]
     },
     "execution_count": 74,
     "metadata": {},
     "output_type": "execute_result"
    }
   ],
   "source": [
    "num_var"
   ]
  },
  {
   "cell_type": "code",
   "execution_count": 75,
   "metadata": {
    "collapsed": true
   },
   "outputs": [],
   "source": [
    "indexers=[StringIndexer(inputCol= var, outputCol=var + '_n') for var in var_categ]"
   ]
  },
  {
   "cell_type": "markdown",
   "metadata": {},
   "source": [
    "<a id=\"seleccion\"></a>\n",
    "\n",
    "# 6. Selección de variables \n",
    "\n",
    "(correlaciones, importancia de variables)"
   ]
  },
  {
   "cell_type": "code",
   "execution_count": 76,
   "metadata": {
    "collapsed": false
   },
   "outputs": [
    {
     "data": {
      "text/plain": [
       "['Id',\n",
       " 'MSSubClass',\n",
       " 'LotArea',\n",
       " 'OverallQual',\n",
       " 'OverallCond',\n",
       " 'YearBuilt',\n",
       " 'YearRemodAdd',\n",
       " 'MasVnrArea',\n",
       " 'BsmtFinSF1',\n",
       " 'BsmtFinSF2',\n",
       " 'BsmtUnfSF',\n",
       " 'TotalBsmtSF',\n",
       " '1stFlrSF',\n",
       " '2ndFlrSF',\n",
       " 'LowQualFinSF',\n",
       " 'GrLivArea',\n",
       " 'BsmtFullBath',\n",
       " 'BsmtHalfBath',\n",
       " 'FullBath',\n",
       " 'HalfBath',\n",
       " 'BedroomAbvGr',\n",
       " 'KitchenAbvGr',\n",
       " 'TotRmsAbvGrd',\n",
       " 'Fireplaces',\n",
       " 'GarageYrBlt',\n",
       " 'GarageCars',\n",
       " 'GarageArea',\n",
       " 'WoodDeckSF',\n",
       " 'OpenPorchSF',\n",
       " 'EnclosedPorch',\n",
       " '3SsnPorch',\n",
       " 'ScreenPorch',\n",
       " 'PoolArea',\n",
       " 'MiscVal',\n",
       " 'MoSold',\n",
       " 'YrSold',\n",
       " 'SalePrice',\n",
       " 'MSZoning_n',\n",
       " 'Street_n',\n",
       " 'Alley_n',\n",
       " 'LotShape_n',\n",
       " 'LandContour_n',\n",
       " 'Utilities_n',\n",
       " 'LotConfig_n',\n",
       " 'LandSlope_n',\n",
       " 'Neighborhood_n',\n",
       " 'Condition1_n',\n",
       " 'Condition2_n',\n",
       " 'BldgType_n',\n",
       " 'HouseStyle_n',\n",
       " 'RoofStyle_n',\n",
       " 'RoofMatl_n',\n",
       " 'Exterior1st_n',\n",
       " 'Exterior2nd_n',\n",
       " 'MasVnrType_n',\n",
       " 'ExterQual_n',\n",
       " 'ExterCond_n',\n",
       " 'Foundation_n',\n",
       " 'BsmtQual_n',\n",
       " 'BsmtCond_n',\n",
       " 'BsmtExposure_n',\n",
       " 'BsmtFinType1_n',\n",
       " 'BsmtFinType2_n',\n",
       " 'Heating_n',\n",
       " 'HeatingQC_n',\n",
       " 'CentralAir_n',\n",
       " 'Electrical_n',\n",
       " 'KitchenQual_n',\n",
       " 'Functional_n',\n",
       " 'FireplaceQu_n',\n",
       " 'GarageType_n',\n",
       " 'GarageFinish_n',\n",
       " 'GarageQual_n',\n",
       " 'GarageCond_n',\n",
       " 'PavedDrive_n',\n",
       " 'PoolQC_n',\n",
       " 'Fence_n',\n",
       " 'MiscFeature_n',\n",
       " 'SaleType_n',\n",
       " 'SaleCondition_n']"
      ]
     },
     "execution_count": 76,
     "metadata": {},
     "output_type": "execute_result"
    }
   ],
   "source": [
    "selected_features = num_var + [c+'_n' for c in categ_var]\n",
    "selected_features"
   ]
  },
  {
   "cell_type": "markdown",
   "metadata": {},
   "source": [
    "<a id=\"features\"></a>\n",
    "\n",
    "## 5.4 Convertir features en vector"
   ]
  },
  {
   "cell_type": "code",
   "execution_count": 78,
   "metadata": {
    "collapsed": true
   },
   "outputs": [],
   "source": [
    "assembler = VectorAssembler(inputCols=selected_features, outputCol=\"features\")"
   ]
  },
  {
   "cell_type": "markdown",
   "metadata": {
    "collapsed": true
   },
   "source": [
    "<a id=\"escalado\"></a>\n",
    "\n",
    "## 5.3 Escalado"
   ]
  },
  {
   "cell_type": "markdown",
   "metadata": {},
   "source": [
    "Usamos la clase StandardScaler para escalar nuestro vector de características."
   ]
  },
  {
   "cell_type": "code",
   "execution_count": 79,
   "metadata": {
    "collapsed": false
   },
   "outputs": [
    {
     "data": {
      "text/plain": [
       "StandardScaler_42a6a26a406e68972b05"
      ]
     },
     "execution_count": 79,
     "metadata": {},
     "output_type": "execute_result"
    }
   ],
   "source": [
    "standard_scaler = StandardScaler(withMean=True, withStd=True, inputCol='features', outputCol='scaledFeatures')\n",
    "standard_scaler"
   ]
  },
  {
   "cell_type": "markdown",
   "metadata": {},
   "source": [
    "## 5.4 Pipeline preprocesado"
   ]
  },
  {
   "cell_type": "code",
   "execution_count": 80,
   "metadata": {
    "collapsed": false
   },
   "outputs": [
    {
     "data": {
      "text/plain": [
       "[StringIndexer_4e74ac15ec078441439e,\n",
       " StringIndexer_4459be9a707846e8f08c,\n",
       " StringIndexer_4c7f84e0182107f509e1,\n",
       " StringIndexer_43ef8fc4d1775c2aaa06,\n",
       " StringIndexer_4cdfaa7ee52da1e62a42,\n",
       " StringIndexer_4ab589d17c15525bd7b6,\n",
       " StringIndexer_4fd58846bf8077c5454a,\n",
       " StringIndexer_4d529dbc38cf8124579e,\n",
       " StringIndexer_4444ad8c15294ebcdee1,\n",
       " StringIndexer_4656b7ada840c980f474,\n",
       " StringIndexer_48379e3d663fa26faf16,\n",
       " StringIndexer_4bbb9d182200a2b3c80e,\n",
       " StringIndexer_46f991c1cd64fe3588ab,\n",
       " StringIndexer_4e39944d1322ac951a79,\n",
       " StringIndexer_4b5ab608050b0e0ce322,\n",
       " StringIndexer_4302b39e31456397e364,\n",
       " StringIndexer_44649dab72e2d8595dc2,\n",
       " StringIndexer_43bfbe351121d24818b6,\n",
       " StringIndexer_49c68f46b0523d2903cf,\n",
       " StringIndexer_4a4a9e247c0ebec885d6,\n",
       " StringIndexer_46cf92e538479ef3eb69,\n",
       " StringIndexer_48b4baec1729c4681694,\n",
       " StringIndexer_4a998465814244d74563,\n",
       " StringIndexer_411c99a8b41978b0a5e5,\n",
       " StringIndexer_430a91ba1e89030f308b,\n",
       " StringIndexer_4442a47a5e6292268493,\n",
       " StringIndexer_46f7b9d7638761d922ac,\n",
       " StringIndexer_48a0bd6a33af47f227d7,\n",
       " StringIndexer_48929fedb0eedfe88b14,\n",
       " StringIndexer_4972a7f34894cf87bb11,\n",
       " StringIndexer_4044a7e907b9709e9082,\n",
       " StringIndexer_4d67afc5fd0b59c48f45,\n",
       " StringIndexer_4f5a94b374a6b57862de,\n",
       " StringIndexer_42c18dbcba4fd4967b4d,\n",
       " StringIndexer_45cabfeab14f46154340,\n",
       " StringIndexer_4389828afcc663032913,\n",
       " StringIndexer_46c8aa499ee20d74a59b,\n",
       " StringIndexer_469ba049e19561ddc0e0,\n",
       " StringIndexer_4dceb20be0b73a0d9001,\n",
       " StringIndexer_4266be2a52c9f54478af,\n",
       " StringIndexer_4dccaae46247eaf6fec9,\n",
       " StringIndexer_45deb618a78abe623ed5,\n",
       " StringIndexer_46979794743aa2ee0065,\n",
       " VectorAssembler_4ec091793587cd021b3c,\n",
       " StandardScaler_42a6a26a406e68972b05]"
      ]
     },
     "execution_count": 80,
     "metadata": {},
     "output_type": "execute_result"
    }
   ],
   "source": [
    "preprocessing_stages= indexers + [assembler, standard_scaler]\n",
    "preprocessing_stages"
   ]
  },
  {
   "cell_type": "code",
   "execution_count": 81,
   "metadata": {
    "collapsed": false
   },
   "outputs": [
    {
     "data": {
      "text/plain": [
       "Pipeline_4d47b2adc2fe884df652"
      ]
     },
     "execution_count": 81,
     "metadata": {},
     "output_type": "execute_result"
    }
   ],
   "source": [
    "pipeline = Pipeline(stages=preprocessing_stages)\n",
    "pipeline"
   ]
  },
  {
   "cell_type": "code",
   "execution_count": 82,
   "metadata": {
    "collapsed": false
   },
   "outputs": [
    {
     "data": {
      "text/plain": [
       "PipelineModel_4dbb8b027676b12e082b"
      ]
     },
     "execution_count": 82,
     "metadata": {},
     "output_type": "execute_result"
    }
   ],
   "source": [
    "preprocessing_pl = pipeline.fit(imputed_train_data)\n",
    "preprocessing_pl"
   ]
  },
  {
   "cell_type": "code",
   "execution_count": 86,
   "metadata": {
    "collapsed": false
   },
   "outputs": [
    {
     "name": "stdout",
     "output_type": "stream",
     "text": [
      "+---+----------+-------+-----------+-----------+---------+------------+\n",
      "| Id|MSSubClass|LotArea|OverallQual|OverallCond|YearBuilt|YearRemodAdd|\n",
      "+---+----------+-------+-----------+-----------+---------+------------+\n",
      "|  1|        60|   8450|          7|          5|     2003|        2003|\n",
      "|  2|        20|   9600|          6|          8|     1976|        1976|\n",
      "|  3|        60|  11250|          7|          5|     2001|        2002|\n",
      "|  4|        70|   9550|          7|          5|     1915|        1970|\n",
      "|  5|        60|  14260|          8|          5|     2000|        2000|\n",
      "+---+----------+-------+-----------+-----------+---------+------------+\n",
      "only showing top 5 rows\n",
      "\n",
      "+----------+----------+----------+---------+-----------+--------+--------+\n",
      "|MasVnrArea|BsmtFinSF1|BsmtFinSF2|BsmtUnfSF|TotalBsmtSF|1stFlrSF|2ndFlrSF|\n",
      "+----------+----------+----------+---------+-----------+--------+--------+\n",
      "|       196|       706|         0|      150|        856|     856|     854|\n",
      "|         0|       978|         0|      284|       1262|    1262|       0|\n",
      "|       162|       486|         0|      434|        920|     920|     866|\n",
      "|         0|       216|         0|      540|        756|     961|     756|\n",
      "|       350|       655|         0|      490|       1145|    1145|    1053|\n",
      "+----------+----------+----------+---------+-----------+--------+--------+\n",
      "only showing top 5 rows\n",
      "\n",
      "+------------+---------+------------+------------+--------+--------+------------+\n",
      "|LowQualFinSF|GrLivArea|BsmtFullBath|BsmtHalfBath|FullBath|HalfBath|BedroomAbvGr|\n",
      "+------------+---------+------------+------------+--------+--------+------------+\n",
      "|           0|     1710|           1|           0|       2|       1|           3|\n",
      "|           0|     1262|           0|           1|       2|       0|           3|\n",
      "|           0|     1786|           1|           0|       2|       1|           3|\n",
      "|           0|     1717|           1|           0|       1|       0|           3|\n",
      "|           0|     2198|           1|           0|       2|       1|           4|\n",
      "+------------+---------+------------+------------+--------+--------+------------+\n",
      "only showing top 5 rows\n",
      "\n",
      "+------------+------------+----------+-----------+----------+----------+----------+\n",
      "|KitchenAbvGr|TotRmsAbvGrd|Fireplaces|GarageYrBlt|GarageCars|GarageArea|WoodDeckSF|\n",
      "+------------+------------+----------+-----------+----------+----------+----------+\n",
      "|           1|           8|         0|       2003|         2|       548|         0|\n",
      "|           1|           6|         1|       1976|         2|       460|       298|\n",
      "|           1|           6|         1|       2001|         2|       608|         0|\n",
      "|           1|           7|         1|       1998|         3|       642|         0|\n",
      "|           1|           9|         1|       2000|         3|       836|       192|\n",
      "+------------+------------+----------+-----------+----------+----------+----------+\n",
      "only showing top 5 rows\n",
      "\n",
      "+-----------+-------------+---------+-----------+--------+-------+------+\n",
      "|OpenPorchSF|EnclosedPorch|3SsnPorch|ScreenPorch|PoolArea|MiscVal|MoSold|\n",
      "+-----------+-------------+---------+-----------+--------+-------+------+\n",
      "|         61|            0|        0|          0|       0|      0|     2|\n",
      "|          0|            0|        0|          0|       0|      0|     5|\n",
      "|         42|            0|        0|          0|       0|      0|     9|\n",
      "|         35|          272|        0|          0|       0|      0|     2|\n",
      "|         84|            0|        0|          0|       0|      0|    12|\n",
      "+-----------+-------------+---------+-----------+--------+-------+------+\n",
      "only showing top 5 rows\n",
      "\n",
      "+------+---------+----------+--------+-------+----------+-------------+\n",
      "|YrSold|SalePrice|MSZoning_n|Street_n|Alley_n|LotShape_n|LandContour_n|\n",
      "+------+---------+----------+--------+-------+----------+-------------+\n",
      "|  2008|   208500|       0.0|     0.0|    0.0|       0.0|          0.0|\n",
      "|  2007|   181500|       0.0|     0.0|    0.0|       0.0|          0.0|\n",
      "|  2008|   223500|       0.0|     0.0|    0.0|       1.0|          0.0|\n",
      "|  2006|   140000|       0.0|     0.0|    0.0|       1.0|          0.0|\n",
      "|  2008|   250000|       0.0|     0.0|    0.0|       1.0|          0.0|\n",
      "+------+---------+----------+--------+-------+----------+-------------+\n",
      "only showing top 5 rows\n",
      "\n",
      "+-----------+-----------+-----------+--------------+------------+------------+----------+\n",
      "|Utilities_n|LotConfig_n|LandSlope_n|Neighborhood_n|Condition1_n|Condition2_n|BldgType_n|\n",
      "+-----------+-----------+-----------+--------------+------------+------------+----------+\n",
      "|        0.0|        0.0|        0.0|           1.0|         0.0|         0.0|       0.0|\n",
      "|        0.0|        3.0|        0.0|          22.0|         1.0|         0.0|       0.0|\n",
      "|        0.0|        0.0|        0.0|           1.0|         0.0|         0.0|       0.0|\n",
      "|        0.0|        1.0|        0.0|          11.0|         0.0|         0.0|       0.0|\n",
      "|        0.0|        3.0|        0.0|          13.0|         0.0|         0.0|       0.0|\n",
      "+-----------+-----------+-----------+--------------+------------+------------+----------+\n",
      "only showing top 5 rows\n",
      "\n",
      "+------------+-----------+----------+-------------+-------------+------------+-----------+\n",
      "|HouseStyle_n|RoofStyle_n|RoofMatl_n|Exterior1st_n|Exterior2nd_n|MasVnrType_n|ExterQual_n|\n",
      "+------------+-----------+----------+-------------+-------------+------------+-----------+\n",
      "|         1.0|        0.0|       0.0|          0.0|          0.0|         1.0|        1.0|\n",
      "|         0.0|        0.0|       0.0|          2.0|          1.0|         0.0|        0.0|\n",
      "|         1.0|        0.0|       0.0|          0.0|          0.0|         1.0|        1.0|\n",
      "|         1.0|        0.0|       0.0|          3.0|          6.0|         0.0|        0.0|\n",
      "|         1.0|        0.0|       0.0|          0.0|          0.0|         1.0|        1.0|\n",
      "+------------+-----------+----------+-------------+-------------+------------+-----------+\n",
      "only showing top 5 rows\n",
      "\n",
      "+-----------+------------+----------+----------+--------------+--------------+--------------+\n",
      "|ExterCond_n|Foundation_n|BsmtQual_n|BsmtCond_n|BsmtExposure_n|BsmtFinType1_n|BsmtFinType2_n|\n",
      "+-----------+------------+----------+----------+--------------+--------------+--------------+\n",
      "|        0.0|         0.0|       1.0|       0.0|           0.0|           1.0|           0.0|\n",
      "|        0.0|         1.0|       1.0|       0.0|           2.0|           2.0|           0.0|\n",
      "|        0.0|         0.0|       1.0|       0.0|           3.0|           1.0|           0.0|\n",
      "|        0.0|         2.0|       0.0|       1.0|           0.0|           2.0|           0.0|\n",
      "|        0.0|         0.0|       1.0|       0.0|           1.0|           1.0|           0.0|\n",
      "+-----------+------------+----------+----------+--------------+--------------+--------------+\n",
      "only showing top 5 rows\n",
      "\n",
      "+---------+-----------+------------+------------+-------------+------------+-------------+\n",
      "|Heating_n|HeatingQC_n|CentralAir_n|Electrical_n|KitchenQual_n|Functional_n|FireplaceQu_n|\n",
      "+---------+-----------+------------+------------+-------------+------------+-------------+\n",
      "|      0.0|        0.0|         0.0|         0.0|          1.0|         0.0|          0.0|\n",
      "|      0.0|        0.0|         0.0|         0.0|          0.0|         0.0|          2.0|\n",
      "|      0.0|        0.0|         0.0|         0.0|          1.0|         0.0|          2.0|\n",
      "|      0.0|        2.0|         0.0|         0.0|          1.0|         0.0|          1.0|\n",
      "|      0.0|        0.0|         0.0|         0.0|          1.0|         0.0|          2.0|\n",
      "+---------+-----------+------------+------------+-------------+------------+-------------+\n",
      "only showing top 5 rows\n",
      "\n",
      "+------------+--------------+------------+------------+------------+--------+-------+\n",
      "|GarageType_n|GarageFinish_n|GarageQual_n|GarageCond_n|PavedDrive_n|PoolQC_n|Fence_n|\n",
      "+------------+--------------+------------+------------+------------+--------+-------+\n",
      "|         0.0|           1.0|         0.0|         0.0|         0.0|     0.0|    0.0|\n",
      "|         0.0|           1.0|         0.0|         0.0|         0.0|     0.0|    0.0|\n",
      "|         0.0|           1.0|         0.0|         0.0|         0.0|     0.0|    0.0|\n",
      "|         1.0|           0.0|         0.0|         0.0|         0.0|     0.0|    0.0|\n",
      "|         0.0|           1.0|         0.0|         0.0|         0.0|     0.0|    0.0|\n",
      "+------------+--------------+------------+------------+------------+--------+-------+\n",
      "only showing top 5 rows\n",
      "\n",
      "+-------------+----------+---------------+--------------------+--------------------+\n",
      "|MiscFeature_n|SaleType_n|SaleCondition_n|            features|      scaledFeatures|\n",
      "+-------------+----------+---------------+--------------------+--------------------+\n",
      "|          0.0|       0.0|            0.0|(80,[0,1,2,3,4,5,...|[-1.7302720139212...|\n",
      "|          0.0|       0.0|            0.0|(80,[0,1,2,3,4,5,...|[-1.7279001537239...|\n",
      "|          0.0|       0.0|            0.0|(80,[0,1,2,3,4,5,...|[-1.7255282935266...|\n",
      "|          0.0|       0.0|            2.0|(80,[0,1,2,3,4,5,...|[-1.7231564333294...|\n",
      "|          0.0|       0.0|            0.0|(80,[0,1,2,3,4,5,...|[-1.7207845731321...|\n",
      "+-------------+----------+---------------+--------------------+--------------------+\n",
      "only showing top 5 rows\n",
      "\n"
     ]
    }
   ],
   "source": [
    "preprocesed_df=preprocessing_pl.transform(imputed_train_data)\n",
    "\n",
    "preprocesed_columns=selected_features + ['features', 'scaledFeatures']\n",
    "\n",
    "step=7\n",
    "for index in range(0, len(preprocesed_columns), step):\n",
    "    preprocesed_df.select(preprocesed_columns[index:index+step]).show(5) \n"
   ]
  },
  {
   "cell_type": "code",
   "execution_count": 100,
   "metadata": {
    "collapsed": false
   },
   "outputs": [
    {
     "data": {
      "text/html": [
       "<div>\n",
       "<table border=\"1\" class=\"dataframe\">\n",
       "  <thead>\n",
       "    <tr style=\"text-align: right;\">\n",
       "      <th></th>\n",
       "      <th>Id</th>\n",
       "      <th>MSSubClass</th>\n",
       "      <th>LotArea</th>\n",
       "      <th>OverallQual</th>\n",
       "      <th>OverallCond</th>\n",
       "      <th>YearBuilt</th>\n",
       "      <th>YearRemodAdd</th>\n",
       "      <th>MasVnrArea</th>\n",
       "      <th>BsmtFinSF1</th>\n",
       "      <th>BsmtFinSF2</th>\n",
       "      <th>...</th>\n",
       "      <th>GarageType_n</th>\n",
       "      <th>GarageFinish_n</th>\n",
       "      <th>GarageQual_n</th>\n",
       "      <th>GarageCond_n</th>\n",
       "      <th>PavedDrive_n</th>\n",
       "      <th>PoolQC_n</th>\n",
       "      <th>Fence_n</th>\n",
       "      <th>MiscFeature_n</th>\n",
       "      <th>SaleType_n</th>\n",
       "      <th>SaleCondition_n</th>\n",
       "    </tr>\n",
       "  </thead>\n",
       "  <tbody>\n",
       "    <tr>\n",
       "      <th>Id</th>\n",
       "      <td>1.000000</td>\n",
       "      <td>0.011156</td>\n",
       "      <td>-0.033226</td>\n",
       "      <td>-0.028365</td>\n",
       "      <td>0.012609</td>\n",
       "      <td>-0.012713</td>\n",
       "      <td>-0.021998</td>\n",
       "      <td>-0.051071</td>\n",
       "      <td>-0.005024</td>\n",
       "      <td>-0.005968</td>\n",
       "      <td>...</td>\n",
       "      <td>-0.004256</td>\n",
       "      <td>-0.000034</td>\n",
       "      <td>-0.012676</td>\n",
       "      <td>0.000568</td>\n",
       "      <td>0.008921</td>\n",
       "      <td>0.043368</td>\n",
       "      <td>0.004620</td>\n",
       "      <td>-0.014074</td>\n",
       "      <td>-0.020018</td>\n",
       "      <td>-0.016834</td>\n",
       "    </tr>\n",
       "    <tr>\n",
       "      <th>MSSubClass</th>\n",
       "      <td>0.011156</td>\n",
       "      <td>1.000000</td>\n",
       "      <td>-0.139781</td>\n",
       "      <td>0.032628</td>\n",
       "      <td>-0.059316</td>\n",
       "      <td>0.027850</td>\n",
       "      <td>0.040581</td>\n",
       "      <td>0.023573</td>\n",
       "      <td>-0.069836</td>\n",
       "      <td>-0.065649</td>\n",
       "      <td>...</td>\n",
       "      <td>0.164193</td>\n",
       "      <td>0.052038</td>\n",
       "      <td>0.055006</td>\n",
       "      <td>0.040650</td>\n",
       "      <td>0.025973</td>\n",
       "      <td>-0.001113</td>\n",
       "      <td>-0.100303</td>\n",
       "      <td>-0.016437</td>\n",
       "      <td>0.014963</td>\n",
       "      <td>0.004788</td>\n",
       "    </tr>\n",
       "    <tr>\n",
       "      <th>LotArea</th>\n",
       "      <td>-0.033226</td>\n",
       "      <td>-0.139781</td>\n",
       "      <td>1.000000</td>\n",
       "      <td>0.105806</td>\n",
       "      <td>-0.005636</td>\n",
       "      <td>0.014228</td>\n",
       "      <td>0.013788</td>\n",
       "      <td>0.103321</td>\n",
       "      <td>0.214103</td>\n",
       "      <td>0.111170</td>\n",
       "      <td>...</td>\n",
       "      <td>-0.066204</td>\n",
       "      <td>0.046625</td>\n",
       "      <td>-0.040210</td>\n",
       "      <td>-0.055792</td>\n",
       "      <td>-0.002964</td>\n",
       "      <td>0.058232</td>\n",
       "      <td>-0.035421</td>\n",
       "      <td>0.089707</td>\n",
       "      <td>-0.012098</td>\n",
       "      <td>-0.016193</td>\n",
       "    </tr>\n",
       "    <tr>\n",
       "      <th>OverallQual</th>\n",
       "      <td>-0.028365</td>\n",
       "      <td>0.032628</td>\n",
       "      <td>0.105806</td>\n",
       "      <td>1.000000</td>\n",
       "      <td>-0.091932</td>\n",
       "      <td>0.572323</td>\n",
       "      <td>0.550684</td>\n",
       "      <td>0.407252</td>\n",
       "      <td>0.239666</td>\n",
       "      <td>-0.059119</td>\n",
       "      <td>...</td>\n",
       "      <td>-0.293393</td>\n",
       "      <td>0.275131</td>\n",
       "      <td>-0.160127</td>\n",
       "      <td>-0.226272</td>\n",
       "      <td>-0.200702</td>\n",
       "      <td>0.062375</td>\n",
       "      <td>-0.170554</td>\n",
       "      <td>-0.083121</td>\n",
       "      <td>0.075002</td>\n",
       "      <td>0.002462</td>\n",
       "    </tr>\n",
       "    <tr>\n",
       "      <th>OverallCond</th>\n",
       "      <td>0.012609</td>\n",
       "      <td>-0.059316</td>\n",
       "      <td>-0.005636</td>\n",
       "      <td>-0.091932</td>\n",
       "      <td>1.000000</td>\n",
       "      <td>-0.375983</td>\n",
       "      <td>0.073741</td>\n",
       "      <td>-0.125694</td>\n",
       "      <td>-0.046231</td>\n",
       "      <td>0.040229</td>\n",
       "      <td>...</td>\n",
       "      <td>0.003521</td>\n",
       "      <td>-0.173026</td>\n",
       "      <td>0.086357</td>\n",
       "      <td>0.023459</td>\n",
       "      <td>0.082132</td>\n",
       "      <td>-0.015231</td>\n",
       "      <td>0.142421</td>\n",
       "      <td>0.061981</td>\n",
       "      <td>-0.105673</td>\n",
       "      <td>-0.125835</td>\n",
       "    </tr>\n",
       "    <tr>\n",
       "      <th>YearBuilt</th>\n",
       "      <td>-0.012713</td>\n",
       "      <td>0.027850</td>\n",
       "      <td>0.014228</td>\n",
       "      <td>0.572323</td>\n",
       "      <td>-0.375983</td>\n",
       "      <td>1.000000</td>\n",
       "      <td>0.592855</td>\n",
       "      <td>0.311600</td>\n",
       "      <td>0.249503</td>\n",
       "      <td>-0.049107</td>\n",
       "      <td>...</td>\n",
       "      <td>-0.321568</td>\n",
       "      <td>0.342565</td>\n",
       "      <td>-0.349503</td>\n",
       "      <td>-0.317723</td>\n",
       "      <td>-0.396023</td>\n",
       "      <td>0.001374</td>\n",
       "      <td>-0.193985</td>\n",
       "      <td>-0.070932</td>\n",
       "      <td>0.081609</td>\n",
       "      <td>0.015943</td>\n",
       "    </tr>\n",
       "    <tr>\n",
       "      <th>YearRemodAdd</th>\n",
       "      <td>-0.021998</td>\n",
       "      <td>0.040581</td>\n",
       "      <td>0.013788</td>\n",
       "      <td>0.550684</td>\n",
       "      <td>0.073741</td>\n",
       "      <td>0.592855</td>\n",
       "      <td>1.000000</td>\n",
       "      <td>0.176529</td>\n",
       "      <td>0.128451</td>\n",
       "      <td>-0.067759</td>\n",
       "      <td>...</td>\n",
       "      <td>-0.182247</td>\n",
       "      <td>0.313004</td>\n",
       "      <td>-0.159714</td>\n",
       "      <td>-0.195652</td>\n",
       "      <td>-0.193616</td>\n",
       "      <td>0.011973</td>\n",
       "      <td>-0.146553</td>\n",
       "      <td>-0.087934</td>\n",
       "      <td>0.039722</td>\n",
       "      <td>-0.017517</td>\n",
       "    </tr>\n",
       "    <tr>\n",
       "      <th>MasVnrArea</th>\n",
       "      <td>-0.051071</td>\n",
       "      <td>0.023573</td>\n",
       "      <td>0.103321</td>\n",
       "      <td>0.407252</td>\n",
       "      <td>-0.125694</td>\n",
       "      <td>0.311600</td>\n",
       "      <td>0.176529</td>\n",
       "      <td>1.000000</td>\n",
       "      <td>0.261256</td>\n",
       "      <td>-0.071330</td>\n",
       "      <td>...</td>\n",
       "      <td>-0.123286</td>\n",
       "      <td>0.146081</td>\n",
       "      <td>-0.139110</td>\n",
       "      <td>-0.111800</td>\n",
       "      <td>-0.140724</td>\n",
       "      <td>0.008207</td>\n",
       "      <td>-0.071418</td>\n",
       "      <td>-0.044700</td>\n",
       "      <td>0.033930</td>\n",
       "      <td>0.015323</td>\n",
       "    </tr>\n",
       "    <tr>\n",
       "      <th>BsmtFinSF1</th>\n",
       "      <td>-0.005024</td>\n",
       "      <td>-0.069836</td>\n",
       "      <td>0.214103</td>\n",
       "      <td>0.239666</td>\n",
       "      <td>-0.046231</td>\n",
       "      <td>0.249503</td>\n",
       "      <td>0.128451</td>\n",
       "      <td>0.261256</td>\n",
       "      <td>1.000000</td>\n",
       "      <td>-0.050117</td>\n",
       "      <td>...</td>\n",
       "      <td>-0.197154</td>\n",
       "      <td>0.134247</td>\n",
       "      <td>-0.146226</td>\n",
       "      <td>-0.133057</td>\n",
       "      <td>-0.175379</td>\n",
       "      <td>0.117715</td>\n",
       "      <td>-0.000065</td>\n",
       "      <td>-0.006777</td>\n",
       "      <td>0.019767</td>\n",
       "      <td>0.005293</td>\n",
       "    </tr>\n",
       "    <tr>\n",
       "      <th>BsmtFinSF2</th>\n",
       "      <td>-0.005968</td>\n",
       "      <td>-0.065649</td>\n",
       "      <td>0.111170</td>\n",
       "      <td>-0.059119</td>\n",
       "      <td>0.040229</td>\n",
       "      <td>-0.049107</td>\n",
       "      <td>-0.067759</td>\n",
       "      <td>-0.071330</td>\n",
       "      <td>-0.050117</td>\n",
       "      <td>1.000000</td>\n",
       "      <td>...</td>\n",
       "      <td>-0.040819</td>\n",
       "      <td>-0.051147</td>\n",
       "      <td>-0.049336</td>\n",
       "      <td>-0.023178</td>\n",
       "      <td>-0.067842</td>\n",
       "      <td>0.069478</td>\n",
       "      <td>0.109056</td>\n",
       "      <td>0.009178</td>\n",
       "      <td>0.012186</td>\n",
       "      <td>-0.020424</td>\n",
       "    </tr>\n",
       "    <tr>\n",
       "      <th>BsmtUnfSF</th>\n",
       "      <td>-0.007940</td>\n",
       "      <td>-0.140759</td>\n",
       "      <td>-0.002618</td>\n",
       "      <td>0.308159</td>\n",
       "      <td>-0.136841</td>\n",
       "      <td>0.149040</td>\n",
       "      <td>0.181133</td>\n",
       "      <td>0.113862</td>\n",
       "      <td>-0.495251</td>\n",
       "      <td>-0.209294</td>\n",
       "      <td>...</td>\n",
       "      <td>-0.057378</td>\n",
       "      <td>0.076618</td>\n",
       "      <td>0.037590</td>\n",
       "      <td>-0.007936</td>\n",
       "      <td>0.021160</td>\n",
       "      <td>-0.048045</td>\n",
       "      <td>-0.147854</td>\n",
       "      <td>-0.057738</td>\n",
       "      <td>0.066417</td>\n",
       "      <td>0.045331</td>\n",
       "    </tr>\n",
       "    <tr>\n",
       "      <th>TotalBsmtSF</th>\n",
       "      <td>-0.015415</td>\n",
       "      <td>-0.238518</td>\n",
       "      <td>0.260833</td>\n",
       "      <td>0.537808</td>\n",
       "      <td>-0.171098</td>\n",
       "      <td>0.391452</td>\n",
       "      <td>0.291066</td>\n",
       "      <td>0.360067</td>\n",
       "      <td>0.522396</td>\n",
       "      <td>0.104810</td>\n",
       "      <td>...</td>\n",
       "      <td>-0.277772</td>\n",
       "      <td>0.197932</td>\n",
       "      <td>-0.132304</td>\n",
       "      <td>-0.154848</td>\n",
       "      <td>-0.185966</td>\n",
       "      <td>0.099538</td>\n",
       "      <td>-0.108885</td>\n",
       "      <td>-0.061824</td>\n",
       "      <td>0.091927</td>\n",
       "      <td>0.043650</td>\n",
       "    </tr>\n",
       "    <tr>\n",
       "      <th>1stFlrSF</th>\n",
       "      <td>0.010496</td>\n",
       "      <td>-0.251758</td>\n",
       "      <td>0.299475</td>\n",
       "      <td>0.476224</td>\n",
       "      <td>-0.144203</td>\n",
       "      <td>0.281986</td>\n",
       "      <td>0.240379</td>\n",
       "      <td>0.339850</td>\n",
       "      <td>0.445863</td>\n",
       "      <td>0.097117</td>\n",
       "      <td>...</td>\n",
       "      <td>-0.215644</td>\n",
       "      <td>0.167385</td>\n",
       "      <td>-0.123738</td>\n",
       "      <td>-0.149947</td>\n",
       "      <td>-0.147598</td>\n",
       "      <td>0.099745</td>\n",
       "      <td>-0.070705</td>\n",
       "      <td>-0.046096</td>\n",
       "      <td>0.094236</td>\n",
       "      <td>0.089923</td>\n",
       "    </tr>\n",
       "    <tr>\n",
       "      <th>2ndFlrSF</th>\n",
       "      <td>0.005590</td>\n",
       "      <td>0.307886</td>\n",
       "      <td>0.050986</td>\n",
       "      <td>0.295493</td>\n",
       "      <td>0.028942</td>\n",
       "      <td>0.010308</td>\n",
       "      <td>0.140024</td>\n",
       "      <td>0.173800</td>\n",
       "      <td>-0.137079</td>\n",
       "      <td>-0.099260</td>\n",
       "      <td>...</td>\n",
       "      <td>0.097748</td>\n",
       "      <td>0.075631</td>\n",
       "      <td>0.026726</td>\n",
       "      <td>-0.009465</td>\n",
       "      <td>0.034872</td>\n",
       "      <td>0.090289</td>\n",
       "      <td>-0.059453</td>\n",
       "      <td>0.013509</td>\n",
       "      <td>-0.030278</td>\n",
       "      <td>-0.045401</td>\n",
       "    </tr>\n",
       "    <tr>\n",
       "      <th>LowQualFinSF</th>\n",
       "      <td>-0.044230</td>\n",
       "      <td>0.046474</td>\n",
       "      <td>0.004779</td>\n",
       "      <td>-0.030429</td>\n",
       "      <td>0.025494</td>\n",
       "      <td>-0.183784</td>\n",
       "      <td>-0.062419</td>\n",
       "      <td>-0.068628</td>\n",
       "      <td>-0.064503</td>\n",
       "      <td>0.014807</td>\n",
       "      <td>...</td>\n",
       "      <td>0.128403</td>\n",
       "      <td>0.034585</td>\n",
       "      <td>0.097492</td>\n",
       "      <td>0.085472</td>\n",
       "      <td>0.076245</td>\n",
       "      <td>0.070933</td>\n",
       "      <td>0.026322</td>\n",
       "      <td>0.048354</td>\n",
       "      <td>-0.008062</td>\n",
       "      <td>0.019889</td>\n",
       "    </tr>\n",
       "    <tr>\n",
       "      <th>GrLivArea</th>\n",
       "      <td>0.008273</td>\n",
       "      <td>0.074853</td>\n",
       "      <td>0.263116</td>\n",
       "      <td>0.593007</td>\n",
       "      <td>-0.079686</td>\n",
       "      <td>0.199010</td>\n",
       "      <td>0.287389</td>\n",
       "      <td>0.388052</td>\n",
       "      <td>0.208171</td>\n",
       "      <td>-0.009640</td>\n",
       "      <td>...</td>\n",
       "      <td>-0.065563</td>\n",
       "      <td>0.189171</td>\n",
       "      <td>-0.059809</td>\n",
       "      <td>-0.110268</td>\n",
       "      <td>-0.072562</td>\n",
       "      <td>0.154950</td>\n",
       "      <td>-0.098970</td>\n",
       "      <td>-0.018215</td>\n",
       "      <td>0.043430</td>\n",
       "      <td>0.030280</td>\n",
       "    </tr>\n",
       "    <tr>\n",
       "      <th>BsmtFullBath</th>\n",
       "      <td>0.002289</td>\n",
       "      <td>0.003491</td>\n",
       "      <td>0.158155</td>\n",
       "      <td>0.111098</td>\n",
       "      <td>-0.054942</td>\n",
       "      <td>0.187599</td>\n",
       "      <td>0.119470</td>\n",
       "      <td>0.083010</td>\n",
       "      <td>0.649212</td>\n",
       "      <td>0.158678</td>\n",
       "      <td>...</td>\n",
       "      <td>-0.112541</td>\n",
       "      <td>0.105542</td>\n",
       "      <td>-0.098123</td>\n",
       "      <td>-0.070085</td>\n",
       "      <td>-0.115018</td>\n",
       "      <td>0.070130</td>\n",
       "      <td>0.019226</td>\n",
       "      <td>-0.009647</td>\n",
       "      <td>-0.005061</td>\n",
       "      <td>-0.007798</td>\n",
       "    </tr>\n",
       "    <tr>\n",
       "      <th>BsmtHalfBath</th>\n",
       "      <td>-0.020155</td>\n",
       "      <td>-0.002333</td>\n",
       "      <td>0.048046</td>\n",
       "      <td>-0.040150</td>\n",
       "      <td>0.117821</td>\n",
       "      <td>-0.038162</td>\n",
       "      <td>-0.012337</td>\n",
       "      <td>0.027403</td>\n",
       "      <td>0.067418</td>\n",
       "      <td>0.070948</td>\n",
       "      <td>...</td>\n",
       "      <td>-0.006640</td>\n",
       "      <td>-0.045334</td>\n",
       "      <td>-0.045787</td>\n",
       "      <td>-0.039183</td>\n",
       "      <td>-0.012814</td>\n",
       "      <td>0.025546</td>\n",
       "      <td>0.034154</td>\n",
       "      <td>0.016051</td>\n",
       "      <td>-0.002239</td>\n",
       "      <td>0.051706</td>\n",
       "    </tr>\n",
       "    <tr>\n",
       "      <th>FullBath</th>\n",
       "      <td>0.005587</td>\n",
       "      <td>0.131608</td>\n",
       "      <td>0.126031</td>\n",
       "      <td>0.550600</td>\n",
       "      <td>-0.194149</td>\n",
       "      <td>0.468271</td>\n",
       "      <td>0.439046</td>\n",
       "      <td>0.272999</td>\n",
       "      <td>0.058543</td>\n",
       "      <td>-0.076444</td>\n",
       "      <td>...</td>\n",
       "      <td>-0.122220</td>\n",
       "      <td>0.278674</td>\n",
       "      <td>-0.108404</td>\n",
       "      <td>-0.144159</td>\n",
       "      <td>-0.138856</td>\n",
       "      <td>0.058836</td>\n",
       "      <td>-0.191718</td>\n",
       "      <td>-0.023262</td>\n",
       "      <td>0.049074</td>\n",
       "      <td>0.027388</td>\n",
       "    </tr>\n",
       "    <tr>\n",
       "      <th>HalfBath</th>\n",
       "      <td>0.006784</td>\n",
       "      <td>0.177354</td>\n",
       "      <td>0.014259</td>\n",
       "      <td>0.273458</td>\n",
       "      <td>-0.060769</td>\n",
       "      <td>0.242656</td>\n",
       "      <td>0.183331</td>\n",
       "      <td>0.199108</td>\n",
       "      <td>0.004262</td>\n",
       "      <td>-0.032148</td>\n",
       "      <td>...</td>\n",
       "      <td>-0.045492</td>\n",
       "      <td>0.125139</td>\n",
       "      <td>-0.074066</td>\n",
       "      <td>-0.116969</td>\n",
       "      <td>-0.087447</td>\n",
       "      <td>0.038965</td>\n",
       "      <td>-0.071571</td>\n",
       "      <td>-0.017294</td>\n",
       "      <td>-0.023284</td>\n",
       "      <td>-0.039444</td>\n",
       "    </tr>\n",
       "    <tr>\n",
       "      <th>BedroomAbvGr</th>\n",
       "      <td>0.037719</td>\n",
       "      <td>-0.023438</td>\n",
       "      <td>0.119690</td>\n",
       "      <td>0.101676</td>\n",
       "      <td>0.012980</td>\n",
       "      <td>-0.070651</td>\n",
       "      <td>-0.040581</td>\n",
       "      <td>0.102775</td>\n",
       "      <td>-0.107355</td>\n",
       "      <td>-0.015728</td>\n",
       "      <td>...</td>\n",
       "      <td>0.063519</td>\n",
       "      <td>-0.004632</td>\n",
       "      <td>-0.017778</td>\n",
       "      <td>-0.004865</td>\n",
       "      <td>0.032287</td>\n",
       "      <td>0.076052</td>\n",
       "      <td>0.009907</td>\n",
       "      <td>0.032156</td>\n",
       "      <td>-0.012125</td>\n",
       "      <td>0.022741</td>\n",
       "    </tr>\n",
       "    <tr>\n",
       "      <th>KitchenAbvGr</th>\n",
       "      <td>0.002951</td>\n",
       "      <td>0.281721</td>\n",
       "      <td>-0.017784</td>\n",
       "      <td>-0.183882</td>\n",
       "      <td>-0.087001</td>\n",
       "      <td>-0.174800</td>\n",
       "      <td>-0.149598</td>\n",
       "      <td>-0.038450</td>\n",
       "      <td>-0.081007</td>\n",
       "      <td>-0.040751</td>\n",
       "      <td>...</td>\n",
       "      <td>0.218805</td>\n",
       "      <td>-0.035806</td>\n",
       "      <td>0.143865</td>\n",
       "      <td>0.142564</td>\n",
       "      <td>0.110847</td>\n",
       "      <td>-0.013386</td>\n",
       "      <td>-0.057154</td>\n",
       "      <td>0.051415</td>\n",
       "      <td>0.027892</td>\n",
       "      <td>0.120829</td>\n",
       "    </tr>\n",
       "    <tr>\n",
       "      <th>TotRmsAbvGrd</th>\n",
       "      <td>0.027239</td>\n",
       "      <td>0.040380</td>\n",
       "      <td>0.190015</td>\n",
       "      <td>0.427452</td>\n",
       "      <td>-0.057583</td>\n",
       "      <td>0.095589</td>\n",
       "      <td>0.191740</td>\n",
       "      <td>0.279568</td>\n",
       "      <td>0.044316</td>\n",
       "      <td>-0.035227</td>\n",
       "      <td>...</td>\n",
       "      <td>-0.003913</td>\n",
       "      <td>0.143932</td>\n",
       "      <td>-0.023792</td>\n",
       "      <td>-0.038626</td>\n",
       "      <td>-0.008858</td>\n",
       "      <td>0.084720</td>\n",
       "      <td>-0.058670</td>\n",
       "      <td>0.019505</td>\n",
       "      <td>0.051755</td>\n",
       "      <td>0.057916</td>\n",
       "    </tr>\n",
       "    <tr>\n",
       "      <th>Fireplaces</th>\n",
       "      <td>-0.019772</td>\n",
       "      <td>-0.045569</td>\n",
       "      <td>0.271364</td>\n",
       "      <td>0.396765</td>\n",
       "      <td>-0.023820</td>\n",
       "      <td>0.147716</td>\n",
       "      <td>0.112581</td>\n",
       "      <td>0.247015</td>\n",
       "      <td>0.260011</td>\n",
       "      <td>0.046921</td>\n",
       "      <td>...</td>\n",
       "      <td>-0.168009</td>\n",
       "      <td>0.129392</td>\n",
       "      <td>-0.094112</td>\n",
       "      <td>-0.155151</td>\n",
       "      <td>-0.084286</td>\n",
       "      <td>0.090908</td>\n",
       "      <td>-0.043211</td>\n",
       "      <td>0.014610</td>\n",
       "      <td>0.001289</td>\n",
       "      <td>-0.053923</td>\n",
       "    </tr>\n",
       "    <tr>\n",
       "      <th>GarageYrBlt</th>\n",
       "      <td>0.013491</td>\n",
       "      <td>-0.080997</td>\n",
       "      <td>0.072599</td>\n",
       "      <td>0.288998</td>\n",
       "      <td>-0.006515</td>\n",
       "      <td>0.272029</td>\n",
       "      <td>0.146357</td>\n",
       "      <td>0.132696</td>\n",
       "      <td>0.115843</td>\n",
       "      <td>0.035070</td>\n",
       "      <td>...</td>\n",
       "      <td>-0.552668</td>\n",
       "      <td>-0.510562</td>\n",
       "      <td>-0.363861</td>\n",
       "      <td>-0.391278</td>\n",
       "      <td>-0.239552</td>\n",
       "      <td>0.014402</td>\n",
       "      <td>-0.004384</td>\n",
       "      <td>-0.020989</td>\n",
       "      <td>-0.041283</td>\n",
       "      <td>-0.091356</td>\n",
       "    </tr>\n",
       "    <tr>\n",
       "      <th>GarageCars</th>\n",
       "      <td>0.016570</td>\n",
       "      <td>-0.040110</td>\n",
       "      <td>0.154871</td>\n",
       "      <td>0.600671</td>\n",
       "      <td>-0.185758</td>\n",
       "      <td>0.537850</td>\n",
       "      <td>0.420622</td>\n",
       "      <td>0.361945</td>\n",
       "      <td>0.224054</td>\n",
       "      <td>-0.038264</td>\n",
       "      <td>...</td>\n",
       "      <td>-0.346374</td>\n",
       "      <td>-0.008036</td>\n",
       "      <td>-0.306372</td>\n",
       "      <td>-0.319719</td>\n",
       "      <td>-0.253820</td>\n",
       "      <td>0.026252</td>\n",
       "      <td>-0.148574</td>\n",
       "      <td>-0.064610</td>\n",
       "      <td>0.029359</td>\n",
       "      <td>0.002341</td>\n",
       "    </tr>\n",
       "    <tr>\n",
       "      <th>GarageArea</th>\n",
       "      <td>0.017634</td>\n",
       "      <td>-0.098672</td>\n",
       "      <td>0.180403</td>\n",
       "      <td>0.562022</td>\n",
       "      <td>-0.151521</td>\n",
       "      <td>0.478954</td>\n",
       "      <td>0.371600</td>\n",
       "      <td>0.370884</td>\n",
       "      <td>0.296970</td>\n",
       "      <td>-0.018227</td>\n",
       "      <td>...</td>\n",
       "      <td>-0.312379</td>\n",
       "      <td>-0.032282</td>\n",
       "      <td>-0.278816</td>\n",
       "      <td>-0.298108</td>\n",
       "      <td>-0.242255</td>\n",
       "      <td>0.055120</td>\n",
       "      <td>-0.121121</td>\n",
       "      <td>-0.044802</td>\n",
       "      <td>0.045948</td>\n",
       "      <td>-0.000998</td>\n",
       "    </tr>\n",
       "    <tr>\n",
       "      <th>WoodDeckSF</th>\n",
       "      <td>-0.029643</td>\n",
       "      <td>-0.012579</td>\n",
       "      <td>0.171698</td>\n",
       "      <td>0.238923</td>\n",
       "      <td>-0.003334</td>\n",
       "      <td>0.224880</td>\n",
       "      <td>0.205726</td>\n",
       "      <td>0.159991</td>\n",
       "      <td>0.204306</td>\n",
       "      <td>0.067898</td>\n",
       "      <td>...</td>\n",
       "      <td>-0.139962</td>\n",
       "      <td>0.136562</td>\n",
       "      <td>-0.079554</td>\n",
       "      <td>-0.091936</td>\n",
       "      <td>-0.102714</td>\n",
       "      <td>0.035554</td>\n",
       "      <td>0.033655</td>\n",
       "      <td>0.007416</td>\n",
       "      <td>-0.021255</td>\n",
       "      <td>-0.045472</td>\n",
       "    </tr>\n",
       "    <tr>\n",
       "      <th>OpenPorchSF</th>\n",
       "      <td>-0.000477</td>\n",
       "      <td>-0.006100</td>\n",
       "      <td>0.084774</td>\n",
       "      <td>0.308819</td>\n",
       "      <td>-0.032589</td>\n",
       "      <td>0.188686</td>\n",
       "      <td>0.226298</td>\n",
       "      <td>0.122528</td>\n",
       "      <td>0.111761</td>\n",
       "      <td>0.003093</td>\n",
       "      <td>...</td>\n",
       "      <td>-0.052024</td>\n",
       "      <td>0.155757</td>\n",
       "      <td>-0.002333</td>\n",
       "      <td>-0.047727</td>\n",
       "      <td>-0.034247</td>\n",
       "      <td>0.032748</td>\n",
       "      <td>-0.045563</td>\n",
       "      <td>-0.004189</td>\n",
       "      <td>0.016236</td>\n",
       "      <td>0.020606</td>\n",
       "    </tr>\n",
       "    <tr>\n",
       "      <th>EnclosedPorch</th>\n",
       "      <td>0.002889</td>\n",
       "      <td>-0.012037</td>\n",
       "      <td>-0.018340</td>\n",
       "      <td>-0.113937</td>\n",
       "      <td>0.070356</td>\n",
       "      <td>-0.387268</td>\n",
       "      <td>-0.193919</td>\n",
       "      <td>-0.109907</td>\n",
       "      <td>-0.102303</td>\n",
       "      <td>0.036543</td>\n",
       "      <td>...</td>\n",
       "      <td>0.098457</td>\n",
       "      <td>-0.118676</td>\n",
       "      <td>0.109059</td>\n",
       "      <td>0.112105</td>\n",
       "      <td>0.183532</td>\n",
       "      <td>0.065243</td>\n",
       "      <td>0.064606</td>\n",
       "      <td>0.023337</td>\n",
       "      <td>-0.018088</td>\n",
       "      <td>0.006516</td>\n",
       "    </tr>\n",
       "    <tr>\n",
       "      <th>...</th>\n",
       "      <td>...</td>\n",
       "      <td>...</td>\n",
       "      <td>...</td>\n",
       "      <td>...</td>\n",
       "      <td>...</td>\n",
       "      <td>...</td>\n",
       "      <td>...</td>\n",
       "      <td>...</td>\n",
       "      <td>...</td>\n",
       "      <td>...</td>\n",
       "      <td>...</td>\n",
       "      <td>...</td>\n",
       "      <td>...</td>\n",
       "      <td>...</td>\n",
       "      <td>...</td>\n",
       "      <td>...</td>\n",
       "      <td>...</td>\n",
       "      <td>...</td>\n",
       "      <td>...</td>\n",
       "      <td>...</td>\n",
       "      <td>...</td>\n",
       "    </tr>\n",
       "    <tr>\n",
       "      <th>RoofStyle_n</th>\n",
       "      <td>0.013715</td>\n",
       "      <td>-0.088609</td>\n",
       "      <td>0.106159</td>\n",
       "      <td>0.095772</td>\n",
       "      <td>0.042826</td>\n",
       "      <td>-0.036787</td>\n",
       "      <td>0.002863</td>\n",
       "      <td>0.144243</td>\n",
       "      <td>0.115648</td>\n",
       "      <td>0.078722</td>\n",
       "      <td>...</td>\n",
       "      <td>-0.009722</td>\n",
       "      <td>0.028684</td>\n",
       "      <td>-0.027649</td>\n",
       "      <td>0.037356</td>\n",
       "      <td>0.043828</td>\n",
       "      <td>0.038248</td>\n",
       "      <td>0.035630</td>\n",
       "      <td>0.049923</td>\n",
       "      <td>-0.028736</td>\n",
       "      <td>0.013202</td>\n",
       "    </tr>\n",
       "    <tr>\n",
       "      <th>RoofMatl_n</th>\n",
       "      <td>-0.003256</td>\n",
       "      <td>-0.014482</td>\n",
       "      <td>0.183650</td>\n",
       "      <td>0.088956</td>\n",
       "      <td>0.017281</td>\n",
       "      <td>-0.003832</td>\n",
       "      <td>-0.012439</td>\n",
       "      <td>0.093129</td>\n",
       "      <td>0.174627</td>\n",
       "      <td>0.076261</td>\n",
       "      <td>...</td>\n",
       "      <td>-0.022191</td>\n",
       "      <td>0.009303</td>\n",
       "      <td>0.006045</td>\n",
       "      <td>0.030766</td>\n",
       "      <td>-0.030975</td>\n",
       "      <td>0.097370</td>\n",
       "      <td>-0.011160</td>\n",
       "      <td>-0.019315</td>\n",
       "      <td>-0.002343</td>\n",
       "      <td>0.019851</td>\n",
       "    </tr>\n",
       "    <tr>\n",
       "      <th>Exterior1st_n</th>\n",
       "      <td>0.008415</td>\n",
       "      <td>0.031107</td>\n",
       "      <td>0.067630</td>\n",
       "      <td>-0.217295</td>\n",
       "      <td>0.089382</td>\n",
       "      <td>-0.427878</td>\n",
       "      <td>-0.374632</td>\n",
       "      <td>-0.137914</td>\n",
       "      <td>0.012071</td>\n",
       "      <td>0.105360</td>\n",
       "      <td>...</td>\n",
       "      <td>0.154735</td>\n",
       "      <td>-0.109798</td>\n",
       "      <td>0.152847</td>\n",
       "      <td>0.133793</td>\n",
       "      <td>0.151869</td>\n",
       "      <td>0.057425</td>\n",
       "      <td>0.118310</td>\n",
       "      <td>0.000338</td>\n",
       "      <td>-0.003569</td>\n",
       "      <td>0.052374</td>\n",
       "    </tr>\n",
       "    <tr>\n",
       "      <th>Exterior2nd_n</th>\n",
       "      <td>0.019169</td>\n",
       "      <td>0.063106</td>\n",
       "      <td>0.065749</td>\n",
       "      <td>-0.195456</td>\n",
       "      <td>0.042202</td>\n",
       "      <td>-0.347919</td>\n",
       "      <td>-0.337101</td>\n",
       "      <td>-0.113055</td>\n",
       "      <td>0.030533</td>\n",
       "      <td>0.100643</td>\n",
       "      <td>...</td>\n",
       "      <td>0.108532</td>\n",
       "      <td>-0.119681</td>\n",
       "      <td>0.109990</td>\n",
       "      <td>0.114167</td>\n",
       "      <td>0.105045</td>\n",
       "      <td>0.075801</td>\n",
       "      <td>0.089263</td>\n",
       "      <td>0.008628</td>\n",
       "      <td>-0.026475</td>\n",
       "      <td>0.029239</td>\n",
       "    </tr>\n",
       "    <tr>\n",
       "      <th>MasVnrType_n</th>\n",
       "      <td>-0.021465</td>\n",
       "      <td>-0.006392</td>\n",
       "      <td>0.070501</td>\n",
       "      <td>0.390447</td>\n",
       "      <td>-0.163429</td>\n",
       "      <td>0.399026</td>\n",
       "      <td>0.257322</td>\n",
       "      <td>0.601679</td>\n",
       "      <td>0.234698</td>\n",
       "      <td>-0.053674</td>\n",
       "      <td>...</td>\n",
       "      <td>-0.147355</td>\n",
       "      <td>0.154914</td>\n",
       "      <td>-0.180845</td>\n",
       "      <td>-0.145022</td>\n",
       "      <td>-0.171126</td>\n",
       "      <td>0.009474</td>\n",
       "      <td>-0.057336</td>\n",
       "      <td>-0.040679</td>\n",
       "      <td>0.062795</td>\n",
       "      <td>0.060798</td>\n",
       "    </tr>\n",
       "    <tr>\n",
       "      <th>ExterQual_n</th>\n",
       "      <td>0.002656</td>\n",
       "      <td>0.032483</td>\n",
       "      <td>0.038360</td>\n",
       "      <td>0.576478</td>\n",
       "      <td>-0.203019</td>\n",
       "      <td>0.485289</td>\n",
       "      <td>0.465722</td>\n",
       "      <td>0.288202</td>\n",
       "      <td>0.143002</td>\n",
       "      <td>-0.066933</td>\n",
       "      <td>...</td>\n",
       "      <td>-0.097098</td>\n",
       "      <td>0.334755</td>\n",
       "      <td>-0.091356</td>\n",
       "      <td>-0.120983</td>\n",
       "      <td>-0.104664</td>\n",
       "      <td>0.010781</td>\n",
       "      <td>-0.216933</td>\n",
       "      <td>0.007476</td>\n",
       "      <td>0.114144</td>\n",
       "      <td>0.037087</td>\n",
       "    </tr>\n",
       "    <tr>\n",
       "      <th>ExterCond_n</th>\n",
       "      <td>-0.040706</td>\n",
       "      <td>0.010638</td>\n",
       "      <td>-0.020224</td>\n",
       "      <td>-0.150356</td>\n",
       "      <td>0.168155</td>\n",
       "      <td>-0.271035</td>\n",
       "      <td>-0.089719</td>\n",
       "      <td>-0.073668</td>\n",
       "      <td>-0.057316</td>\n",
       "      <td>0.006565</td>\n",
       "      <td>...</td>\n",
       "      <td>0.127610</td>\n",
       "      <td>-0.021497</td>\n",
       "      <td>0.127233</td>\n",
       "      <td>0.123684</td>\n",
       "      <td>0.139390</td>\n",
       "      <td>0.012308</td>\n",
       "      <td>0.065462</td>\n",
       "      <td>0.050082</td>\n",
       "      <td>-0.000434</td>\n",
       "      <td>0.004150</td>\n",
       "    </tr>\n",
       "    <tr>\n",
       "      <th>Foundation_n</th>\n",
       "      <td>0.017861</td>\n",
       "      <td>-0.027459</td>\n",
       "      <td>-0.002214</td>\n",
       "      <td>-0.483692</td>\n",
       "      <td>0.254964</td>\n",
       "      <td>-0.676011</td>\n",
       "      <td>-0.489679</td>\n",
       "      <td>-0.218260</td>\n",
       "      <td>-0.187293</td>\n",
       "      <td>0.048331</td>\n",
       "      <td>...</td>\n",
       "      <td>0.229807</td>\n",
       "      <td>-0.301562</td>\n",
       "      <td>0.243451</td>\n",
       "      <td>0.206649</td>\n",
       "      <td>0.244376</td>\n",
       "      <td>-0.007789</td>\n",
       "      <td>0.162468</td>\n",
       "      <td>0.120094</td>\n",
       "      <td>-0.053947</td>\n",
       "      <td>-0.009463</td>\n",
       "    </tr>\n",
       "    <tr>\n",
       "      <th>BsmtQual_n</th>\n",
       "      <td>-0.039813</td>\n",
       "      <td>0.064476</td>\n",
       "      <td>0.020651</td>\n",
       "      <td>0.279529</td>\n",
       "      <td>-0.206920</td>\n",
       "      <td>0.295320</td>\n",
       "      <td>0.250254</td>\n",
       "      <td>0.149482</td>\n",
       "      <td>0.041329</td>\n",
       "      <td>-0.112450</td>\n",
       "      <td>...</td>\n",
       "      <td>-0.033267</td>\n",
       "      <td>0.184377</td>\n",
       "      <td>0.029336</td>\n",
       "      <td>0.042048</td>\n",
       "      <td>-0.036248</td>\n",
       "      <td>0.000590</td>\n",
       "      <td>-0.198996</td>\n",
       "      <td>0.000187</td>\n",
       "      <td>0.041353</td>\n",
       "      <td>0.057116</td>\n",
       "    </tr>\n",
       "    <tr>\n",
       "      <th>BsmtCond_n</th>\n",
       "      <td>-0.014177</td>\n",
       "      <td>0.016633</td>\n",
       "      <td>-0.026115</td>\n",
       "      <td>-0.222035</td>\n",
       "      <td>-0.099189</td>\n",
       "      <td>-0.186255</td>\n",
       "      <td>-0.140694</td>\n",
       "      <td>-0.094242</td>\n",
       "      <td>-0.173130</td>\n",
       "      <td>-0.032744</td>\n",
       "      <td>...</td>\n",
       "      <td>0.153679</td>\n",
       "      <td>-0.037821</td>\n",
       "      <td>0.076883</td>\n",
       "      <td>0.173969</td>\n",
       "      <td>0.154235</td>\n",
       "      <td>-0.019207</td>\n",
       "      <td>-0.051253</td>\n",
       "      <td>0.032318</td>\n",
       "      <td>0.016751</td>\n",
       "      <td>0.048515</td>\n",
       "    </tr>\n",
       "    <tr>\n",
       "      <th>BsmtExposure_n</th>\n",
       "      <td>0.020383</td>\n",
       "      <td>0.039888</td>\n",
       "      <td>0.140618</td>\n",
       "      <td>0.057074</td>\n",
       "      <td>-0.056329</td>\n",
       "      <td>0.091151</td>\n",
       "      <td>0.036929</td>\n",
       "      <td>0.061129</td>\n",
       "      <td>0.130742</td>\n",
       "      <td>0.062733</td>\n",
       "      <td>...</td>\n",
       "      <td>0.009459</td>\n",
       "      <td>0.069541</td>\n",
       "      <td>-0.031406</td>\n",
       "      <td>0.011072</td>\n",
       "      <td>0.034491</td>\n",
       "      <td>-0.012317</td>\n",
       "      <td>-0.052889</td>\n",
       "      <td>0.024527</td>\n",
       "      <td>0.054257</td>\n",
       "      <td>0.045660</td>\n",
       "    </tr>\n",
       "    <tr>\n",
       "      <th>BsmtFinType1_n</th>\n",
       "      <td>-0.016140</td>\n",
       "      <td>-0.084517</td>\n",
       "      <td>0.028916</td>\n",
       "      <td>-0.357867</td>\n",
       "      <td>0.063677</td>\n",
       "      <td>-0.261602</td>\n",
       "      <td>-0.355216</td>\n",
       "      <td>-0.062011</td>\n",
       "      <td>0.169973</td>\n",
       "      <td>0.273649</td>\n",
       "      <td>...</td>\n",
       "      <td>0.038993</td>\n",
       "      <td>-0.170549</td>\n",
       "      <td>-0.053091</td>\n",
       "      <td>-0.017633</td>\n",
       "      <td>-0.018629</td>\n",
       "      <td>0.001186</td>\n",
       "      <td>0.145165</td>\n",
       "      <td>0.063524</td>\n",
       "      <td>-0.047276</td>\n",
       "      <td>-0.043134</td>\n",
       "    </tr>\n",
       "    <tr>\n",
       "      <th>BsmtFinType2_n</th>\n",
       "      <td>-0.046433</td>\n",
       "      <td>-0.014958</td>\n",
       "      <td>0.048300</td>\n",
       "      <td>-0.152469</td>\n",
       "      <td>0.043314</td>\n",
       "      <td>-0.071660</td>\n",
       "      <td>-0.109693</td>\n",
       "      <td>-0.074226</td>\n",
       "      <td>-0.087353</td>\n",
       "      <td>0.687728</td>\n",
       "      <td>...</td>\n",
       "      <td>0.020046</td>\n",
       "      <td>-0.046968</td>\n",
       "      <td>-0.022412</td>\n",
       "      <td>0.015071</td>\n",
       "      <td>-0.026012</td>\n",
       "      <td>0.047048</td>\n",
       "      <td>0.124463</td>\n",
       "      <td>0.057593</td>\n",
       "      <td>-0.015557</td>\n",
       "      <td>-0.019716</td>\n",
       "    </tr>\n",
       "    <tr>\n",
       "      <th>Heating_n</th>\n",
       "      <td>0.061902</td>\n",
       "      <td>0.031321</td>\n",
       "      <td>0.022623</td>\n",
       "      <td>-0.119230</td>\n",
       "      <td>-0.072006</td>\n",
       "      <td>-0.180570</td>\n",
       "      <td>-0.162898</td>\n",
       "      <td>-0.055957</td>\n",
       "      <td>-0.072048</td>\n",
       "      <td>-0.011411</td>\n",
       "      <td>...</td>\n",
       "      <td>0.102042</td>\n",
       "      <td>-0.027409</td>\n",
       "      <td>0.122462</td>\n",
       "      <td>0.175109</td>\n",
       "      <td>0.141864</td>\n",
       "      <td>-0.008075</td>\n",
       "      <td>-0.005080</td>\n",
       "      <td>-0.013283</td>\n",
       "      <td>0.010397</td>\n",
       "      <td>-0.031399</td>\n",
       "    </tr>\n",
       "    <tr>\n",
       "      <th>HeatingQC_n</th>\n",
       "      <td>-0.011300</td>\n",
       "      <td>0.008709</td>\n",
       "      <td>-0.015646</td>\n",
       "      <td>-0.385939</td>\n",
       "      <td>0.069909</td>\n",
       "      <td>-0.429999</td>\n",
       "      <td>-0.424799</td>\n",
       "      <td>-0.156266</td>\n",
       "      <td>-0.109390</td>\n",
       "      <td>0.025309</td>\n",
       "      <td>...</td>\n",
       "      <td>0.159625</td>\n",
       "      <td>-0.165347</td>\n",
       "      <td>0.137869</td>\n",
       "      <td>0.142181</td>\n",
       "      <td>0.222695</td>\n",
       "      <td>0.048470</td>\n",
       "      <td>0.112354</td>\n",
       "      <td>0.065537</td>\n",
       "      <td>-0.032957</td>\n",
       "      <td>-0.025618</td>\n",
       "    </tr>\n",
       "    <tr>\n",
       "      <th>CentralAir_n</th>\n",
       "      <td>-0.009821</td>\n",
       "      <td>0.101774</td>\n",
       "      <td>-0.049755</td>\n",
       "      <td>-0.272038</td>\n",
       "      <td>-0.118969</td>\n",
       "      <td>-0.381831</td>\n",
       "      <td>-0.298878</td>\n",
       "      <td>-0.126409</td>\n",
       "      <td>-0.166468</td>\n",
       "      <td>-0.039936</td>\n",
       "      <td>...</td>\n",
       "      <td>0.262692</td>\n",
       "      <td>-0.024004</td>\n",
       "      <td>0.251666</td>\n",
       "      <td>0.290698</td>\n",
       "      <td>0.275660</td>\n",
       "      <td>-0.016701</td>\n",
       "      <td>-0.015231</td>\n",
       "      <td>0.021465</td>\n",
       "      <td>0.016838</td>\n",
       "      <td>0.037625</td>\n",
       "    </tr>\n",
       "    <tr>\n",
       "      <th>Electrical_n</th>\n",
       "      <td>-0.056728</td>\n",
       "      <td>-0.027321</td>\n",
       "      <td>-0.047430</td>\n",
       "      <td>-0.242347</td>\n",
       "      <td>-0.097744</td>\n",
       "      <td>-0.322185</td>\n",
       "      <td>-0.339542</td>\n",
       "      <td>-0.096851</td>\n",
       "      <td>-0.160652</td>\n",
       "      <td>-0.028221</td>\n",
       "      <td>...</td>\n",
       "      <td>0.159999</td>\n",
       "      <td>-0.098385</td>\n",
       "      <td>0.211441</td>\n",
       "      <td>0.236744</td>\n",
       "      <td>0.225689</td>\n",
       "      <td>-0.017694</td>\n",
       "      <td>-0.008955</td>\n",
       "      <td>-0.034929</td>\n",
       "      <td>-0.031950</td>\n",
       "      <td>0.058445</td>\n",
       "    </tr>\n",
       "    <tr>\n",
       "      <th>KitchenQual_n</th>\n",
       "      <td>0.004067</td>\n",
       "      <td>0.003478</td>\n",
       "      <td>0.031905</td>\n",
       "      <td>0.441213</td>\n",
       "      <td>-0.072965</td>\n",
       "      <td>0.289329</td>\n",
       "      <td>0.386459</td>\n",
       "      <td>0.185630</td>\n",
       "      <td>0.108989</td>\n",
       "      <td>-0.065272</td>\n",
       "      <td>...</td>\n",
       "      <td>-0.042054</td>\n",
       "      <td>0.275270</td>\n",
       "      <td>0.012835</td>\n",
       "      <td>-0.018268</td>\n",
       "      <td>-0.004558</td>\n",
       "      <td>0.046411</td>\n",
       "      <td>-0.139443</td>\n",
       "      <td>-0.022754</td>\n",
       "      <td>0.061577</td>\n",
       "      <td>0.037397</td>\n",
       "    </tr>\n",
       "    <tr>\n",
       "      <th>Functional_n</th>\n",
       "      <td>-0.010104</td>\n",
       "      <td>0.001646</td>\n",
       "      <td>0.029283</td>\n",
       "      <td>-0.137160</td>\n",
       "      <td>-0.118978</td>\n",
       "      <td>-0.138408</td>\n",
       "      <td>-0.072366</td>\n",
       "      <td>-0.076040</td>\n",
       "      <td>-0.051198</td>\n",
       "      <td>0.125479</td>\n",
       "      <td>...</td>\n",
       "      <td>0.099937</td>\n",
       "      <td>-0.061636</td>\n",
       "      <td>0.058645</td>\n",
       "      <td>0.051760</td>\n",
       "      <td>0.027083</td>\n",
       "      <td>-0.014904</td>\n",
       "      <td>0.055192</td>\n",
       "      <td>0.076264</td>\n",
       "      <td>-0.000328</td>\n",
       "      <td>-0.006804</td>\n",
       "    </tr>\n",
       "    <tr>\n",
       "      <th>FireplaceQu_n</th>\n",
       "      <td>-0.018806</td>\n",
       "      <td>-0.018086</td>\n",
       "      <td>0.128774</td>\n",
       "      <td>0.283861</td>\n",
       "      <td>-0.054105</td>\n",
       "      <td>0.173457</td>\n",
       "      <td>0.108726</td>\n",
       "      <td>0.202845</td>\n",
       "      <td>0.188295</td>\n",
       "      <td>0.051231</td>\n",
       "      <td>...</td>\n",
       "      <td>-0.176515</td>\n",
       "      <td>0.117123</td>\n",
       "      <td>-0.081003</td>\n",
       "      <td>-0.127152</td>\n",
       "      <td>-0.096365</td>\n",
       "      <td>0.102564</td>\n",
       "      <td>0.016740</td>\n",
       "      <td>0.012722</td>\n",
       "      <td>-0.016921</td>\n",
       "      <td>-0.075041</td>\n",
       "    </tr>\n",
       "    <tr>\n",
       "      <th>GarageType_n</th>\n",
       "      <td>-0.004256</td>\n",
       "      <td>0.164193</td>\n",
       "      <td>-0.066204</td>\n",
       "      <td>-0.293393</td>\n",
       "      <td>0.003521</td>\n",
       "      <td>-0.321568</td>\n",
       "      <td>-0.182247</td>\n",
       "      <td>-0.123286</td>\n",
       "      <td>-0.197154</td>\n",
       "      <td>-0.040819</td>\n",
       "      <td>...</td>\n",
       "      <td>1.000000</td>\n",
       "      <td>0.167090</td>\n",
       "      <td>0.284512</td>\n",
       "      <td>0.276789</td>\n",
       "      <td>0.198632</td>\n",
       "      <td>-0.030797</td>\n",
       "      <td>-0.009469</td>\n",
       "      <td>0.036027</td>\n",
       "      <td>0.031618</td>\n",
       "      <td>0.128732</td>\n",
       "    </tr>\n",
       "    <tr>\n",
       "      <th>GarageFinish_n</th>\n",
       "      <td>-0.000034</td>\n",
       "      <td>0.052038</td>\n",
       "      <td>0.046625</td>\n",
       "      <td>0.275131</td>\n",
       "      <td>-0.173026</td>\n",
       "      <td>0.342565</td>\n",
       "      <td>0.313004</td>\n",
       "      <td>0.146081</td>\n",
       "      <td>0.134247</td>\n",
       "      <td>-0.051147</td>\n",
       "      <td>...</td>\n",
       "      <td>0.167090</td>\n",
       "      <td>1.000000</td>\n",
       "      <td>0.073236</td>\n",
       "      <td>0.101662</td>\n",
       "      <td>-0.015358</td>\n",
       "      <td>0.009432</td>\n",
       "      <td>-0.112243</td>\n",
       "      <td>-0.012139</td>\n",
       "      <td>0.068575</td>\n",
       "      <td>0.056706</td>\n",
       "    </tr>\n",
       "    <tr>\n",
       "      <th>GarageQual_n</th>\n",
       "      <td>-0.012676</td>\n",
       "      <td>0.055006</td>\n",
       "      <td>-0.040210</td>\n",
       "      <td>-0.160127</td>\n",
       "      <td>0.086357</td>\n",
       "      <td>-0.349503</td>\n",
       "      <td>-0.159714</td>\n",
       "      <td>-0.139110</td>\n",
       "      <td>-0.146226</td>\n",
       "      <td>-0.049336</td>\n",
       "      <td>...</td>\n",
       "      <td>0.284512</td>\n",
       "      <td>0.073236</td>\n",
       "      <td>1.000000</td>\n",
       "      <td>0.642168</td>\n",
       "      <td>0.221476</td>\n",
       "      <td>0.006872</td>\n",
       "      <td>0.002978</td>\n",
       "      <td>0.030999</td>\n",
       "      <td>-0.023254</td>\n",
       "      <td>0.054991</td>\n",
       "    </tr>\n",
       "    <tr>\n",
       "      <th>GarageCond_n</th>\n",
       "      <td>0.000568</td>\n",
       "      <td>0.040650</td>\n",
       "      <td>-0.055792</td>\n",
       "      <td>-0.226272</td>\n",
       "      <td>0.023459</td>\n",
       "      <td>-0.317723</td>\n",
       "      <td>-0.195652</td>\n",
       "      <td>-0.111800</td>\n",
       "      <td>-0.133057</td>\n",
       "      <td>-0.023178</td>\n",
       "      <td>...</td>\n",
       "      <td>0.276789</td>\n",
       "      <td>0.101662</td>\n",
       "      <td>0.642168</td>\n",
       "      <td>1.000000</td>\n",
       "      <td>0.268350</td>\n",
       "      <td>0.009638</td>\n",
       "      <td>0.035089</td>\n",
       "      <td>0.023961</td>\n",
       "      <td>-0.002300</td>\n",
       "      <td>0.048722</td>\n",
       "    </tr>\n",
       "    <tr>\n",
       "      <th>PavedDrive_n</th>\n",
       "      <td>0.008921</td>\n",
       "      <td>0.025973</td>\n",
       "      <td>-0.002964</td>\n",
       "      <td>-0.200702</td>\n",
       "      <td>0.082132</td>\n",
       "      <td>-0.396023</td>\n",
       "      <td>-0.193616</td>\n",
       "      <td>-0.140724</td>\n",
       "      <td>-0.175379</td>\n",
       "      <td>-0.067842</td>\n",
       "      <td>...</td>\n",
       "      <td>0.198632</td>\n",
       "      <td>-0.015358</td>\n",
       "      <td>0.221476</td>\n",
       "      <td>0.268350</td>\n",
       "      <td>1.000000</td>\n",
       "      <td>-0.017815</td>\n",
       "      <td>0.001394</td>\n",
       "      <td>0.019283</td>\n",
       "      <td>-0.028452</td>\n",
       "      <td>0.000620</td>\n",
       "    </tr>\n",
       "    <tr>\n",
       "      <th>PoolQC_n</th>\n",
       "      <td>0.043368</td>\n",
       "      <td>-0.001113</td>\n",
       "      <td>0.058232</td>\n",
       "      <td>0.062375</td>\n",
       "      <td>-0.015231</td>\n",
       "      <td>0.001374</td>\n",
       "      <td>0.011973</td>\n",
       "      <td>0.008207</td>\n",
       "      <td>0.117715</td>\n",
       "      <td>0.069478</td>\n",
       "      <td>...</td>\n",
       "      <td>-0.030797</td>\n",
       "      <td>0.009432</td>\n",
       "      <td>0.006872</td>\n",
       "      <td>0.009638</td>\n",
       "      <td>-0.017815</td>\n",
       "      <td>1.000000</td>\n",
       "      <td>0.091455</td>\n",
       "      <td>0.226529</td>\n",
       "      <td>-0.012496</td>\n",
       "      <td>0.056804</td>\n",
       "    </tr>\n",
       "    <tr>\n",
       "      <th>Fence_n</th>\n",
       "      <td>0.004620</td>\n",
       "      <td>-0.100303</td>\n",
       "      <td>-0.035421</td>\n",
       "      <td>-0.170554</td>\n",
       "      <td>0.142421</td>\n",
       "      <td>-0.193985</td>\n",
       "      <td>-0.146553</td>\n",
       "      <td>-0.071418</td>\n",
       "      <td>-0.000065</td>\n",
       "      <td>0.109056</td>\n",
       "      <td>...</td>\n",
       "      <td>-0.009469</td>\n",
       "      <td>-0.112243</td>\n",
       "      <td>0.002978</td>\n",
       "      <td>0.035089</td>\n",
       "      <td>0.001394</td>\n",
       "      <td>0.091455</td>\n",
       "      <td>1.000000</td>\n",
       "      <td>0.079069</td>\n",
       "      <td>-0.021306</td>\n",
       "      <td>0.014925</td>\n",
       "    </tr>\n",
       "    <tr>\n",
       "      <th>MiscFeature_n</th>\n",
       "      <td>-0.014074</td>\n",
       "      <td>-0.016437</td>\n",
       "      <td>0.089707</td>\n",
       "      <td>-0.083121</td>\n",
       "      <td>0.061981</td>\n",
       "      <td>-0.070932</td>\n",
       "      <td>-0.087934</td>\n",
       "      <td>-0.044700</td>\n",
       "      <td>-0.006777</td>\n",
       "      <td>0.009178</td>\n",
       "      <td>...</td>\n",
       "      <td>0.036027</td>\n",
       "      <td>-0.012139</td>\n",
       "      <td>0.030999</td>\n",
       "      <td>0.023961</td>\n",
       "      <td>0.019283</td>\n",
       "      <td>0.226529</td>\n",
       "      <td>0.079069</td>\n",
       "      <td>1.000000</td>\n",
       "      <td>0.015043</td>\n",
       "      <td>-0.034979</td>\n",
       "    </tr>\n",
       "    <tr>\n",
       "      <th>SaleType_n</th>\n",
       "      <td>-0.020018</td>\n",
       "      <td>0.014963</td>\n",
       "      <td>-0.012098</td>\n",
       "      <td>0.075002</td>\n",
       "      <td>-0.105673</td>\n",
       "      <td>0.081609</td>\n",
       "      <td>0.039722</td>\n",
       "      <td>0.033930</td>\n",
       "      <td>0.019767</td>\n",
       "      <td>0.012186</td>\n",
       "      <td>...</td>\n",
       "      <td>0.031618</td>\n",
       "      <td>0.068575</td>\n",
       "      <td>-0.023254</td>\n",
       "      <td>-0.002300</td>\n",
       "      <td>-0.028452</td>\n",
       "      <td>-0.012496</td>\n",
       "      <td>-0.021306</td>\n",
       "      <td>0.015043</td>\n",
       "      <td>1.000000</td>\n",
       "      <td>0.234852</td>\n",
       "    </tr>\n",
       "    <tr>\n",
       "      <th>SaleCondition_n</th>\n",
       "      <td>-0.016834</td>\n",
       "      <td>0.004788</td>\n",
       "      <td>-0.016193</td>\n",
       "      <td>0.002462</td>\n",
       "      <td>-0.125835</td>\n",
       "      <td>0.015943</td>\n",
       "      <td>-0.017517</td>\n",
       "      <td>0.015323</td>\n",
       "      <td>0.005293</td>\n",
       "      <td>-0.020424</td>\n",
       "      <td>...</td>\n",
       "      <td>0.128732</td>\n",
       "      <td>0.056706</td>\n",
       "      <td>0.054991</td>\n",
       "      <td>0.048722</td>\n",
       "      <td>0.000620</td>\n",
       "      <td>0.056804</td>\n",
       "      <td>0.014925</td>\n",
       "      <td>-0.034979</td>\n",
       "      <td>0.234852</td>\n",
       "      <td>1.000000</td>\n",
       "    </tr>\n",
       "  </tbody>\n",
       "</table>\n",
       "<p>80 rows × 80 columns</p>\n",
       "</div>"
      ],
      "text/plain": [
       "                       Id  MSSubClass   LotArea  OverallQual  OverallCond  \\\n",
       "Id               1.000000    0.011156 -0.033226    -0.028365     0.012609   \n",
       "MSSubClass       0.011156    1.000000 -0.139781     0.032628    -0.059316   \n",
       "LotArea         -0.033226   -0.139781  1.000000     0.105806    -0.005636   \n",
       "OverallQual     -0.028365    0.032628  0.105806     1.000000    -0.091932   \n",
       "OverallCond      0.012609   -0.059316 -0.005636    -0.091932     1.000000   \n",
       "YearBuilt       -0.012713    0.027850  0.014228     0.572323    -0.375983   \n",
       "YearRemodAdd    -0.021998    0.040581  0.013788     0.550684     0.073741   \n",
       "MasVnrArea      -0.051071    0.023573  0.103321     0.407252    -0.125694   \n",
       "BsmtFinSF1      -0.005024   -0.069836  0.214103     0.239666    -0.046231   \n",
       "BsmtFinSF2      -0.005968   -0.065649  0.111170    -0.059119     0.040229   \n",
       "BsmtUnfSF       -0.007940   -0.140759 -0.002618     0.308159    -0.136841   \n",
       "TotalBsmtSF     -0.015415   -0.238518  0.260833     0.537808    -0.171098   \n",
       "1stFlrSF         0.010496   -0.251758  0.299475     0.476224    -0.144203   \n",
       "2ndFlrSF         0.005590    0.307886  0.050986     0.295493     0.028942   \n",
       "LowQualFinSF    -0.044230    0.046474  0.004779    -0.030429     0.025494   \n",
       "GrLivArea        0.008273    0.074853  0.263116     0.593007    -0.079686   \n",
       "BsmtFullBath     0.002289    0.003491  0.158155     0.111098    -0.054942   \n",
       "BsmtHalfBath    -0.020155   -0.002333  0.048046    -0.040150     0.117821   \n",
       "FullBath         0.005587    0.131608  0.126031     0.550600    -0.194149   \n",
       "HalfBath         0.006784    0.177354  0.014259     0.273458    -0.060769   \n",
       "BedroomAbvGr     0.037719   -0.023438  0.119690     0.101676     0.012980   \n",
       "KitchenAbvGr     0.002951    0.281721 -0.017784    -0.183882    -0.087001   \n",
       "TotRmsAbvGrd     0.027239    0.040380  0.190015     0.427452    -0.057583   \n",
       "Fireplaces      -0.019772   -0.045569  0.271364     0.396765    -0.023820   \n",
       "GarageYrBlt      0.013491   -0.080997  0.072599     0.288998    -0.006515   \n",
       "GarageCars       0.016570   -0.040110  0.154871     0.600671    -0.185758   \n",
       "GarageArea       0.017634   -0.098672  0.180403     0.562022    -0.151521   \n",
       "WoodDeckSF      -0.029643   -0.012579  0.171698     0.238923    -0.003334   \n",
       "OpenPorchSF     -0.000477   -0.006100  0.084774     0.308819    -0.032589   \n",
       "EnclosedPorch    0.002889   -0.012037 -0.018340    -0.113937     0.070356   \n",
       "...                   ...         ...       ...          ...          ...   \n",
       "RoofStyle_n      0.013715   -0.088609  0.106159     0.095772     0.042826   \n",
       "RoofMatl_n      -0.003256   -0.014482  0.183650     0.088956     0.017281   \n",
       "Exterior1st_n    0.008415    0.031107  0.067630    -0.217295     0.089382   \n",
       "Exterior2nd_n    0.019169    0.063106  0.065749    -0.195456     0.042202   \n",
       "MasVnrType_n    -0.021465   -0.006392  0.070501     0.390447    -0.163429   \n",
       "ExterQual_n      0.002656    0.032483  0.038360     0.576478    -0.203019   \n",
       "ExterCond_n     -0.040706    0.010638 -0.020224    -0.150356     0.168155   \n",
       "Foundation_n     0.017861   -0.027459 -0.002214    -0.483692     0.254964   \n",
       "BsmtQual_n      -0.039813    0.064476  0.020651     0.279529    -0.206920   \n",
       "BsmtCond_n      -0.014177    0.016633 -0.026115    -0.222035    -0.099189   \n",
       "BsmtExposure_n   0.020383    0.039888  0.140618     0.057074    -0.056329   \n",
       "BsmtFinType1_n  -0.016140   -0.084517  0.028916    -0.357867     0.063677   \n",
       "BsmtFinType2_n  -0.046433   -0.014958  0.048300    -0.152469     0.043314   \n",
       "Heating_n        0.061902    0.031321  0.022623    -0.119230    -0.072006   \n",
       "HeatingQC_n     -0.011300    0.008709 -0.015646    -0.385939     0.069909   \n",
       "CentralAir_n    -0.009821    0.101774 -0.049755    -0.272038    -0.118969   \n",
       "Electrical_n    -0.056728   -0.027321 -0.047430    -0.242347    -0.097744   \n",
       "KitchenQual_n    0.004067    0.003478  0.031905     0.441213    -0.072965   \n",
       "Functional_n    -0.010104    0.001646  0.029283    -0.137160    -0.118978   \n",
       "FireplaceQu_n   -0.018806   -0.018086  0.128774     0.283861    -0.054105   \n",
       "GarageType_n    -0.004256    0.164193 -0.066204    -0.293393     0.003521   \n",
       "GarageFinish_n  -0.000034    0.052038  0.046625     0.275131    -0.173026   \n",
       "GarageQual_n    -0.012676    0.055006 -0.040210    -0.160127     0.086357   \n",
       "GarageCond_n     0.000568    0.040650 -0.055792    -0.226272     0.023459   \n",
       "PavedDrive_n     0.008921    0.025973 -0.002964    -0.200702     0.082132   \n",
       "PoolQC_n         0.043368   -0.001113  0.058232     0.062375    -0.015231   \n",
       "Fence_n          0.004620   -0.100303 -0.035421    -0.170554     0.142421   \n",
       "MiscFeature_n   -0.014074   -0.016437  0.089707    -0.083121     0.061981   \n",
       "SaleType_n      -0.020018    0.014963 -0.012098     0.075002    -0.105673   \n",
       "SaleCondition_n -0.016834    0.004788 -0.016193     0.002462    -0.125835   \n",
       "\n",
       "                 YearBuilt  YearRemodAdd  MasVnrArea  BsmtFinSF1  BsmtFinSF2  \\\n",
       "Id               -0.012713     -0.021998   -0.051071   -0.005024   -0.005968   \n",
       "MSSubClass        0.027850      0.040581    0.023573   -0.069836   -0.065649   \n",
       "LotArea           0.014228      0.013788    0.103321    0.214103    0.111170   \n",
       "OverallQual       0.572323      0.550684    0.407252    0.239666   -0.059119   \n",
       "OverallCond      -0.375983      0.073741   -0.125694   -0.046231    0.040229   \n",
       "YearBuilt         1.000000      0.592855    0.311600    0.249503   -0.049107   \n",
       "YearRemodAdd      0.592855      1.000000    0.176529    0.128451   -0.067759   \n",
       "MasVnrArea        0.311600      0.176529    1.000000    0.261256   -0.071330   \n",
       "BsmtFinSF1        0.249503      0.128451    0.261256    1.000000   -0.050117   \n",
       "BsmtFinSF2       -0.049107     -0.067759   -0.071330   -0.050117    1.000000   \n",
       "BsmtUnfSF         0.149040      0.181133    0.113862   -0.495251   -0.209294   \n",
       "TotalBsmtSF       0.391452      0.291066    0.360067    0.522396    0.104810   \n",
       "1stFlrSF          0.281986      0.240379    0.339850    0.445863    0.097117   \n",
       "2ndFlrSF          0.010308      0.140024    0.173800   -0.137079   -0.099260   \n",
       "LowQualFinSF     -0.183784     -0.062419   -0.068628   -0.064503    0.014807   \n",
       "GrLivArea         0.199010      0.287389    0.388052    0.208171   -0.009640   \n",
       "BsmtFullBath      0.187599      0.119470    0.083010    0.649212    0.158678   \n",
       "BsmtHalfBath     -0.038162     -0.012337    0.027403    0.067418    0.070948   \n",
       "FullBath          0.468271      0.439046    0.272999    0.058543   -0.076444   \n",
       "HalfBath          0.242656      0.183331    0.199108    0.004262   -0.032148   \n",
       "BedroomAbvGr     -0.070651     -0.040581    0.102775   -0.107355   -0.015728   \n",
       "KitchenAbvGr     -0.174800     -0.149598   -0.038450   -0.081007   -0.040751   \n",
       "TotRmsAbvGrd      0.095589      0.191740    0.279568    0.044316   -0.035227   \n",
       "Fireplaces        0.147716      0.112581    0.247015    0.260011    0.046921   \n",
       "GarageYrBlt       0.272029      0.146357    0.132696    0.115843    0.035070   \n",
       "GarageCars        0.537850      0.420622    0.361945    0.224054   -0.038264   \n",
       "GarageArea        0.478954      0.371600    0.370884    0.296970   -0.018227   \n",
       "WoodDeckSF        0.224880      0.205726    0.159991    0.204306    0.067898   \n",
       "OpenPorchSF       0.188686      0.226298    0.122528    0.111761    0.003093   \n",
       "EnclosedPorch    -0.387268     -0.193919   -0.109907   -0.102303    0.036543   \n",
       "...                    ...           ...         ...         ...         ...   \n",
       "RoofStyle_n      -0.036787      0.002863    0.144243    0.115648    0.078722   \n",
       "RoofMatl_n       -0.003832     -0.012439    0.093129    0.174627    0.076261   \n",
       "Exterior1st_n    -0.427878     -0.374632   -0.137914    0.012071    0.105360   \n",
       "Exterior2nd_n    -0.347919     -0.337101   -0.113055    0.030533    0.100643   \n",
       "MasVnrType_n      0.399026      0.257322    0.601679    0.234698   -0.053674   \n",
       "ExterQual_n       0.485289      0.465722    0.288202    0.143002   -0.066933   \n",
       "ExterCond_n      -0.271035     -0.089719   -0.073668   -0.057316    0.006565   \n",
       "Foundation_n     -0.676011     -0.489679   -0.218260   -0.187293    0.048331   \n",
       "BsmtQual_n        0.295320      0.250254    0.149482    0.041329   -0.112450   \n",
       "BsmtCond_n       -0.186255     -0.140694   -0.094242   -0.173130   -0.032744   \n",
       "BsmtExposure_n    0.091151      0.036929    0.061129    0.130742    0.062733   \n",
       "BsmtFinType1_n   -0.261602     -0.355216   -0.062011    0.169973    0.273649   \n",
       "BsmtFinType2_n   -0.071660     -0.109693   -0.074226   -0.087353    0.687728   \n",
       "Heating_n        -0.180570     -0.162898   -0.055957   -0.072048   -0.011411   \n",
       "HeatingQC_n      -0.429999     -0.424799   -0.156266   -0.109390    0.025309   \n",
       "CentralAir_n     -0.381831     -0.298878   -0.126409   -0.166468   -0.039936   \n",
       "Electrical_n     -0.322185     -0.339542   -0.096851   -0.160652   -0.028221   \n",
       "KitchenQual_n     0.289329      0.386459    0.185630    0.108989   -0.065272   \n",
       "Functional_n     -0.138408     -0.072366   -0.076040   -0.051198    0.125479   \n",
       "FireplaceQu_n     0.173457      0.108726    0.202845    0.188295    0.051231   \n",
       "GarageType_n     -0.321568     -0.182247   -0.123286   -0.197154   -0.040819   \n",
       "GarageFinish_n    0.342565      0.313004    0.146081    0.134247   -0.051147   \n",
       "GarageQual_n     -0.349503     -0.159714   -0.139110   -0.146226   -0.049336   \n",
       "GarageCond_n     -0.317723     -0.195652   -0.111800   -0.133057   -0.023178   \n",
       "PavedDrive_n     -0.396023     -0.193616   -0.140724   -0.175379   -0.067842   \n",
       "PoolQC_n          0.001374      0.011973    0.008207    0.117715    0.069478   \n",
       "Fence_n          -0.193985     -0.146553   -0.071418   -0.000065    0.109056   \n",
       "MiscFeature_n    -0.070932     -0.087934   -0.044700   -0.006777    0.009178   \n",
       "SaleType_n        0.081609      0.039722    0.033930    0.019767    0.012186   \n",
       "SaleCondition_n   0.015943     -0.017517    0.015323    0.005293   -0.020424   \n",
       "\n",
       "                      ...         GarageType_n  GarageFinish_n  GarageQual_n  \\\n",
       "Id                    ...            -0.004256       -0.000034     -0.012676   \n",
       "MSSubClass            ...             0.164193        0.052038      0.055006   \n",
       "LotArea               ...            -0.066204        0.046625     -0.040210   \n",
       "OverallQual           ...            -0.293393        0.275131     -0.160127   \n",
       "OverallCond           ...             0.003521       -0.173026      0.086357   \n",
       "YearBuilt             ...            -0.321568        0.342565     -0.349503   \n",
       "YearRemodAdd          ...            -0.182247        0.313004     -0.159714   \n",
       "MasVnrArea            ...            -0.123286        0.146081     -0.139110   \n",
       "BsmtFinSF1            ...            -0.197154        0.134247     -0.146226   \n",
       "BsmtFinSF2            ...            -0.040819       -0.051147     -0.049336   \n",
       "BsmtUnfSF             ...            -0.057378        0.076618      0.037590   \n",
       "TotalBsmtSF           ...            -0.277772        0.197932     -0.132304   \n",
       "1stFlrSF              ...            -0.215644        0.167385     -0.123738   \n",
       "2ndFlrSF              ...             0.097748        0.075631      0.026726   \n",
       "LowQualFinSF          ...             0.128403        0.034585      0.097492   \n",
       "GrLivArea             ...            -0.065563        0.189171     -0.059809   \n",
       "BsmtFullBath          ...            -0.112541        0.105542     -0.098123   \n",
       "BsmtHalfBath          ...            -0.006640       -0.045334     -0.045787   \n",
       "FullBath              ...            -0.122220        0.278674     -0.108404   \n",
       "HalfBath              ...            -0.045492        0.125139     -0.074066   \n",
       "BedroomAbvGr          ...             0.063519       -0.004632     -0.017778   \n",
       "KitchenAbvGr          ...             0.218805       -0.035806      0.143865   \n",
       "TotRmsAbvGrd          ...            -0.003913        0.143932     -0.023792   \n",
       "Fireplaces            ...            -0.168009        0.129392     -0.094112   \n",
       "GarageYrBlt           ...            -0.552668       -0.510562     -0.363861   \n",
       "GarageCars            ...            -0.346374       -0.008036     -0.306372   \n",
       "GarageArea            ...            -0.312379       -0.032282     -0.278816   \n",
       "WoodDeckSF            ...            -0.139962        0.136562     -0.079554   \n",
       "OpenPorchSF           ...            -0.052024        0.155757     -0.002333   \n",
       "EnclosedPorch         ...             0.098457       -0.118676      0.109059   \n",
       "...                   ...                  ...             ...           ...   \n",
       "RoofStyle_n           ...            -0.009722        0.028684     -0.027649   \n",
       "RoofMatl_n            ...            -0.022191        0.009303      0.006045   \n",
       "Exterior1st_n         ...             0.154735       -0.109798      0.152847   \n",
       "Exterior2nd_n         ...             0.108532       -0.119681      0.109990   \n",
       "MasVnrType_n          ...            -0.147355        0.154914     -0.180845   \n",
       "ExterQual_n           ...            -0.097098        0.334755     -0.091356   \n",
       "ExterCond_n           ...             0.127610       -0.021497      0.127233   \n",
       "Foundation_n          ...             0.229807       -0.301562      0.243451   \n",
       "BsmtQual_n            ...            -0.033267        0.184377      0.029336   \n",
       "BsmtCond_n            ...             0.153679       -0.037821      0.076883   \n",
       "BsmtExposure_n        ...             0.009459        0.069541     -0.031406   \n",
       "BsmtFinType1_n        ...             0.038993       -0.170549     -0.053091   \n",
       "BsmtFinType2_n        ...             0.020046       -0.046968     -0.022412   \n",
       "Heating_n             ...             0.102042       -0.027409      0.122462   \n",
       "HeatingQC_n           ...             0.159625       -0.165347      0.137869   \n",
       "CentralAir_n          ...             0.262692       -0.024004      0.251666   \n",
       "Electrical_n          ...             0.159999       -0.098385      0.211441   \n",
       "KitchenQual_n         ...            -0.042054        0.275270      0.012835   \n",
       "Functional_n          ...             0.099937       -0.061636      0.058645   \n",
       "FireplaceQu_n         ...            -0.176515        0.117123     -0.081003   \n",
       "GarageType_n          ...             1.000000        0.167090      0.284512   \n",
       "GarageFinish_n        ...             0.167090        1.000000      0.073236   \n",
       "GarageQual_n          ...             0.284512        0.073236      1.000000   \n",
       "GarageCond_n          ...             0.276789        0.101662      0.642168   \n",
       "PavedDrive_n          ...             0.198632       -0.015358      0.221476   \n",
       "PoolQC_n              ...            -0.030797        0.009432      0.006872   \n",
       "Fence_n               ...            -0.009469       -0.112243      0.002978   \n",
       "MiscFeature_n         ...             0.036027       -0.012139      0.030999   \n",
       "SaleType_n            ...             0.031618        0.068575     -0.023254   \n",
       "SaleCondition_n       ...             0.128732        0.056706      0.054991   \n",
       "\n",
       "                 GarageCond_n  PavedDrive_n  PoolQC_n   Fence_n  \\\n",
       "Id                   0.000568      0.008921  0.043368  0.004620   \n",
       "MSSubClass           0.040650      0.025973 -0.001113 -0.100303   \n",
       "LotArea             -0.055792     -0.002964  0.058232 -0.035421   \n",
       "OverallQual         -0.226272     -0.200702  0.062375 -0.170554   \n",
       "OverallCond          0.023459      0.082132 -0.015231  0.142421   \n",
       "YearBuilt           -0.317723     -0.396023  0.001374 -0.193985   \n",
       "YearRemodAdd        -0.195652     -0.193616  0.011973 -0.146553   \n",
       "MasVnrArea          -0.111800     -0.140724  0.008207 -0.071418   \n",
       "BsmtFinSF1          -0.133057     -0.175379  0.117715 -0.000065   \n",
       "BsmtFinSF2          -0.023178     -0.067842  0.069478  0.109056   \n",
       "BsmtUnfSF           -0.007936      0.021160 -0.048045 -0.147854   \n",
       "TotalBsmtSF         -0.154848     -0.185966  0.099538 -0.108885   \n",
       "1stFlrSF            -0.149947     -0.147598  0.099745 -0.070705   \n",
       "2ndFlrSF            -0.009465      0.034872  0.090289 -0.059453   \n",
       "LowQualFinSF         0.085472      0.076245  0.070933  0.026322   \n",
       "GrLivArea           -0.110268     -0.072562  0.154950 -0.098970   \n",
       "BsmtFullBath        -0.070085     -0.115018  0.070130  0.019226   \n",
       "BsmtHalfBath        -0.039183     -0.012814  0.025546  0.034154   \n",
       "FullBath            -0.144159     -0.138856  0.058836 -0.191718   \n",
       "HalfBath            -0.116969     -0.087447  0.038965 -0.071571   \n",
       "BedroomAbvGr        -0.004865      0.032287  0.076052  0.009907   \n",
       "KitchenAbvGr         0.142564      0.110847 -0.013386 -0.057154   \n",
       "TotRmsAbvGrd        -0.038626     -0.008858  0.084720 -0.058670   \n",
       "Fireplaces          -0.155151     -0.084286  0.090908 -0.043211   \n",
       "GarageYrBlt         -0.391278     -0.239552  0.014402 -0.004384   \n",
       "GarageCars          -0.319719     -0.253820  0.026252 -0.148574   \n",
       "GarageArea          -0.298108     -0.242255  0.055120 -0.121121   \n",
       "WoodDeckSF          -0.091936     -0.102714  0.035554  0.033655   \n",
       "OpenPorchSF         -0.047727     -0.034247  0.032748 -0.045563   \n",
       "EnclosedPorch        0.112105      0.183532  0.065243  0.064606   \n",
       "...                       ...           ...       ...       ...   \n",
       "RoofStyle_n          0.037356      0.043828  0.038248  0.035630   \n",
       "RoofMatl_n           0.030766     -0.030975  0.097370 -0.011160   \n",
       "Exterior1st_n        0.133793      0.151869  0.057425  0.118310   \n",
       "Exterior2nd_n        0.114167      0.105045  0.075801  0.089263   \n",
       "MasVnrType_n        -0.145022     -0.171126  0.009474 -0.057336   \n",
       "ExterQual_n         -0.120983     -0.104664  0.010781 -0.216933   \n",
       "ExterCond_n          0.123684      0.139390  0.012308  0.065462   \n",
       "Foundation_n         0.206649      0.244376 -0.007789  0.162468   \n",
       "BsmtQual_n           0.042048     -0.036248  0.000590 -0.198996   \n",
       "BsmtCond_n           0.173969      0.154235 -0.019207 -0.051253   \n",
       "BsmtExposure_n       0.011072      0.034491 -0.012317 -0.052889   \n",
       "BsmtFinType1_n      -0.017633     -0.018629  0.001186  0.145165   \n",
       "BsmtFinType2_n       0.015071     -0.026012  0.047048  0.124463   \n",
       "Heating_n            0.175109      0.141864 -0.008075 -0.005080   \n",
       "HeatingQC_n          0.142181      0.222695  0.048470  0.112354   \n",
       "CentralAir_n         0.290698      0.275660 -0.016701 -0.015231   \n",
       "Electrical_n         0.236744      0.225689 -0.017694 -0.008955   \n",
       "KitchenQual_n       -0.018268     -0.004558  0.046411 -0.139443   \n",
       "Functional_n         0.051760      0.027083 -0.014904  0.055192   \n",
       "FireplaceQu_n       -0.127152     -0.096365  0.102564  0.016740   \n",
       "GarageType_n         0.276789      0.198632 -0.030797 -0.009469   \n",
       "GarageFinish_n       0.101662     -0.015358  0.009432 -0.112243   \n",
       "GarageQual_n         0.642168      0.221476  0.006872  0.002978   \n",
       "GarageCond_n         1.000000      0.268350  0.009638  0.035089   \n",
       "PavedDrive_n         0.268350      1.000000 -0.017815  0.001394   \n",
       "PoolQC_n             0.009638     -0.017815  1.000000  0.091455   \n",
       "Fence_n              0.035089      0.001394  0.091455  1.000000   \n",
       "MiscFeature_n        0.023961      0.019283  0.226529  0.079069   \n",
       "SaleType_n          -0.002300     -0.028452 -0.012496 -0.021306   \n",
       "SaleCondition_n      0.048722      0.000620  0.056804  0.014925   \n",
       "\n",
       "                 MiscFeature_n  SaleType_n  SaleCondition_n  \n",
       "Id                   -0.014074   -0.020018        -0.016834  \n",
       "MSSubClass           -0.016437    0.014963         0.004788  \n",
       "LotArea               0.089707   -0.012098        -0.016193  \n",
       "OverallQual          -0.083121    0.075002         0.002462  \n",
       "OverallCond           0.061981   -0.105673        -0.125835  \n",
       "YearBuilt            -0.070932    0.081609         0.015943  \n",
       "YearRemodAdd         -0.087934    0.039722        -0.017517  \n",
       "MasVnrArea           -0.044700    0.033930         0.015323  \n",
       "BsmtFinSF1           -0.006777    0.019767         0.005293  \n",
       "BsmtFinSF2            0.009178    0.012186        -0.020424  \n",
       "BsmtUnfSF            -0.057738    0.066417         0.045331  \n",
       "TotalBsmtSF          -0.061824    0.091927         0.043650  \n",
       "1stFlrSF             -0.046096    0.094236         0.089923  \n",
       "2ndFlrSF              0.013509   -0.030278        -0.045401  \n",
       "LowQualFinSF          0.048354   -0.008062         0.019889  \n",
       "GrLivArea            -0.018215    0.043430         0.030280  \n",
       "BsmtFullBath         -0.009647   -0.005061        -0.007798  \n",
       "BsmtHalfBath          0.016051   -0.002239         0.051706  \n",
       "FullBath             -0.023262    0.049074         0.027388  \n",
       "HalfBath             -0.017294   -0.023284        -0.039444  \n",
       "BedroomAbvGr          0.032156   -0.012125         0.022741  \n",
       "KitchenAbvGr          0.051415    0.027892         0.120829  \n",
       "TotRmsAbvGrd          0.019505    0.051755         0.057916  \n",
       "Fireplaces            0.014610    0.001289        -0.053923  \n",
       "GarageYrBlt          -0.020989   -0.041283        -0.091356  \n",
       "GarageCars           -0.064610    0.029359         0.002341  \n",
       "GarageArea           -0.044802    0.045948        -0.000998  \n",
       "WoodDeckSF            0.007416   -0.021255        -0.045472  \n",
       "OpenPorchSF          -0.004189    0.016236         0.020606  \n",
       "EnclosedPorch         0.023337   -0.018088         0.006516  \n",
       "...                        ...         ...              ...  \n",
       "RoofStyle_n           0.049923   -0.028736         0.013202  \n",
       "RoofMatl_n           -0.019315   -0.002343         0.019851  \n",
       "Exterior1st_n         0.000338   -0.003569         0.052374  \n",
       "Exterior2nd_n         0.008628   -0.026475         0.029239  \n",
       "MasVnrType_n         -0.040679    0.062795         0.060798  \n",
       "ExterQual_n           0.007476    0.114144         0.037087  \n",
       "ExterCond_n           0.050082   -0.000434         0.004150  \n",
       "Foundation_n          0.120094   -0.053947        -0.009463  \n",
       "BsmtQual_n            0.000187    0.041353         0.057116  \n",
       "BsmtCond_n            0.032318    0.016751         0.048515  \n",
       "BsmtExposure_n        0.024527    0.054257         0.045660  \n",
       "BsmtFinType1_n        0.063524   -0.047276        -0.043134  \n",
       "BsmtFinType2_n        0.057593   -0.015557        -0.019716  \n",
       "Heating_n            -0.013283    0.010397        -0.031399  \n",
       "HeatingQC_n           0.065537   -0.032957        -0.025618  \n",
       "CentralAir_n          0.021465    0.016838         0.037625  \n",
       "Electrical_n         -0.034929   -0.031950         0.058445  \n",
       "KitchenQual_n        -0.022754    0.061577         0.037397  \n",
       "Functional_n          0.076264   -0.000328        -0.006804  \n",
       "FireplaceQu_n         0.012722   -0.016921        -0.075041  \n",
       "GarageType_n          0.036027    0.031618         0.128732  \n",
       "GarageFinish_n       -0.012139    0.068575         0.056706  \n",
       "GarageQual_n          0.030999   -0.023254         0.054991  \n",
       "GarageCond_n          0.023961   -0.002300         0.048722  \n",
       "PavedDrive_n          0.019283   -0.028452         0.000620  \n",
       "PoolQC_n              0.226529   -0.012496         0.056804  \n",
       "Fence_n               0.079069   -0.021306         0.014925  \n",
       "MiscFeature_n         1.000000    0.015043        -0.034979  \n",
       "SaleType_n            0.015043    1.000000         0.234852  \n",
       "SaleCondition_n      -0.034979    0.234852         1.000000  \n",
       "\n",
       "[80 rows x 80 columns]"
      ]
     },
     "execution_count": 100,
     "metadata": {},
     "output_type": "execute_result"
    }
   ],
   "source": [
    "from pyspark.mllib.stat import Statistics\n",
    "from pyspark.mllib.linalg import Vectors\n",
    "import pandas as pd\n",
    "\n",
    "test_df=preprocesed_df.select(selected_features)\n",
    "preprocesed_rdd = test_df.rdd.map(Vectors.dense) ### convertimos a rdd\n",
    "\n",
    "pearson_corr = Statistics.corr(preprocesed_rdd, method=\"pearson\")\n",
    "pearson_corr_df = pd.DataFrame(pearson_corr, index=selected_features, columns=selected_features)\n",
    "pearson_corr_df"
   ]
  },
  {
   "cell_type": "code",
   "execution_count": 105,
   "metadata": {
    "collapsed": false
   },
   "outputs": [
    {
     "name": "stderr",
     "output_type": "stream",
     "text": [
      "C:\\Anaconda3\\lib\\site-packages\\ipykernel\\__main__.py:7: FutureWarning: order is deprecated, use sort_values(...)\n"
     ]
    },
    {
     "data": {
      "text/plain": [
       "GarageCars      GarageArea         0.992319\n",
       "PoolArea        PoolQC_n           0.984986\n",
       "OverallQual     SalePrice          0.977946\n",
       "Exterior1st_n   Exterior2nd_n      0.976516\n",
       "TotalBsmtSF     1stFlrSF           0.960093\n",
       "YearBuilt       Foundation_n       0.959001\n",
       "GrLivArea       TotRmsAbvGrd       0.954359\n",
       "Fireplaces      FireplaceQu_n      0.944685\n",
       "GarageQual_n    GarageCond_n       0.936125\n",
       "GarageCars      SalePrice          0.927634\n",
       "OverallQual     GarageCars         0.925913\n",
       "GarageArea      SalePrice          0.924793\n",
       "YearRemodAdd    Foundation_n       0.924661\n",
       "MasVnrArea      MasVnrType_n       0.923286\n",
       "YearBuilt       YearRemodAdd       0.922497\n",
       "OverallQual     Foundation_n       0.916598\n",
       "                YearRemodAdd       0.913626\n",
       "                GarageArea         0.913439\n",
       "ExterQual_n     KitchenQual_n      0.911566\n",
       "OverallQual     ExterQual_n        0.910608\n",
       "                YearBuilt          0.908044\n",
       "                FullBath           0.900110\n",
       "YearRemodAdd    HeatingQC_n        0.896896\n",
       "GrLivArea       FullBath           0.896321\n",
       "YearBuilt       GarageCars         0.893985\n",
       "YearRemodAdd    ExterQual_n        0.892230\n",
       "TotalBsmtSF     SalePrice          0.889469\n",
       "ExterQual_n     Foundation_n       0.889042\n",
       "YearBuilt       SalePrice          0.886887\n",
       "GrLivArea       SalePrice          0.885948\n",
       "                                     ...   \n",
       "LandContour_n   KitchenQual_n      0.002977\n",
       "FullBath        Condition2_n       0.002758\n",
       "Id              CentralAir_n       0.002737\n",
       "                GarageType_n       0.002517\n",
       "                Utilities_n        0.002509\n",
       "RoofStyle_n     BsmtFinType2_n     0.002392\n",
       "LotArea         MiscFeature_n      0.002342\n",
       "HalfBath        Condition2_n       0.002296\n",
       "ScreenPorch     ExterQual_n        0.002178\n",
       "Id              KitchenAbvGr       0.002028\n",
       "BsmtFinSF2      LotConfig_n        0.002015\n",
       "Condition1_n    Functional_n       0.001945\n",
       "ExterCond_n     SaleCondition_n    0.001580\n",
       "YearRemodAdd    ScreenPorch        0.001530\n",
       "BsmtHalfBath    BsmtCond_n         0.001178\n",
       "KitchenAbvGr    YrSold             0.001151\n",
       "Street_n        SaleType_n         0.001097\n",
       "BsmtHalfBath    Functional_n       0.001080\n",
       "LandSlope_n     CentralAir_n       0.000939\n",
       "BsmtFinSF2      Heating_n          0.000769\n",
       "MSSubClass      FullBath           0.000719\n",
       "RoofStyle_n     BsmtFinType1_n     0.000645\n",
       "HouseStyle_n    BsmtFinType2_n     0.000596\n",
       "BsmtFinSF1      YrSold             0.000528\n",
       "ScreenPorch     Street_n           0.000469\n",
       "BsmtExposure_n  Functional_n       0.000411\n",
       "BsmtFinSF2      Fireplaces         0.000395\n",
       "Id              GarageCond_n       0.000374\n",
       "BsmtHalfBath    BsmtExposure_n     0.000364\n",
       "MiscVal         Heating_n          0.000048\n",
       "dtype: float64"
      ]
     },
     "execution_count": 105,
     "metadata": {},
     "output_type": "execute_result"
    }
   ],
   "source": [
    "import numpy as np\n",
    "corr_matrix = pearson_corr_df.corr().abs()\n",
    "\n",
    "#the matrix is symmetric so we need to extract upper triangle matrix without diagonal (k = 1)\n",
    "os = (corr_matrix.where(np.triu(np.ones(corr_matrix.shape), k=1).astype(np.bool))\n",
    "                 .stack()\n",
    "                 .order(ascending=False))\n",
    "os"
   ]
  },
  {
   "cell_type": "code",
   "execution_count": 106,
   "metadata": {
    "collapsed": false
   },
   "outputs": [
    {
     "data": {
      "text/plain": [
       "pandas.core.series.Series"
      ]
     },
     "execution_count": 106,
     "metadata": {},
     "output_type": "execute_result"
    }
   ],
   "source": [
    "type(os)"
   ]
  },
  {
   "cell_type": "markdown",
   "metadata": {},
   "source": [
    "<a id=\"modelos\"></a>\n",
    "\n",
    "# 7. Modelos"
   ]
  },
  {
   "cell_type": "markdown",
   "metadata": {
    "collapsed": true
   },
   "source": [
    "<a id=\"ajuste\"></a>\n",
    "\n",
    "## 7.1 Ajuste de parámetros"
   ]
  },
  {
   "cell_type": "markdown",
   "metadata": {},
   "source": [
    "<a id=\"evaluacion\"></a>\n",
    "\n",
    "## 7.2 Evaluación"
   ]
  },
  {
   "cell_type": "markdown",
   "metadata": {},
   "source": [
    "La evaluación del modelo final debe hacerse con un dataset diferente al de entrenamiento. \n",
    "\n",
    "Se recomienda automatizar procesos mediante el uso de pipelines y creación de funciones para evitar repetir código.\n",
    "\n",
    "La métrica a usar para la evaluación de soluciones es *RMSLE*. Esta métrica no se encuentra dentro de las que ofrece el objeto *RegressionEvaluator* por lo que debemos definir nuestro propio evaluador."
   ]
  },
  {
   "cell_type": "code",
   "execution_count": 10,
   "metadata": {
    "collapsed": true
   },
   "outputs": [],
   "source": [
    "evaluator = MyEvaluator()"
   ]
  },
  {
   "cell_type": "markdown",
   "metadata": {},
   "source": [
    "<a id=\"cierre\"></a>\n",
    "\n",
    "# 8. Cierre sesión spark"
   ]
  },
  {
   "cell_type": "markdown",
   "metadata": {},
   "source": [
    "Liberamos recursos"
   ]
  },
  {
   "cell_type": "code",
   "execution_count": 34,
   "metadata": {
    "collapsed": false
   },
   "outputs": [],
   "source": [
    "spark.stop()"
   ]
  }
 ],
 "metadata": {
  "anaconda-cloud": {},
  "kernelspec": {
   "display_name": "Python [conda root]",
   "language": "python",
   "name": "conda-root-py"
  },
  "language_info": {
   "codemirror_mode": {
    "name": "ipython",
    "version": 3
   },
   "file_extension": ".py",
   "mimetype": "text/x-python",
   "name": "python",
   "nbconvert_exporter": "python",
   "pygments_lexer": "ipython3",
   "version": "3.5.2"
  }
 },
 "nbformat": 4,
 "nbformat_minor": 1
}
