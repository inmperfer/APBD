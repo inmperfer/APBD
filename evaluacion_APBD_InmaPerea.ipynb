{
 "cells": [
  {
   "cell_type": "markdown",
   "metadata": {},
   "source": [
    "<center> <h1>Trabajo final para la asignatura APBD</h1> </center>\n",
    "<center> <h3>Máster en Data Science y Big Data. CFP-Universidad de Sevilla</h3> </center>\n",
    "<p style=\"text-align: center;\">Autor: Inmaculada Perea Fernández</p>\n",
    "<p style=\"text-align: center;\">(Julio 2017)</p>"
   ]
  },
  {
   "cell_type": "markdown",
   "metadata": {},
   "source": [
    "\n",
    "# Tabla de contenidos\n",
    "\n",
    "1. [Descripción del problema](#descripcion)\n",
    "\n",
    "2. [Inicio sesión Spark](#inicio)\n",
    "\n",
    "3. [Lectura de datos y exploración](#exploracion)\n",
    "\n",
    "4. [Preprocesado](#preprocesado)\n",
    "\n",
    "    4.1. [Valores perdidos (missings)](#missings)\n",
    "    \n",
    "    4.2. [Conversión a tipo numérico](#numerico)\n",
    "    \n",
    "    4.3. [Escalado](#escalado)\n",
    "    \n",
    "    4.4. [Convertir features en vector](#features)\n",
    "    \n",
    "5. [Selección de variables](#seleccion)\n",
    "\n",
    "6. [Modelos](#modelos)\n",
    "\n",
    "    6.1. [Ajuste de parámetros](#ajuste)\n",
    "    \n",
    "    6.2. [Evaluación](#evaluacion)\n",
    "       \n",
    "7. [Cierre sesión spark](#cierre)\n"
   ]
  },
  {
   "cell_type": "markdown",
   "metadata": {},
   "source": [
    "<a id='descripcion'></a>\n",
    "\n",
    "# Descripción del problema"
   ]
  },
  {
   "cell_type": "markdown",
   "metadata": {},
   "source": [
    "El problema elegido para el trabajo es uno de los datasets de aprendizaje de kaggle, en el que el objetivo es predecir el precio de venta de viviendas a partir de sus características\n",
    "\n",
    "Para más información sobre el problema ir a https://www.kaggle.com/c/house-prices-advanced-regression-techniques\n",
    "\n",
    "El objetivo de este trabajo es practicar con las diferentes herramientas que *Spark* nos proporciona para el procesamiento distribuido de grandes cantidades de datos, y para la aplicación de técnicas de machine learning. La obtención de predicciones óptimas es un objetivo secundario aunque se valorará positivamente.\n",
    "\n",
    "Las APIs de Spark más importantes para este proyecto serán la API de DataFrames y la API de ML para DataFrames. También tenemos a nuestra disposición la API RDDs para procesamiento a bajo nivel, y la API MLlib para RDDs."
   ]
  },
  {
   "cell_type": "markdown",
   "metadata": {},
   "source": [
    "# Carga de librerías"
   ]
  },
  {
   "cell_type": "code",
   "execution_count": 35,
   "metadata": {
    "collapsed": true
   },
   "outputs": [],
   "source": [
    "import sys\n",
    "\n",
    "from pyspark.sql import SparkSession\n",
    "from pyspark.sql import SQLContext\n",
    "from pyspark.sql import Row\n",
    "\n",
    "from pyspark.sql.types import StructType, StructField, StringType, IntegerType\n",
    "\n",
    "# Se importa sum como agg_sum para evitar colisión de nombres\n",
    "from pyspark.sql.functions import lit, col, count, sum as agg_sum\n",
    "from pyspark.sql.functions import expr, udf, regexp_extract\n",
    "from pyspark.sql.functions import desc, avg, round as col_round\n",
    "\n",
    "\n",
    "from pyspark.ml import Pipeline\n",
    "from pyspark.ml.feature import StringIndexer, IndexToString, VectorAssembler\n",
    "from pyspark.ml.feature import StandardScaler\n",
    "from pyspark.ml.tuning import CrossValidator, ParamGridBuilder\n",
    "\n",
    "import pandas as pd\n",
    "import matplotlib.pyplot as plt"
   ]
  },
  {
   "cell_type": "markdown",
   "metadata": {},
   "source": [
    "# Establecimiento Semilla"
   ]
  },
  {
   "cell_type": "markdown",
   "metadata": {},
   "source": [
    "Establecemos la semilla que usaremos para toda la práctica"
   ]
  },
  {
   "cell_type": "code",
   "execution_count": 36,
   "metadata": {
    "collapsed": true
   },
   "outputs": [],
   "source": [
    "global_seed = 123456789"
   ]
  },
  {
   "cell_type": "markdown",
   "metadata": {},
   "source": [
    "<a id=\"inicio\"></a>\n",
    "\n",
    "# Inicio sesión spark\n",
    "\n",
    "Creamos la sesión spark como punto de entrada para poder trabajar con la API de DataFrame"
   ]
  },
  {
   "cell_type": "code",
   "execution_count": 37,
   "metadata": {
    "collapsed": false
   },
   "outputs": [
    {
     "data": {
      "text/plain": [
       "<pyspark.sql.session.SparkSession at 0x44c2d51be0>"
      ]
     },
     "execution_count": 37,
     "metadata": {},
     "output_type": "execute_result"
    }
   ],
   "source": [
    "# Ruta de la carpeta local Spark.\n",
    "spark_path = 'C:/Users/inpf/spark-2.1.0-bin-hadoop2.7'\n",
    "\n",
    "sys.path.append(spark_path + '/python')\n",
    "sys.path.append(spark_path + '/python/lib/py4j-0.10.4-src.zip')\n",
    "\n",
    "spark = SparkSession.builder.master(\"local[*]\").appName(\"evaluacion_APBD_InmaPerea\").getOrCreate()\n",
    "\n",
    "spark"
   ]
  },
  {
   "cell_type": "markdown",
   "metadata": {},
   "source": [
    "Comprobamos el número de cores asignados"
   ]
  },
  {
   "cell_type": "code",
   "execution_count": 38,
   "metadata": {
    "collapsed": false
   },
   "outputs": [
    {
     "data": {
      "text/plain": [
       "4"
      ]
     },
     "execution_count": 38,
     "metadata": {},
     "output_type": "execute_result"
    }
   ],
   "source": [
    "spark.sparkContext.defaultParallelism"
   ]
  },
  {
   "cell_type": "markdown",
   "metadata": {},
   "source": [
    "<a id=\"exploracion\"></a>\n",
    "\n",
    "# 3. Lectura de datos"
   ]
  },
  {
   "cell_type": "markdown",
   "metadata": {},
   "source": [
    "Para explorar uniremos ambos datasets train y test. Por tanto cargaremos ambos datasets para su unión y posterior exploración."
   ]
  },
  {
   "cell_type": "code",
   "execution_count": 94,
   "metadata": {
    "collapsed": false
   },
   "outputs": [],
   "source": [
    "path = './data/'\n",
    "\n",
    "train = spark.read.csv(path +'train.csv', header=True, inferSchema=True, nullValue=\"NA\").cache()\n",
    "test  = spark.read.csv(path +'test.csv', header=True, inferSchema=True, nullValue=\"NA\").cache()"
   ]
  },
  {
   "cell_type": "markdown",
   "metadata": {},
   "source": [
    "Comprobaremos si ambos datasets tienen las mismas dimensiones y esquema antes de unirlos"
   ]
  },
  {
   "cell_type": "code",
   "execution_count": 163,
   "metadata": {
    "collapsed": false
   },
   "outputs": [
    {
     "name": "stdout",
     "output_type": "stream",
     "text": [
      "Numero columnas para cada conjunto de datos \n",
      "- train = 81\n",
      "- test  = 81\n"
     ]
    }
   ],
   "source": [
    "print('Numero columnas para cada conjunto de datos ')\n",
    "print('- train = {}'.format(len(train.schema.fields)))\n",
    "print('- test  = {}'.format(len(test.schema.fields)))"
   ]
  },
  {
   "cell_type": "markdown",
   "metadata": {},
   "source": [
    "Observamos que tienen dimensiones distintas, esto es debido a que en el conjunto *test* no existe la columna correspondiente a la variable respuesta *SalePrice*. Vamos a añadir dicha columna al conjunto *test*.\n",
    "\n",
    "Consultamos el tipo de dato de la columna *SalePrice* para replicarlo en el conjunto test."
   ]
  },
  {
   "cell_type": "code",
   "execution_count": 153,
   "metadata": {
    "collapsed": false
   },
   "outputs": [
    {
     "data": {
      "text/plain": [
       "StructField(SalePrice,IntegerType,true)"
      ]
     },
     "execution_count": 153,
     "metadata": {},
     "output_type": "execute_result"
    }
   ],
   "source": [
    "train.schema['SalePrice']"
   ]
  },
  {
   "cell_type": "markdown",
   "metadata": {},
   "source": [
    "Creamos la columna en el conjunto *test* con el mismo tipo que en el conjunto *train*"
   ]
  },
  {
   "cell_type": "code",
   "execution_count": 152,
   "metadata": {
    "collapsed": true
   },
   "outputs": [],
   "source": [
    "test = test.withColumn('SalePrice', lit(None).cast(IntegerType()))"
   ]
  },
  {
   "cell_type": "markdown",
   "metadata": {},
   "source": [
    "Ahora comprobaremos los esquemas de ambos dataframes, el orden de las columnas y su tipo"
   ]
  },
  {
   "cell_type": "code",
   "execution_count": 158,
   "metadata": {
    "collapsed": false
   },
   "outputs": [
    {
     "name": "stdout",
     "output_type": "stream",
     "text": [
      "Ambos dataframes tienen el mismo esquema de datos\n"
     ]
    }
   ],
   "source": [
    "equal=True\n",
    "\n",
    "for test_field, train_field in zip (test.schema.fields, train.schema.fields): \n",
    "    if(train_field != test_field):\n",
    "        equal=False\n",
    "        \n",
    "if equal==True:\n",
    "    print(\"Ambos dataframes tienen el mismo esquema de datos\") \n",
    "else:\n",
    "    print(\"Warning: Dataframes diferentes\")   "
   ]
  },
  {
   "cell_type": "code",
   "execution_count": 164,
   "metadata": {
    "collapsed": false
   },
   "outputs": [
    {
     "name": "stdout",
     "output_type": "stream",
     "text": [
      "Número de filas de cada dataframe:\n",
      "- train = 1460\n",
      "- test  = 1459\n",
      "- full  = 2919\n"
     ]
    }
   ],
   "source": [
    "full = train.union(test)\n",
    "\n",
    "print(\"Número de filas de cada dataframe:\")\n",
    "print(\"- train = {}\".format(train.count()))\n",
    "print(\"- test  = {}\".format(test.count()))\n",
    "print(\"- full  = {}\".format(full.count()))"
   ]
  },
  {
   "cell_type": "markdown",
   "metadata": {},
   "source": [
    "# 4. Exploración de los datos"
   ]
  },
  {
   "cell_type": "markdown",
   "metadata": {},
   "source": [
    "El esquema del dataframe union de train + test"
   ]
  },
  {
   "cell_type": "code",
   "execution_count": 165,
   "metadata": {
    "collapsed": false
   },
   "outputs": [
    {
     "name": "stdout",
     "output_type": "stream",
     "text": [
      "root\n",
      " |-- Id: integer (nullable = true)\n",
      " |-- MSSubClass: integer (nullable = true)\n",
      " |-- MSZoning: string (nullable = true)\n",
      " |-- LotFrontage: integer (nullable = true)\n",
      " |-- LotArea: integer (nullable = true)\n",
      " |-- Street: string (nullable = true)\n",
      " |-- Alley: string (nullable = true)\n",
      " |-- LotShape: string (nullable = true)\n",
      " |-- LandContour: string (nullable = true)\n",
      " |-- Utilities: string (nullable = true)\n",
      " |-- LotConfig: string (nullable = true)\n",
      " |-- LandSlope: string (nullable = true)\n",
      " |-- Neighborhood: string (nullable = true)\n",
      " |-- Condition1: string (nullable = true)\n",
      " |-- Condition2: string (nullable = true)\n",
      " |-- BldgType: string (nullable = true)\n",
      " |-- HouseStyle: string (nullable = true)\n",
      " |-- OverallQual: integer (nullable = true)\n",
      " |-- OverallCond: integer (nullable = true)\n",
      " |-- YearBuilt: integer (nullable = true)\n",
      " |-- YearRemodAdd: integer (nullable = true)\n",
      " |-- RoofStyle: string (nullable = true)\n",
      " |-- RoofMatl: string (nullable = true)\n",
      " |-- Exterior1st: string (nullable = true)\n",
      " |-- Exterior2nd: string (nullable = true)\n",
      " |-- MasVnrType: string (nullable = true)\n",
      " |-- MasVnrArea: integer (nullable = true)\n",
      " |-- ExterQual: string (nullable = true)\n",
      " |-- ExterCond: string (nullable = true)\n",
      " |-- Foundation: string (nullable = true)\n",
      " |-- BsmtQual: string (nullable = true)\n",
      " |-- BsmtCond: string (nullable = true)\n",
      " |-- BsmtExposure: string (nullable = true)\n",
      " |-- BsmtFinType1: string (nullable = true)\n",
      " |-- BsmtFinSF1: integer (nullable = true)\n",
      " |-- BsmtFinType2: string (nullable = true)\n",
      " |-- BsmtFinSF2: integer (nullable = true)\n",
      " |-- BsmtUnfSF: integer (nullable = true)\n",
      " |-- TotalBsmtSF: integer (nullable = true)\n",
      " |-- Heating: string (nullable = true)\n",
      " |-- HeatingQC: string (nullable = true)\n",
      " |-- CentralAir: string (nullable = true)\n",
      " |-- Electrical: string (nullable = true)\n",
      " |-- 1stFlrSF: integer (nullable = true)\n",
      " |-- 2ndFlrSF: integer (nullable = true)\n",
      " |-- LowQualFinSF: integer (nullable = true)\n",
      " |-- GrLivArea: integer (nullable = true)\n",
      " |-- BsmtFullBath: integer (nullable = true)\n",
      " |-- BsmtHalfBath: integer (nullable = true)\n",
      " |-- FullBath: integer (nullable = true)\n",
      " |-- HalfBath: integer (nullable = true)\n",
      " |-- BedroomAbvGr: integer (nullable = true)\n",
      " |-- KitchenAbvGr: integer (nullable = true)\n",
      " |-- KitchenQual: string (nullable = true)\n",
      " |-- TotRmsAbvGrd: integer (nullable = true)\n",
      " |-- Functional: string (nullable = true)\n",
      " |-- Fireplaces: integer (nullable = true)\n",
      " |-- FireplaceQu: string (nullable = true)\n",
      " |-- GarageType: string (nullable = true)\n",
      " |-- GarageYrBlt: integer (nullable = true)\n",
      " |-- GarageFinish: string (nullable = true)\n",
      " |-- GarageCars: integer (nullable = true)\n",
      " |-- GarageArea: integer (nullable = true)\n",
      " |-- GarageQual: string (nullable = true)\n",
      " |-- GarageCond: string (nullable = true)\n",
      " |-- PavedDrive: string (nullable = true)\n",
      " |-- WoodDeckSF: integer (nullable = true)\n",
      " |-- OpenPorchSF: integer (nullable = true)\n",
      " |-- EnclosedPorch: integer (nullable = true)\n",
      " |-- 3SsnPorch: integer (nullable = true)\n",
      " |-- ScreenPorch: integer (nullable = true)\n",
      " |-- PoolArea: integer (nullable = true)\n",
      " |-- PoolQC: string (nullable = true)\n",
      " |-- Fence: string (nullable = true)\n",
      " |-- MiscFeature: string (nullable = true)\n",
      " |-- MiscVal: integer (nullable = true)\n",
      " |-- MoSold: integer (nullable = true)\n",
      " |-- YrSold: integer (nullable = true)\n",
      " |-- SaleType: string (nullable = true)\n",
      " |-- SaleCondition: string (nullable = true)\n",
      " |-- SalePrice: integer (nullable = true)\n",
      "\n"
     ]
    }
   ],
   "source": [
    "full.printSchema()"
   ]
  },
  {
   "cell_type": "code",
   "execution_count": 166,
   "metadata": {
    "collapsed": false
   },
   "outputs": [
    {
     "name": "stdout",
     "output_type": "stream",
     "text": [
      "Número de variables= 81\n"
     ]
    }
   ],
   "source": [
    "num_columns=len(full.columns)\n",
    "print(\"Número de variables= {}\".format(num_columns))"
   ]
  },
  {
   "cell_type": "code",
   "execution_count": 167,
   "metadata": {
    "collapsed": false
   },
   "outputs": [
    {
     "name": "stdout",
     "output_type": "stream",
     "text": [
      "+---+----------+--------+-----------+-------+------+-----+\n",
      "| Id|MSSubClass|MSZoning|LotFrontage|LotArea|Street|Alley|\n",
      "+---+----------+--------+-----------+-------+------+-----+\n",
      "|  1|        60|      RL|         65|   8450|  Pave| null|\n",
      "|  2|        20|      RL|         80|   9600|  Pave| null|\n",
      "|  3|        60|      RL|         68|  11250|  Pave| null|\n",
      "|  4|        70|      RL|         60|   9550|  Pave| null|\n",
      "|  5|        60|      RL|         84|  14260|  Pave| null|\n",
      "+---+----------+--------+-----------+-------+------+-----+\n",
      "only showing top 5 rows\n",
      "\n",
      "+--------+-----------+---------+---------+---------+------------+----------+\n",
      "|LotShape|LandContour|Utilities|LotConfig|LandSlope|Neighborhood|Condition1|\n",
      "+--------+-----------+---------+---------+---------+------------+----------+\n",
      "|     Reg|        Lvl|   AllPub|   Inside|      Gtl|     CollgCr|      Norm|\n",
      "|     Reg|        Lvl|   AllPub|      FR2|      Gtl|     Veenker|     Feedr|\n",
      "|     IR1|        Lvl|   AllPub|   Inside|      Gtl|     CollgCr|      Norm|\n",
      "|     IR1|        Lvl|   AllPub|   Corner|      Gtl|     Crawfor|      Norm|\n",
      "|     IR1|        Lvl|   AllPub|      FR2|      Gtl|     NoRidge|      Norm|\n",
      "+--------+-----------+---------+---------+---------+------------+----------+\n",
      "only showing top 5 rows\n",
      "\n",
      "+----------+--------+----------+-----------+-----------+---------+------------+\n",
      "|Condition2|BldgType|HouseStyle|OverallQual|OverallCond|YearBuilt|YearRemodAdd|\n",
      "+----------+--------+----------+-----------+-----------+---------+------------+\n",
      "|      Norm|    1Fam|    2Story|          7|          5|     2003|        2003|\n",
      "|      Norm|    1Fam|    1Story|          6|          8|     1976|        1976|\n",
      "|      Norm|    1Fam|    2Story|          7|          5|     2001|        2002|\n",
      "|      Norm|    1Fam|    2Story|          7|          5|     1915|        1970|\n",
      "|      Norm|    1Fam|    2Story|          8|          5|     2000|        2000|\n",
      "+----------+--------+----------+-----------+-----------+---------+------------+\n",
      "only showing top 5 rows\n",
      "\n",
      "+---------+--------+-----------+-----------+----------+----------+---------+\n",
      "|RoofStyle|RoofMatl|Exterior1st|Exterior2nd|MasVnrType|MasVnrArea|ExterQual|\n",
      "+---------+--------+-----------+-----------+----------+----------+---------+\n",
      "|    Gable| CompShg|    VinylSd|    VinylSd|   BrkFace|       196|       Gd|\n",
      "|    Gable| CompShg|    MetalSd|    MetalSd|      None|         0|       TA|\n",
      "|    Gable| CompShg|    VinylSd|    VinylSd|   BrkFace|       162|       Gd|\n",
      "|    Gable| CompShg|    Wd Sdng|    Wd Shng|      None|         0|       TA|\n",
      "|    Gable| CompShg|    VinylSd|    VinylSd|   BrkFace|       350|       Gd|\n",
      "+---------+--------+-----------+-----------+----------+----------+---------+\n",
      "only showing top 5 rows\n",
      "\n",
      "+---------+----------+--------+--------+------------+------------+----------+\n",
      "|ExterCond|Foundation|BsmtQual|BsmtCond|BsmtExposure|BsmtFinType1|BsmtFinSF1|\n",
      "+---------+----------+--------+--------+------------+------------+----------+\n",
      "|       TA|     PConc|      Gd|      TA|          No|         GLQ|       706|\n",
      "|       TA|    CBlock|      Gd|      TA|          Gd|         ALQ|       978|\n",
      "|       TA|     PConc|      Gd|      TA|          Mn|         GLQ|       486|\n",
      "|       TA|    BrkTil|      TA|      Gd|          No|         ALQ|       216|\n",
      "|       TA|     PConc|      Gd|      TA|          Av|         GLQ|       655|\n",
      "+---------+----------+--------+--------+------------+------------+----------+\n",
      "only showing top 5 rows\n",
      "\n",
      "+------------+----------+---------+-----------+-------+---------+----------+\n",
      "|BsmtFinType2|BsmtFinSF2|BsmtUnfSF|TotalBsmtSF|Heating|HeatingQC|CentralAir|\n",
      "+------------+----------+---------+-----------+-------+---------+----------+\n",
      "|         Unf|         0|      150|        856|   GasA|       Ex|         Y|\n",
      "|         Unf|         0|      284|       1262|   GasA|       Ex|         Y|\n",
      "|         Unf|         0|      434|        920|   GasA|       Ex|         Y|\n",
      "|         Unf|         0|      540|        756|   GasA|       Gd|         Y|\n",
      "|         Unf|         0|      490|       1145|   GasA|       Ex|         Y|\n",
      "+------------+----------+---------+-----------+-------+---------+----------+\n",
      "only showing top 5 rows\n",
      "\n",
      "+----------+--------+--------+------------+---------+------------+------------+\n",
      "|Electrical|1stFlrSF|2ndFlrSF|LowQualFinSF|GrLivArea|BsmtFullBath|BsmtHalfBath|\n",
      "+----------+--------+--------+------------+---------+------------+------------+\n",
      "|     SBrkr|     856|     854|           0|     1710|           1|           0|\n",
      "|     SBrkr|    1262|       0|           0|     1262|           0|           1|\n",
      "|     SBrkr|     920|     866|           0|     1786|           1|           0|\n",
      "|     SBrkr|     961|     756|           0|     1717|           1|           0|\n",
      "|     SBrkr|    1145|    1053|           0|     2198|           1|           0|\n",
      "+----------+--------+--------+------------+---------+------------+------------+\n",
      "only showing top 5 rows\n",
      "\n",
      "+--------+--------+------------+------------+-----------+------------+----------+\n",
      "|FullBath|HalfBath|BedroomAbvGr|KitchenAbvGr|KitchenQual|TotRmsAbvGrd|Functional|\n",
      "+--------+--------+------------+------------+-----------+------------+----------+\n",
      "|       2|       1|           3|           1|         Gd|           8|       Typ|\n",
      "|       2|       0|           3|           1|         TA|           6|       Typ|\n",
      "|       2|       1|           3|           1|         Gd|           6|       Typ|\n",
      "|       1|       0|           3|           1|         Gd|           7|       Typ|\n",
      "|       2|       1|           4|           1|         Gd|           9|       Typ|\n",
      "+--------+--------+------------+------------+-----------+------------+----------+\n",
      "only showing top 5 rows\n",
      "\n",
      "+----------+-----------+----------+-----------+------------+----------+----------+\n",
      "|Fireplaces|FireplaceQu|GarageType|GarageYrBlt|GarageFinish|GarageCars|GarageArea|\n",
      "+----------+-----------+----------+-----------+------------+----------+----------+\n",
      "|         0|       null|    Attchd|       2003|         RFn|         2|       548|\n",
      "|         1|         TA|    Attchd|       1976|         RFn|         2|       460|\n",
      "|         1|         TA|    Attchd|       2001|         RFn|         2|       608|\n",
      "|         1|         Gd|    Detchd|       1998|         Unf|         3|       642|\n",
      "|         1|         TA|    Attchd|       2000|         RFn|         3|       836|\n",
      "+----------+-----------+----------+-----------+------------+----------+----------+\n",
      "only showing top 5 rows\n",
      "\n",
      "+----------+----------+----------+----------+-----------+-------------+---------+\n",
      "|GarageQual|GarageCond|PavedDrive|WoodDeckSF|OpenPorchSF|EnclosedPorch|3SsnPorch|\n",
      "+----------+----------+----------+----------+-----------+-------------+---------+\n",
      "|        TA|        TA|         Y|         0|         61|            0|        0|\n",
      "|        TA|        TA|         Y|       298|          0|            0|        0|\n",
      "|        TA|        TA|         Y|         0|         42|            0|        0|\n",
      "|        TA|        TA|         Y|         0|         35|          272|        0|\n",
      "|        TA|        TA|         Y|       192|         84|            0|        0|\n",
      "+----------+----------+----------+----------+-----------+-------------+---------+\n",
      "only showing top 5 rows\n",
      "\n",
      "+-----------+--------+------+-----+-----------+-------+------+\n",
      "|ScreenPorch|PoolArea|PoolQC|Fence|MiscFeature|MiscVal|MoSold|\n",
      "+-----------+--------+------+-----+-----------+-------+------+\n",
      "|          0|       0|  null| null|       null|      0|     2|\n",
      "|          0|       0|  null| null|       null|      0|     5|\n",
      "|          0|       0|  null| null|       null|      0|     9|\n",
      "|          0|       0|  null| null|       null|      0|     2|\n",
      "|          0|       0|  null| null|       null|      0|    12|\n",
      "+-----------+--------+------+-----+-----------+-------+------+\n",
      "only showing top 5 rows\n",
      "\n",
      "+------+--------+-------------+---------+\n",
      "|YrSold|SaleType|SaleCondition|SalePrice|\n",
      "+------+--------+-------------+---------+\n",
      "|  2008|      WD|       Normal|   208500|\n",
      "|  2007|      WD|       Normal|   181500|\n",
      "|  2008|      WD|       Normal|   223500|\n",
      "|  2006|      WD|      Abnorml|   140000|\n",
      "|  2008|      WD|       Normal|   250000|\n",
      "+------+--------+-------------+---------+\n",
      "only showing top 5 rows\n",
      "\n"
     ]
    }
   ],
   "source": [
    "step=7\n",
    "for index in range(0, num_columns, step):\n",
    "    full.select(cols[index:index+step]).show(5) "
   ]
  },
  {
   "cell_type": "code",
   "execution_count": 168,
   "metadata": {
    "collapsed": false
   },
   "outputs": [
    {
     "name": "stdout",
     "output_type": "stream",
     "text": [
      "+-------+-----------------+------------------+--------+------------------+-----------------+\n",
      "|summary|               Id|        MSSubClass|MSZoning|       LotFrontage|          LotArea|\n",
      "+-------+-----------------+------------------+--------+------------------+-----------------+\n",
      "|  count|             2919|              2919|    2915|              2433|             2919|\n",
      "|   mean|           1460.0|  57.1377183967112|    null| 69.30579531442663|10168.11408016444|\n",
      "| stddev|842.7870430897713|42.517627829150314|    null|23.344904706927394|7886.996359105535|\n",
      "|    min|                1|                20| C (all)|                21|             1300|\n",
      "|    max|             2919|               190|      RM|               313|           215245|\n",
      "+-------+-----------------+------------------+--------+------------------+-----------------+\n",
      "\n",
      "+-------+------+-----+--------+-----------+---------+\n",
      "|summary|Street|Alley|LotShape|LandContour|Utilities|\n",
      "+-------+------+-----+--------+-----------+---------+\n",
      "|  count|  2919|  198|    2919|       2919|     2917|\n",
      "|   mean|  null| null|    null|       null|     null|\n",
      "| stddev|  null| null|    null|       null|     null|\n",
      "|    min|  Grvl| Grvl|     IR1|        Bnk|   AllPub|\n",
      "|    max|  Pave| Pave|     Reg|        Lvl|   NoSeWa|\n",
      "+-------+------+-----+--------+-----------+---------+\n",
      "\n",
      "+-------+---------+---------+------------+----------+----------+\n",
      "|summary|LotConfig|LandSlope|Neighborhood|Condition1|Condition2|\n",
      "+-------+---------+---------+------------+----------+----------+\n",
      "|  count|     2919|     2919|        2919|      2919|      2919|\n",
      "|   mean|     null|     null|        null|      null|      null|\n",
      "| stddev|     null|     null|        null|      null|      null|\n",
      "|    min|   Corner|      Gtl|     Blmngtn|    Artery|    Artery|\n",
      "|    max|   Inside|      Sev|     Veenker|      RRNn|      RRNn|\n",
      "+-------+---------+---------+------------+----------+----------+\n",
      "\n",
      "+-------+--------+----------+-----------------+------------------+------------------+\n",
      "|summary|BldgType|HouseStyle|      OverallQual|       OverallCond|         YearBuilt|\n",
      "+-------+--------+----------+-----------------+------------------+------------------+\n",
      "|  count|    2919|      2919|             2919|              2919|              2919|\n",
      "|   mean|    null|      null|6.089071599862967| 5.564576909900651|1971.3127783487496|\n",
      "| stddev|    null|      null|1.409947206614697|1.1131307466377236|30.291441534121137|\n",
      "|    min|    1Fam|    1.5Fin|                1|                 1|              1872|\n",
      "|    max|  TwnhsE|      SLvl|               10|                 9|              2010|\n",
      "+-------+--------+----------+-----------------+------------------+------------------+\n",
      "\n",
      "+-------+------------------+---------+--------+-----------+-----------+\n",
      "|summary|      YearRemodAdd|RoofStyle|RoofMatl|Exterior1st|Exterior2nd|\n",
      "+-------+------------------+---------+--------+-----------+-----------+\n",
      "|  count|              2919|     2919|    2919|       2918|       2918|\n",
      "|   mean|1984.2644741349777|     null|    null|       null|       null|\n",
      "| stddev| 20.89434423384076|     null|    null|       null|       null|\n",
      "|    min|              1950|     Flat| ClyTile|    AsbShng|    AsbShng|\n",
      "|    max|              2010|     Shed| WdShngl|    WdShing|    Wd Shng|\n",
      "+-------+------------------+---------+--------+-----------+-----------+\n",
      "\n",
      "+-------+----------+------------------+---------+---------+----------+\n",
      "|summary|MasVnrType|        MasVnrArea|ExterQual|ExterCond|Foundation|\n",
      "+-------+----------+------------------+---------+---------+----------+\n",
      "|  count|      2895|              2896|     2919|     2919|      2919|\n",
      "|   mean|      null|102.20131215469613|     null|     null|      null|\n",
      "| stddev|      null|179.33425303776386|     null|     null|      null|\n",
      "|    min|    BrkCmn|                 0|       Ex|       Ex|    BrkTil|\n",
      "|    max|     Stone|              1600|       TA|       TA|      Wood|\n",
      "+-------+----------+------------------+---------+---------+----------+\n",
      "\n",
      "+-------+--------+--------+------------+------------+------------------+\n",
      "|summary|BsmtQual|BsmtCond|BsmtExposure|BsmtFinType1|        BsmtFinSF1|\n",
      "+-------+--------+--------+------------+------------+------------------+\n",
      "|  count|    2838|    2837|        2837|        2840|              2918|\n",
      "|   mean|    null|    null|        null|        null| 441.4232350925291|\n",
      "| stddev|    null|    null|        null|        null|455.61082587029176|\n",
      "|    min|      Ex|      Fa|          Av|         ALQ|                 0|\n",
      "|    max|      TA|      TA|          No|         Unf|              5644|\n",
      "+-------+--------+--------+------------+------------+------------------+\n",
      "\n",
      "+-------+------------+-----------------+-----------------+------------------+-------+\n",
      "|summary|BsmtFinType2|       BsmtFinSF2|        BsmtUnfSF|       TotalBsmtSF|Heating|\n",
      "+-------+------------+-----------------+-----------------+------------------+-------+\n",
      "|  count|        2839|             2918|             2918|              2918|   2919|\n",
      "|   mean|        null|49.58224811514736|560.7721041809458|1051.7775873886224|   null|\n",
      "| stddev|        null|169.2056110999798|439.5436594234397| 440.7662581159385|   null|\n",
      "|    min|         ALQ|                0|                0|                 0|  Floor|\n",
      "|    max|         Unf|             1526|             2336|              6110|   Wall|\n",
      "+-------+------------+-----------------+-----------------+------------------+-------+\n",
      "\n",
      "+-------+---------+----------+----------+------------------+-----------------+\n",
      "|summary|HeatingQC|CentralAir|Electrical|          1stFlrSF|         2ndFlrSF|\n",
      "+-------+---------+----------+----------+------------------+-----------------+\n",
      "|  count|     2919|      2919|      2918|              2919|             2919|\n",
      "|   mean|     null|      null|      null|1159.5817060637205|336.4837273038712|\n",
      "| stddev|     null|      null|      null|392.36207866658907|428.7014555181114|\n",
      "|    min|       Ex|         N|     FuseA|               334|                0|\n",
      "|    max|       TA|         Y|     SBrkr|              5095|             2065|\n",
      "+-------+---------+----------+----------+------------------+-----------------+\n",
      "\n",
      "+-------+-----------------+------------------+------------------+-------------------+------------------+\n",
      "|summary|     LowQualFinSF|         GrLivArea|      BsmtFullBath|       BsmtHalfBath|          FullBath|\n",
      "+-------+-----------------+------------------+------------------+-------------------+------------------+\n",
      "|  count|             2919|              2919|              2917|               2917|              2919|\n",
      "|   mean|4.694415895854744|1500.7598492634463| 0.429893726431265|0.06136441549537196| 1.568002740664611|\n",
      "| stddev|46.39682451650754|506.05104511834026|0.5247356336982463| 0.2456869164493275|0.5529692595874468|\n",
      "|    min|                0|               334|                 0|                  0|                 0|\n",
      "|    max|             1064|              5642|                 3|                  2|                 4|\n",
      "+-------+-----------------+------------------+------------------+-------------------+------------------+\n",
      "\n",
      "+-------+------------------+------------------+-------------------+-----------+------------------+\n",
      "|summary|          HalfBath|      BedroomAbvGr|       KitchenAbvGr|KitchenQual|      TotRmsAbvGrd|\n",
      "+-------+------------------+------------------+-------------------+-----------+------------------+\n",
      "|  count|              2919|              2919|               2919|       2918|              2919|\n",
      "|   mean|0.3802672147995889| 2.860226104830421| 1.0445357999314835|       null| 6.451524494689962|\n",
      "| stddev|0.5028716002357517|0.8226931006716114|0.21446200122348585|       null|1.5693791436437483|\n",
      "|    min|                 0|                 0|                  0|         Ex|                 2|\n",
      "|    max|                 2|                 8|                  3|         TA|                15|\n",
      "+-------+------------------+------------------+-------------------+-----------+------------------+\n",
      "\n",
      "+-------+----------+------------------+-----------+----------+------------------+\n",
      "|summary|Functional|        Fireplaces|FireplaceQu|GarageType|       GarageYrBlt|\n",
      "+-------+----------+------------------+-----------+----------+------------------+\n",
      "|  count|      2917|              2919|       1499|      2762|              2760|\n",
      "|   mean|      null|0.5971223021582733|       null|      null|1978.1134057971014|\n",
      "| stddev|      null|0.6461293589562274|       null|      null|25.574284723905112|\n",
      "|    min|      Maj1|                 0|         Ex|    2Types|              1895|\n",
      "|    max|       Typ|                 4|         TA|    Detchd|              2207|\n",
      "+-------+----------+------------------+-----------+----------+------------------+\n",
      "\n",
      "+-------+------------+------------------+------------------+----------+----------+\n",
      "|summary|GarageFinish|        GarageCars|        GarageArea|GarageQual|GarageCond|\n",
      "+-------+------------+------------------+------------------+----------+----------+\n",
      "|  count|        2760|              2918|              2918|      2760|      2760|\n",
      "|   mean|        null|1.7666209732693625| 472.8745716244003|      null|      null|\n",
      "| stddev|        null|0.7616243225993496|215.39481499352166|      null|      null|\n",
      "|    min|         Fin|                 0|                 0|        Ex|        Ex|\n",
      "|    max|         Unf|                 5|              1488|        TA|        TA|\n",
      "+-------+------------+------------------+------------------+----------+----------+\n",
      "\n",
      "+-------+----------+------------------+------------------+------------------+------------------+\n",
      "|summary|PavedDrive|        WoodDeckSF|       OpenPorchSF|     EnclosedPorch|         3SsnPorch|\n",
      "+-------+----------+------------------+------------------+------------------+------------------+\n",
      "|  count|      2919|              2919|              2919|              2919|              2919|\n",
      "|   mean|      null| 93.70983213429257|47.486810551558754|23.098321342925658| 2.602261048304214|\n",
      "| stddev|      null|126.52658931047685| 67.57549339168973| 64.24424559263244|25.188169331162975|\n",
      "|    min|         N|                 0|                 0|                 0|                 0|\n",
      "|    max|         Y|              1424|               742|              1012|               508|\n",
      "+-------+----------+------------------+------------------+------------------+------------------+\n",
      "\n",
      "+-------+------------------+------------------+------+-----+-----------+\n",
      "|summary|       ScreenPorch|          PoolArea|PoolQC|Fence|MiscFeature|\n",
      "+-------+------------------+------------------+------+-----+-----------+\n",
      "|  count|              2919|              2919|    10|  571|        105|\n",
      "|   mean|16.062350119904078|2.2517985611510793|  null| null|       null|\n",
      "| stddev| 56.18436511069397| 35.66394596548709|  null| null|       null|\n",
      "|    min|                 0|                 0|    Ex|GdPrv|       Gar2|\n",
      "|    max|               576|               800|    Gd| MnWw|       TenC|\n",
      "+-------+------------------+------------------+------+-----+-----------+\n",
      "\n",
      "+-------+-----------------+-----------------+------------------+--------+-------------+\n",
      "|summary|          MiscVal|           MoSold|            YrSold|SaleType|SaleCondition|\n",
      "+-------+-----------------+-----------------+------------------+--------+-------------+\n",
      "|  count|             2919|             2919|              2919|    2918|         2919|\n",
      "|   mean|50.82596779719082|6.213086673518328|2007.7927372387803|    null|         null|\n",
      "| stddev|567.4022105501805|2.714761774157895|1.3149644889049965|    null|         null|\n",
      "|    min|                0|                1|              2006|     COD|      Abnorml|\n",
      "|    max|            17000|               12|              2010|      WD|      Partial|\n",
      "+-------+-----------------+-----------------+------------------+--------+-------------+\n",
      "\n",
      "+-------+------------------+\n",
      "|summary|         SalePrice|\n",
      "+-------+------------------+\n",
      "|  count|              1460|\n",
      "|   mean|180921.19589041095|\n",
      "| stddev| 79442.50288288663|\n",
      "|    min|             34900|\n",
      "|    max|            755000|\n",
      "+-------+------------------+\n",
      "\n"
     ]
    }
   ],
   "source": [
    "step=5\n",
    "for index in range(0, num_columns, step):\n",
    "    full.describe(cols[index:index+step]).show()"
   ]
  },
  {
   "cell_type": "markdown",
   "metadata": {},
   "source": [
    "<a id=\"missings\"></a>\n",
    "\n",
    "## 4.1 Valores perdidos (missings)\n",
    "\n",
    "Hay que indicar que los NA son los missings (nullValue=\"NA\")\n",
    "\n",
    "NA se ha usado tambien para rellenar los valores de las variables que no aplica, por ejemplo casas que no tienen garaje se ha completado con NA los metros cuadrados del garaje"
   ]
  },
  {
   "cell_type": "code",
   "execution_count": 190,
   "metadata": {
    "collapsed": false
   },
   "outputs": [],
   "source": [
    "def count_nulls(c):\n",
    "    return agg_sum(col(c).isNull().cast(IntegerType())).alias(c)\n",
    "\n",
    "exprs = [count_nulls(c) for c in full.columns]\n",
    "\n",
    "count_NA = full.agg(*exprs).first().asDict()\n",
    "\n",
    "sorted([(v, k) for k, v in count_NA.items() if v > 0], reverse=True)"
   ]
  },
  {
   "cell_type": "code",
   "execution_count": 218,
   "metadata": {
    "collapsed": false
   },
   "outputs": [
    {
     "name": "stdout",
     "output_type": "stream",
     "text": [
      "35\n"
     ]
    },
    {
     "data": {
      "text/plain": [
       "['GarageType',\n",
       " 'SaleType',\n",
       " 'SalePrice',\n",
       " 'GarageFinish',\n",
       " 'Fence',\n",
       " 'PoolQC',\n",
       " 'Electrical',\n",
       " 'GarageArea',\n",
       " 'BsmtCond',\n",
       " 'MasVnrArea',\n",
       " 'MiscFeature',\n",
       " 'GarageCars',\n",
       " 'Exterior1st',\n",
       " 'GarageQual',\n",
       " 'TotalBsmtSF',\n",
       " 'BsmtFinSF1',\n",
       " 'BsmtHalfBath',\n",
       " 'Exterior2nd',\n",
       " 'BsmtFinSF2',\n",
       " 'FireplaceQu',\n",
       " 'BsmtUnfSF',\n",
       " 'LotFrontage',\n",
       " 'BsmtFinType2',\n",
       " 'KitchenQual',\n",
       " 'Functional',\n",
       " 'BsmtFinType1',\n",
       " 'BsmtExposure',\n",
       " 'BsmtFullBath',\n",
       " 'Alley',\n",
       " 'MasVnrType',\n",
       " 'GarageCond',\n",
       " 'Utilities',\n",
       " 'BsmtQual',\n",
       " 'MSZoning',\n",
       " 'GarageYrBlt']"
      ]
     },
     "execution_count": 218,
     "metadata": {},
     "output_type": "execute_result"
    }
   ],
   "source": [
    "variables_NA = [k for k, v in count_NA.items() if v>0]\n",
    "print(len(variables_NA))\n",
    "variables_NA"
   ]
  },
  {
   "cell_type": "code",
   "execution_count": 213,
   "metadata": {
    "collapsed": false
   },
   "outputs": [
    {
     "data": {
      "text/plain": [
       "14"
      ]
     },
     "execution_count": 213,
     "metadata": {},
     "output_type": "execute_result"
    }
   ],
   "source": [
    "allowed_NA=['Alley',\n",
    "            'BsmtQual',\n",
    "            'BsmtCond',\n",
    "            'BsmtExposure',\n",
    "            'BsmtFinType1',\n",
    "            'BsmtFinType2',\n",
    "            'FireplaceQu',\n",
    "            'GarageType',\n",
    "            'GarageFinish',\n",
    "            'GarageQual',\n",
    "            'GarageCond',\n",
    "            'PoolQC',\n",
    "            'Fence',\n",
    "            'MiscFeature']\n",
    "\n",
    "print('Número de variables con categoría NA permitida = {}'.format(len(allowed_NA))"
   ]
  },
  {
   "cell_type": "code",
   "execution_count": 217,
   "metadata": {
    "collapsed": false
   },
   "outputs": [
    {
     "name": "stdout",
     "output_type": "stream",
     "text": [
      "21\n"
     ]
    },
    {
     "data": {
      "text/plain": [
       "['SaleType',\n",
       " 'SalePrice',\n",
       " 'Electrical',\n",
       " 'GarageArea',\n",
       " 'MasVnrArea',\n",
       " 'GarageCars',\n",
       " 'Exterior1st',\n",
       " 'TotalBsmtSF',\n",
       " 'BsmtFinSF1',\n",
       " 'BsmtHalfBath',\n",
       " 'Exterior2nd',\n",
       " 'BsmtFinSF2',\n",
       " 'BsmtUnfSF',\n",
       " 'LotFrontage',\n",
       " 'KitchenQual',\n",
       " 'Functional',\n",
       " 'BsmtFullBath',\n",
       " 'MasVnrType',\n",
       " 'Utilities',\n",
       " 'MSZoning',\n",
       " 'GarageYrBlt']"
      ]
     },
     "execution_count": 217,
     "metadata": {},
     "output_type": "execute_result"
    }
   ],
   "source": [
    "missings = [v for v in variables_NA if v not in allowed_NA]\n",
    "print('Número de variables con valores perdidos = {} '.format(len(missings))\n",
    "missings"
   ]
  },
  {
   "cell_type": "markdown",
   "metadata": {},
   "source": [
    "<a id=\"preprocesado\"></a>\n",
    "\n",
    "# 5. Preprocesado"
   ]
  },
  {
   "cell_type": "markdown",
   "metadata": {},
   "source": [
    "## 5.1 Imputación de valores perdidos"
   ]
  },
  {
   "cell_type": "markdown",
   "metadata": {},
   "source": [
    "<a id=\"numerico\"></a>\n",
    "\n",
    "## 5.2 Conversión a tipo numérico"
   ]
  },
  {
   "cell_type": "markdown",
   "metadata": {
    "collapsed": true
   },
   "source": [
    "<a id=\"escalado\"></a>\n",
    "\n",
    "## 5.3 Escalado"
   ]
  },
  {
   "cell_type": "markdown",
   "metadata": {},
   "source": [
    "<a id=\"features\"></a>\n",
    "\n",
    "## 5.4 Convertir features en vector"
   ]
  },
  {
   "cell_type": "markdown",
   "metadata": {},
   "source": [
    "<a id=\"seleccion\"></a>\n",
    "\n",
    "# 6. Selección de variables \n",
    "\n",
    "(correlaciones, importancia de variables)"
   ]
  },
  {
   "cell_type": "markdown",
   "metadata": {},
   "source": [
    "<a id=\"modelos\"></a>\n",
    "\n",
    "# 7. Modelos"
   ]
  },
  {
   "cell_type": "markdown",
   "metadata": {
    "collapsed": true
   },
   "source": [
    "<a id=\"ajuste\"></a>\n",
    "\n",
    "## 7.1 Ajuste de parámetros"
   ]
  },
  {
   "cell_type": "markdown",
   "metadata": {},
   "source": [
    "<a id=\"evaluacion\"></a>\n",
    "\n",
    "## 7.2 Evaluación"
   ]
  },
  {
   "cell_type": "markdown",
   "metadata": {},
   "source": [
    "La evaluación del modelo final debe hacerse con un dataset diferente al de entrenamiento. \n",
    "\n",
    "Se recomienda automatizar procesos mediante el uso de pipelines y creación de funciones para evitar repetir código.\n",
    "\n",
    "La métrica a usar para la evaluación de soluciones es *RMSLE*. Esta métrica no se encuentra dentro de las que ofrece el objeto *RegressionEvaluator* por lo que debemos definir nuestro propio evaluador."
   ]
  },
  {
   "cell_type": "code",
   "execution_count": 9,
   "metadata": {
    "collapsed": false
   },
   "outputs": [],
   "source": [
    "'''\n",
    "Código original tomado de:\n",
    "https://gist.github.com/pvalienteverde\n",
    "\n",
    "- Se ha añadido la fórmula rmsle para que trabaje con la API DataFrames.\n",
    "'''\n",
    "\n",
    "from pyspark.ml.evaluation import Evaluator\n",
    "from math import sqrt\n",
    "from operator import add\n",
    "from pyspark.sql.functions import avg\n",
    "from pyspark.sql.functions import log1p\n",
    "\n",
    "class MyEvaluator(Evaluator):\n",
    "    '''\n",
    "    When a userID is predicted when it is not already trained (all userID  data is used on validation \n",
    "    group and none of them to train), prediction is nan,  so RegressionEvaluator returns Nan.\n",
    "    To solve this we must change RegressionEvaluator by MiValidacion\n",
    "    '''\n",
    "    def __init__(self,predictionCol='prediction', targetCol='rating'):        \n",
    "        super(MyEvaluator, self).__init__()\n",
    "        self.predictionCol=predictionCol\n",
    "        self.targetCol=targetCol\n",
    "        \n",
    "    def _evaluate(self, dataset):       \n",
    "        error=self.rmse(dataset,self.predictionCol,self.targetCol)\n",
    "        print (\"Error: {}\".format(error))\n",
    "        return error\n",
    "    \n",
    "    def isLargerBetter(self):\n",
    "        return False\n",
    "    \n",
    "    @staticmethod\n",
    "    def rmse(dataset, predictionCol, targetCol):\n",
    "        return sqrt(dataset.select(avg((dataset[targetCol] - dataset[predictionCol]) ** 2)).first()[0])\n",
    "    \n",
    "    @staticmethod\n",
    "    def rmsle(dataset, predictionCol, targetCol):\n",
    "        return sqrt(dataset.select(avg((log1p(dataset[targetCol]) - log1p(dataset[predictionCol])) ** 2)).first()[0])             "
   ]
  },
  {
   "cell_type": "code",
   "execution_count": 10,
   "metadata": {
    "collapsed": true
   },
   "outputs": [],
   "source": [
    "evaluator = MyEvaluator()"
   ]
  },
  {
   "cell_type": "markdown",
   "metadata": {},
   "source": [
    "<a id=\"cierre\"></a>\n",
    "\n",
    "# 8. Cierre sesión spark"
   ]
  },
  {
   "cell_type": "markdown",
   "metadata": {},
   "source": [
    "Liberamos recursos"
   ]
  },
  {
   "cell_type": "code",
   "execution_count": 34,
   "metadata": {
    "collapsed": false
   },
   "outputs": [],
   "source": [
    "spark.stop()"
   ]
  }
 ],
 "metadata": {
  "anaconda-cloud": {},
  "kernelspec": {
   "display_name": "Python [conda root]",
   "language": "python",
   "name": "conda-root-py"
  },
  "language_info": {
   "codemirror_mode": {
    "name": "ipython",
    "version": 3
   },
   "file_extension": ".py",
   "mimetype": "text/x-python",
   "name": "python",
   "nbconvert_exporter": "python",
   "pygments_lexer": "ipython3",
   "version": "3.5.2"
  }
 },
 "nbformat": 4,
 "nbformat_minor": 1
}
