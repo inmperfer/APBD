{
 "cells": [
  {
   "cell_type": "markdown",
   "metadata": {},
   "source": [
    "<center> <h1>Trabajo final para la asignatura APBD</h1> </center>\n",
    "<center> <h3>Máster en Data Science y Big Data. CFP-Universidad de Sevilla</h3> </center>\n",
    "<p style=\"text-align: center;\">Autor: Inmaculada Perea Fernández</p>\n",
    "<p style=\"text-align: center;\">(Julio 2017)</p>"
   ]
  },
  {
   "cell_type": "markdown",
   "metadata": {},
   "source": [
    "\n",
    "# Tabla de contenidos\n",
    "\n",
    "1. [Descripción del problema](#descripcion)\n",
    "\n",
    "2. [Inicio sesión Spark](#inicio)\n",
    "\n",
    "3. [Lectura de datos y exploración](#exploracion)\n",
    "\n",
    "4. [Preprocesado](#preprocesado)\n",
    "\n",
    "    4.1. [Valores perdidos (missings)](#missings)\n",
    "    \n",
    "    4.2. [Conversión a tipo numérico](#numerico)\n",
    "    \n",
    "    4.3. [Escalado](#escalado)\n",
    "    \n",
    "    4.4. [Convertir features en vector](#features)\n",
    "    \n",
    "5. [Selección de variables](#seleccion)\n",
    "\n",
    "6. [Modelos](#modelos)\n",
    "\n",
    "    6.1. [Ajuste de parámetros](#ajuste)\n",
    "    \n",
    "    6.2. [Evaluación](#evaluacion)\n",
    "       \n",
    "7. [Cierre sesión spark](#cierre)\n"
   ]
  },
  {
   "cell_type": "markdown",
   "metadata": {},
   "source": [
    "<a id='descripcion'></a>\n",
    "\n",
    "# Descripción del problema"
   ]
  },
  {
   "cell_type": "markdown",
   "metadata": {},
   "source": [
    "El problema elegido para el trabajo es uno de los datasets de aprendizaje de kaggle, en el que el objetivo es predecir el precio de venta de viviendas a partir de sus características\n",
    "\n",
    "Para más información sobre el problema ir a https://www.kaggle.com/c/house-prices-advanced-regression-techniques\n",
    "\n",
    "El objetivo de este trabajo es practicar con las diferentes herramientas que *Spark* nos proporciona para el procesamiento distribuido de grandes cantidades de datos, y para la aplicación de técnicas de machine learning. La obtención de predicciones óptimas es un objetivo secundario aunque se valorará positivamente.\n",
    "\n",
    "Las APIs de Spark más importantes para este proyecto serán la API de DataFrames y la API de ML para DataFrames. También tenemos a nuestra disposición la API RDDs para procesamiento a bajo nivel, y la API MLlib para RDDs."
   ]
  },
  {
   "cell_type": "markdown",
   "metadata": {},
   "source": [
    "<a id=\"inicio\"></a>\n",
    "\n",
    "# Inicio sesión spark\n",
    "\n",
    "Creamos la sesión spark como punto de entrada para poder trabajar con la API de DataFrame"
   ]
  },
  {
   "cell_type": "code",
   "execution_count": 1,
   "metadata": {
    "collapsed": false
   },
   "outputs": [
    {
     "data": {
      "text/plain": [
       "<pyspark.sql.session.SparkSession at 0xb65dd46c50>"
      ]
     },
     "execution_count": 1,
     "metadata": {},
     "output_type": "execute_result"
    }
   ],
   "source": [
    "import sys\n",
    "\n",
    "# Ruta de la carpeta local Spark.\n",
    "spark_path = 'C:/Users/inpf/spark-2.1.0-bin-hadoop2.7'\n",
    "\n",
    "sys.path.append(spark_path + '/python')\n",
    "sys.path.append(spark_path + '/python/lib/py4j-0.10.4-src.zip')\n",
    "\n",
    "from pyspark.sql import SparkSession\n",
    "\n",
    "spark = SparkSession.builder.master(\"local[*]\").appName(\"evaluacion_APBD_InmaPerea\").getOrCreate()\n",
    "\n",
    "spark"
   ]
  },
  {
   "cell_type": "markdown",
   "metadata": {},
   "source": [
    "Comprobamos el número de cores asignados"
   ]
  },
  {
   "cell_type": "code",
   "execution_count": 2,
   "metadata": {
    "collapsed": false
   },
   "outputs": [
    {
     "data": {
      "text/plain": [
       "4"
      ]
     },
     "execution_count": 2,
     "metadata": {},
     "output_type": "execute_result"
    }
   ],
   "source": [
    "spark.sparkContext.defaultParallelism"
   ]
  },
  {
   "cell_type": "markdown",
   "metadata": {},
   "source": [
    "# Carga de librerías"
   ]
  },
  {
   "cell_type": "code",
   "execution_count": 3,
   "metadata": {
    "collapsed": false
   },
   "outputs": [],
   "source": [
    "from pyspark.sql import SQLContext\n",
    "from pyspark.sql import Row\n",
    "\n",
    "from pyspark.sql.types import StructType, StructField, StringType, IntegerType\n",
    "\n",
    "# Se importa sum como agg_sum para evitar colisión de nombres\n",
    "from pyspark.sql.functions import lit, col, count, sum as agg_sum\n",
    "from pyspark.sql.functions import expr, udf, regexp_extract\n",
    "from pyspark.sql.functions import desc, avg, round as col_round\n",
    "\n",
    "\n",
    "from pyspark.ml import Pipeline\n",
    "from pyspark.ml.feature import StringIndexer, IndexToString, VectorAssembler\n",
    "from pyspark.ml.feature import StandardScaler\n",
    "from pyspark.ml.tuning import CrossValidator, ParamGridBuilder\n",
    "\n",
    "import pandas as pd\n",
    "import matplotlib.pyplot as plt"
   ]
  },
  {
   "cell_type": "markdown",
   "metadata": {},
   "source": [
    "# Establecimiento Semilla"
   ]
  },
  {
   "cell_type": "markdown",
   "metadata": {},
   "source": [
    "Establecemos la semilla que usaremos para toda la práctica"
   ]
  },
  {
   "cell_type": "code",
   "execution_count": 4,
   "metadata": {
    "collapsed": true
   },
   "outputs": [],
   "source": [
    "global_seed = 123456789"
   ]
  },
  {
   "cell_type": "markdown",
   "metadata": {},
   "source": [
    "<a id=\"exploracion\"></a>\n",
    "\n",
    "# 3. Lectura de datos"
   ]
  },
  {
   "cell_type": "markdown",
   "metadata": {},
   "source": [
    "Para explorar uniremos ambos datasets train y test. Por tanto cargaremos ambos datasets para su unión y posterior exploración."
   ]
  },
  {
   "cell_type": "code",
   "execution_count": 5,
   "metadata": {
    "collapsed": false
   },
   "outputs": [],
   "source": [
    "path = './data/'\n",
    "\n",
    "train = spark.read.csv(path +'train.csv', header=True, inferSchema=True, nullValue=\"NA\").cache()\n",
    "test  = spark.read.csv(path +'test.csv', header=True, inferSchema=True, nullValue=\"NA\").cache()"
   ]
  },
  {
   "cell_type": "markdown",
   "metadata": {},
   "source": [
    "Comprobaremos si ambos datasets tienen las mismas dimensiones y esquema antes de unirlos"
   ]
  },
  {
   "cell_type": "code",
   "execution_count": 6,
   "metadata": {
    "collapsed": false
   },
   "outputs": [
    {
     "name": "stdout",
     "output_type": "stream",
     "text": [
      "Numero columnas para cada conjunto de datos \n",
      "- train = 81\n",
      "- test  = 80\n"
     ]
    }
   ],
   "source": [
    "print('Numero columnas para cada conjunto de datos ')\n",
    "print('- train = {}'.format(len(train.schema.fields)))\n",
    "print('- test  = {}'.format(len(test.schema.fields)))"
   ]
  },
  {
   "cell_type": "markdown",
   "metadata": {},
   "source": [
    "Observamos que tienen dimensiones distintas, esto es debido a que en el conjunto *test* no existe la columna correspondiente a la variable respuesta *SalePrice*. Vamos a añadir dicha columna al conjunto *test*.\n",
    "\n",
    "Consultamos el tipo de dato de la columna *SalePrice* para replicarlo en el conjunto test."
   ]
  },
  {
   "cell_type": "code",
   "execution_count": 7,
   "metadata": {
    "collapsed": false
   },
   "outputs": [
    {
     "data": {
      "text/plain": [
       "StructField(SalePrice,IntegerType,true)"
      ]
     },
     "execution_count": 7,
     "metadata": {},
     "output_type": "execute_result"
    }
   ],
   "source": [
    "train.schema['SalePrice']"
   ]
  },
  {
   "cell_type": "markdown",
   "metadata": {},
   "source": [
    "Creamos la columna en el conjunto *test* con el mismo tipo que en el conjunto *train*"
   ]
  },
  {
   "cell_type": "code",
   "execution_count": 8,
   "metadata": {
    "collapsed": false
   },
   "outputs": [],
   "source": [
    "test = test.withColumn('SalePrice', lit(None).cast(IntegerType()))"
   ]
  },
  {
   "cell_type": "markdown",
   "metadata": {},
   "source": [
    "Ahora comprobaremos los esquemas de ambos dataframes, el orden de las columnas y su tipo"
   ]
  },
  {
   "cell_type": "code",
   "execution_count": 9,
   "metadata": {
    "collapsed": false
   },
   "outputs": [
    {
     "name": "stdout",
     "output_type": "stream",
     "text": [
      "¿Ambos dataframes tienen el mismo esquema de datos? True\n"
     ]
    }
   ],
   "source": [
    "compare = [False if (train_field != test_field) else True for test_field, train_field in zip (test.schema.fields, train.schema.fields)]\n",
    "print('¿Ambos dataframes tienen el mismo esquema de datos? {}'.format(False not in compare))"
   ]
  },
  {
   "cell_type": "code",
   "execution_count": 10,
   "metadata": {
    "collapsed": false
   },
   "outputs": [
    {
     "name": "stdout",
     "output_type": "stream",
     "text": [
      "Número de filas de cada dataframe:\n",
      "- train = 1460\n",
      "- test  = 1459\n",
      "- full  = 2919\n"
     ]
    }
   ],
   "source": [
    "full = train.union(test)\n",
    "\n",
    "print(\"Número de filas de cada dataframe:\")\n",
    "print(\"- train = {}\".format(train.count()))\n",
    "print(\"- test  = {}\".format(test.count()))\n",
    "print(\"- full  = {}\".format(full.count()))"
   ]
  },
  {
   "cell_type": "markdown",
   "metadata": {},
   "source": [
    "# 4. Exploración de los datos"
   ]
  },
  {
   "cell_type": "markdown",
   "metadata": {},
   "source": [
    "El esquema del dataframe union de train + test"
   ]
  },
  {
   "cell_type": "code",
   "execution_count": 11,
   "metadata": {
    "collapsed": false
   },
   "outputs": [
    {
     "name": "stdout",
     "output_type": "stream",
     "text": [
      "root\n",
      " |-- Id: integer (nullable = true)\n",
      " |-- MSSubClass: integer (nullable = true)\n",
      " |-- MSZoning: string (nullable = true)\n",
      " |-- LotFrontage: integer (nullable = true)\n",
      " |-- LotArea: integer (nullable = true)\n",
      " |-- Street: string (nullable = true)\n",
      " |-- Alley: string (nullable = true)\n",
      " |-- LotShape: string (nullable = true)\n",
      " |-- LandContour: string (nullable = true)\n",
      " |-- Utilities: string (nullable = true)\n",
      " |-- LotConfig: string (nullable = true)\n",
      " |-- LandSlope: string (nullable = true)\n",
      " |-- Neighborhood: string (nullable = true)\n",
      " |-- Condition1: string (nullable = true)\n",
      " |-- Condition2: string (nullable = true)\n",
      " |-- BldgType: string (nullable = true)\n",
      " |-- HouseStyle: string (nullable = true)\n",
      " |-- OverallQual: integer (nullable = true)\n",
      " |-- OverallCond: integer (nullable = true)\n",
      " |-- YearBuilt: integer (nullable = true)\n",
      " |-- YearRemodAdd: integer (nullable = true)\n",
      " |-- RoofStyle: string (nullable = true)\n",
      " |-- RoofMatl: string (nullable = true)\n",
      " |-- Exterior1st: string (nullable = true)\n",
      " |-- Exterior2nd: string (nullable = true)\n",
      " |-- MasVnrType: string (nullable = true)\n",
      " |-- MasVnrArea: integer (nullable = true)\n",
      " |-- ExterQual: string (nullable = true)\n",
      " |-- ExterCond: string (nullable = true)\n",
      " |-- Foundation: string (nullable = true)\n",
      " |-- BsmtQual: string (nullable = true)\n",
      " |-- BsmtCond: string (nullable = true)\n",
      " |-- BsmtExposure: string (nullable = true)\n",
      " |-- BsmtFinType1: string (nullable = true)\n",
      " |-- BsmtFinSF1: integer (nullable = true)\n",
      " |-- BsmtFinType2: string (nullable = true)\n",
      " |-- BsmtFinSF2: integer (nullable = true)\n",
      " |-- BsmtUnfSF: integer (nullable = true)\n",
      " |-- TotalBsmtSF: integer (nullable = true)\n",
      " |-- Heating: string (nullable = true)\n",
      " |-- HeatingQC: string (nullable = true)\n",
      " |-- CentralAir: string (nullable = true)\n",
      " |-- Electrical: string (nullable = true)\n",
      " |-- 1stFlrSF: integer (nullable = true)\n",
      " |-- 2ndFlrSF: integer (nullable = true)\n",
      " |-- LowQualFinSF: integer (nullable = true)\n",
      " |-- GrLivArea: integer (nullable = true)\n",
      " |-- BsmtFullBath: integer (nullable = true)\n",
      " |-- BsmtHalfBath: integer (nullable = true)\n",
      " |-- FullBath: integer (nullable = true)\n",
      " |-- HalfBath: integer (nullable = true)\n",
      " |-- BedroomAbvGr: integer (nullable = true)\n",
      " |-- KitchenAbvGr: integer (nullable = true)\n",
      " |-- KitchenQual: string (nullable = true)\n",
      " |-- TotRmsAbvGrd: integer (nullable = true)\n",
      " |-- Functional: string (nullable = true)\n",
      " |-- Fireplaces: integer (nullable = true)\n",
      " |-- FireplaceQu: string (nullable = true)\n",
      " |-- GarageType: string (nullable = true)\n",
      " |-- GarageYrBlt: integer (nullable = true)\n",
      " |-- GarageFinish: string (nullable = true)\n",
      " |-- GarageCars: integer (nullable = true)\n",
      " |-- GarageArea: integer (nullable = true)\n",
      " |-- GarageQual: string (nullable = true)\n",
      " |-- GarageCond: string (nullable = true)\n",
      " |-- PavedDrive: string (nullable = true)\n",
      " |-- WoodDeckSF: integer (nullable = true)\n",
      " |-- OpenPorchSF: integer (nullable = true)\n",
      " |-- EnclosedPorch: integer (nullable = true)\n",
      " |-- 3SsnPorch: integer (nullable = true)\n",
      " |-- ScreenPorch: integer (nullable = true)\n",
      " |-- PoolArea: integer (nullable = true)\n",
      " |-- PoolQC: string (nullable = true)\n",
      " |-- Fence: string (nullable = true)\n",
      " |-- MiscFeature: string (nullable = true)\n",
      " |-- MiscVal: integer (nullable = true)\n",
      " |-- MoSold: integer (nullable = true)\n",
      " |-- YrSold: integer (nullable = true)\n",
      " |-- SaleType: string (nullable = true)\n",
      " |-- SaleCondition: string (nullable = true)\n",
      " |-- SalePrice: integer (nullable = true)\n",
      "\n"
     ]
    }
   ],
   "source": [
    "full.printSchema()"
   ]
  },
  {
   "cell_type": "code",
   "execution_count": 12,
   "metadata": {
    "collapsed": false
   },
   "outputs": [
    {
     "name": "stdout",
     "output_type": "stream",
     "text": [
      "Número de variables= 81\n"
     ]
    }
   ],
   "source": [
    "cols = full.columns\n",
    "num_columns=len(cols)\n",
    "print(\"Número de variables= {}\".format(num_columns))"
   ]
  },
  {
   "cell_type": "code",
   "execution_count": 13,
   "metadata": {
    "collapsed": false
   },
   "outputs": [
    {
     "name": "stdout",
     "output_type": "stream",
     "text": [
      "+---+----------+--------+-----------+-------+------+-----+\n",
      "| Id|MSSubClass|MSZoning|LotFrontage|LotArea|Street|Alley|\n",
      "+---+----------+--------+-----------+-------+------+-----+\n",
      "|  1|        60|      RL|         65|   8450|  Pave| null|\n",
      "|  2|        20|      RL|         80|   9600|  Pave| null|\n",
      "|  3|        60|      RL|         68|  11250|  Pave| null|\n",
      "|  4|        70|      RL|         60|   9550|  Pave| null|\n",
      "|  5|        60|      RL|         84|  14260|  Pave| null|\n",
      "+---+----------+--------+-----------+-------+------+-----+\n",
      "only showing top 5 rows\n",
      "\n",
      "+--------+-----------+---------+---------+---------+------------+----------+\n",
      "|LotShape|LandContour|Utilities|LotConfig|LandSlope|Neighborhood|Condition1|\n",
      "+--------+-----------+---------+---------+---------+------------+----------+\n",
      "|     Reg|        Lvl|   AllPub|   Inside|      Gtl|     CollgCr|      Norm|\n",
      "|     Reg|        Lvl|   AllPub|      FR2|      Gtl|     Veenker|     Feedr|\n",
      "|     IR1|        Lvl|   AllPub|   Inside|      Gtl|     CollgCr|      Norm|\n",
      "|     IR1|        Lvl|   AllPub|   Corner|      Gtl|     Crawfor|      Norm|\n",
      "|     IR1|        Lvl|   AllPub|      FR2|      Gtl|     NoRidge|      Norm|\n",
      "+--------+-----------+---------+---------+---------+------------+----------+\n",
      "only showing top 5 rows\n",
      "\n",
      "+----------+--------+----------+-----------+-----------+---------+------------+\n",
      "|Condition2|BldgType|HouseStyle|OverallQual|OverallCond|YearBuilt|YearRemodAdd|\n",
      "+----------+--------+----------+-----------+-----------+---------+------------+\n",
      "|      Norm|    1Fam|    2Story|          7|          5|     2003|        2003|\n",
      "|      Norm|    1Fam|    1Story|          6|          8|     1976|        1976|\n",
      "|      Norm|    1Fam|    2Story|          7|          5|     2001|        2002|\n",
      "|      Norm|    1Fam|    2Story|          7|          5|     1915|        1970|\n",
      "|      Norm|    1Fam|    2Story|          8|          5|     2000|        2000|\n",
      "+----------+--------+----------+-----------+-----------+---------+------------+\n",
      "only showing top 5 rows\n",
      "\n",
      "+---------+--------+-----------+-----------+----------+----------+---------+\n",
      "|RoofStyle|RoofMatl|Exterior1st|Exterior2nd|MasVnrType|MasVnrArea|ExterQual|\n",
      "+---------+--------+-----------+-----------+----------+----------+---------+\n",
      "|    Gable| CompShg|    VinylSd|    VinylSd|   BrkFace|       196|       Gd|\n",
      "|    Gable| CompShg|    MetalSd|    MetalSd|      None|         0|       TA|\n",
      "|    Gable| CompShg|    VinylSd|    VinylSd|   BrkFace|       162|       Gd|\n",
      "|    Gable| CompShg|    Wd Sdng|    Wd Shng|      None|         0|       TA|\n",
      "|    Gable| CompShg|    VinylSd|    VinylSd|   BrkFace|       350|       Gd|\n",
      "+---------+--------+-----------+-----------+----------+----------+---------+\n",
      "only showing top 5 rows\n",
      "\n",
      "+---------+----------+--------+--------+------------+------------+----------+\n",
      "|ExterCond|Foundation|BsmtQual|BsmtCond|BsmtExposure|BsmtFinType1|BsmtFinSF1|\n",
      "+---------+----------+--------+--------+------------+------------+----------+\n",
      "|       TA|     PConc|      Gd|      TA|          No|         GLQ|       706|\n",
      "|       TA|    CBlock|      Gd|      TA|          Gd|         ALQ|       978|\n",
      "|       TA|     PConc|      Gd|      TA|          Mn|         GLQ|       486|\n",
      "|       TA|    BrkTil|      TA|      Gd|          No|         ALQ|       216|\n",
      "|       TA|     PConc|      Gd|      TA|          Av|         GLQ|       655|\n",
      "+---------+----------+--------+--------+------------+------------+----------+\n",
      "only showing top 5 rows\n",
      "\n",
      "+------------+----------+---------+-----------+-------+---------+----------+\n",
      "|BsmtFinType2|BsmtFinSF2|BsmtUnfSF|TotalBsmtSF|Heating|HeatingQC|CentralAir|\n",
      "+------------+----------+---------+-----------+-------+---------+----------+\n",
      "|         Unf|         0|      150|        856|   GasA|       Ex|         Y|\n",
      "|         Unf|         0|      284|       1262|   GasA|       Ex|         Y|\n",
      "|         Unf|         0|      434|        920|   GasA|       Ex|         Y|\n",
      "|         Unf|         0|      540|        756|   GasA|       Gd|         Y|\n",
      "|         Unf|         0|      490|       1145|   GasA|       Ex|         Y|\n",
      "+------------+----------+---------+-----------+-------+---------+----------+\n",
      "only showing top 5 rows\n",
      "\n",
      "+----------+--------+--------+------------+---------+------------+------------+\n",
      "|Electrical|1stFlrSF|2ndFlrSF|LowQualFinSF|GrLivArea|BsmtFullBath|BsmtHalfBath|\n",
      "+----------+--------+--------+------------+---------+------------+------------+\n",
      "|     SBrkr|     856|     854|           0|     1710|           1|           0|\n",
      "|     SBrkr|    1262|       0|           0|     1262|           0|           1|\n",
      "|     SBrkr|     920|     866|           0|     1786|           1|           0|\n",
      "|     SBrkr|     961|     756|           0|     1717|           1|           0|\n",
      "|     SBrkr|    1145|    1053|           0|     2198|           1|           0|\n",
      "+----------+--------+--------+------------+---------+------------+------------+\n",
      "only showing top 5 rows\n",
      "\n",
      "+--------+--------+------------+------------+-----------+------------+----------+\n",
      "|FullBath|HalfBath|BedroomAbvGr|KitchenAbvGr|KitchenQual|TotRmsAbvGrd|Functional|\n",
      "+--------+--------+------------+------------+-----------+------------+----------+\n",
      "|       2|       1|           3|           1|         Gd|           8|       Typ|\n",
      "|       2|       0|           3|           1|         TA|           6|       Typ|\n",
      "|       2|       1|           3|           1|         Gd|           6|       Typ|\n",
      "|       1|       0|           3|           1|         Gd|           7|       Typ|\n",
      "|       2|       1|           4|           1|         Gd|           9|       Typ|\n",
      "+--------+--------+------------+------------+-----------+------------+----------+\n",
      "only showing top 5 rows\n",
      "\n",
      "+----------+-----------+----------+-----------+------------+----------+----------+\n",
      "|Fireplaces|FireplaceQu|GarageType|GarageYrBlt|GarageFinish|GarageCars|GarageArea|\n",
      "+----------+-----------+----------+-----------+------------+----------+----------+\n",
      "|         0|       null|    Attchd|       2003|         RFn|         2|       548|\n",
      "|         1|         TA|    Attchd|       1976|         RFn|         2|       460|\n",
      "|         1|         TA|    Attchd|       2001|         RFn|         2|       608|\n",
      "|         1|         Gd|    Detchd|       1998|         Unf|         3|       642|\n",
      "|         1|         TA|    Attchd|       2000|         RFn|         3|       836|\n",
      "+----------+-----------+----------+-----------+------------+----------+----------+\n",
      "only showing top 5 rows\n",
      "\n",
      "+----------+----------+----------+----------+-----------+-------------+---------+\n",
      "|GarageQual|GarageCond|PavedDrive|WoodDeckSF|OpenPorchSF|EnclosedPorch|3SsnPorch|\n",
      "+----------+----------+----------+----------+-----------+-------------+---------+\n",
      "|        TA|        TA|         Y|         0|         61|            0|        0|\n",
      "|        TA|        TA|         Y|       298|          0|            0|        0|\n",
      "|        TA|        TA|         Y|         0|         42|            0|        0|\n",
      "|        TA|        TA|         Y|         0|         35|          272|        0|\n",
      "|        TA|        TA|         Y|       192|         84|            0|        0|\n",
      "+----------+----------+----------+----------+-----------+-------------+---------+\n",
      "only showing top 5 rows\n",
      "\n",
      "+-----------+--------+------+-----+-----------+-------+------+\n",
      "|ScreenPorch|PoolArea|PoolQC|Fence|MiscFeature|MiscVal|MoSold|\n",
      "+-----------+--------+------+-----+-----------+-------+------+\n",
      "|          0|       0|  null| null|       null|      0|     2|\n",
      "|          0|       0|  null| null|       null|      0|     5|\n",
      "|          0|       0|  null| null|       null|      0|     9|\n",
      "|          0|       0|  null| null|       null|      0|     2|\n",
      "|          0|       0|  null| null|       null|      0|    12|\n",
      "+-----------+--------+------+-----+-----------+-------+------+\n",
      "only showing top 5 rows\n",
      "\n",
      "+------+--------+-------------+---------+\n",
      "|YrSold|SaleType|SaleCondition|SalePrice|\n",
      "+------+--------+-------------+---------+\n",
      "|  2008|      WD|       Normal|   208500|\n",
      "|  2007|      WD|       Normal|   181500|\n",
      "|  2008|      WD|       Normal|   223500|\n",
      "|  2006|      WD|      Abnorml|   140000|\n",
      "|  2008|      WD|       Normal|   250000|\n",
      "+------+--------+-------------+---------+\n",
      "only showing top 5 rows\n",
      "\n"
     ]
    }
   ],
   "source": [
    "step=7\n",
    "for index in range(0, num_columns, step):\n",
    "    full.select(cols[index:index+step]).show(5) "
   ]
  },
  {
   "cell_type": "code",
   "execution_count": 14,
   "metadata": {
    "collapsed": false
   },
   "outputs": [
    {
     "name": "stdout",
     "output_type": "stream",
     "text": [
      "+-------+-----------------+------------------+--------+------------------+-----------------+\n",
      "|summary|               Id|        MSSubClass|MSZoning|       LotFrontage|          LotArea|\n",
      "+-------+-----------------+------------------+--------+------------------+-----------------+\n",
      "|  count|             2919|              2919|    2915|              2433|             2919|\n",
      "|   mean|           1460.0|  57.1377183967112|    null| 69.30579531442663|10168.11408016444|\n",
      "| stddev|842.7870430897713|42.517627829150314|    null|23.344904706927394|7886.996359105535|\n",
      "|    min|                1|                20| C (all)|                21|             1300|\n",
      "|    max|             2919|               190|      RM|               313|           215245|\n",
      "+-------+-----------------+------------------+--------+------------------+-----------------+\n",
      "\n",
      "+-------+------+-----+--------+-----------+---------+\n",
      "|summary|Street|Alley|LotShape|LandContour|Utilities|\n",
      "+-------+------+-----+--------+-----------+---------+\n",
      "|  count|  2919|  198|    2919|       2919|     2917|\n",
      "|   mean|  null| null|    null|       null|     null|\n",
      "| stddev|  null| null|    null|       null|     null|\n",
      "|    min|  Grvl| Grvl|     IR1|        Bnk|   AllPub|\n",
      "|    max|  Pave| Pave|     Reg|        Lvl|   NoSeWa|\n",
      "+-------+------+-----+--------+-----------+---------+\n",
      "\n",
      "+-------+---------+---------+------------+----------+----------+\n",
      "|summary|LotConfig|LandSlope|Neighborhood|Condition1|Condition2|\n",
      "+-------+---------+---------+------------+----------+----------+\n",
      "|  count|     2919|     2919|        2919|      2919|      2919|\n",
      "|   mean|     null|     null|        null|      null|      null|\n",
      "| stddev|     null|     null|        null|      null|      null|\n",
      "|    min|   Corner|      Gtl|     Blmngtn|    Artery|    Artery|\n",
      "|    max|   Inside|      Sev|     Veenker|      RRNn|      RRNn|\n",
      "+-------+---------+---------+------------+----------+----------+\n",
      "\n",
      "+-------+--------+----------+-----------------+------------------+------------------+\n",
      "|summary|BldgType|HouseStyle|      OverallQual|       OverallCond|         YearBuilt|\n",
      "+-------+--------+----------+-----------------+------------------+------------------+\n",
      "|  count|    2919|      2919|             2919|              2919|              2919|\n",
      "|   mean|    null|      null|6.089071599862967| 5.564576909900651|1971.3127783487496|\n",
      "| stddev|    null|      null|1.409947206614697|1.1131307466377236|30.291441534121137|\n",
      "|    min|    1Fam|    1.5Fin|                1|                 1|              1872|\n",
      "|    max|  TwnhsE|      SLvl|               10|                 9|              2010|\n",
      "+-------+--------+----------+-----------------+------------------+------------------+\n",
      "\n",
      "+-------+------------------+---------+--------+-----------+-----------+\n",
      "|summary|      YearRemodAdd|RoofStyle|RoofMatl|Exterior1st|Exterior2nd|\n",
      "+-------+------------------+---------+--------+-----------+-----------+\n",
      "|  count|              2919|     2919|    2919|       2918|       2918|\n",
      "|   mean|1984.2644741349777|     null|    null|       null|       null|\n",
      "| stddev| 20.89434423384076|     null|    null|       null|       null|\n",
      "|    min|              1950|     Flat| ClyTile|    AsbShng|    AsbShng|\n",
      "|    max|              2010|     Shed| WdShngl|    WdShing|    Wd Shng|\n",
      "+-------+------------------+---------+--------+-----------+-----------+\n",
      "\n",
      "+-------+----------+------------------+---------+---------+----------+\n",
      "|summary|MasVnrType|        MasVnrArea|ExterQual|ExterCond|Foundation|\n",
      "+-------+----------+------------------+---------+---------+----------+\n",
      "|  count|      2895|              2896|     2919|     2919|      2919|\n",
      "|   mean|      null|102.20131215469613|     null|     null|      null|\n",
      "| stddev|      null|179.33425303776386|     null|     null|      null|\n",
      "|    min|    BrkCmn|                 0|       Ex|       Ex|    BrkTil|\n",
      "|    max|     Stone|              1600|       TA|       TA|      Wood|\n",
      "+-------+----------+------------------+---------+---------+----------+\n",
      "\n",
      "+-------+--------+--------+------------+------------+------------------+\n",
      "|summary|BsmtQual|BsmtCond|BsmtExposure|BsmtFinType1|        BsmtFinSF1|\n",
      "+-------+--------+--------+------------+------------+------------------+\n",
      "|  count|    2838|    2837|        2837|        2840|              2918|\n",
      "|   mean|    null|    null|        null|        null| 441.4232350925291|\n",
      "| stddev|    null|    null|        null|        null|455.61082587029176|\n",
      "|    min|      Ex|      Fa|          Av|         ALQ|                 0|\n",
      "|    max|      TA|      TA|          No|         Unf|              5644|\n",
      "+-------+--------+--------+------------+------------+------------------+\n",
      "\n",
      "+-------+------------+-----------------+-----------------+------------------+-------+\n",
      "|summary|BsmtFinType2|       BsmtFinSF2|        BsmtUnfSF|       TotalBsmtSF|Heating|\n",
      "+-------+------------+-----------------+-----------------+------------------+-------+\n",
      "|  count|        2839|             2918|             2918|              2918|   2919|\n",
      "|   mean|        null|49.58224811514736|560.7721041809458|1051.7775873886224|   null|\n",
      "| stddev|        null|169.2056110999798|439.5436594234397| 440.7662581159385|   null|\n",
      "|    min|         ALQ|                0|                0|                 0|  Floor|\n",
      "|    max|         Unf|             1526|             2336|              6110|   Wall|\n",
      "+-------+------------+-----------------+-----------------+------------------+-------+\n",
      "\n",
      "+-------+---------+----------+----------+------------------+-----------------+\n",
      "|summary|HeatingQC|CentralAir|Electrical|          1stFlrSF|         2ndFlrSF|\n",
      "+-------+---------+----------+----------+------------------+-----------------+\n",
      "|  count|     2919|      2919|      2918|              2919|             2919|\n",
      "|   mean|     null|      null|      null|1159.5817060637205|336.4837273038712|\n",
      "| stddev|     null|      null|      null|392.36207866658907|428.7014555181114|\n",
      "|    min|       Ex|         N|     FuseA|               334|                0|\n",
      "|    max|       TA|         Y|     SBrkr|              5095|             2065|\n",
      "+-------+---------+----------+----------+------------------+-----------------+\n",
      "\n",
      "+-------+-----------------+------------------+------------------+-------------------+------------------+\n",
      "|summary|     LowQualFinSF|         GrLivArea|      BsmtFullBath|       BsmtHalfBath|          FullBath|\n",
      "+-------+-----------------+------------------+------------------+-------------------+------------------+\n",
      "|  count|             2919|              2919|              2917|               2917|              2919|\n",
      "|   mean|4.694415895854744|1500.7598492634463| 0.429893726431265|0.06136441549537196| 1.568002740664611|\n",
      "| stddev|46.39682451650754|506.05104511834026|0.5247356336982463| 0.2456869164493275|0.5529692595874468|\n",
      "|    min|                0|               334|                 0|                  0|                 0|\n",
      "|    max|             1064|              5642|                 3|                  2|                 4|\n",
      "+-------+-----------------+------------------+------------------+-------------------+------------------+\n",
      "\n",
      "+-------+------------------+------------------+-------------------+-----------+------------------+\n",
      "|summary|          HalfBath|      BedroomAbvGr|       KitchenAbvGr|KitchenQual|      TotRmsAbvGrd|\n",
      "+-------+------------------+------------------+-------------------+-----------+------------------+\n",
      "|  count|              2919|              2919|               2919|       2918|              2919|\n",
      "|   mean|0.3802672147995889| 2.860226104830421| 1.0445357999314835|       null| 6.451524494689962|\n",
      "| stddev|0.5028716002357517|0.8226931006716114|0.21446200122348585|       null|1.5693791436437483|\n",
      "|    min|                 0|                 0|                  0|         Ex|                 2|\n",
      "|    max|                 2|                 8|                  3|         TA|                15|\n",
      "+-------+------------------+------------------+-------------------+-----------+------------------+\n",
      "\n",
      "+-------+----------+------------------+-----------+----------+------------------+\n",
      "|summary|Functional|        Fireplaces|FireplaceQu|GarageType|       GarageYrBlt|\n",
      "+-------+----------+------------------+-----------+----------+------------------+\n",
      "|  count|      2917|              2919|       1499|      2762|              2760|\n",
      "|   mean|      null|0.5971223021582733|       null|      null|1978.1134057971014|\n",
      "| stddev|      null|0.6461293589562274|       null|      null|25.574284723905112|\n",
      "|    min|      Maj1|                 0|         Ex|    2Types|              1895|\n",
      "|    max|       Typ|                 4|         TA|    Detchd|              2207|\n",
      "+-------+----------+------------------+-----------+----------+------------------+\n",
      "\n",
      "+-------+------------+------------------+------------------+----------+----------+\n",
      "|summary|GarageFinish|        GarageCars|        GarageArea|GarageQual|GarageCond|\n",
      "+-------+------------+------------------+------------------+----------+----------+\n",
      "|  count|        2760|              2918|              2918|      2760|      2760|\n",
      "|   mean|        null|1.7666209732693625| 472.8745716244003|      null|      null|\n",
      "| stddev|        null|0.7616243225993496|215.39481499352166|      null|      null|\n",
      "|    min|         Fin|                 0|                 0|        Ex|        Ex|\n",
      "|    max|         Unf|                 5|              1488|        TA|        TA|\n",
      "+-------+------------+------------------+------------------+----------+----------+\n",
      "\n",
      "+-------+----------+------------------+------------------+------------------+------------------+\n",
      "|summary|PavedDrive|        WoodDeckSF|       OpenPorchSF|     EnclosedPorch|         3SsnPorch|\n",
      "+-------+----------+------------------+------------------+------------------+------------------+\n",
      "|  count|      2919|              2919|              2919|              2919|              2919|\n",
      "|   mean|      null| 93.70983213429257|47.486810551558754|23.098321342925658| 2.602261048304214|\n",
      "| stddev|      null|126.52658931047685| 67.57549339168973| 64.24424559263244|25.188169331162975|\n",
      "|    min|         N|                 0|                 0|                 0|                 0|\n",
      "|    max|         Y|              1424|               742|              1012|               508|\n",
      "+-------+----------+------------------+------------------+------------------+------------------+\n",
      "\n",
      "+-------+------------------+------------------+------+-----+-----------+\n",
      "|summary|       ScreenPorch|          PoolArea|PoolQC|Fence|MiscFeature|\n",
      "+-------+------------------+------------------+------+-----+-----------+\n",
      "|  count|              2919|              2919|    10|  571|        105|\n",
      "|   mean|16.062350119904078|2.2517985611510793|  null| null|       null|\n",
      "| stddev| 56.18436511069397| 35.66394596548709|  null| null|       null|\n",
      "|    min|                 0|                 0|    Ex|GdPrv|       Gar2|\n",
      "|    max|               576|               800|    Gd| MnWw|       TenC|\n",
      "+-------+------------------+------------------+------+-----+-----------+\n",
      "\n",
      "+-------+-----------------+-----------------+------------------+--------+-------------+\n",
      "|summary|          MiscVal|           MoSold|            YrSold|SaleType|SaleCondition|\n",
      "+-------+-----------------+-----------------+------------------+--------+-------------+\n",
      "|  count|             2919|             2919|              2919|    2918|         2919|\n",
      "|   mean|50.82596779719082|6.213086673518328|2007.7927372387803|    null|         null|\n",
      "| stddev|567.4022105501805|2.714761774157895|1.3149644889049965|    null|         null|\n",
      "|    min|                0|                1|              2006|     COD|      Abnorml|\n",
      "|    max|            17000|               12|              2010|      WD|      Partial|\n",
      "+-------+-----------------+-----------------+------------------+--------+-------------+\n",
      "\n",
      "+-------+------------------+\n",
      "|summary|         SalePrice|\n",
      "+-------+------------------+\n",
      "|  count|              1460|\n",
      "|   mean|180921.19589041095|\n",
      "| stddev| 79442.50288288663|\n",
      "|    min|             34900|\n",
      "|    max|            755000|\n",
      "+-------+------------------+\n",
      "\n"
     ]
    }
   ],
   "source": [
    "step=5\n",
    "for index in range(0, num_columns, step):\n",
    "    full.describe(cols[index:index+step]).show()"
   ]
  },
  {
   "cell_type": "markdown",
   "metadata": {},
   "source": [
    "<a id=\"missings\"></a>\n",
    "\n",
    "## 4.1 Valores perdidos (missings)\n",
    "\n",
    "En la lectura de los ficheros csv de datos especificamos \"NA\" como nullValue.\n",
    "\n",
    "A continuación vamos a evaluar los valores perdidos del conjunto resultante de la unión de los datasets de test y entrenamiento."
   ]
  },
  {
   "cell_type": "code",
   "execution_count": 15,
   "metadata": {
    "collapsed": false
   },
   "outputs": [
    {
     "data": {
      "text/plain": [
       "[(2909, 'PoolQC'),\n",
       " (2814, 'MiscFeature'),\n",
       " (2721, 'Alley'),\n",
       " (2348, 'Fence'),\n",
       " (1459, 'SalePrice'),\n",
       " (1420, 'FireplaceQu'),\n",
       " (486, 'LotFrontage'),\n",
       " (159, 'GarageYrBlt'),\n",
       " (159, 'GarageQual'),\n",
       " (159, 'GarageFinish'),\n",
       " (159, 'GarageCond'),\n",
       " (157, 'GarageType'),\n",
       " (82, 'BsmtExposure'),\n",
       " (82, 'BsmtCond'),\n",
       " (81, 'BsmtQual'),\n",
       " (80, 'BsmtFinType2'),\n",
       " (79, 'BsmtFinType1'),\n",
       " (24, 'MasVnrType'),\n",
       " (23, 'MasVnrArea'),\n",
       " (4, 'MSZoning'),\n",
       " (2, 'Utilities'),\n",
       " (2, 'Functional'),\n",
       " (2, 'BsmtHalfBath'),\n",
       " (2, 'BsmtFullBath'),\n",
       " (1, 'TotalBsmtSF'),\n",
       " (1, 'SaleType'),\n",
       " (1, 'KitchenQual'),\n",
       " (1, 'GarageCars'),\n",
       " (1, 'GarageArea'),\n",
       " (1, 'Exterior2nd'),\n",
       " (1, 'Exterior1st'),\n",
       " (1, 'Electrical'),\n",
       " (1, 'BsmtUnfSF'),\n",
       " (1, 'BsmtFinSF2'),\n",
       " (1, 'BsmtFinSF1')]"
      ]
     },
     "execution_count": 15,
     "metadata": {},
     "output_type": "execute_result"
    }
   ],
   "source": [
    "def count_nulls(c):\n",
    "    return agg_sum(col(c).isNull().cast(IntegerType())).alias(c)\n",
    "\n",
    "exprs = [count_nulls(c) for c in full.columns]\n",
    "\n",
    "count_NA = full.agg(*exprs).first().asDict()\n",
    "\n",
    "total_NA=sorted([(v, k) for k, v in count_NA.items() if v > 0], reverse=True)\n",
    "total_NA"
   ]
  },
  {
   "cell_type": "code",
   "execution_count": 16,
   "metadata": {
    "collapsed": false
   },
   "outputs": [
    {
     "name": "stdout",
     "output_type": "stream",
     "text": [
      "Número total de variables que presentan valores NA = 35\n"
     ]
    }
   ],
   "source": [
    "print(\"Número total de variables que presentan valores NA = {}\".format(len(total_NA)))"
   ]
  },
  {
   "cell_type": "markdown",
   "metadata": {},
   "source": [
    "### 4.1.1 Variables con categoría *NA* válida"
   ]
  },
  {
   "cell_type": "markdown",
   "metadata": {},
   "source": [
    "Obtenemos un total de 35 variables que presentan valores *NA*, sin embargo, al leer el fichero *data_description.txt*, que contiene una breve descripción de las variables, podemos extraer que muchas de las variables faltantes no son verdaderos missings, sino que corresponden a categorías permitidas, o representan la ausencia de una determinada característica, como por ejemplo piscina, garaje, valla, chimenea, sótano, etc.\n",
    "\n",
    "A continuación definiremos una lista con los nombres de las variables para las que la categoría \"NA\" es válida, y por tanto las observaciones con este valor no serán tratadas como variables missing. "
   ]
  },
  {
   "cell_type": "code",
   "execution_count": 17,
   "metadata": {
    "collapsed": false
   },
   "outputs": [
    {
     "name": "stdout",
     "output_type": "stream",
     "text": [
      "Número de variables con categoría NA permitida = 14\n"
     ]
    }
   ],
   "source": [
    "allowed_NA=['Alley',\n",
    "            'BsmtQual',\n",
    "            'BsmtCond',\n",
    "            'BsmtExposure',\n",
    "            'BsmtFinType1',\n",
    "            'BsmtFinType2',\n",
    "            'FireplaceQu',\n",
    "            'GarageType',\n",
    "            'GarageFinish',\n",
    "            'GarageQual',\n",
    "            'GarageCond',\n",
    "            'PoolQC',\n",
    "            'Fence',\n",
    "            'MiscFeature']\n",
    "\n",
    "print('Número de variables con categoría NA permitida = {}'.format(len(allowed_NA)))"
   ]
  },
  {
   "cell_type": "markdown",
   "metadata": {},
   "source": [
    "Comprobamos el tipo de variable"
   ]
  },
  {
   "cell_type": "code",
   "execution_count": 18,
   "metadata": {
    "collapsed": false
   },
   "outputs": [
    {
     "name": "stdout",
     "output_type": "stream",
     "text": [
      "StringType\n",
      "StringType\n",
      "StringType\n",
      "StringType\n",
      "StringType\n",
      "StringType\n",
      "StringType\n",
      "StringType\n",
      "StringType\n",
      "StringType\n",
      "StringType\n",
      "StringType\n",
      "StringType\n",
      "StringType\n"
     ]
    }
   ],
   "source": [
    "for var in allowed_NA:\n",
    "    print(full.schema[var].dataType)"
   ]
  },
  {
   "cell_type": "markdown",
   "metadata": {},
   "source": [
    "confirmamos que todas son variables categóricas, como cabía esperar.\n",
    "\n",
    "Para que quede más claro vamos a cambiar la categoría *NA* de las variables anteriores a las categorías que se presentan a continuación, y que son más descriptivas."
   ]
  },
  {
   "cell_type": "code",
   "execution_count": 19,
   "metadata": {
    "collapsed": true
   },
   "outputs": [],
   "source": [
    "new_NA_categories={'Alley':'noAccess',\n",
    "                   'BsmtQual':'NoBasement',\n",
    "                   'BsmtCond':'NoBasement',\n",
    "                   'BsmtExposure':'NoBasement',\n",
    "                   'BsmtFinType1':'NoBasement',\n",
    "                   'BsmtFinType2':'NoBasement',\n",
    "                   'FireplaceQu':'NoFireplace',\n",
    "                   'GarageType': 'NoGarage',\n",
    "                   'GarageFinish':'NoGarage',\n",
    "                   'GarageQual':'NoGarage',\n",
    "                   'GarageCond':'NoGarage',\n",
    "                   'PoolQC':'NoPool',\n",
    "                   'Fence':'NoFence',\n",
    "                   'MiscFeature':'None'}"
   ]
  },
  {
   "cell_type": "code",
   "execution_count": 20,
   "metadata": {
    "collapsed": true
   },
   "outputs": [],
   "source": [
    "full=full.fillna(new_NA_categories)"
   ]
  },
  {
   "cell_type": "code",
   "execution_count": 21,
   "metadata": {
    "collapsed": false
   },
   "outputs": [
    {
     "name": "stdout",
     "output_type": "stream",
     "text": [
      "Número de variables con valores perdidos = 21\n"
     ]
    },
    {
     "data": {
      "text/plain": [
       "[(1459, 'SalePrice'),\n",
       " (486, 'LotFrontage'),\n",
       " (159, 'GarageYrBlt'),\n",
       " (24, 'MasVnrType'),\n",
       " (23, 'MasVnrArea'),\n",
       " (4, 'MSZoning'),\n",
       " (2, 'Utilities'),\n",
       " (2, 'Functional'),\n",
       " (2, 'BsmtHalfBath'),\n",
       " (2, 'BsmtFullBath'),\n",
       " (1, 'TotalBsmtSF'),\n",
       " (1, 'SaleType'),\n",
       " (1, 'KitchenQual'),\n",
       " (1, 'GarageCars'),\n",
       " (1, 'GarageArea'),\n",
       " (1, 'Exterior2nd'),\n",
       " (1, 'Exterior1st'),\n",
       " (1, 'Electrical'),\n",
       " (1, 'BsmtUnfSF'),\n",
       " (1, 'BsmtFinSF2'),\n",
       " (1, 'BsmtFinSF1')]"
      ]
     },
     "execution_count": 21,
     "metadata": {},
     "output_type": "execute_result"
    }
   ],
   "source": [
    "missings=sorted([(v, k) for k, v in full.agg(*[count_nulls(c) for c in full.columns]).first().asDict().items() if v > 0], reverse=True)\n",
    "print('Número de variables con valores perdidos = {}'.format(len(missings)))\n",
    "missings"
   ]
  },
  {
   "cell_type": "markdown",
   "metadata": {},
   "source": [
    "### 4.1.2 Variable missing *SalePrice*"
   ]
  },
  {
   "cell_type": "markdown",
   "metadata": {},
   "source": [
    "Los valores 1459 valores perdidos que obtenemos para la variable objetivo *SalePrice* pertenecen al conjunto test.\n",
    "\n",
    "Vamos a asegurarnos de que es así realizando las siguientes comprobaciones:"
   ]
  },
  {
   "cell_type": "code",
   "execution_count": 22,
   "metadata": {
    "collapsed": false
   },
   "outputs": [
    {
     "name": "stdout",
     "output_type": "stream",
     "text": [
      "Número de observaciones conjunto test = 1459\n"
     ]
    }
   ],
   "source": [
    "print('Número de observaciones conjunto test = {}'.format(test.count()))"
   ]
  },
  {
   "cell_type": "code",
   "execution_count": 23,
   "metadata": {
    "collapsed": false
   },
   "outputs": [
    {
     "name": "stdout",
     "output_type": "stream",
     "text": [
      "Número de valores perdidos para la variable SalePrice en el conjunto train = 0\n"
     ]
    }
   ],
   "source": [
    "print('Número de valores perdidos para la variable SalePrice en el conjunto train = {}'.format\\\n",
    "      (train.agg(agg_sum(col('SalePrice').isNull().cast(IntegerType())).alias('SalePrice')).first().SalePrice))"
   ]
  },
  {
   "cell_type": "markdown",
   "metadata": {},
   "source": [
    "Por tanto, podemos eliminar la variable *SalePrice* de la lista de missings"
   ]
  },
  {
   "cell_type": "code",
   "execution_count": 24,
   "metadata": {
    "collapsed": false
   },
   "outputs": [
    {
     "name": "stdout",
     "output_type": "stream",
     "text": [
      "Número de variables con valores perdidos = 20 \n"
     ]
    },
    {
     "data": {
      "text/plain": [
       "[(486, 'LotFrontage'),\n",
       " (159, 'GarageYrBlt'),\n",
       " (24, 'MasVnrType'),\n",
       " (23, 'MasVnrArea'),\n",
       " (4, 'MSZoning'),\n",
       " (2, 'Utilities'),\n",
       " (2, 'Functional'),\n",
       " (2, 'BsmtHalfBath'),\n",
       " (2, 'BsmtFullBath'),\n",
       " (1, 'TotalBsmtSF'),\n",
       " (1, 'SaleType'),\n",
       " (1, 'KitchenQual'),\n",
       " (1, 'GarageCars'),\n",
       " (1, 'GarageArea'),\n",
       " (1, 'Exterior2nd'),\n",
       " (1, 'Exterior1st'),\n",
       " (1, 'Electrical'),\n",
       " (1, 'BsmtUnfSF'),\n",
       " (1, 'BsmtFinSF2'),\n",
       " (1, 'BsmtFinSF1')]"
      ]
     },
     "execution_count": 24,
     "metadata": {},
     "output_type": "execute_result"
    }
   ],
   "source": [
    "if (1459, 'SalePrice') in missings:\n",
    "    missings.remove((1459, 'SalePrice'))\n",
    "   \n",
    "print('Número de variables con valores perdidos = {} '.format(len(missings)))\n",
    "missings"
   ]
  },
  {
   "cell_type": "markdown",
   "metadata": {},
   "source": [
    "A continuación vamos a incorporar información adicional a nuestra lista de variables missings. Se va a añadir el tipo de variable y el porcentaje de missings sobre el total de observaciones."
   ]
  },
  {
   "cell_type": "code",
   "execution_count": 130,
   "metadata": {
    "collapsed": false
   },
   "outputs": [
    {
     "name": "stdout",
     "output_type": "stream",
     "text": [
      "Rows    Variable    Datatype    Percent\n",
      "\n"
     ]
    },
    {
     "data": {
      "text/plain": [
       "[(486, 'LotFrontage', IntegerType, 16.65),\n",
       " (159, 'GarageYrBlt', IntegerType, 5.45),\n",
       " (24, 'MasVnrType', StringType, 0.82),\n",
       " (23, 'MasVnrArea', IntegerType, 0.79),\n",
       " (4, 'MSZoning', StringType, 0.14),\n",
       " (2, 'Utilities', StringType, 0.07),\n",
       " (2, 'Functional', StringType, 0.07),\n",
       " (2, 'BsmtHalfBath', IntegerType, 0.07),\n",
       " (2, 'BsmtFullBath', IntegerType, 0.07),\n",
       " (1, 'TotalBsmtSF', IntegerType, 0.03),\n",
       " (1, 'SaleType', StringType, 0.03),\n",
       " (1, 'KitchenQual', StringType, 0.03),\n",
       " (1, 'GarageCars', IntegerType, 0.03),\n",
       " (1, 'GarageArea', IntegerType, 0.03),\n",
       " (1, 'Exterior2nd', StringType, 0.03),\n",
       " (1, 'Exterior1st', StringType, 0.03),\n",
       " (1, 'Electrical', StringType, 0.03),\n",
       " (1, 'BsmtUnfSF', IntegerType, 0.03),\n",
       " (1, 'BsmtFinSF2', IntegerType, 0.03),\n",
       " (1, 'BsmtFinSF1', IntegerType, 0.03)]"
      ]
     },
     "execution_count": 130,
     "metadata": {},
     "output_type": "execute_result"
    }
   ],
   "source": [
    "full_size=full.count()\n",
    "\n",
    "print('Rows    Variable    Datatype    Percent\\n')\n",
    "for i in range(len(missings)):\n",
    "    missings[i]=(missings[i][0], missings[i][1], full.schema[missings[i][1]].dataType, round((missings[i][0]/full_size)*100, 2))\n",
    "\n",
    "missings"
   ]
  },
  {
   "cell_type": "markdown",
   "metadata": {},
   "source": [
    "### 4.1.3 Variables missing *Bsmt*"
   ]
  },
  {
   "cell_type": "markdown",
   "metadata": {},
   "source": [
    "* **BsmtUnfSF**: superficie sin finalizar en el sótano (ft2)\n",
    "* **BsmtFinSF2**: superficie finalizada tipo 2 (ft2)\n",
    "* **BsmtFinSF1**: superficie finalizada tipo 1 (ft2)\n",
    "* **BsmtFullBath**: baños completos en el sótano\n",
    "* **BsmtHalfBath**: baños en el sótano\n",
    "* **TotalBsmtSF**: superficie total del sótano (ft2)"
   ]
  },
  {
   "cell_type": "code",
   "execution_count": 26,
   "metadata": {
    "collapsed": false
   },
   "outputs": [
    {
     "name": "stdout",
     "output_type": "stream",
     "text": [
      "(2, 'BsmtHalfBath', IntegerType, 0.07)\n",
      "(2, 'BsmtFullBath', IntegerType, 0.07)\n",
      "(1, 'TotalBsmtSF', IntegerType, 0.03)\n",
      "(1, 'BsmtUnfSF', IntegerType, 0.03)\n",
      "(1, 'BsmtFinSF2', IntegerType, 0.03)\n",
      "(1, 'BsmtFinSF1', IntegerType, 0.03)\n"
     ]
    }
   ],
   "source": [
    "for i in range(len(missings)):\n",
    "    if 'Bsmt' in missings[i][1]:\n",
    "        print(missings[i])"
   ]
  },
  {
   "cell_type": "markdown",
   "metadata": {},
   "source": [
    "Comprobamos que todas ellas son variables **numéricas**:"
   ]
  },
  {
   "cell_type": "code",
   "execution_count": 27,
   "metadata": {
    "collapsed": false
   },
   "outputs": [],
   "source": [
    "miss_bsmt = full.filter( full.BsmtUnfSF.isNull()    | full.BsmtFinSF2.isNull()   | full.BsmtFinSF1.isNull() |\n",
    "                         full.BsmtFullBath.isNull() | full.BsmtHalfBath.isNull() | full.TotalBsmtSF.isNull() )\n",
    "\n",
    "no_miss_bsmt = full.filter( full.BsmtUnfSF.isNotNull()     & full.BsmtFinSF2.isNotNull()   & full.BsmtFinSF1.isNotNull() |\n",
    "                            full.BsmtFullBath.isNotNull()  & full.BsmtHalfBath.isNotNull() & full.TotalBsmtSF.isNotNull() )"
   ]
  },
  {
   "cell_type": "code",
   "execution_count": 28,
   "metadata": {
    "collapsed": false
   },
   "outputs": [
    {
     "name": "stdout",
     "output_type": "stream",
     "text": [
      "+----------+----------+------------+------------+------------+\n",
      "|  BsmtQual|  BsmtCond|BsmtExposure|BsmtFinType1|BsmtFinType2|\n",
      "+----------+----------+------------+------------+------------+\n",
      "|NoBasement|NoBasement|  NoBasement|  NoBasement|  NoBasement|\n",
      "|NoBasement|NoBasement|  NoBasement|  NoBasement|  NoBasement|\n",
      "+----------+----------+------------+------------+------------+\n",
      "\n",
      "+----------+----------+---------+-----------+------------+------------+\n",
      "|BsmtFinSF1|BsmtFinSF2|BsmtUnfSF|TotalBsmtSF|BsmtFullBath|BsmtHalfBath|\n",
      "+----------+----------+---------+-----------+------------+------------+\n",
      "|      null|      null|     null|       null|        null|        null|\n",
      "|         0|         0|        0|          0|        null|        null|\n",
      "+----------+----------+---------+-----------+------------+------------+\n",
      "\n"
     ]
    }
   ],
   "source": [
    "miss_bsmt.select(['BsmtQual',\n",
    "                  'BsmtCond',\n",
    "                  'BsmtExposure',\n",
    "                  'BsmtFinType1',\n",
    "                  'BsmtFinType2']).show()\n",
    "                  \n",
    "miss_bsmt.select(['BsmtFinSF1',\n",
    "                  'BsmtFinSF2',\n",
    "                  'BsmtUnfSF',\n",
    "                  'TotalBsmtSF',\n",
    "                  'BsmtFullBath',\n",
    "                  'BsmtHalfBath']).show()\n"
   ]
  },
  {
   "cell_type": "markdown",
   "metadata": {},
   "source": [
    "Comprobamos que las observaciones de las variables missing *Bsmt* (sótano) corresponden a las 2 únicas observaciones anteriores. Las variables informadas nos dan como característica común la ausencia de sótano, por tanto para las variables missing bajo estudio el único valor que tiene sentido imputar es 0, puesto que denota la ausencia de sotano y por tanto de baños en el sótano, superficie total, superficie construida o por contruir en el sótano"
   ]
  },
  {
   "cell_type": "markdown",
   "metadata": {},
   "source": [
    "Creamos una diccionario *imputation_dict* donde iremos añadiendo el valor a imputar en cada una de las variables missing que estamos analizando para al final del análisis imputar los valores."
   ]
  },
  {
   "cell_type": "code",
   "execution_count": 29,
   "metadata": {
    "collapsed": false
   },
   "outputs": [],
   "source": [
    "imputation_dict={}\n",
    "\n",
    "imputation_dict['BsmtFinSF1']=0\n",
    "imputation_dict['BsmtFinSF2']=0\n",
    "imputation_dict['BsmtUnfSF']=0\n",
    "imputation_dict['TotalBsmtSF']=0\n",
    "imputation_dict['BsmtFullBath']=0\n",
    "imputation_dict['BsmtHalfBath']=0"
   ]
  },
  {
   "cell_type": "markdown",
   "metadata": {},
   "source": [
    "### 4.1.4 Variable missing *Electrical*"
   ]
  },
  {
   "cell_type": "markdown",
   "metadata": {},
   "source": [
    "* **Electrical**: sistema eléctrico (SBrkr, FuseA, FuseF, FuseP, Mix)"
   ]
  },
  {
   "cell_type": "code",
   "execution_count": 129,
   "metadata": {
    "collapsed": false
   },
   "outputs": [
    {
     "name": "stdout",
     "output_type": "stream",
     "text": [
      "Rows    Variable    Datatype    Percent\n",
      "\n",
      "(1, 'Electrical', StringType, 0.03)\n"
     ]
    }
   ],
   "source": [
    "print('Rows    Variable    Datatype    Percent\\n')\n",
    "for i in range(len(missings)):\n",
    "    if 'Electrical' in missings[i][1]:\n",
    "        print(missings[i])"
   ]
  },
  {
   "cell_type": "code",
   "execution_count": 31,
   "metadata": {
    "collapsed": true
   },
   "outputs": [],
   "source": [
    "miss_electrical = full.filter(full.Electrical.isNull())\n",
    "\n",
    "no_miss_electrical = full.filter(full.Electrical.isNotNull())"
   ]
  },
  {
   "cell_type": "markdown",
   "metadata": {},
   "source": [
    "En primer lugar confirmaremos que el valor perdido en la variable *Electrical* no se debe a la ausencia de instalación eléctrica. Como podemos observar a continuación, la variable *Utilities* para la observación en la que Electrical es null toma el valor *AllPub*, lo cual quiere decir que la vivienda dispone de todos los suministros (luz, agua, gas, etc)"
   ]
  },
  {
   "cell_type": "code",
   "execution_count": 41,
   "metadata": {
    "collapsed": false
   },
   "outputs": [
    {
     "name": "stdout",
     "output_type": "stream",
     "text": [
      "+---------+----------+\n",
      "|Utilities|Electrical|\n",
      "+---------+----------+\n",
      "|   AllPub|      null|\n",
      "+---------+----------+\n",
      "\n"
     ]
    }
   ],
   "source": [
    "miss_electrical.select(['Utilities', 'Electrical']).show(1)"
   ]
  },
  {
   "cell_type": "markdown",
   "metadata": {},
   "source": [
    "Vamos a inspeccionar los datos para encontrar el mejor valor para imputar el valor perdido.\n",
    "\n",
    "En primer lugar veamos cómo están distribuidas las categorías de la variable *Electrical* en el dataframe en la que no hay valores null de *Electrical*"
   ]
  },
  {
   "cell_type": "code",
   "execution_count": 32,
   "metadata": {
    "collapsed": true
   },
   "outputs": [],
   "source": [
    "import matplotlib.pyplot as plt\n",
    "\n",
    "def plot_freqs(categories, values, max_y):\n",
    "    %matplotlib inline\n",
    "    plt.bar(range(len(categories)), values, align='center')\n",
    "    plt.xticks(range(len(categories)), categories)\n",
    "    plt.ylim([0, max_y])"
   ]
  },
  {
   "cell_type": "code",
   "execution_count": 33,
   "metadata": {
    "collapsed": false
   },
   "outputs": [
    {
     "data": {
      "text/plain": [
       "[Row(Electrical='Mix', count=1),\n",
       " Row(Electrical='FuseF', count=50),\n",
       " Row(Electrical='SBrkr', count=2671),\n",
       " Row(Electrical='FuseP', count=8),\n",
       " Row(Electrical='FuseA', count=188)]"
      ]
     },
     "execution_count": 33,
     "metadata": {},
     "output_type": "execute_result"
    }
   ],
   "source": [
    "freq_table_electrical = no_miss_electrical.groupby('Electrical').count().collect()\n",
    "freq_table_electrical"
   ]
  },
  {
   "cell_type": "markdown",
   "metadata": {},
   "source": [
    "Convertimos a diccionario para facilitar la llamada a la función plot_freqs que se ha definido"
   ]
  },
  {
   "cell_type": "code",
   "execution_count": 34,
   "metadata": {
    "collapsed": false
   },
   "outputs": [],
   "source": [
    "freq_electrical={row.Electrical : row['count'] for row in freq_table_electrical}"
   ]
  },
  {
   "cell_type": "code",
   "execution_count": 35,
   "metadata": {
    "collapsed": false
   },
   "outputs": [
    {
     "data": {
      "image/png": "[encoded data removed]",
      "text/plain": [
       "<matplotlib.figure.Figure at 0xb66006bd30>"
      ]
     },
     "metadata": {},
     "output_type": "display_data"
    }
   ],
   "source": [
    "plot_freqs(freq_electrical.keys(), freq_electrical.values(), sum(freq_electrical.values()))"
   ]
  },
  {
   "cell_type": "markdown",
   "metadata": {},
   "source": [
    "Observamos que la variable *Electrical* está muy desbalanceada, en su mayor parte las observaciones corresponden a la categoría *SBrkr*.\n",
    "\n",
    "La categoría mayoritaria es *SBrkr*, podríamos imputar este valor, pero vamos a seguir inspeccionando los datos para asegurarnos de que elegimos el valor mas apropiado para imputar el missing detectado en esta variable.\n",
    "\n",
    "Veamos qué valores toman algunas de las variables que intuitivamente sospechamos puedan tener relación con *Electrical*"
   ]
  },
  {
   "cell_type": "code",
   "execution_count": 56,
   "metadata": {
    "collapsed": false
   },
   "outputs": [
    {
     "name": "stdout",
     "output_type": "stream",
     "text": [
      "+--------+----------+-----------+-----------+---------+------------+\n",
      "|BldgType|HouseStyle|OverallQual|OverallCond|YearBuilt|YearRemodAdd|\n",
      "+--------+----------+-----------+-----------+---------+------------+\n",
      "|    1Fam|      SLvl|          5|          5|     2006|        2007|\n",
      "+--------+----------+-----------+-----------+---------+------------+\n",
      "\n",
      "+--------+-------+----------+-----------+----------+\n",
      "|MSZoning|Heating|CentralAir|MiscFeature|Electrical|\n",
      "+--------+-------+----------+-----------+----------+\n",
      "|      RL|   GasA|         Y|       None|      null|\n",
      "+--------+-------+----------+-----------+----------+\n",
      "\n"
     ]
    }
   ],
   "source": [
    "miss_electrical.select(['BldgType', 'HouseStyle', 'OverallQual', 'OverallCond', 'YearBuilt', \n",
    "                       'YearRemodAdd']).show(1)\n",
    "                        \n",
    "miss_electrical.select(['MSZoning', 'Heating', 'CentralAir', 'MiscFeature', 'Electrical']).show(1)"
   ]
  },
  {
   "cell_type": "markdown",
   "metadata": {},
   "source": [
    "La variable *MiscFeature* la hemos incluido para comprobar si la vivienda tenía alguna instalación con necesidades eléctricas especiales, pero comprobamos que no es así. \n",
    "\n",
    "La variable *MSZoning* la añadimos para comprobar que la vivienda no estaba situada en una zona agrícola o industrial con características especiales que pudieran influir en la instalación electrica, pero comprobamos que no es asi.\n",
    "\n",
    "*Heating* toma el valor *GasA*, por lo que no se utiliza la instalación eléctrica para la calefacción de la vivienda, sin embargo *CentralAir* toma el valor *Y*, por lo que podría necesitar unas características especiales en cuanto a sistema eléctrico.\n",
    "\n",
    "Después de inspeccionar los valores anteriores vamos a comprobar cómo se distribuyen las categorias de Electrical cuando la vivienda fue construida (*YearBuilt*) o remodelada (*YearRemodAdd*) a partir del año 2006. También filtraremos por las variables *OverallQual* y *OverallCond*, que nos dan idea de las calidades de la vivienda. También filtraremos por *Heating* y *CentralAir*. \n",
    "\n",
    "El resto de variables consultadas no las tendremos en cuenta en el filtro porque parecen bastantes genéricas y no aportan demasiada información."
   ]
  },
  {
   "cell_type": "code",
   "execution_count": 73,
   "metadata": {
    "collapsed": false
   },
   "outputs": [
    {
     "name": "stdout",
     "output_type": "stream",
     "text": [
      "+----------+-----+\n",
      "|Electrical|count|\n",
      "+----------+-----+\n",
      "|     FuseF|    1|\n",
      "|     SBrkr|  360|\n",
      "+----------+-----+\n",
      "\n"
     ]
    }
   ],
   "source": [
    "no_miss_electrical.filter(\n",
    "    ((no_miss_electrical.YearBuilt >= 2006) | (no_miss_electrical.YearRemodAdd >= 2006))&\n",
    "    ((no_miss_electrical.OverallQual== 5) | (no_miss_electrical.OverallCond==5)) &\n",
    "    ((no_miss_electrical.BldgType=='1Fam') | (no_miss_electrical.HouseStyle=='SLvl')) &\n",
    "    (no_miss_electrical.Heating=='GasA') & (no_miss_electrical.CentralAir=='Y')).groupBy('Electrical').count().show()"
   ]
  },
  {
   "cell_type": "markdown",
   "metadata": {},
   "source": [
    "Observamos que la clase *SBrkr* es mayoritaria para las características filtradas, por tanto, tomaremos *SBrkr* como valor de imputación para la observación faltante de la variable *Electrical*"
   ]
  },
  {
   "cell_type": "code",
   "execution_count": 74,
   "metadata": {
    "collapsed": true
   },
   "outputs": [],
   "source": [
    "imputation_dict['Electrical']='SBrkr'"
   ]
  },
  {
   "cell_type": "markdown",
   "metadata": {},
   "source": [
    "### Variables missing *Exterior*"
   ]
  },
  {
   "cell_type": "markdown",
   "metadata": {},
   "source": [
    "* **Exterior2nd**: cubierta exterior de la vivienda (si existe más de un material)\n",
    "* **Exterior1st**: cubierta exterior de la vivienda"
   ]
  },
  {
   "cell_type": "code",
   "execution_count": 128,
   "metadata": {
    "collapsed": false
   },
   "outputs": [
    {
     "name": "stdout",
     "output_type": "stream",
     "text": [
      "Rows    Variable    Datatype    Percent\n",
      "\n",
      "(1, 'Exterior2nd', StringType, 0.03)\n",
      "(1, 'Exterior1st', StringType, 0.03)\n"
     ]
    }
   ],
   "source": [
    "print('Rows    Variable    Datatype    Percent\\n')\n",
    "for i in range(len(missings)):\n",
    "    if 'Exterior' in missings[i][1]:\n",
    "        print(missings[i])"
   ]
  },
  {
   "cell_type": "code",
   "execution_count": 77,
   "metadata": {
    "collapsed": true
   },
   "outputs": [],
   "source": [
    "miss_exterior = full.filter(full.Exterior2nd.isNull() | full.Exterior1st.isNull())\n",
    "no_miss_exterior = full.filter(full.Exterior2nd.isNotNull() & full.Exterior1st.isNotNull())"
   ]
  },
  {
   "cell_type": "markdown",
   "metadata": {},
   "source": [
    "Exploraremos los valores de las variables relacionadas con *Exterior2nd* y *Exterior1st* para el registro con valor perdido."
   ]
  },
  {
   "cell_type": "code",
   "execution_count": 80,
   "metadata": {
    "collapsed": false
   },
   "outputs": [
    {
     "name": "stdout",
     "output_type": "stream",
     "text": [
      "+--------+----------+-----------+-----------+---------+------------+-----------+\n",
      "|BldgType|HouseStyle|OverallQual|OverallCond|YearBuilt|YearRemodAdd|MiscFeature|\n",
      "+--------+----------+-----------+-----------+---------+------------+-----------+\n",
      "|    1Fam|    1Story|          5|          7|     1940|        2007|       None|\n",
      "+--------+----------+-----------+-----------+---------+------------+-----------+\n",
      "\n",
      "+---------+--------+----------+----------+---------+---------+--------+\n",
      "|RoofStyle|RoofMatl|MasVnrType|MasVnrArea|ExterQual|ExterCond|MSZoning|\n",
      "+---------+--------+----------+----------+---------+---------+--------+\n",
      "|     Flat| Tar&Grv|      None|         0|       TA|       TA|      RL|\n",
      "+---------+--------+----------+----------+---------+---------+--------+\n",
      "\n"
     ]
    }
   ],
   "source": [
    "miss_exterior.select(['BldgType', 'HouseStyle', 'OverallQual', 'OverallCond', 'YearBuilt', 'YearRemodAdd', 'MiscFeature']).show(5)\n",
    " \n",
    "miss_exterior.select(['RoofStyle', 'RoofMatl', 'MasVnrType', 'MasVnrArea', 'ExterQual', 'ExterCond', 'MSZoning']).show(5)"
   ]
  },
  {
   "cell_type": "markdown",
   "metadata": {},
   "source": [
    "### Variables missing *Garage*"
   ]
  },
  {
   "cell_type": "markdown",
   "metadata": {},
   "source": [
    "* **GarageYrBlt**: año en el que fue construido el garage\n",
    "* **GarageCars**: tamaño del garage según capacidad de coches\n",
    "* **GarageArea**: tamaño del garage (ft2)"
   ]
  },
  {
   "cell_type": "code",
   "execution_count": 127,
   "metadata": {
    "collapsed": false
   },
   "outputs": [
    {
     "name": "stdout",
     "output_type": "stream",
     "text": [
      "Rows    Variable    Datatype    Percent\n",
      "\n",
      "(159, 'GarageYrBlt', IntegerType, 5.45)\n",
      "(1, 'GarageCars', IntegerType, 0.03)\n",
      "(1, 'GarageArea', IntegerType, 0.03)\n"
     ]
    }
   ],
   "source": [
    "print('Rows    Variable    Datatype    Percent\\n')\n",
    "for i in range(len(missings)):\n",
    "    if 'Garage' in missings[i][1]:\n",
    "        print(missings[i])"
   ]
  },
  {
   "cell_type": "markdown",
   "metadata": {},
   "source": [
    "Vamos a estudiar en primer lugar los missings de las variables *GarageCars* y *GarageArea* que sólo presentan una observación y a continuación analizaremos los 159 registros con valores perdidos de la variable *GarageYrBlt*"
   ]
  },
  {
   "cell_type": "code",
   "execution_count": 113,
   "metadata": {
    "collapsed": true
   },
   "outputs": [],
   "source": [
    "miss_garage = full.filter(full.GarageCars.isNull() | full.GarageArea.isNull())\n",
    "no_miss_garage = full.filter(full.GarageCars.isNotNull() & full.GarageArea.isNotNull())"
   ]
  },
  {
   "cell_type": "code",
   "execution_count": 114,
   "metadata": {
    "collapsed": false
   },
   "outputs": [
    {
     "name": "stdout",
     "output_type": "stream",
     "text": [
      "+----------+----------+----------+------------+----------+----------+-----------+\n",
      "|GarageQual|GarageCond|GarageType|GarageFinish|GarageCars|GarageArea|GarageYrBlt|\n",
      "+----------+----------+----------+------------+----------+----------+-----------+\n",
      "|  NoGarage|  NoGarage|    Detchd|    NoGarage|      null|      null|       null|\n",
      "+----------+----------+----------+------------+----------+----------+-----------+\n",
      "\n"
     ]
    }
   ],
   "source": [
    "miss_garage.select(['GarageQual',\n",
    "                    'GarageCond',\n",
    "                    'GarageType',\n",
    "                    'GarageFinish',\n",
    "                    'GarageCars',\n",
    "                    'GarageArea',\n",
    "                    'GarageYrBlt']).show(5)"
   ]
  },
  {
   "cell_type": "markdown",
   "metadata": {},
   "source": [
    "Observamos que los valores perdidos de las variables *GarageCars* y *GarageArea* pertenecen a la misma observación. En dicha observación el resto de variables relativas al garage nos informan de la no existencia de garage. En ese caso el tamaño del garage, que es lo que representan las variables que estamos estudiando, será igual a 0. \n",
    "\n",
    "Por tanto, decidimos imputar el valor 0 a los valores perdidos de las variables *GarageCars* y *GarageArea*, lo añadimos al diccionario *imputation_dict*.\n",
    "\n",
    "En la inspección anterior vemos que la variable *GarageType* toma el valor *Detchd* (garage independiente a la vivienda), mientras que el resto de variables relativas al garage (*GarageQual*, *GarageCond*, etc.) toman el valor *NoGarage*, este registro no parece consistente, el valor de *GarageType* debería ser también *NoGarage*"
   ]
  },
  {
   "cell_type": "code",
   "execution_count": 144,
   "metadata": {
    "collapsed": false
   },
   "outputs": [
    {
     "name": "stdout",
     "output_type": "stream",
     "text": [
      "+----------+----------+----------+------------+----------+----------+-----------+---------+\n",
      "|GarageQual|GarageCond|GarageType|GarageFinish|GarageCars|GarageArea|GarageYrBlt|SalePrice|\n",
      "+----------+----------+----------+------------+----------+----------+-----------+---------+\n",
      "|  NoGarage|  NoGarage|    Detchd|    NoGarage|      null|      null|       null|     null|\n",
      "+----------+----------+----------+------------+----------+----------+-----------+---------+\n",
      "\n"
     ]
    }
   ],
   "source": [
    "miss_garage.select(['GarageQual',\n",
    "                    'GarageCond',\n",
    "                    'GarageType',\n",
    "                    'GarageFinish',\n",
    "                    'GarageCars',\n",
    "                    'GarageArea',\n",
    "                    'GarageYrBlt', \n",
    "                    'SalePrice']).show(5)"
   ]
  },
  {
   "cell_type": "markdown",
   "metadata": {},
   "source": [
    "El valor de *SalePrice* en este registro es null, lo que quiere decir que el resgistro pertenece al conjunto test, y por tanto, no vamos a modificar a modificar el dataset, pero sí habrá que tenerlo en cuenta a la hora de realizar las predicciones con el modelo que construyamos."
   ]
  },
  {
   "cell_type": "code",
   "execution_count": 145,
   "metadata": {
    "collapsed": true
   },
   "outputs": [],
   "source": [
    "imputation_dict['GarageCars']=0\n",
    "imputation_dict['GarageArea']=0"
   ]
  },
  {
   "cell_type": "markdown",
   "metadata": {},
   "source": [
    "A continuación analizaremos los valores perdidos de la variable *GarageYrBlt*"
   ]
  },
  {
   "cell_type": "code",
   "execution_count": 146,
   "metadata": {
    "collapsed": true
   },
   "outputs": [],
   "source": [
    "miss_garageYearBlt = full.filter(full.GarageYrBlt.isNull())\n",
    "no_miss_garageYearBlt = full.filter(full.GarageYrBlt.isNotNull())"
   ]
  },
  {
   "cell_type": "code",
   "execution_count": 147,
   "metadata": {
    "collapsed": false
   },
   "outputs": [
    {
     "name": "stdout",
     "output_type": "stream",
     "text": [
      "+----------+----------+----------+------------+----------+----------+-----------+\n",
      "|GarageQual|GarageCond|GarageType|GarageFinish|GarageCars|GarageArea|GarageYrBlt|\n",
      "+----------+----------+----------+------------+----------+----------+-----------+\n",
      "|  NoGarage|  NoGarage|  NoGarage|    NoGarage|         0|         0|       null|\n",
      "|  NoGarage|  NoGarage|  NoGarage|    NoGarage|         0|         0|       null|\n",
      "|  NoGarage|  NoGarage|  NoGarage|    NoGarage|         0|         0|       null|\n",
      "|  NoGarage|  NoGarage|  NoGarage|    NoGarage|         0|         0|       null|\n",
      "|  NoGarage|  NoGarage|  NoGarage|    NoGarage|         0|         0|       null|\n",
      "|  NoGarage|  NoGarage|  NoGarage|    NoGarage|         0|         0|       null|\n",
      "|  NoGarage|  NoGarage|  NoGarage|    NoGarage|         0|         0|       null|\n",
      "|  NoGarage|  NoGarage|  NoGarage|    NoGarage|         0|         0|       null|\n",
      "|  NoGarage|  NoGarage|  NoGarage|    NoGarage|         0|         0|       null|\n",
      "|  NoGarage|  NoGarage|  NoGarage|    NoGarage|         0|         0|       null|\n",
      "+----------+----------+----------+------------+----------+----------+-----------+\n",
      "only showing top 10 rows\n",
      "\n"
     ]
    }
   ],
   "source": [
    "miss_garageYearBlt.select(['GarageQual',\n",
    "                           'GarageCond',\n",
    "                           'GarageType',\n",
    "                           'GarageFinish',\n",
    "                           'GarageCars',\n",
    "                           'GarageArea',\n",
    "                           'GarageYrBlt']).show(10)"
   ]
  },
  {
   "cell_type": "markdown",
   "metadata": {},
   "source": [
    "Observamos que la variable *GarageYrBlt* no toma ningún valor si la vivienda no tiene garage, evidentemente, si no tiene garage, la variable que representa el año en el que se construyo el garage carece de sentido.\n",
    "\n",
    "Vamos a explorar los registros qu sí tienen valor para *GarageYrBlt* en busca de un año por defecto que haya sido introducido cuando la vivienda no tiene garage"
   ]
  },
  {
   "cell_type": "code",
   "execution_count": 148,
   "metadata": {
    "collapsed": false
   },
   "outputs": [
    {
     "name": "stdout",
     "output_type": "stream",
     "text": [
      "+----------+----------+----------+------------+----------+----------+-----------+\n",
      "|GarageQual|GarageCond|GarageType|GarageFinish|GarageCars|GarageArea|GarageYrBlt|\n",
      "+----------+----------+----------+------------+----------+----------+-----------+\n",
      "+----------+----------+----------+------------+----------+----------+-----------+\n",
      "\n"
     ]
    }
   ],
   "source": [
    "no_miss_garageYearBlt.select('GarageQual','GarageCond', 'GarageType', 'GarageFinish', \\\n",
    "                             'GarageCars', 'GarageArea', 'GarageYrBlt')\\\n",
    "                     .filter((no_miss_garageYearBlt.GarageQual=='NoGarage')  | \n",
    "                             (no_miss_garageYearBlt.GarageCond=='NoGarage')  |\n",
    "                             (no_miss_garageYearBlt.GarageType =='NoGarage') |\n",
    "                             (no_miss_garageYearBlt.GarageFinish =='NoGarage') |\n",
    "                             (no_miss_garageYearBlt.GarageCars == 0) |\n",
    "                             (no_miss_garageYearBlt.GarageArea == 0)).show()"
   ]
  },
  {
   "cell_type": "markdown",
   "metadata": {},
   "source": [
    "Vemos que no hay un valor por defecto para el año de construcción del garage cuando la vivienda no tiene garage.\n",
    "\n",
    "A continuación vamos a obtener la descripción de esta variable en la parte del dataset que no tiene valores perdidos."
   ]
  },
  {
   "cell_type": "code",
   "execution_count": 149,
   "metadata": {
    "collapsed": false
   },
   "outputs": [
    {
     "name": "stdout",
     "output_type": "stream",
     "text": [
      "+-------+------------------+\n",
      "|summary|       GarageYrBlt|\n",
      "+-------+------------------+\n",
      "|  count|              2760|\n",
      "|   mean|1978.1134057971014|\n",
      "| stddev|25.574284723905112|\n",
      "|    min|              1895|\n",
      "|    max|              2207|\n",
      "+-------+------------------+\n",
      "\n"
     ]
    }
   ],
   "source": [
    "no_miss_garageYearBlt.describe('GarageYrBlt').show()"
   ]
  },
  {
   "cell_type": "markdown",
   "metadata": {},
   "source": [
    "Obtenemos un valor medio aproximado de año de construcción igual a *1978*. Un valor mínimo igual 1895 y un casualmente encontramos un valor máximo que representa un año en el futuro, parece que existe un outlier en la variable *GarageYrBlt*"
   ]
  },
  {
   "cell_type": "code",
   "execution_count": 150,
   "metadata": {
    "collapsed": false
   },
   "outputs": [
    {
     "name": "stdout",
     "output_type": "stream",
     "text": [
      "+----------+----------+----------+------------+----------+----------+-----------+---------+------------+\n",
      "|GarageQual|GarageCond|GarageType|GarageFinish|GarageCars|GarageArea|GarageYrBlt|YearBuilt|YearRemodAdd|\n",
      "+----------+----------+----------+------------+----------+----------+-----------+---------+------------+\n",
      "+----------+----------+----------+------------+----------+----------+-----------+---------+------------+\n",
      "\n"
     ]
    }
   ],
   "source": [
    "train.select('GarageQual','GarageCond', 'GarageType', 'GarageFinish', \n",
    "            'GarageCars', 'GarageArea', 'GarageYrBlt', 'YearBuilt', 'YearRemodAdd').filter(train.GarageYrBlt>2017).show()"
   ]
  },
  {
   "cell_type": "code",
   "execution_count": 151,
   "metadata": {
    "collapsed": false
   },
   "outputs": [
    {
     "name": "stdout",
     "output_type": "stream",
     "text": [
      "+----------+----------+----------+------------+----------+----------+-----------+---------+------------+\n",
      "|GarageQual|GarageCond|GarageType|GarageFinish|GarageCars|GarageArea|GarageYrBlt|YearBuilt|YearRemodAdd|\n",
      "+----------+----------+----------+------------+----------+----------+-----------+---------+------------+\n",
      "|        TA|        TA|    Attchd|         RFn|         2|       502|       2207|     2006|        2007|\n",
      "+----------+----------+----------+------------+----------+----------+-----------+---------+------------+\n",
      "\n"
     ]
    }
   ],
   "source": [
    "test.select('GarageQual','GarageCond', 'GarageType', 'GarageFinish', \n",
    "            'GarageCars', 'GarageArea', 'GarageYrBlt', 'YearBuilt', 'YearRemodAdd').filter(test.GarageYrBlt>2017).show()"
   ]
  },
  {
   "cell_type": "markdown",
   "metadata": {},
   "source": [
    "El outlier está en el conjunto test, por lo que habrá que tenerlo en cuenta a la hora de calcular las predicciones sobre este conjunto de datos una vez haymos construido y ajustado nuestro modelo. Una buena opción para corregir este registro es dar el valor *2007*, ya que a la vista de los datos, la vivienda fue construida en 2006 y remodelada en el 2007 y en ese momento se construyó el garage, parece que hay una errata en un número en lugar de 2207 debería ser 2007.\n",
    "\n",
    "\n",
    "Tenemos varias alternativas a la hora de solucionar los 159 registros missing de la variable *GarageYrBlt*. \n",
    "* Imputar la media de los años = 1978\n",
    "* Imputar un 0 para indicar que si la vivienda no tiene garage, el año es un valor atípico\n",
    "* Eliminar la variable *GarageYrBlt*\n",
    "* Predecir el año usuando árboles de decisión\n",
    "\n",
    "Ninguna de las soluciones es buena, podríamos eliminar la variable que es lo más sencillo, pero probaremos a dar el valor 0, ya que el porcentage de registros faltantes en esta variable es bajo (5,45%) y podría proporcionar información en la construcción del modelo. Tomar la media de los años también puede introducir error. Por tanto, tomaremos 0 como valor para imputar, y en función de los resultados que obtengamos con el modelo realizaremos pruebas de imputación con otros valores diferentes."
   ]
  },
  {
   "cell_type": "code",
   "execution_count": 152,
   "metadata": {
    "collapsed": true
   },
   "outputs": [],
   "source": [
    "imputation_dict['GarageYrBlt'] = 0"
   ]
  },
  {
   "cell_type": "markdown",
   "metadata": {},
   "source": [
    "### Variable missing *KitchenQual*"
   ]
  },
  {
   "cell_type": "markdown",
   "metadata": {},
   "source": [
    "* **KitchenQual**: Calidad de la cocina (Ex, Gd, TA, Fa, Po)"
   ]
  },
  {
   "cell_type": "code",
   "execution_count": 131,
   "metadata": {
    "collapsed": false
   },
   "outputs": [
    {
     "name": "stdout",
     "output_type": "stream",
     "text": [
      "Rows    Variable    Datatype    Percent\n",
      "\n",
      "(1, 'KitchenQual', StringType, 0.03)\n"
     ]
    }
   ],
   "source": [
    "print('Rows    Variable    Datatype    Percent\\n')\n",
    "for i in range(len(missings)):\n",
    "    if 'KitchenQual' in missings[i][1]:\n",
    "        print(missings[i])"
   ]
  },
  {
   "cell_type": "code",
   "execution_count": 271,
   "metadata": {
    "collapsed": true
   },
   "outputs": [],
   "source": [
    "miss_kitchen = full.filter(full.KitchenQual.isNull())"
   ]
  },
  {
   "cell_type": "code",
   "execution_count": 275,
   "metadata": {
    "collapsed": false
   },
   "outputs": [
    {
     "name": "stdout",
     "output_type": "stream",
     "text": [
      "+----+----------+--------+-----------+-------+------+--------+--------+-----------+---------+---------+\n",
      "|  Id|MSSubClass|MSZoning|LotFrontage|LotArea|Street|   Alley|LotShape|LandContour|Utilities|LotConfig|\n",
      "+----+----------+--------+-----------+-------+------+--------+--------+-----------+---------+---------+\n",
      "|1556|        50|      RL|         72|  10632|  Pave|noAccess|     IR1|        Lvl|   AllPub|   Inside|\n",
      "+----+----------+--------+-----------+-------+------+--------+--------+-----------+---------+---------+\n",
      "\n",
      "+---------+------------+----------+----------+--------+----------+-----------+-----------+---------+------------+---------+\n",
      "|LandSlope|Neighborhood|Condition1|Condition2|BldgType|HouseStyle|OverallQual|OverallCond|YearBuilt|YearRemodAdd|RoofStyle|\n",
      "+---------+------------+----------+----------+--------+----------+-----------+-----------+---------+------------+---------+\n",
      "|      Gtl|     ClearCr|      Norm|      Norm|    1Fam|    1.5Fin|          5|          3|     1917|        1950|    Gable|\n",
      "+---------+------------+----------+----------+--------+----------+-----------+-----------+---------+------------+---------+\n",
      "\n",
      "+--------+-----------+-----------+----------+----------+---------+---------+----------+--------+--------+------------+\n",
      "|RoofMatl|Exterior1st|Exterior2nd|MasVnrType|MasVnrArea|ExterQual|ExterCond|Foundation|BsmtQual|BsmtCond|BsmtExposure|\n",
      "+--------+-----------+-----------+----------+----------+---------+---------+----------+--------+--------+------------+\n",
      "| CompShg|    Wd Sdng|    Wd Sdng|      None|         0|       TA|       TA|    BrkTil|      Gd|      Fa|          No|\n",
      "+--------+-----------+-----------+----------+----------+---------+---------+----------+--------+--------+------------+\n",
      "\n",
      "+------------+----------+------------+----------+---------+-----------+-------+---------+----------+----------+--------+\n",
      "|BsmtFinType1|BsmtFinSF1|BsmtFinType2|BsmtFinSF2|BsmtUnfSF|TotalBsmtSF|Heating|HeatingQC|CentralAir|Electrical|1stFlrSF|\n",
      "+------------+----------+------------+----------+---------+-----------+-------+---------+----------+----------+--------+\n",
      "|         Unf|         0|         Unf|         0|      689|        689|   GasA|       Gd|         N|     SBrkr|     725|\n",
      "+------------+----------+------------+----------+---------+-----------+-------+---------+----------+----------+--------+\n",
      "\n",
      "+--------+------------+---------+------------+------------+--------+--------+------------+------------+-----------+------------+\n",
      "|2ndFlrSF|LowQualFinSF|GrLivArea|BsmtFullBath|BsmtHalfBath|FullBath|HalfBath|BedroomAbvGr|KitchenAbvGr|KitchenQual|TotRmsAbvGrd|\n",
      "+--------+------------+---------+------------+------------+--------+--------+------------+------------+-----------+------------+\n",
      "|     499|           0|     1224|           0|           0|       1|       1|           3|           1|       null|           6|\n",
      "+--------+------------+---------+------------+------------+--------+--------+------------+------------+-----------+------------+\n",
      "\n",
      "+----------+----------+-----------+----------+-----------+------------+----------+----------+----------+----------+----------+\n",
      "|Functional|Fireplaces|FireplaceQu|GarageType|GarageYrBlt|GarageFinish|GarageCars|GarageArea|GarageQual|GarageCond|PavedDrive|\n",
      "+----------+----------+-----------+----------+-----------+------------+----------+----------+----------+----------+----------+\n",
      "|       Mod|         0|NoFireplace|    Detchd|       1917|         Unf|         1|       180|        Fa|        Fa|         N|\n",
      "+----------+----------+-----------+----------+-----------+------------+----------+----------+----------+----------+----------+\n",
      "\n",
      "+----------+-----------+-------------+---------+-----------+--------+------+-------+-----------+-------+------+\n",
      "|WoodDeckSF|OpenPorchSF|EnclosedPorch|3SsnPorch|ScreenPorch|PoolArea|PoolQC|  Fence|MiscFeature|MiscVal|MoSold|\n",
      "+----------+-----------+-------------+---------+-----------+--------+------+-------+-----------+-------+------+\n",
      "|         0|          0|          248|        0|          0|       0|NoPool|NoFence|       None|      0|     1|\n",
      "+----------+-----------+-------------+---------+-----------+--------+------+-------+-----------+-------+------+\n",
      "\n",
      "+------+--------+-------------+---------+\n",
      "|YrSold|SaleType|SaleCondition|SalePrice|\n",
      "+------+--------+-------------+---------+\n",
      "|  2010|     COD|       Normal|     null|\n",
      "+------+--------+-------------+---------+\n",
      "\n"
     ]
    }
   ],
   "source": [
    "step=11\n",
    "for index in range(0, num_columns, step):\n",
    "    miss_kitchen.select(cols[index:index+step]).show(5) "
   ]
  },
  {
   "cell_type": "markdown",
   "metadata": {},
   "source": [
    "### Variable missing *SaleType*"
   ]
  },
  {
   "cell_type": "code",
   "execution_count": 132,
   "metadata": {
    "collapsed": false
   },
   "outputs": [
    {
     "name": "stdout",
     "output_type": "stream",
     "text": [
      "Rows    Variable    Datatype    Percent\n",
      "\n",
      "(1, 'SaleType', StringType, 0.03)\n"
     ]
    }
   ],
   "source": [
    "print('Rows    Variable    Datatype    Percent\\n')\n",
    "for i in range(len(missings)):\n",
    "    if 'SaleType' in missings[i][1]:\n",
    "        print(missings[i])"
   ]
  },
  {
   "cell_type": "markdown",
   "metadata": {},
   "source": [
    "### Variable missing *Functional*"
   ]
  },
  {
   "cell_type": "code",
   "execution_count": 133,
   "metadata": {
    "collapsed": false
   },
   "outputs": [
    {
     "name": "stdout",
     "output_type": "stream",
     "text": [
      "Rows    Variable    Datatype    Percent\n",
      "\n",
      "(2, 'Functional', StringType, 0.07)\n"
     ]
    }
   ],
   "source": [
    "print('Rows    Variable    Datatype    Percent\\n')\n",
    "for i in range(len(missings)):\n",
    "    if 'Functional' in missings[i][1]:\n",
    "        print(missings[i])"
   ]
  },
  {
   "cell_type": "markdown",
   "metadata": {},
   "source": [
    "### Variable missing *Utilities*"
   ]
  },
  {
   "cell_type": "code",
   "execution_count": 135,
   "metadata": {
    "collapsed": false
   },
   "outputs": [
    {
     "name": "stdout",
     "output_type": "stream",
     "text": [
      "Rows    Variable    Datatype    Percent\n",
      "\n",
      "(2, 'Utilities', StringType, 0.07)\n"
     ]
    }
   ],
   "source": [
    "print('Rows    Variable    Datatype    Percent\\n')\n",
    "for i in range(len(missings)):\n",
    "    if 'Utilities' in missings[i][1]:\n",
    "        print(missings[i])"
   ]
  },
  {
   "cell_type": "markdown",
   "metadata": {},
   "source": [
    "### Variable missing *MSZoning*"
   ]
  },
  {
   "cell_type": "code",
   "execution_count": 136,
   "metadata": {
    "collapsed": false
   },
   "outputs": [
    {
     "name": "stdout",
     "output_type": "stream",
     "text": [
      "Rows    Variable    Datatype    Percent\n",
      "\n",
      "(4, 'MSZoning', StringType, 0.14)\n"
     ]
    }
   ],
   "source": [
    "print('Rows    Variable    Datatype    Percent\\n')\n",
    "for i in range(len(missings)):\n",
    "    if 'MSZoning' in missings[i][1]:\n",
    "        print(missings[i])"
   ]
  },
  {
   "cell_type": "markdown",
   "metadata": {},
   "source": [
    "### Variables missing *MasVnr*"
   ]
  },
  {
   "cell_type": "code",
   "execution_count": 138,
   "metadata": {
    "collapsed": false
   },
   "outputs": [
    {
     "name": "stdout",
     "output_type": "stream",
     "text": [
      "Rows    Variable    Datatype    Percent\n",
      "\n",
      "(24, 'MasVnrType', StringType, 0.82)\n",
      "(23, 'MasVnrArea', IntegerType, 0.79)\n"
     ]
    }
   ],
   "source": [
    "print('Rows    Variable    Datatype    Percent\\n')\n",
    "for i in range(len(missings)):\n",
    "    if 'MasVnr' in missings[i][1]:\n",
    "        print(missings[i])"
   ]
  },
  {
   "cell_type": "markdown",
   "metadata": {},
   "source": [
    "### Variable missing *LotFrontage*"
   ]
  },
  {
   "cell_type": "code",
   "execution_count": 139,
   "metadata": {
    "collapsed": false
   },
   "outputs": [
    {
     "name": "stdout",
     "output_type": "stream",
     "text": [
      "Rows    Variable    Datatype    Percent\n",
      "\n",
      "(486, 'LotFrontage', IntegerType, 16.65)\n"
     ]
    }
   ],
   "source": [
    "print('Rows    Variable    Datatype    Percent\\n')\n",
    "for i in range(len(missings)):\n",
    "    if 'LotFrontage' in missings[i][1]:\n",
    "        print(missings[i])"
   ]
  },
  {
   "cell_type": "markdown",
   "metadata": {},
   "source": [
    "### Imputación de valores perdidos"
   ]
  },
  {
   "cell_type": "markdown",
   "metadata": {},
   "source": [
    "Añadimos al diccionario imputation_dict los valores de las categorías NA válidas pero que hemos renombrado para más claridad"
   ]
  },
  {
   "cell_type": "code",
   "execution_count": null,
   "metadata": {
    "collapsed": true
   },
   "outputs": [],
   "source": [
    "imputation_dict.update(new_NA_categories)"
   ]
  },
  {
   "cell_type": "code",
   "execution_count": null,
   "metadata": {
    "collapsed": true
   },
   "outputs": [],
   "source": [
    "imputed_df=train.fillna(imputation_dict)"
   ]
  },
  {
   "cell_type": "markdown",
   "metadata": {},
   "source": [
    "<a id=\"preprocesado\"></a>\n",
    "\n",
    "# 5. Preprocesado"
   ]
  },
  {
   "cell_type": "markdown",
   "metadata": {},
   "source": [
    "<a id=\"numerico\"></a>\n",
    "\n",
    "## 5.2 Conversión a tipo numérico"
   ]
  },
  {
   "cell_type": "markdown",
   "metadata": {
    "collapsed": true
   },
   "source": [
    "<a id=\"escalado\"></a>\n",
    "\n",
    "## 5.3 Escalado"
   ]
  },
  {
   "cell_type": "markdown",
   "metadata": {},
   "source": [
    "<a id=\"features\"></a>\n",
    "\n",
    "## 5.4 Convertir features en vector"
   ]
  },
  {
   "cell_type": "markdown",
   "metadata": {},
   "source": [
    "<a id=\"seleccion\"></a>\n",
    "\n",
    "# 6. Selección de variables \n",
    "\n",
    "(correlaciones, importancia de variables)"
   ]
  },
  {
   "cell_type": "markdown",
   "metadata": {},
   "source": [
    "<a id=\"modelos\"></a>\n",
    "\n",
    "# 7. Modelos"
   ]
  },
  {
   "cell_type": "markdown",
   "metadata": {
    "collapsed": true
   },
   "source": [
    "<a id=\"ajuste\"></a>\n",
    "\n",
    "## 7.1 Ajuste de parámetros"
   ]
  },
  {
   "cell_type": "markdown",
   "metadata": {},
   "source": [
    "<a id=\"evaluacion\"></a>\n",
    "\n",
    "## 7.2 Evaluación"
   ]
  },
  {
   "cell_type": "markdown",
   "metadata": {},
   "source": [
    "La evaluación del modelo final debe hacerse con un dataset diferente al de entrenamiento. \n",
    "\n",
    "Se recomienda automatizar procesos mediante el uso de pipelines y creación de funciones para evitar repetir código.\n",
    "\n",
    "La métrica a usar para la evaluación de soluciones es *RMSLE*. Esta métrica no se encuentra dentro de las que ofrece el objeto *RegressionEvaluator* por lo que debemos definir nuestro propio evaluador."
   ]
  },
  {
   "cell_type": "code",
   "execution_count": 9,
   "metadata": {
    "collapsed": false
   },
   "outputs": [],
   "source": [
    "'''\n",
    "Código original tomado de:\n",
    "https://gist.github.com/pvalienteverde\n",
    "\n",
    "- Se ha añadido la fórmula rmsle para que trabaje con la API DataFrames.\n",
    "'''\n",
    "\n",
    "from pyspark.ml.evaluation import Evaluator\n",
    "from math import sqrt\n",
    "from operator import add\n",
    "from pyspark.sql.functions import avg\n",
    "from pyspark.sql.functions import log1p\n",
    "\n",
    "class MyEvaluator(Evaluator):\n",
    "    '''\n",
    "    When a userID is predicted when it is not already trained (all userID  data is used on validation \n",
    "    group and none of them to train), prediction is nan,  so RegressionEvaluator returns Nan.\n",
    "    To solve this we must change RegressionEvaluator by MiValidacion\n",
    "    '''\n",
    "    def __init__(self,predictionCol='prediction', targetCol='rating'):        \n",
    "        super(MyEvaluator, self).__init__()\n",
    "        self.predictionCol=predictionCol\n",
    "        self.targetCol=targetCol\n",
    "        \n",
    "    def _evaluate(self, dataset):       \n",
    "        error=self.rmse(dataset,self.predictionCol,self.targetCol)\n",
    "        print (\"Error: {}\".format(error))\n",
    "        return error\n",
    "    \n",
    "    def isLargerBetter(self):\n",
    "        return False\n",
    "    \n",
    "    @staticmethod\n",
    "    def rmse(dataset, predictionCol, targetCol):\n",
    "        return sqrt(dataset.select(avg((dataset[targetCol] - dataset[predictionCol]) ** 2)).first()[0])\n",
    "    \n",
    "    @staticmethod\n",
    "    def rmsle(dataset, predictionCol, targetCol):\n",
    "        return sqrt(dataset.select(avg((log1p(dataset[targetCol]) - log1p(dataset[predictionCol])) ** 2)).first()[0])             "
   ]
  },
  {
   "cell_type": "code",
   "execution_count": 10,
   "metadata": {
    "collapsed": true
   },
   "outputs": [],
   "source": [
    "evaluator = MyEvaluator()"
   ]
  },
  {
   "cell_type": "markdown",
   "metadata": {},
   "source": [
    "<a id=\"cierre\"></a>\n",
    "\n",
    "# 8. Cierre sesión spark"
   ]
  },
  {
   "cell_type": "markdown",
   "metadata": {},
   "source": [
    "Liberamos recursos"
   ]
  },
  {
   "cell_type": "code",
   "execution_count": 34,
   "metadata": {
    "collapsed": false
   },
   "outputs": [],
   "source": [
    "spark.stop()"
   ]
  }
 ],
 "metadata": {
  "anaconda-cloud": {},
  "kernelspec": {
   "display_name": "Python [conda root]",
   "language": "python",
   "name": "conda-root-py"
  },
  "language_info": {
   "codemirror_mode": {
    "name": "ipython",
    "version": 3
   },
   "file_extension": ".py",
   "mimetype": "text/x-python",
   "name": "python",
   "nbconvert_exporter": "python",
   "pygments_lexer": "ipython3",
   "version": "3.5.2"
  }
 },
 "nbformat": 4,
 "nbformat_minor": 1
}
