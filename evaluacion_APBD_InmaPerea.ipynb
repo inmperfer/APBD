{
 "cells": [
  {
   "cell_type": "markdown",
   "metadata": {},
   "source": [
    "<center> <h1>Trabajo final para la asignatura APBD</h1> </center>\n",
    "<center> <h3>Máster en Data Science y Big Data. CFP-Universidad de Sevilla</h3> </center>\n",
    "<p style=\"text-align: center;\">Autor: Inmaculada Perea Fernández</p>\n",
    "<p style=\"text-align: center;\">(Julio 2017)</p>"
   ]
  },
  {
   "cell_type": "markdown",
   "metadata": {},
   "source": [
    "\n",
    "# Tabla de contenidos\n",
    "\n",
    "1. [Descripción del problema](#descripcion)\n",
    "\n",
    "2. [Inicio sesión Spark](#inicio)\n",
    "\n",
    "3. [Lectura de datos y exploración](#exploracion)\n",
    "\n",
    "4. [Preprocesado](#preprocesado)\n",
    "\n",
    "    4.1. [Valores perdidos (missings)](#missings)\n",
    "    \n",
    "    4.2. [Conversión a tipo numérico](#numerico)\n",
    "    \n",
    "    4.3. [Escalado](#escalado)\n",
    "    \n",
    "    4.4. [Convertir features en vector (dataframe y label)](#features)\n",
    "    \n",
    "5. [Selección de variables (correlaciones, importancia de variables)](#seleccion)\n",
    "\n",
    "6. [Modelos](#modelos)\n",
    "\n",
    "    6.1. [Ajuste de parámetros](#ajuste)\n",
    "    \n",
    "    6.2. [Evaluación](#evaluacion)\n",
    "       \n",
    "7. [Cierre sesión spark](#cierre)\n"
   ]
  },
  {
   "cell_type": "markdown",
   "metadata": {},
   "source": [
    "<a id='descripcion'></a>\n",
    "\n",
    "# Descripción del problema"
   ]
  },
  {
   "cell_type": "markdown",
   "metadata": {},
   "source": [
    "El problema elegido para el trabajo es uno de los datasets de aprendizaje de kaggle, en el que el objetivo es predecir el precio de venta de viviendas a partir de sus características\n",
    "\n",
    "Para más información sobre el problema ir a https://www.kaggle.com/c/house-prices-advanced-regression-techniques\n",
    "\n",
    "El objetivo de este trabajo es practicar con las diferentes herramientas que *Spark* nos proporciona para el procesamiento distribuido de grandes cantidades de datos, y para la aplicación de técnicas de machine learning. La obtención de predicciones óptimas es un objetivo secundario aunque se valorará positivamente.\n",
    "\n",
    "Las APIs de Spark más importantes para este proyecto serán la API de DataFrames y la API de ML para DataFrames. También tenemos a nuestra disposición la API RDDs para procesamiento a bajo nivel, y la API MLlib para RDDs."
   ]
  },
  {
   "cell_type": "markdown",
   "metadata": {},
   "source": [
    "# Carga de librerías"
   ]
  },
  {
   "cell_type": "code",
   "execution_count": 35,
   "metadata": {
    "collapsed": true
   },
   "outputs": [],
   "source": [
    "import sys\n",
    "\n",
    "from pyspark.sql import SparkSession\n",
    "from pyspark.sql import SQLContext\n",
    "from pyspark.sql import Row\n",
    "\n",
    "from pyspark.sql.types import StructType, StructField, StringType, IntegerType\n",
    "\n",
    "# Se importa sum como agg_sum para evitar colisión de nombres\n",
    "from pyspark.sql.functions import lit, col, count, sum as agg_sum\n",
    "from pyspark.sql.functions import expr, udf, regexp_extract\n",
    "from pyspark.sql.functions import desc, avg, round as col_round\n",
    "\n",
    "\n",
    "from pyspark.ml import Pipeline\n",
    "from pyspark.ml.feature import StringIndexer, IndexToString, VectorAssembler\n",
    "from pyspark.ml.feature import StandardScaler\n",
    "from pyspark.ml.tuning import CrossValidator, ParamGridBuilder\n",
    "\n",
    "import pandas as pd\n",
    "import matplotlib.pyplot as plt"
   ]
  },
  {
   "cell_type": "markdown",
   "metadata": {},
   "source": [
    "# Establecimiento Semilla"
   ]
  },
  {
   "cell_type": "markdown",
   "metadata": {},
   "source": [
    "Establecemos la semilla que usaremos para toda la práctica"
   ]
  },
  {
   "cell_type": "code",
   "execution_count": 36,
   "metadata": {
    "collapsed": true
   },
   "outputs": [],
   "source": [
    "global_seed = 123456789"
   ]
  },
  {
   "cell_type": "markdown",
   "metadata": {},
   "source": [
    "<a id=\"inicio\"></a>\n",
    "\n",
    "# Inicio sesión spark"
   ]
  },
  {
   "cell_type": "code",
   "execution_count": 37,
   "metadata": {
    "collapsed": false
   },
   "outputs": [
    {
     "data": {
      "text/plain": [
       "<pyspark.sql.session.SparkSession at 0x44c2d51be0>"
      ]
     },
     "execution_count": 37,
     "metadata": {},
     "output_type": "execute_result"
    }
   ],
   "source": [
    "# Ruta de la carpeta local Spark.\n",
    "spark_path = 'C:/Users/inpf/spark-2.1.0-bin-hadoop2.7'\n",
    "\n",
    "sys.path.append(spark_path + '/python')\n",
    "sys.path.append(spark_path + '/python/lib/py4j-0.10.4-src.zip')\n",
    "\n",
    "spark = SparkSession.builder.master(\"local[*]\").appName(\"evaluacion_APBD_InmaPerea\").getOrCreate()\n",
    "\n",
    "spark"
   ]
  },
  {
   "cell_type": "markdown",
   "metadata": {},
   "source": [
    "Comprobamos el número de cores asignados"
   ]
  },
  {
   "cell_type": "code",
   "execution_count": 38,
   "metadata": {
    "collapsed": false
   },
   "outputs": [
    {
     "data": {
      "text/plain": [
       "4"
      ]
     },
     "execution_count": 38,
     "metadata": {},
     "output_type": "execute_result"
    }
   ],
   "source": [
    "spark.sparkContext.defaultParallelism"
   ]
  },
  {
   "cell_type": "markdown",
   "metadata": {},
   "source": [
    "<a id=\"exploracion\"></a>\n",
    "\n",
    "# 3. Lectura de datos y exploración"
   ]
  },
  {
   "cell_type": "code",
   "execution_count": 94,
   "metadata": {
    "collapsed": false
   },
   "outputs": [],
   "source": [
    "path = './data/'\n",
    "\n",
    "train = spark.read.csv(path +'train.csv', header=True, inferSchema=True, nullValue=\"NA\").cache()\n",
    "test = spark.read.csv(path +'test.csv', header=True, inferSchema=True, nullValue=\"NA\").cache()"
   ]
  },
  {
   "cell_type": "code",
   "execution_count": 95,
   "metadata": {
    "collapsed": false
   },
   "outputs": [
    {
     "name": "stdout",
     "output_type": "stream",
     "text": [
      "root\n",
      " |-- Id: integer (nullable = true)\n",
      " |-- MSSubClass: integer (nullable = true)\n",
      " |-- MSZoning: string (nullable = true)\n",
      " |-- LotFrontage: integer (nullable = true)\n",
      " |-- LotArea: integer (nullable = true)\n",
      " |-- Street: string (nullable = true)\n",
      " |-- Alley: string (nullable = true)\n",
      " |-- LotShape: string (nullable = true)\n",
      " |-- LandContour: string (nullable = true)\n",
      " |-- Utilities: string (nullable = true)\n",
      " |-- LotConfig: string (nullable = true)\n",
      " |-- LandSlope: string (nullable = true)\n",
      " |-- Neighborhood: string (nullable = true)\n",
      " |-- Condition1: string (nullable = true)\n",
      " |-- Condition2: string (nullable = true)\n",
      " |-- BldgType: string (nullable = true)\n",
      " |-- HouseStyle: string (nullable = true)\n",
      " |-- OverallQual: integer (nullable = true)\n",
      " |-- OverallCond: integer (nullable = true)\n",
      " |-- YearBuilt: integer (nullable = true)\n",
      " |-- YearRemodAdd: integer (nullable = true)\n",
      " |-- RoofStyle: string (nullable = true)\n",
      " |-- RoofMatl: string (nullable = true)\n",
      " |-- Exterior1st: string (nullable = true)\n",
      " |-- Exterior2nd: string (nullable = true)\n",
      " |-- MasVnrType: string (nullable = true)\n",
      " |-- MasVnrArea: integer (nullable = true)\n",
      " |-- ExterQual: string (nullable = true)\n",
      " |-- ExterCond: string (nullable = true)\n",
      " |-- Foundation: string (nullable = true)\n",
      " |-- BsmtQual: string (nullable = true)\n",
      " |-- BsmtCond: string (nullable = true)\n",
      " |-- BsmtExposure: string (nullable = true)\n",
      " |-- BsmtFinType1: string (nullable = true)\n",
      " |-- BsmtFinSF1: integer (nullable = true)\n",
      " |-- BsmtFinType2: string (nullable = true)\n",
      " |-- BsmtFinSF2: integer (nullable = true)\n",
      " |-- BsmtUnfSF: integer (nullable = true)\n",
      " |-- TotalBsmtSF: integer (nullable = true)\n",
      " |-- Heating: string (nullable = true)\n",
      " |-- HeatingQC: string (nullable = true)\n",
      " |-- CentralAir: string (nullable = true)\n",
      " |-- Electrical: string (nullable = true)\n",
      " |-- 1stFlrSF: integer (nullable = true)\n",
      " |-- 2ndFlrSF: integer (nullable = true)\n",
      " |-- LowQualFinSF: integer (nullable = true)\n",
      " |-- GrLivArea: integer (nullable = true)\n",
      " |-- BsmtFullBath: integer (nullable = true)\n",
      " |-- BsmtHalfBath: integer (nullable = true)\n",
      " |-- FullBath: integer (nullable = true)\n",
      " |-- HalfBath: integer (nullable = true)\n",
      " |-- BedroomAbvGr: integer (nullable = true)\n",
      " |-- KitchenAbvGr: integer (nullable = true)\n",
      " |-- KitchenQual: string (nullable = true)\n",
      " |-- TotRmsAbvGrd: integer (nullable = true)\n",
      " |-- Functional: string (nullable = true)\n",
      " |-- Fireplaces: integer (nullable = true)\n",
      " |-- FireplaceQu: string (nullable = true)\n",
      " |-- GarageType: string (nullable = true)\n",
      " |-- GarageYrBlt: integer (nullable = true)\n",
      " |-- GarageFinish: string (nullable = true)\n",
      " |-- GarageCars: integer (nullable = true)\n",
      " |-- GarageArea: integer (nullable = true)\n",
      " |-- GarageQual: string (nullable = true)\n",
      " |-- GarageCond: string (nullable = true)\n",
      " |-- PavedDrive: string (nullable = true)\n",
      " |-- WoodDeckSF: integer (nullable = true)\n",
      " |-- OpenPorchSF: integer (nullable = true)\n",
      " |-- EnclosedPorch: integer (nullable = true)\n",
      " |-- 3SsnPorch: integer (nullable = true)\n",
      " |-- ScreenPorch: integer (nullable = true)\n",
      " |-- PoolArea: integer (nullable = true)\n",
      " |-- PoolQC: string (nullable = true)\n",
      " |-- Fence: string (nullable = true)\n",
      " |-- MiscFeature: string (nullable = true)\n",
      " |-- MiscVal: integer (nullable = true)\n",
      " |-- MoSold: integer (nullable = true)\n",
      " |-- YrSold: integer (nullable = true)\n",
      " |-- SaleType: string (nullable = true)\n",
      " |-- SaleCondition: string (nullable = true)\n",
      " |-- SalePrice: integer (nullable = true)\n",
      "\n",
      "root\n",
      " |-- Id: integer (nullable = true)\n",
      " |-- MSSubClass: integer (nullable = true)\n",
      " |-- MSZoning: string (nullable = true)\n",
      " |-- LotFrontage: integer (nullable = true)\n",
      " |-- LotArea: integer (nullable = true)\n",
      " |-- Street: string (nullable = true)\n",
      " |-- Alley: string (nullable = true)\n",
      " |-- LotShape: string (nullable = true)\n",
      " |-- LandContour: string (nullable = true)\n",
      " |-- Utilities: string (nullable = true)\n",
      " |-- LotConfig: string (nullable = true)\n",
      " |-- LandSlope: string (nullable = true)\n",
      " |-- Neighborhood: string (nullable = true)\n",
      " |-- Condition1: string (nullable = true)\n",
      " |-- Condition2: string (nullable = true)\n",
      " |-- BldgType: string (nullable = true)\n",
      " |-- HouseStyle: string (nullable = true)\n",
      " |-- OverallQual: integer (nullable = true)\n",
      " |-- OverallCond: integer (nullable = true)\n",
      " |-- YearBuilt: integer (nullable = true)\n",
      " |-- YearRemodAdd: integer (nullable = true)\n",
      " |-- RoofStyle: string (nullable = true)\n",
      " |-- RoofMatl: string (nullable = true)\n",
      " |-- Exterior1st: string (nullable = true)\n",
      " |-- Exterior2nd: string (nullable = true)\n",
      " |-- MasVnrType: string (nullable = true)\n",
      " |-- MasVnrArea: integer (nullable = true)\n",
      " |-- ExterQual: string (nullable = true)\n",
      " |-- ExterCond: string (nullable = true)\n",
      " |-- Foundation: string (nullable = true)\n",
      " |-- BsmtQual: string (nullable = true)\n",
      " |-- BsmtCond: string (nullable = true)\n",
      " |-- BsmtExposure: string (nullable = true)\n",
      " |-- BsmtFinType1: string (nullable = true)\n",
      " |-- BsmtFinSF1: integer (nullable = true)\n",
      " |-- BsmtFinType2: string (nullable = true)\n",
      " |-- BsmtFinSF2: integer (nullable = true)\n",
      " |-- BsmtUnfSF: integer (nullable = true)\n",
      " |-- TotalBsmtSF: integer (nullable = true)\n",
      " |-- Heating: string (nullable = true)\n",
      " |-- HeatingQC: string (nullable = true)\n",
      " |-- CentralAir: string (nullable = true)\n",
      " |-- Electrical: string (nullable = true)\n",
      " |-- 1stFlrSF: integer (nullable = true)\n",
      " |-- 2ndFlrSF: integer (nullable = true)\n",
      " |-- LowQualFinSF: integer (nullable = true)\n",
      " |-- GrLivArea: integer (nullable = true)\n",
      " |-- BsmtFullBath: integer (nullable = true)\n",
      " |-- BsmtHalfBath: integer (nullable = true)\n",
      " |-- FullBath: integer (nullable = true)\n",
      " |-- HalfBath: integer (nullable = true)\n",
      " |-- BedroomAbvGr: integer (nullable = true)\n",
      " |-- KitchenAbvGr: integer (nullable = true)\n",
      " |-- KitchenQual: string (nullable = true)\n",
      " |-- TotRmsAbvGrd: integer (nullable = true)\n",
      " |-- Functional: string (nullable = true)\n",
      " |-- Fireplaces: integer (nullable = true)\n",
      " |-- FireplaceQu: string (nullable = true)\n",
      " |-- GarageType: string (nullable = true)\n",
      " |-- GarageYrBlt: integer (nullable = true)\n",
      " |-- GarageFinish: string (nullable = true)\n",
      " |-- GarageCars: integer (nullable = true)\n",
      " |-- GarageArea: integer (nullable = true)\n",
      " |-- GarageQual: string (nullable = true)\n",
      " |-- GarageCond: string (nullable = true)\n",
      " |-- PavedDrive: string (nullable = true)\n",
      " |-- WoodDeckSF: integer (nullable = true)\n",
      " |-- OpenPorchSF: integer (nullable = true)\n",
      " |-- EnclosedPorch: integer (nullable = true)\n",
      " |-- 3SsnPorch: integer (nullable = true)\n",
      " |-- ScreenPorch: integer (nullable = true)\n",
      " |-- PoolArea: integer (nullable = true)\n",
      " |-- PoolQC: string (nullable = true)\n",
      " |-- Fence: string (nullable = true)\n",
      " |-- MiscFeature: string (nullable = true)\n",
      " |-- MiscVal: integer (nullable = true)\n",
      " |-- MoSold: integer (nullable = true)\n",
      " |-- YrSold: integer (nullable = true)\n",
      " |-- SaleType: string (nullable = true)\n",
      " |-- SaleCondition: string (nullable = true)\n",
      "\n"
     ]
    }
   ],
   "source": [
    "train.printSchema()\n",
    "test.printSchema()"
   ]
  },
  {
   "cell_type": "code",
   "execution_count": 48,
   "metadata": {
    "collapsed": false
   },
   "outputs": [
    {
     "name": "stdout",
     "output_type": "stream",
     "text": [
      "Número de variables = 81\n"
     ]
    }
   ],
   "source": [
    "columns=train.columns\n",
    "num_columns=len(train.columns)\n",
    "\n",
    "print(\"Número de variables = {}\".format(num_columns))"
   ]
  },
  {
   "cell_type": "code",
   "execution_count": 81,
   "metadata": {
    "collapsed": false
   },
   "outputs": [
    {
     "name": "stdout",
     "output_type": "stream",
     "text": [
      "+---+----------+--------+-----------+-------+------+-----+\n",
      "| Id|MSSubClass|MSZoning|LotFrontage|LotArea|Street|Alley|\n",
      "+---+----------+--------+-----------+-------+------+-----+\n",
      "|  1|        60|      RL|         65|   8450|  Pave| null|\n",
      "|  2|        20|      RL|         80|   9600|  Pave| null|\n",
      "|  3|        60|      RL|         68|  11250|  Pave| null|\n",
      "|  4|        70|      RL|         60|   9550|  Pave| null|\n",
      "|  5|        60|      RL|         84|  14260|  Pave| null|\n",
      "+---+----------+--------+-----------+-------+------+-----+\n",
      "only showing top 5 rows\n",
      "\n",
      "+--------+-----------+---------+---------+---------+------------+----------+\n",
      "|LotShape|LandContour|Utilities|LotConfig|LandSlope|Neighborhood|Condition1|\n",
      "+--------+-----------+---------+---------+---------+------------+----------+\n",
      "|     Reg|        Lvl|   AllPub|   Inside|      Gtl|     CollgCr|      Norm|\n",
      "|     Reg|        Lvl|   AllPub|      FR2|      Gtl|     Veenker|     Feedr|\n",
      "|     IR1|        Lvl|   AllPub|   Inside|      Gtl|     CollgCr|      Norm|\n",
      "|     IR1|        Lvl|   AllPub|   Corner|      Gtl|     Crawfor|      Norm|\n",
      "|     IR1|        Lvl|   AllPub|      FR2|      Gtl|     NoRidge|      Norm|\n",
      "+--------+-----------+---------+---------+---------+------------+----------+\n",
      "only showing top 5 rows\n",
      "\n",
      "+----------+--------+----------+-----------+-----------+---------+------------+\n",
      "|Condition2|BldgType|HouseStyle|OverallQual|OverallCond|YearBuilt|YearRemodAdd|\n",
      "+----------+--------+----------+-----------+-----------+---------+------------+\n",
      "|      Norm|    1Fam|    2Story|          7|          5|     2003|        2003|\n",
      "|      Norm|    1Fam|    1Story|          6|          8|     1976|        1976|\n",
      "|      Norm|    1Fam|    2Story|          7|          5|     2001|        2002|\n",
      "|      Norm|    1Fam|    2Story|          7|          5|     1915|        1970|\n",
      "|      Norm|    1Fam|    2Story|          8|          5|     2000|        2000|\n",
      "+----------+--------+----------+-----------+-----------+---------+------------+\n",
      "only showing top 5 rows\n",
      "\n",
      "+---------+--------+-----------+-----------+----------+----------+---------+\n",
      "|RoofStyle|RoofMatl|Exterior1st|Exterior2nd|MasVnrType|MasVnrArea|ExterQual|\n",
      "+---------+--------+-----------+-----------+----------+----------+---------+\n",
      "|    Gable| CompShg|    VinylSd|    VinylSd|   BrkFace|       196|       Gd|\n",
      "|    Gable| CompShg|    MetalSd|    MetalSd|      None|         0|       TA|\n",
      "|    Gable| CompShg|    VinylSd|    VinylSd|   BrkFace|       162|       Gd|\n",
      "|    Gable| CompShg|    Wd Sdng|    Wd Shng|      None|         0|       TA|\n",
      "|    Gable| CompShg|    VinylSd|    VinylSd|   BrkFace|       350|       Gd|\n",
      "+---------+--------+-----------+-----------+----------+----------+---------+\n",
      "only showing top 5 rows\n",
      "\n",
      "+---------+----------+--------+--------+------------+------------+----------+\n",
      "|ExterCond|Foundation|BsmtQual|BsmtCond|BsmtExposure|BsmtFinType1|BsmtFinSF1|\n",
      "+---------+----------+--------+--------+------------+------------+----------+\n",
      "|       TA|     PConc|      Gd|      TA|          No|         GLQ|       706|\n",
      "|       TA|    CBlock|      Gd|      TA|          Gd|         ALQ|       978|\n",
      "|       TA|     PConc|      Gd|      TA|          Mn|         GLQ|       486|\n",
      "|       TA|    BrkTil|      TA|      Gd|          No|         ALQ|       216|\n",
      "|       TA|     PConc|      Gd|      TA|          Av|         GLQ|       655|\n",
      "+---------+----------+--------+--------+------------+------------+----------+\n",
      "only showing top 5 rows\n",
      "\n",
      "+------------+----------+---------+-----------+-------+---------+----------+\n",
      "|BsmtFinType2|BsmtFinSF2|BsmtUnfSF|TotalBsmtSF|Heating|HeatingQC|CentralAir|\n",
      "+------------+----------+---------+-----------+-------+---------+----------+\n",
      "|         Unf|         0|      150|        856|   GasA|       Ex|         Y|\n",
      "|         Unf|         0|      284|       1262|   GasA|       Ex|         Y|\n",
      "|         Unf|         0|      434|        920|   GasA|       Ex|         Y|\n",
      "|         Unf|         0|      540|        756|   GasA|       Gd|         Y|\n",
      "|         Unf|         0|      490|       1145|   GasA|       Ex|         Y|\n",
      "+------------+----------+---------+-----------+-------+---------+----------+\n",
      "only showing top 5 rows\n",
      "\n",
      "+----------+--------+--------+------------+---------+------------+------------+\n",
      "|Electrical|1stFlrSF|2ndFlrSF|LowQualFinSF|GrLivArea|BsmtFullBath|BsmtHalfBath|\n",
      "+----------+--------+--------+------------+---------+------------+------------+\n",
      "|     SBrkr|     856|     854|           0|     1710|           1|           0|\n",
      "|     SBrkr|    1262|       0|           0|     1262|           0|           1|\n",
      "|     SBrkr|     920|     866|           0|     1786|           1|           0|\n",
      "|     SBrkr|     961|     756|           0|     1717|           1|           0|\n",
      "|     SBrkr|    1145|    1053|           0|     2198|           1|           0|\n",
      "+----------+--------+--------+------------+---------+------------+------------+\n",
      "only showing top 5 rows\n",
      "\n",
      "+--------+--------+------------+------------+-----------+------------+----------+\n",
      "|FullBath|HalfBath|BedroomAbvGr|KitchenAbvGr|KitchenQual|TotRmsAbvGrd|Functional|\n",
      "+--------+--------+------------+------------+-----------+------------+----------+\n",
      "|       2|       1|           3|           1|         Gd|           8|       Typ|\n",
      "|       2|       0|           3|           1|         TA|           6|       Typ|\n",
      "|       2|       1|           3|           1|         Gd|           6|       Typ|\n",
      "|       1|       0|           3|           1|         Gd|           7|       Typ|\n",
      "|       2|       1|           4|           1|         Gd|           9|       Typ|\n",
      "+--------+--------+------------+------------+-----------+------------+----------+\n",
      "only showing top 5 rows\n",
      "\n",
      "+----------+-----------+----------+-----------+------------+----------+----------+\n",
      "|Fireplaces|FireplaceQu|GarageType|GarageYrBlt|GarageFinish|GarageCars|GarageArea|\n",
      "+----------+-----------+----------+-----------+------------+----------+----------+\n",
      "|         0|       null|    Attchd|       2003|         RFn|         2|       548|\n",
      "|         1|         TA|    Attchd|       1976|         RFn|         2|       460|\n",
      "|         1|         TA|    Attchd|       2001|         RFn|         2|       608|\n",
      "|         1|         Gd|    Detchd|       1998|         Unf|         3|       642|\n",
      "|         1|         TA|    Attchd|       2000|         RFn|         3|       836|\n",
      "+----------+-----------+----------+-----------+------------+----------+----------+\n",
      "only showing top 5 rows\n",
      "\n",
      "+----------+----------+----------+----------+-----------+-------------+---------+\n",
      "|GarageQual|GarageCond|PavedDrive|WoodDeckSF|OpenPorchSF|EnclosedPorch|3SsnPorch|\n",
      "+----------+----------+----------+----------+-----------+-------------+---------+\n",
      "|        TA|        TA|         Y|         0|         61|            0|        0|\n",
      "|        TA|        TA|         Y|       298|          0|            0|        0|\n",
      "|        TA|        TA|         Y|         0|         42|            0|        0|\n",
      "|        TA|        TA|         Y|         0|         35|          272|        0|\n",
      "|        TA|        TA|         Y|       192|         84|            0|        0|\n",
      "+----------+----------+----------+----------+-----------+-------------+---------+\n",
      "only showing top 5 rows\n",
      "\n",
      "+-----------+--------+------+-----+-----------+-------+------+\n",
      "|ScreenPorch|PoolArea|PoolQC|Fence|MiscFeature|MiscVal|MoSold|\n",
      "+-----------+--------+------+-----+-----------+-------+------+\n",
      "|          0|       0|  null| null|       null|      0|     2|\n",
      "|          0|       0|  null| null|       null|      0|     5|\n",
      "|          0|       0|  null| null|       null|      0|     9|\n",
      "|          0|       0|  null| null|       null|      0|     2|\n",
      "|          0|       0|  null| null|       null|      0|    12|\n",
      "+-----------+--------+------+-----+-----------+-------+------+\n",
      "only showing top 5 rows\n",
      "\n",
      "+------+--------+-------------+---------+\n",
      "|YrSold|SaleType|SaleCondition|SalePrice|\n",
      "+------+--------+-------------+---------+\n",
      "|  2008|      WD|       Normal|   208500|\n",
      "|  2007|      WD|       Normal|   181500|\n",
      "|  2008|      WD|       Normal|   223500|\n",
      "|  2006|      WD|      Abnorml|   140000|\n",
      "|  2008|      WD|       Normal|   250000|\n",
      "+------+--------+-------------+---------+\n",
      "only showing top 5 rows\n",
      "\n"
     ]
    }
   ],
   "source": [
    "step=7\n",
    "for index in range(0, num_columns, step):\n",
    "    train.select(cols[index:index+step]).show(5) "
   ]
  },
  {
   "cell_type": "code",
   "execution_count": 89,
   "metadata": {
    "collapsed": false
   },
   "outputs": [
    {
     "name": "stdout",
     "output_type": "stream",
     "text": [
      "+-------+-----------------+------------------+--------+-----------------+------------------+\n",
      "|summary|               Id|        MSSubClass|MSZoning|      LotFrontage|           LotArea|\n",
      "+-------+-----------------+------------------+--------+-----------------+------------------+\n",
      "|  count|             1460|              1460|    1460|             1201|              1460|\n",
      "|   mean|            730.5|56.897260273972606|    null|70.04995836802665|10516.828082191782|\n",
      "| stddev|421.6100093688479| 42.30057099381045|    null|24.28475177448321|  9981.26493237915|\n",
      "|    min|                1|                20| C (all)|               21|              1300|\n",
      "|    max|             1460|               190|      RM|              313|            215245|\n",
      "+-------+-----------------+------------------+--------+-----------------+------------------+\n",
      "\n",
      "+-------+------+-----+--------+-----------+---------+\n",
      "|summary|Street|Alley|LotShape|LandContour|Utilities|\n",
      "+-------+------+-----+--------+-----------+---------+\n",
      "|  count|  1460|   91|    1460|       1460|     1460|\n",
      "|   mean|  null| null|    null|       null|     null|\n",
      "| stddev|  null| null|    null|       null|     null|\n",
      "|    min|  Grvl| Grvl|     IR1|        Bnk|   AllPub|\n",
      "|    max|  Pave| Pave|     Reg|        Lvl|   NoSeWa|\n",
      "+-------+------+-----+--------+-----------+---------+\n",
      "\n",
      "+-------+---------+---------+------------+----------+----------+\n",
      "|summary|LotConfig|LandSlope|Neighborhood|Condition1|Condition2|\n",
      "+-------+---------+---------+------------+----------+----------+\n",
      "|  count|     1460|     1460|        1460|      1460|      1460|\n",
      "|   mean|     null|     null|        null|      null|      null|\n",
      "| stddev|     null|     null|        null|      null|      null|\n",
      "|    min|   Corner|      Gtl|     Blmngtn|    Artery|    Artery|\n",
      "|    max|   Inside|      Sev|     Veenker|      RRNn|      RRNn|\n",
      "+-------+---------+---------+------------+----------+----------+\n",
      "\n",
      "+-------+--------+----------+------------------+------------------+------------------+\n",
      "|summary|BldgType|HouseStyle|       OverallQual|       OverallCond|         YearBuilt|\n",
      "+-------+--------+----------+------------------+------------------+------------------+\n",
      "|  count|    1460|      1460|              1460|              1460|              1460|\n",
      "|   mean|    null|      null|6.0993150684931505| 5.575342465753424| 1971.267808219178|\n",
      "| stddev|    null|      null|1.3829965467415926|1.1127993367127318|30.202904042525294|\n",
      "|    min|    1Fam|    1.5Fin|                 1|                 1|              1872|\n",
      "|    max|  TwnhsE|      SLvl|                10|                 9|              2010|\n",
      "+-------+--------+----------+------------------+------------------+------------------+\n",
      "\n",
      "+-------+------------------+---------+--------+-----------+-----------+\n",
      "|summary|      YearRemodAdd|RoofStyle|RoofMatl|Exterior1st|Exterior2nd|\n",
      "+-------+------------------+---------+--------+-----------+-----------+\n",
      "|  count|              1460|     1460|    1460|       1460|       1460|\n",
      "|   mean|1984.8657534246574|     null|    null|       null|       null|\n",
      "| stddev| 20.64540680770938|     null|    null|       null|       null|\n",
      "|    min|              1950|     Flat| ClyTile|    AsbShng|    AsbShng|\n",
      "|    max|              2010|     Shed| WdShngl|    WdShing|    Wd Shng|\n",
      "+-------+------------------+---------+--------+-----------+-----------+\n",
      "\n",
      "+-------+----------+------------------+---------+---------+----------+\n",
      "|summary|MasVnrType|        MasVnrArea|ExterQual|ExterCond|Foundation|\n",
      "+-------+----------+------------------+---------+---------+----------+\n",
      "|  count|      1452|              1452|     1460|     1460|      1460|\n",
      "|   mean|      null|103.68526170798899|     null|     null|      null|\n",
      "| stddev|      null|181.06620658721647|     null|     null|      null|\n",
      "|    min|    BrkCmn|                 0|       Ex|       Ex|    BrkTil|\n",
      "|    max|     Stone|              1600|       TA|       TA|      Wood|\n",
      "+-------+----------+------------------+---------+---------+----------+\n",
      "\n",
      "+-------+--------+--------+------------+------------+-----------------+\n",
      "|summary|BsmtQual|BsmtCond|BsmtExposure|BsmtFinType1|       BsmtFinSF1|\n",
      "+-------+--------+--------+------------+------------+-----------------+\n",
      "|  count|    1423|    1423|        1422|        1423|             1460|\n",
      "|   mean|    null|    null|        null|        null|443.6397260273973|\n",
      "| stddev|    null|    null|        null|        null|456.0980908409278|\n",
      "|    min|      Ex|      Fa|          Av|         ALQ|                0|\n",
      "|    max|      TA|      TA|          No|         Unf|             5644|\n",
      "+-------+--------+--------+------------+------------+-----------------+\n",
      "\n",
      "+-------+------------+-----------------+-----------------+------------------+-------+\n",
      "|summary|BsmtFinType2|       BsmtFinSF2|        BsmtUnfSF|       TotalBsmtSF|Heating|\n",
      "+-------+------------+-----------------+-----------------+------------------+-------+\n",
      "|  count|        1422|             1460|             1460|              1460|   1460|\n",
      "|   mean|        null|46.54931506849315|567.2404109589041|1057.4294520547944|   null|\n",
      "| stddev|        null|161.3192728065416|441.8669552924343| 438.7053244594709|   null|\n",
      "|    min|         ALQ|                0|                0|                 0|  Floor|\n",
      "|    max|         Unf|             1474|             2336|              6110|   Wall|\n",
      "+-------+------------+-----------------+-----------------+------------------+-------+\n",
      "\n",
      "+-------+---------+----------+----------+-----------------+------------------+\n",
      "|summary|HeatingQC|CentralAir|Electrical|         1stFlrSF|          2ndFlrSF|\n",
      "+-------+---------+----------+----------+-----------------+------------------+\n",
      "|  count|     1460|      1460|      1459|             1460|              1460|\n",
      "|   mean|     null|      null|      null|1162.626712328767|346.99246575342465|\n",
      "| stddev|     null|      null|      null|386.5877380410744|  436.528435886257|\n",
      "|    min|       Ex|         N|     FuseA|              334|                 0|\n",
      "|    max|       TA|         Y|     SBrkr|             4692|              2065|\n",
      "+-------+---------+----------+----------+-----------------+------------------+\n",
      "\n",
      "+-------+-----------------+-----------------+-------------------+--------------------+------------------+\n",
      "|summary|     LowQualFinSF|        GrLivArea|       BsmtFullBath|        BsmtHalfBath|          FullBath|\n",
      "+-------+-----------------+-----------------+-------------------+--------------------+------------------+\n",
      "|  count|             1460|             1460|               1460|                1460|              1460|\n",
      "|   mean|5.844520547945206|1515.463698630137|0.42534246575342466|0.057534246575342465|1.5650684931506849|\n",
      "| stddev|48.62308143352024|525.4803834232024| 0.5189106060898061| 0.23875264627921197|0.5509158012954318|\n",
      "|    min|                0|              334|                  0|                   0|                 0|\n",
      "|    max|              572|             5642|                  3|                   2|                 3|\n",
      "+-------+-----------------+-----------------+-------------------+--------------------+------------------+\n",
      "\n",
      "+-------+-------------------+------------------+-------------------+-----------+------------------+\n",
      "|summary|           HalfBath|      BedroomAbvGr|       KitchenAbvGr|KitchenQual|      TotRmsAbvGrd|\n",
      "+-------+-------------------+------------------+-------------------+-----------+------------------+\n",
      "|  count|               1460|              1460|               1460|       1460|              1460|\n",
      "|   mean|0.38287671232876713|2.8664383561643834| 1.0465753424657533|       null| 6.517808219178082|\n",
      "| stddev| 0.5028853810928912|0.8157780441442279|0.22033819838403076|       null|1.6253932905840511|\n",
      "|    min|                  0|                 0|                  0|         Ex|                 2|\n",
      "|    max|                  2|                 8|                  3|         TA|                14|\n",
      "+-------+-------------------+------------------+-------------------+-----------+------------------+\n",
      "\n",
      "+-------+----------+------------------+-----------+----------+------------------+\n",
      "|summary|Functional|        Fireplaces|FireplaceQu|GarageType|       GarageYrBlt|\n",
      "+-------+----------+------------------+-----------+----------+------------------+\n",
      "|  count|      1460|              1460|        770|      1379|              1379|\n",
      "|   mean|      null| 0.613013698630137|       null|      null|1978.5061638868744|\n",
      "| stddev|      null|0.6446663863122297|       null|      null| 24.68972476859027|\n",
      "|    min|      Maj1|                 0|         Ex|    2Types|              1900|\n",
      "|    max|       Typ|                 3|         TA|    Detchd|              2010|\n",
      "+-------+----------+------------------+-----------+----------+------------------+\n",
      "\n",
      "+-------+------------+------------------+-----------------+----------+----------+\n",
      "|summary|GarageFinish|        GarageCars|       GarageArea|GarageQual|GarageCond|\n",
      "+-------+------------+------------------+-----------------+----------+----------+\n",
      "|  count|        1379|              1460|             1460|      1379|      1379|\n",
      "|   mean|        null|1.7671232876712328|472.9801369863014|      null|      null|\n",
      "| stddev|        null|0.7473150101111095|213.8048414533803|      null|      null|\n",
      "|    min|         Fin|                 0|                0|        Ex|        Ex|\n",
      "|    max|         Unf|                 4|             1418|        TA|        TA|\n",
      "+-------+------------+------------------+-----------------+----------+----------+\n",
      "\n",
      "+-------+----------+------------------+-----------------+------------------+------------------+\n",
      "|summary|PavedDrive|        WoodDeckSF|      OpenPorchSF|     EnclosedPorch|         3SsnPorch|\n",
      "+-------+----------+------------------+-----------------+------------------+------------------+\n",
      "|  count|      1460|              1460|             1460|              1460|              1460|\n",
      "|   mean|      null|  94.2445205479452|46.66027397260274|21.954109589041096|3.4095890410958902|\n",
      "| stddev|      null|125.33879435172422| 66.2560276766497| 61.11914860172857|29.317330556781872|\n",
      "|    min|         N|                 0|                0|                 0|                 0|\n",
      "|    max|         Y|               857|              547|               552|               508|\n",
      "+-------+----------+------------------+-----------------+------------------+------------------+\n",
      "\n",
      "+-------+------------------+-----------------+------+-----+-----------+\n",
      "|summary|       ScreenPorch|         PoolArea|PoolQC|Fence|MiscFeature|\n",
      "+-------+------------------+-----------------+------+-----+-----------+\n",
      "|  count|              1460|             1460|     7|  281|         54|\n",
      "|   mean|15.060958904109588|2.758904109589041|  null| null|       null|\n",
      "| stddev| 55.75741528187416|40.17730694453021|  null| null|       null|\n",
      "|    min|                 0|                0|    Ex|GdPrv|       Gar2|\n",
      "|    max|               480|              738|    Gd| MnWw|       TenC|\n",
      "+-------+------------------+-----------------+------+-----+-----------+\n",
      "\n",
      "+-------+------------------+------------------+------------------+--------+-------------+\n",
      "|summary|           MiscVal|            MoSold|            YrSold|SaleType|SaleCondition|\n",
      "+-------+------------------+------------------+------------------+--------+-------------+\n",
      "|  count|              1460|              1460|              1460|    1460|         1460|\n",
      "|   mean|43.489041095890414| 6.321917808219178|2007.8157534246575|    null|         null|\n",
      "| stddev| 496.1230244579441|2.7036262083595113|1.3280951205521145|    null|         null|\n",
      "|    min|                 0|                 1|              2006|     COD|      Abnorml|\n",
      "|    max|             15500|                12|              2010|      WD|      Partial|\n",
      "+-------+------------------+------------------+------------------+--------+-------------+\n",
      "\n",
      "+-------+------------------+\n",
      "|summary|         SalePrice|\n",
      "+-------+------------------+\n",
      "|  count|              1460|\n",
      "|   mean|180921.19589041095|\n",
      "| stddev| 79442.50288288663|\n",
      "|    min|             34900|\n",
      "|    max|            755000|\n",
      "+-------+------------------+\n",
      "\n"
     ]
    }
   ],
   "source": [
    "step=5\n",
    "for index in range(0, num_columns, step):\n",
    "    train.describe(cols[index:index+step]).show()"
   ]
  },
  {
   "cell_type": "markdown",
   "metadata": {},
   "source": [
    "<a id=\"preprocesado\"></a>\n",
    "\n",
    "# 4. Preprocesado"
   ]
  },
  {
   "cell_type": "markdown",
   "metadata": {},
   "source": [
    "<a id=\"missings\"></a>\n",
    "\n",
    "## 4.1 Valores perdidos (missings)\n",
    "\n",
    "Hay que indicar que los NA son los missings (nullValue=\"NA\")\n",
    "\n",
    "NA se ha usado tambien para rellenar los valores de las variables que no aplica, por ejemplo casas que no tienen garaje se ha completado con NA los metros cuadrados del garaje"
   ]
  },
  {
   "cell_type": "code",
   "execution_count": 7,
   "metadata": {
    "collapsed": false
   },
   "outputs": [],
   "source": [
    "from pyspark.sql.functions import col, count, sum as agg_sum\n",
    "from pyspark.sql.types import *\n",
    "\n",
    "def count_nulls(c):\n",
    "    return agg_sum(col(c).isNull().cast(IntegerType())).alias(c)\n"
   ]
  },
  {
   "cell_type": "code",
   "execution_count": 8,
   "metadata": {
    "collapsed": false
   },
   "outputs": [
    {
     "data": {
      "text/plain": [
       "[(1453, 'PoolQC'),\n",
       " (1406, 'MiscFeature'),\n",
       " (1369, 'Alley'),\n",
       " (1179, 'Fence'),\n",
       " (690, 'FireplaceQu'),\n",
       " (259, 'LotFrontage'),\n",
       " (81, 'GarageYrBlt'),\n",
       " (81, 'GarageType'),\n",
       " (81, 'GarageQual'),\n",
       " (81, 'GarageFinish'),\n",
       " (81, 'GarageCond'),\n",
       " (38, 'BsmtFinType2'),\n",
       " (38, 'BsmtExposure'),\n",
       " (37, 'BsmtQual'),\n",
       " (37, 'BsmtFinType1'),\n",
       " (37, 'BsmtCond'),\n",
       " (8, 'MasVnrType'),\n",
       " (8, 'MasVnrArea'),\n",
       " (1, 'Electrical')]"
      ]
     },
     "execution_count": 8,
     "metadata": {},
     "output_type": "execute_result"
    }
   ],
   "source": [
    "# Definimos la operación para cada columna del DF\n",
    "columns = train.columns\n",
    "exprs = [count_nulls(c) for c in columns]\n",
    "\n",
    "# Aplicamos todas las operaciones\n",
    "missing = train.agg(*exprs).first().asDict()\n",
    "sorted([(v, k) for k, v in missing.items() if v > 0], reverse=True)"
   ]
  },
  {
   "cell_type": "markdown",
   "metadata": {},
   "source": [
    "<a id=\"numerico\"></a>\n",
    "\n",
    "## 4.2 Conversión a tipo numérico"
   ]
  },
  {
   "cell_type": "markdown",
   "metadata": {
    "collapsed": true
   },
   "source": [
    "<a id=\"escalado\"></a>\n",
    "\n",
    "## 4.3 Escalado"
   ]
  },
  {
   "cell_type": "markdown",
   "metadata": {},
   "source": [
    "<a id=\"features\"></a>\n",
    "\n",
    "## 4.4 Convertir features en vector (dataframe y label)"
   ]
  },
  {
   "cell_type": "markdown",
   "metadata": {},
   "source": [
    "<a id=\"seleccion\"></a>\n",
    "\n",
    "# 5. Selección de variables (correlaciones, importancia de variables)"
   ]
  },
  {
   "cell_type": "markdown",
   "metadata": {},
   "source": [
    "<a id=\"modelos\"></a>\n",
    "\n",
    "# 6. Modelos"
   ]
  },
  {
   "cell_type": "markdown",
   "metadata": {
    "collapsed": true
   },
   "source": [
    "<a id=\"ajuste\"></a>\n",
    "\n",
    "## 6.1 Ajuste de parámetros"
   ]
  },
  {
   "cell_type": "markdown",
   "metadata": {},
   "source": [
    "<a id=\"evaluacion\"></a>\n",
    "\n",
    "## 6.2 Evaluación"
   ]
  },
  {
   "cell_type": "markdown",
   "metadata": {},
   "source": [
    "La evaluación del modelo final debe hacerse con un dataset diferente al de entrenamiento. \n",
    "\n",
    "Se recomienda automatizar procesos mediante el uso de pipelines y creación de funciones para evitar repetir código.\n",
    "\n",
    "La métrica a usar para la evaluación de soluciones es *RMSLE*. Esta métrica no se encuentra dentro de las que ofrece el objeto *RegressionEvaluator* por lo que debemos definir nuestro propio evaluador."
   ]
  },
  {
   "cell_type": "code",
   "execution_count": 9,
   "metadata": {
    "collapsed": false
   },
   "outputs": [],
   "source": [
    "'''\n",
    "Código original tomado de:\n",
    "https://gist.github.com/pvalienteverde\n",
    "\n",
    "- Se ha añadido la fórmula rmsle para que trabaje con la API DataFrames.\n",
    "'''\n",
    "\n",
    "from pyspark.ml.evaluation import Evaluator\n",
    "from math import sqrt\n",
    "from operator import add\n",
    "from pyspark.sql.functions import avg\n",
    "from pyspark.sql.functions import log1p\n",
    "\n",
    "class MyEvaluator(Evaluator):\n",
    "    '''\n",
    "    When a userID is predicted when it is not already trained (all userID  data is used on validation \n",
    "    group and none of them to train), prediction is nan,  so RegressionEvaluator returns Nan.\n",
    "    To solve this we must change RegressionEvaluator by MiValidacion\n",
    "    '''\n",
    "    def __init__(self,predictionCol='prediction', targetCol='rating'):        \n",
    "        super(MyEvaluator, self).__init__()\n",
    "        self.predictionCol=predictionCol\n",
    "        self.targetCol=targetCol\n",
    "        \n",
    "    def _evaluate(self, dataset):       \n",
    "        error=self.rmse(dataset,self.predictionCol,self.targetCol)\n",
    "        print (\"Error: {}\".format(error))\n",
    "        return error\n",
    "    \n",
    "    def isLargerBetter(self):\n",
    "        return False\n",
    "    \n",
    "    @staticmethod\n",
    "    def rmse(dataset, predictionCol, targetCol):\n",
    "        return sqrt(dataset.select(avg((dataset[targetCol] - dataset[predictionCol]) ** 2)).first()[0])\n",
    "    \n",
    "    @staticmethod\n",
    "    def rmsle(dataset, predictionCol, targetCol):\n",
    "        return sqrt(dataset.select(avg((log1p(dataset[targetCol]) - log1p(dataset[predictionCol])) ** 2)).first()[0])             "
   ]
  },
  {
   "cell_type": "code",
   "execution_count": 10,
   "metadata": {
    "collapsed": true
   },
   "outputs": [],
   "source": [
    "evaluator = MyEvaluator()"
   ]
  },
  {
   "cell_type": "markdown",
   "metadata": {},
   "source": [
    "<a id=\"cierre\"></a>\n",
    "\n",
    "# 7. Cierre sesión spark"
   ]
  },
  {
   "cell_type": "markdown",
   "metadata": {},
   "source": [
    "Liberamos recursos"
   ]
  },
  {
   "cell_type": "code",
   "execution_count": 34,
   "metadata": {
    "collapsed": false
   },
   "outputs": [],
   "source": [
    "spark.stop()"
   ]
  }
 ],
 "metadata": {
  "anaconda-cloud": {},
  "kernelspec": {
   "display_name": "Python [conda root]",
   "language": "python",
   "name": "conda-root-py"
  },
  "language_info": {
   "codemirror_mode": {
    "name": "ipython",
    "version": 3
   },
   "file_extension": ".py",
   "mimetype": "text/x-python",
   "name": "python",
   "nbconvert_exporter": "python",
   "pygments_lexer": "ipython3",
   "version": "3.5.2"
  }
 },
 "nbformat": 4,
 "nbformat_minor": 1
}
